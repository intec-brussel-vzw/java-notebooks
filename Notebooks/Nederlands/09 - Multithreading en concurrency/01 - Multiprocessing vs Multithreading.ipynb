{
  "cells": [
    {
      "cell_type": "markdown",
      "metadata": {
        "id": "SXcIsXGOkRUm"
      },
      "source": [
        "# Multiprocessing"
      ]
    },
    {
      "cell_type": "code",
      "execution_count": null,
      "metadata": {
        "execution": {
          "iopub.execute_input": "2020-09-12T14:00:18.953819Z",
          "iopub.status.busy": "2020-09-12T14:00:18.951632Z",
          "iopub.status.idle": "2020-09-12T14:00:18.957722Z",
          "shell.execute_reply": "2020-09-12T14:00:18.958270Z"
        },
        "id": "AmYx1CEakRUp",
        "outputId": "d39c10b1-af8b-470c-9cb0-4c546de06439"
      },
      "outputs": [
        {
          "data": {
            "text/plain": [
              "4"
            ]
          },
          "execution_count": 1,
          "metadata": {},
          "output_type": "execute_result"
        }
      ],
      "source": [
        "from multiprocessing import cpu_count\n",
        "\n",
        "cpu_count()"
      ]
    },
    {
      "cell_type": "markdown",
      "metadata": {
        "id": "1FI580kIkRUr"
      },
      "source": [
        "## Map reduce example"
      ]
    },
    {
      "cell_type": "code",
      "execution_count": null,
      "metadata": {
        "execution": {
          "iopub.execute_input": "2020-09-12T14:00:18.964908Z",
          "iopub.status.busy": "2020-09-12T14:00:18.964025Z",
          "iopub.status.idle": "2020-09-12T14:00:18.967841Z",
          "shell.execute_reply": "2020-09-12T14:00:18.967311Z"
        },
        "id": "DQi6J0LckRUr",
        "outputId": "b3bcb8d4-249b-4a28-eb75-2260b5801595"
      },
      "outputs": [
        {
          "data": {
            "text/plain": [
              "[0, 1, 2, 3, 4, 5, 6, 7]"
            ]
          },
          "execution_count": 2,
          "metadata": {},
          "output_type": "execute_result"
        }
      ],
      "source": [
        "from time import sleep\n",
        "def delayed_square(x):\n",
        "    sleep(1)\n",
        "    return x*x\n",
        "data = list(range(8))\n",
        "data"
      ]
    },
    {
      "cell_type": "code",
      "execution_count": null,
      "metadata": {
        "execution": {
          "iopub.execute_input": "2020-09-12T14:00:18.972938Z",
          "iopub.status.busy": "2020-09-12T14:00:18.972191Z",
          "iopub.status.idle": "2020-09-12T14:00:27.011091Z",
          "shell.execute_reply": "2020-09-12T14:00:27.011676Z"
        },
        "id": "3D4SWHr-kRUs",
        "outputId": "5eab805d-6575-4dbe-c5ae-da369c6b8f9f"
      },
      "outputs": [
        {
          "name": "stdout",
          "output_type": "stream",
          "text": [
            "CPU times: user 1.09 ms, sys: 1.69 ms, total: 2.78 ms\n",
            "Wall time: 8.02 s\n"
          ]
        },
        {
          "data": {
            "text/plain": [
              "140"
            ]
          },
          "execution_count": 3,
          "metadata": {},
          "output_type": "execute_result"
        }
      ],
      "source": [
        "%time sum(delayed_square(x) for x in data)"
      ]
    },
    {
      "cell_type": "code",
      "execution_count": null,
      "metadata": {
        "execution": {
          "iopub.execute_input": "2020-09-12T14:00:27.016783Z",
          "iopub.status.busy": "2020-09-12T14:00:27.016032Z",
          "iopub.status.idle": "2020-09-12T14:00:35.051765Z",
          "shell.execute_reply": "2020-09-12T14:00:35.051096Z"
        },
        "id": "aE5c5SfGkRUs",
        "outputId": "9b4316ec-e722-43fb-a262-88a76ab2949a"
      },
      "outputs": [
        {
          "name": "stdout",
          "output_type": "stream",
          "text": [
            "CPU times: user 1.83 ms, sys: 1.99 ms, total: 3.82 ms\n",
            "Wall time: 8.02 s\n"
          ]
        },
        {
          "data": {
            "text/plain": [
              "140"
            ]
          },
          "execution_count": 4,
          "metadata": {},
          "output_type": "execute_result"
        }
      ],
      "source": [
        "%time sum(map(delayed_square,data))"
      ]
    },
    {
      "cell_type": "markdown",
      "metadata": {
        "id": "ImQGvQxkkRUs"
      },
      "source": [
        "We can process each `delayed_square` calls independently and in parallel.  To accomplish this we'll apply that function across all list items in parallel using multiple processes.\n"
      ]
    },
    {
      "cell_type": "markdown",
      "metadata": {
        "id": "KiDwfhuFkRUt"
      },
      "source": [
        "## Thread and Process: Differences\n",
        "\n",
        "- A Process is an instance of a running program. \n",
        "- Process may contain one or more threads, but a thread cannot contain a process.\n",
        "- Process has a self-contained execution environment. It has its own memory space. \n",
        "- Application running on your computer may be a set of cooperating processes.\n",
        "\n",
        "- A Thread is made of and exist within a Process; every process has at least one. \n",
        "- Multiple threads in a process share resources, which helps in efficient communication between threads.\n",
        "- Threads can be concurrent on a multi-core system, with every core executing the separate threads simultaneously.\n",
        "\n"
      ]
    },
    {
      "cell_type": "markdown",
      "metadata": {
        "id": "zRYVVScukRUt"
      },
      "source": [
        "## Multi-Processing vs Multi-Threading\n",
        "\n",
        "### Memory\n",
        "- Each process has its own copy of the data segment of the parent process.\n",
        "- Each thread has direct access to the data segment of its process.\n",
        "- A process runs in separate memory spaces.\n",
        "- A thread runs in shared memory spaces.\n",
        "\n",
        "### Communication\n",
        "- Processes must use inter-process communication to communicate with sibling processes.\n",
        "- Threads can directly communicate with other threads of its process.\n",
        "\n",
        "### Overheads\n",
        "- Processes have considerable overhead.\n",
        "- Threads have almost no overhead."
      ]
    },
    {
      "cell_type": "markdown",
      "metadata": {
        "id": "1--Zi5nEkRUu"
      },
      "source": [
        "## Multi-Processing vs Multi-Threading\n",
        "\n",
        "### Creation\n",
        "- New processes require duplication of the parent process.\n",
        "- New threads are easily created.  \n",
        "\n",
        "### Control\n",
        "- Processes can only exercise control over child processes.\n",
        "- Threads can exercise considerable control over threads of the same process.\n",
        "\n",
        "### Changes\n",
        "- Any change in the parent process does not affect child processes.\n",
        "- Any change in the main thread may affect the behavior of the other threads of the process.\n"
      ]
    },
    {
      "cell_type": "markdown",
      "metadata": {
        "id": "m2hGzY1HkRUu"
      },
      "source": [
        "## The Global Interpreter Lock (GIL)\n",
        "\n",
        "- The Python interpreter is not thread safe.\n",
        "- A few critical internal data structures may only be accessed by one thread at a time. Access to them is protected by the GIL.\n",
        "- Attempts at removing the GIL from Python have failed until now. The main difficulty is maintaining the C API for extension modules.\n",
        "- Multiprocessing avoids the GIL by having separate processes which each have an independent copy of the interpreter data structures.\n",
        "- The price to pay: serialization of tasks, arguments, and results."
      ]
    },
    {
      "cell_type": "markdown",
      "metadata": {
        "id": "mYREeWXAkRUv"
      },
      "source": [
        "## Multiprocessing (history)\n",
        "\n",
        "- The multiprocessing allows the programmer to fully leverage multiple processors. \n",
        "- The `Pool` object parallelizes the execution of a function across multiple input values.\n",
        "- The if `__name__ == '__main__'` part is necessary.\n",
        "<p><font color=red> The next program does not work in a cell you need to save it and run with python in a terminal </font></p>\n",
        "\n",
        "```bash\n",
        "python3 pool.py\n",
        "```"
      ]
    },
    {
      "cell_type": "code",
      "execution_count": null,
      "metadata": {
        "execution": {
          "iopub.execute_input": "2020-09-12T14:00:35.058212Z",
          "iopub.status.busy": "2020-09-12T14:00:35.056974Z",
          "iopub.status.idle": "2020-09-12T14:00:35.060786Z",
          "shell.execute_reply": "2020-09-12T14:00:35.061358Z"
        },
        "id": "H4aD6_3gkRUv",
        "outputId": "48262c57-762a-42dc-e8a0-3cd04e73536d"
      },
      "outputs": [
        {
          "name": "stdout",
          "output_type": "stream",
          "text": [
            "Overwriting pool.py\n"
          ]
        }
      ],
      "source": [
        "%%file pool.py\n",
        "\n",
        "from time import time, sleep\n",
        "    \n",
        "from multiprocessing import Pool\n",
        "\n",
        "def delayed_square(x):\n",
        "    sleep(1)\n",
        "    return x*x\n",
        "\n",
        "if __name__ == '__main__': # Executed only on main process.\n",
        "    start = time()\n",
        "    data = list(range(8))\n",
        "    with Pool() as p:\n",
        "        result = sum(p.map(delayed_square, data))\n",
        "    stop = time()\n",
        "    print(f\"result = {result} - Elapsed time {stop - start}\")"
      ]
    },
    {
      "cell_type": "code",
      "execution_count": null,
      "metadata": {
        "execution": {
          "iopub.execute_input": "2020-09-12T14:00:35.067034Z",
          "iopub.status.busy": "2020-09-12T14:00:35.065862Z",
          "iopub.status.idle": "2020-09-12T14:00:37.354115Z",
          "shell.execute_reply": "2020-09-12T14:00:37.354706Z"
        },
        "id": "AlNvj265kRUv",
        "outputId": "90082d33-34ab-45a2-9320-ca2e4cf488e4"
      },
      "outputs": [
        {
          "name": "stdout",
          "output_type": "stream",
          "text": [
            "result = 140 - Elapsed time 2.326946973800659\r\n"
          ]
        }
      ],
      "source": [
        "import sys\n",
        "!{sys.executable} pool.py"
      ]
    },
    {
      "cell_type": "markdown",
      "metadata": {
        "id": "TrKw4r-FkRUw"
      },
      "source": [
        "## Futures\n",
        "\n",
        "The `concurrent.futures` module provides a high-level interface for asynchronously executing callables.\n",
        "\n",
        "The asynchronous execution can be performed with threads, using ThreadPoolExecutor, or separate processes, using ProcessPoolExecutor. Both implement the same interface, which is defined by the abstract Executor class."
      ]
    },
    {
      "cell_type": "code",
      "execution_count": null,
      "metadata": {
        "execution": {
          "iopub.execute_input": "2020-09-12T14:00:37.360930Z",
          "iopub.status.busy": "2020-09-12T14:00:37.359908Z",
          "iopub.status.idle": "2020-09-12T14:00:37.363397Z",
          "shell.execute_reply": "2020-09-12T14:00:37.364052Z"
        },
        "id": "WwwVg62VkRUw",
        "outputId": "6e1f7eaf-954d-4c69-98aa-91e922fe7708"
      },
      "outputs": [
        {
          "name": "stdout",
          "output_type": "stream",
          "text": [
            "Overwriting process_pool.py\n"
          ]
        }
      ],
      "source": [
        "%%file process_pool.py\n",
        "import os\n",
        "from time import time, sleep\n",
        "if os.name == \"nt\":\n",
        "    from loky import ProcessPoolExecutor  # for Windows users \n",
        "else:\n",
        "    from concurrent.futures import ProcessPoolExecutor\n",
        "\n",
        "    from time import time, sleep\n",
        "    \n",
        "def delayed_square(x):\n",
        "    sleep(1)\n",
        "    return x*x\n",
        "\n",
        "if __name__ == \"__main__\":\n",
        "    start = time()\n",
        "    data = list(range(8))\n",
        "    with ProcessPoolExecutor() as pool:\n",
        "        result = sum(pool.map(delayed_square, data))\n",
        "    stop = time()\n",
        "    print(f\" result : {result} - elapsed time {stop - start}\")"
      ]
    },
    {
      "cell_type": "code",
      "execution_count": null,
      "metadata": {
        "execution": {
          "iopub.execute_input": "2020-09-12T14:00:37.369466Z",
          "iopub.status.busy": "2020-09-12T14:00:37.368389Z",
          "iopub.status.idle": "2020-09-12T14:00:39.614789Z",
          "shell.execute_reply": "2020-09-12T14:00:39.615379Z"
        },
        "id": "qM4krps7kRUw",
        "outputId": "08c20251-84a1-49dc-b047-530baa425190"
      },
      "outputs": [
        {
          "name": "stdout",
          "output_type": "stream",
          "text": [
            " result : 140 - elapsed time 2.3019843101501465\r\n"
          ]
        }
      ],
      "source": [
        "!{sys.executable} process_pool.py"
      ]
    },
    {
      "cell_type": "code",
      "execution_count": null,
      "metadata": {
        "execution": {
          "iopub.execute_input": "2020-09-12T14:00:39.621801Z",
          "iopub.status.busy": "2020-09-12T14:00:39.620798Z",
          "iopub.status.idle": "2020-09-12T14:00:40.633249Z",
          "shell.execute_reply": "2020-09-12T14:00:40.634198Z"
        },
        "id": "Ad7Z9sKpkRUw",
        "outputId": "383c8077-535d-4733-9f34-fb12634eb57b"
      },
      "outputs": [
        {
          "name": "stdout",
          "output_type": "stream",
          "text": [
            "CPU times: user 4.01 ms, sys: 3.28 ms, total: 7.29 ms\n",
            "Wall time: 1.01 s\n"
          ]
        }
      ],
      "source": [
        "%%time\n",
        "from concurrent.futures import ThreadPoolExecutor\n",
        "\n",
        "e = ThreadPoolExecutor()\n",
        "\n",
        "results = list(e.map(delayed_square, range(8)))"
      ]
    },
    {
      "cell_type": "markdown",
      "metadata": {
        "id": "FvqUmtAykRUx"
      },
      "source": [
        "## Asynchronous Future\n",
        "While many parallel applications can be described as maps, some can be more complex. In this section we look at the asynchronous Future interface, which provides a simple API for ad-hoc parallelism. This is useful for when your computations don't fit a regular pattern.\n"
      ]
    },
    {
      "cell_type": "markdown",
      "metadata": {
        "id": "ZPrUo7GTkRUx"
      },
      "source": [
        "### Executor.submit\n",
        "\n",
        "The `submit` method starts a computation in a separate thread or process and immediately gives us a `Future` object that refers to the result.  At first, the future is pending.  Once the function completes the future is finished. \n",
        "\n",
        "We collect the result of the task with the `.result()` method,\n",
        "which does not return until the results are available."
      ]
    },
    {
      "cell_type": "code",
      "execution_count": null,
      "metadata": {
        "execution": {
          "iopub.execute_input": "2020-09-12T14:00:40.640320Z",
          "iopub.status.busy": "2020-09-12T14:00:40.639327Z",
          "iopub.status.idle": "2020-09-12T14:00:40.642032Z",
          "shell.execute_reply": "2020-09-12T14:00:40.642728Z"
        },
        "id": "vyf3UlnCkRUx"
      },
      "outputs": [],
      "source": [
        "from time import sleep\n",
        "\n",
        "def slowadd(a, b, delay=1):\n",
        "    sleep(delay)\n",
        "    return a + b"
      ]
    },
    {
      "cell_type": "code",
      "execution_count": null,
      "metadata": {
        "execution": {
          "iopub.execute_input": "2020-09-12T14:00:40.651924Z",
          "iopub.status.busy": "2020-09-12T14:00:40.650795Z",
          "iopub.status.idle": "2020-09-12T14:00:40.654265Z",
          "shell.execute_reply": "2020-09-12T14:00:40.654828Z"
        },
        "id": "g7jvklOWkRUx",
        "outputId": "38106ebc-10fe-45fe-8a9d-c024f55715f0"
      },
      "outputs": [
        {
          "data": {
            "text/plain": [
              "<Future at 0x10316c0a0 state=running>"
            ]
          },
          "execution_count": 11,
          "metadata": {},
          "output_type": "execute_result"
        }
      ],
      "source": [
        "from concurrent.futures import ThreadPoolExecutor\n",
        "e = ThreadPoolExecutor(4)\n",
        "future = e.submit(slowadd, 1, 2)\n",
        "future"
      ]
    },
    {
      "cell_type": "code",
      "execution_count": null,
      "metadata": {
        "execution": {
          "iopub.execute_input": "2020-09-12T14:00:40.659582Z",
          "iopub.status.busy": "2020-09-12T14:00:40.658819Z",
          "iopub.status.idle": "2020-09-12T14:00:41.655950Z",
          "shell.execute_reply": "2020-09-12T14:00:41.656512Z"
        },
        "id": "qdvDOkpwkRUy",
        "outputId": "615ad1da-8b14-4e71-d706-a2967d249f7b"
      },
      "outputs": [
        {
          "data": {
            "text/plain": [
              "3"
            ]
          },
          "execution_count": 12,
          "metadata": {},
          "output_type": "execute_result"
        }
      ],
      "source": [
        "future.result()"
      ]
    },
    {
      "cell_type": "markdown",
      "metadata": {
        "id": "n1fKx4bWkRUy"
      },
      "source": [
        "Submit many tasks all at once and they be will executed in parallel."
      ]
    },
    {
      "cell_type": "code",
      "execution_count": null,
      "metadata": {
        "execution": {
          "iopub.execute_input": "2020-09-12T14:00:41.661553Z",
          "iopub.status.busy": "2020-09-12T14:00:41.660798Z",
          "iopub.status.idle": "2020-09-12T14:00:49.684457Z",
          "shell.execute_reply": "2020-09-12T14:00:49.683871Z"
        },
        "id": "pqJjIkgGkRUy",
        "outputId": "302ead98-6dfb-4dde-cc2b-b5ba6b013add"
      },
      "outputs": [
        {
          "name": "stdout",
          "output_type": "stream",
          "text": [
            "CPU times: user 1.13 ms, sys: 1.81 ms, total: 2.94 ms\n",
            "Wall time: 8.02 s\n"
          ]
        }
      ],
      "source": [
        "%%time\n",
        "results = [slowadd(i, i, delay=1) for i in range(8)]"
      ]
    },
    {
      "cell_type": "code",
      "execution_count": null,
      "metadata": {
        "execution": {
          "iopub.execute_input": "2020-09-12T14:00:49.691871Z",
          "iopub.status.busy": "2020-09-12T14:00:49.691017Z",
          "iopub.status.idle": "2020-09-12T14:00:51.702264Z",
          "shell.execute_reply": "2020-09-12T14:00:51.702861Z"
        },
        "id": "EpKTxFC-kRUy",
        "outputId": "13e4d4c0-d85e-460c-b2f1-74b7b9efb245"
      },
      "outputs": [
        {
          "name": "stdout",
          "output_type": "stream",
          "text": [
            "CPU times: user 2.68 ms, sys: 2.26 ms, total: 4.94 ms\n",
            "Wall time: 2.01 s\n"
          ]
        }
      ],
      "source": [
        "%%time\n",
        "futures = [e.submit(slowadd, 1, 1, delay=1) for i in range(8)]\n",
        "results = [f.result() for f in futures]"
      ]
    },
    {
      "cell_type": "markdown",
      "metadata": {
        "id": "lLyL0Wu5kRUy"
      },
      "source": [
        "*  Submit fires off a single function call in the background, returning a future.  \n",
        "*  When you combine submit with a single for loop we recover the functionality of map.  \n",
        "*  To collect your results, replace each of futures, `f`, with a call to `f.result()`\n",
        "*  Combine submit with multiple for loops and other general programming to get something more general than map.\n",
        "*  Sometimes, it did not speed up the code very much\n",
        "*  Threads and processes show some performance differences\n",
        "*  Use threads carefully, you can break your Python session."
      ]
    },
    {
      "cell_type": "markdown",
      "metadata": {
        "id": "qH2EioV0kRUy"
      },
      "source": [
        "Today most library designers are coordinating around the concurrent.futures interface, so it's wise to move over.\n",
        "\n",
        "* Profile your code\n",
        "* Used concurrent.futures.ProcessPoolExecutor for simple parallelism \n",
        "* Gained some speed boost (but not as much as expected)\n",
        "* Lost ability to diagnose performance within parallel code\n",
        "* Describing each task as a function call helps use tools like map for parallelism\n",
        "* Making your tasks fast is often at least as important as parallelizing your tasks."
      ]
    },
    {
      "cell_type": "markdown",
      "metadata": {
        "id": "aJMxZeuGkRUz"
      },
      "source": [
        "### Exercise: Pi computation\n",
        "\n",
        "Parallelize this computation with a ProcessPoolExecutor. ThreadPoolExecutor is not usable because of `random` function calls."
      ]
    },
    {
      "cell_type": "code",
      "execution_count": null,
      "metadata": {
        "execution": {
          "iopub.execute_input": "2020-09-12T14:00:51.789213Z",
          "iopub.status.busy": "2020-09-12T14:00:51.746931Z",
          "iopub.status.idle": "2020-09-12T14:01:09.629723Z",
          "shell.execute_reply": "2020-09-12T14:01:09.630334Z"
        },
        "id": "2a84AB6YkRUz",
        "outputId": "d56f8cd0-52a3-404b-d9fa-41cbc39b3005"
      },
      "outputs": [
        {
          "name": "stdout",
          "output_type": "stream",
          "text": [
            "Estimated value of Pi : 3.14155730 time : 24.42440701\n"
          ]
        }
      ],
      "source": [
        "import time\n",
        "import random\n",
        "\n",
        "def compute_pi(n):\n",
        "    count = 0\n",
        "    for i in range(n):\n",
        "        x = random.random()\n",
        "        y = random.random()\n",
        "        if x*x + y*y <= 1:\n",
        "            count += 1\n",
        "    return count\n",
        "\n",
        "elapsed_time = time.time()\n",
        "nb_simulations = 4\n",
        "n = 10**7\n",
        "result = [compute_pi(n) for i in range(nb_simulations)]\n",
        "pi = 4 * sum(result) / (n*nb_simulations)\n",
        "print(f\"Estimated value of Pi : {pi:.8f} time : {time.time()-elapsed_time:.8f}\")"
      ]
    },
    {
      "cell_type": "markdown",
      "metadata": {
        "id": "iFD1gnN2kRUz"
      },
      "source": [
        "### Exercise\n",
        "\n",
        "- Do the same computation using asynchronous future\n",
        "- Implement a joblib version (see example below)"
      ]
    },
    {
      "cell_type": "markdown",
      "metadata": {
        "id": "y7AMuBiLkRUz",
        "lines_to_next_cell": 0
      },
      "source": [
        "## Parallel tools for Python\n",
        "\n",
        "The parallel tools from standard library are very limited. You will have more powerful features with:\n",
        "\n",
        "- [Joblib](https://joblib.readthedocs.io/en/latest/) provides a simple helper class to write parallel for loops using multiprocessing.\n",
        "- [Dask](https://dask.org)\n",
        "- [PySpark](https://spark.apache.org/docs/latest/api/python/index.html)\n",
        "- [mpi4py](https://mpi4py.readthedocs.io)\n"
      ]
    }
  ],
  "metadata": {
    "colab": {
      "name": "10-Multiprocessing.ipynb",
      "provenance": []
    },
    "kernelspec": {
      "display_name": "Python 3.10.5 64-bit (windows store)",
      "language": "python",
      "name": "python3"
    },
    "language_info": {
      "codemirror_mode": {
        "name": "ipython",
        "version": 3
      },
      "file_extension": ".py",
      "mimetype": "text/x-python",
      "name": "python",
      "nbconvert_exporter": "python",
      "pygments_lexer": "ipython3",
      "version": "3.10.5"
    },
    "vscode": {
      "interpreter": {
        "hash": "b49aaccd02884d5549109035e6ff183faf7cd75fb001ffab5a5222a358c908f3"
      }
    }
  },
  "nbformat": 4,
  "nbformat_minor": 0
}
