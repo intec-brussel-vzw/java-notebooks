{
 "cells": [
  {
   "cell_type": "markdown",
   "metadata": {},
   "source": [
    "![](https://intecbrussel.be/img/logo3.png)  \n",
    "_Java les-materialen_"
   ]
  },
  {
   "cell_type": "markdown",
   "metadata": {},
   "source": [
    "# StringBuilder\n",
    "\n",
    "Met de stringbuilder kunnen we in java een karakterreeks maken die integenstelling tot de String class wel mutable is. De StringBuilder is dus een alternatief voor de String class declaratie en initialisatie is wel verschillend tegenover String."
   ]
  },
  {
   "cell_type": "markdown",
   "metadata": {},
   "source": [
    "### Declaratie en initialisatie\n",
    "Zoals eerder beschreven is de declaratie en initialisatie anders dan bij string, string is eerder zoals primitive datatypes, StringBuilder gaan we declareren en initialiseren zoals een [class]() waar we later nog op terug komen."
   ]
  },
  {
   "cell_type": "code",
   "execution_count": null,
   "metadata": {},
   "outputs": [],
   "source": [
    "// declaratie\n",
    "StringBuilder str = new StringBuilder();"
   ]
  },
  {
   "cell_type": "markdown",
   "metadata": {},
   "source": [
    "Hierboven hebben we een StringBuilder gedeclareerd genaamd ```str```, verder heeft deze nog geen inhoud. daarvoor kunnen we de append methode gebruiken."
   ]
  },
  {
   "cell_type": "code",
   "execution_count": null,
   "metadata": {},
   "outputs": [],
   "source": [
    "// declaratie\n",
    "StringBuilder str = new StringBuilder();\n",
    "// initialisatie\n",
    "str.append(\"hello world!\");\n",
    "\n",
    "System.out.println(str);"
   ]
  },
  {
   "cell_type": "markdown",
   "metadata": {},
   "source": [
    "Je merkt op dat na het toekenningsteken ```=``` een nieuw object maken dat we toekennen aan ```str```.\n",
    "\n",
    "We kunnen dit ook op een eenvoudigere manier gaan schrijven."
   ]
  },
  {
   "cell_type": "code",
   "execution_count": null,
   "metadata": {},
   "outputs": [],
   "source": [
    "// declaratie + initialisatie\n",
    "StringBuilder str = new StringBuilder(\"hello world!\");\n",
    "\n",
    "System.out.println(str);"
   ]
  },
  {
   "cell_type": "markdown",
   "metadata": {},
   "source": [
    "### methods\n",
    "De class Stringbuilder heeft een reeks aan methodes die we kunnen gaan gebruiken, de belangrijkste kan je hieronder terugvinden maar er zijn nog meer methodes die je kan terugvinden in de oracle [documentatie](https://docs.oracle.com/en/java/javase/17/docs/api/java.base/java/lang/StringBuilder.html)."
   ]
  },
  {
   "cell_type": "markdown",
   "metadata": {},
   "source": [
    "#### append()\n",
    "De methode append hebben al eerder gebruikt in de voorbeelden hierboven deze gebruiken we om tekst toe te kennen aan ons object, als ons object al tekst bevat zal deze er achteraan geplakt worden."
   ]
  },
  {
   "cell_type": "code",
   "execution_count": null,
   "metadata": {},
   "outputs": [],
   "source": [
    "StringBuilder str = new StringBuilder(\"hello \");\n",
    "str.append(\"world!\");\n",
    "\n",
    "System.out.println(str);"
   ]
  }
 ],
 "metadata": {
  "kernelspec": {
   "display_name": "Python 3.10.6 64-bit (windows store)",
   "language": "python",
   "name": "python3"
  },
  "language_info": {
   "name": "python",
   "version": "3.10.6"
  },
  "orig_nbformat": 4,
  "vscode": {
   "interpreter": {
    "hash": "6b37d82d5803a5e2590946df6dbaaa38f6646f38cc7b4ff419918623f65de815"
   }
  }
 },
 "nbformat": 4,
 "nbformat_minor": 2
}
