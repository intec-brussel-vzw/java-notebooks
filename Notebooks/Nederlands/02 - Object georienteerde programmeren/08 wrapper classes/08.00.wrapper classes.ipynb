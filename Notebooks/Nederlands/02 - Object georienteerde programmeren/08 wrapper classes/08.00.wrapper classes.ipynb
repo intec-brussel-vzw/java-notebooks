{
 "cells": [
  {
   "cell_type": "markdown",
   "metadata": {},
   "source": [
    "![](https://intecbrussel.be/img/logo3.png)  \n",
    "_Java les-materialen_"
   ]
  },
  {
   "cell_type": "markdown",
   "metadata": {},
   "source": [
    "# Wrapper classes\n",
    "\n",
    "Wrapper classes bied een manier om primitieve datatypes (`int`, `boolean`, etc..) als objecten te gebruiken.\n",
    "\n",
    "De tabel hier beneden laat zien de primitieve datatypes en de gelijkwaardige wrapper class:\n",
    "\n",
    "| Primitieve datatype | Wrapper class |\n",
    "| --- | --- |\n",
    "| byte | Byte |\n",
    "| short | Short |\n",
    "| int | Integer |\n",
    "| long | Long |\n",
    "| float | Float |\n",
    "| double | Double |\n",
    "| boolean | Boolean |\n",
    "| char | Character |\n"
   ]
  },
  {
   "cell_type": "markdown",
   "metadata": {},
   "source": [
    "### Creëren van Wrapper objects\n",
    "\n",
    "Om een wrapper object te creëren, gebruik je een wrapper class in plaats van een primitieve type. Om de waarde te krijgen kun je die net als normaal uitprinten. Zie hieronder voor een voorbeeld:"
   ]
  },
  {
   "cell_type": "code",
   "execution_count": null,
   "metadata": {
    "vscode": {
     "languageId": "java"
    }
   },
   "outputs": [],
   "source": [
    "Integer myInt = 25;\n",
    "Double myDouble = 20.99;\n",
    "Character myChar = 'Z';\n",
    "\n",
    "System.out.println(myInt);\n",
    "System.out.println(myDouble);\n",
    "System.out.println(myChar);"
   ]
  },
  {
   "cell_type": "markdown",
   "metadata": {},
   "source": [
    "Sinds dat we nu werken met objecten, kunnen we nu ook methodes gebruiken om informatie te krijgen van een specifiek object.  "
   ]
  },
  {
   "cell_type": "markdown",
   "metadata": {},
   "source": [
    "### `toString()` methode\n",
    "\n",
    "Een andere nuttige methode is de `toString()` methode. Deze methode kunnen we gebruiken om wrapper objecten te converteren naar Strings. Als we dit hebben gedaan kunnen we weer de methodes van de String klassen gebruiken op wat oorspronkelijk een int was."
   ]
  },
  {
   "cell_type": "code",
   "execution_count": null,
   "metadata": {
    "vscode": {
     "languageId": "java"
    }
   },
   "outputs": [],
   "source": [
    "Integer myInt = 25000;\n",
    "String myString = myInt.toString();\n",
    "\n",
    "System.out.println(myString);\n",
    "System.out.println(\"This is a string with a lengt of: \" + myString.length());"
   ]
  },
  {
   "cell_type": "markdown",
   "metadata": {},
   "source": [
    "### Autoboxing en unboxing\n",
    "\n",
    "Met autoboxing word bedoeld als we automatisch een primitieve datatype om zetten naar de overeenkomende wrapper klas. Bijvoorbeeld `int naar Integer`. Sinds Java 5 hoeven we niet de methode `valueOf()` te gebruiken om primitieve datatypes te converteren naar objecten.\n",
    "\n",
    "Unboxing is het omgekeerde van autoboxing. Dit is dat we de wrapper klas naar een primitieve datatype converteren. Dit is ook niet meer nodig sinds Java 5 om de methode bijvoorbeeld `intValue()` te gebruiken.\n",
    "\n",
    "Hieronder vind je wat voorbeelden:"
   ]
  },
  {
   "cell_type": "code",
   "execution_count": 1,
   "metadata": {
    "vscode": {
     "languageId": "java"
    }
   },
   "outputs": [],
   "source": [
    "// Primitieve datatypes\n",
    "byte myByte = 10;  \n",
    "short myShort = 20;  \n",
    "int myInt = 30;  \n",
    "long myLong = 40;  \n",
    "float myFloat = 50.0F;  \n",
    "double MyDouble = 60.0D;  \n",
    "char myChar = 'a';  \n",
    "boolean myBoolean = true;\n",
    "\n",
    "//Autoboxing: Converting primitieve naar objecten  \n",
    "Byte byteobj = myByte;  \n",
    "Short shortobj = myShort;  \n",
    "Integer intobj = myInt;  \n",
    "Long longobj = myLong;  \n",
    "Float floatobj = myFloat;  \n",
    "Double doubleobj = MyDouble;  \n",
    "Character charobj = myChar;  \n",
    "Boolean boolobj = myBoolean; \n",
    "\n",
    "//Unboxing: Converting Objects to Primitives  \n",
    "byte bytevalue = byteobj;  \n",
    "short shortvalue = shortobj;  \n",
    "int intvalue = intobj;  \n",
    "long longvalue = longobj;  \n",
    "float floatvalue = floatobj;  \n",
    "double doublevalue = doubleobj;  \n",
    "char charvalue = charobj;  \n",
    "boolean boolvalue  =boolobj;"
   ]
  },
  {
   "cell_type": "markdown",
   "metadata": {},
   "source": [
    "### Waarom gebruiken we wrapper classes\n",
    "\n",
    "- Om primitieve datatypes om te zetten naar objecten zodat we deze kunnen gebruiken in collections zoals een ArrayList *(Op dit onderwerp komen we later in het boek op terug)*\n",
    "- Bij primitieve datatypes hebben niet de mogelijkheid om extra methodes te gebruiken zoals bij objecten\n",
    "- Primitieve datatypes kunnen geen null waarde hebben en wrapper klassen wel. "
   ]
  },
  {
   "cell_type": "markdown",
   "metadata": {},
   "source": [
    "[Ga naar samenvatting en oefeningen](/Notebooks/Nederlands/02%20-%20Object%20georienteerde%20programmeren/08%20wrapper%20classes/08.samenvatting.ipynb)"
   ]
  }
 ],
 "metadata": {
  "kernelspec": {
   "display_name": "Java",
   "language": "java",
   "name": "java"
  },
  "language_info": {
   "codemirror_mode": "java",
   "file_extension": ".jshell",
   "mimetype": "text/x-java-source",
   "name": "Java",
   "pygments_lexer": "java",
   "version": "11.0.11+9-LTS"
  },
  "orig_nbformat": 4,
  "vscode": {
   "interpreter": {
    "hash": "217c631b613e36ff4b9cdbe99ee2d03b09d4e7c1f494b32c9aa8f6b180d54c14"
   }
  }
 },
 "nbformat": 4,
 "nbformat_minor": 2
}
