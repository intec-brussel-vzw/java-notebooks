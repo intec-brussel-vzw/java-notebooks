{
 "cells": [
  {
   "cell_type": "markdown",
   "metadata": {},
   "source": [
    "![](https://intecbrussel.be/img/logo3.png)  \n",
    "_Java les-materialen_"
   ]
  },
  {
   "cell_type": "markdown",
   "metadata": {},
   "source": [
    "# Samenvatting en oefeningen\n",
    "\n",
    "We gebruiken wrapper klassen om primitieve datatypes te converteren naar objecten. Bijvoorbeeld: \n",
    "\n",
    "`int -> Integer`\n",
    "`boolean -> Boolean`\n",
    "\n",
    "De voordelen om wrapper klassen te gebruiken is dat je een primitieve value hebt maar alle voordelen van een object. Je kunt methodes aanroepen op dit object zoals een `toString`, `equals` enz. De collection framework werkt alleen met objecten dus dit dan ook beschikbaar met wrapper klassen. "
   ]
  },
  {
   "cell_type": "markdown",
   "metadata": {},
   "source": [
    "### Oefening 1 \n",
    "\n",
    "Zet deze waardes om naar de vergelijkbare wrapper klas.\n",
    "\n",
    "```java\n",
    "\n",
    "int numberInInt = 25;\n",
    "double numberInDouble = 2.99;\n",
    "char notANumber = 'j';\n",
    "\n",
    "```"
   ]
  },
  {
   "cell_type": "code",
   "execution_count": null,
   "metadata": {},
   "outputs": [],
   "source": [
    "// Plaats hier je code voor oefening 1 "
   ]
  },
  {
   "cell_type": "markdown",
   "metadata": {},
   "source": [
    "### Oefening 2\n",
    "\n",
    "Maak een primitieve float variabele aan en converteer deze naar een String. Tot slot print de lengte van deze string af."
   ]
  },
  {
   "cell_type": "code",
   "execution_count": null,
   "metadata": {},
   "outputs": [],
   "source": [
    "// Plaats hier je code voor oefening 2"
   ]
  },
  {
   "cell_type": "markdown",
   "metadata": {},
   "source": [
    "[Ga naar het volgende hoofdstuk classes](/Notebooks/Nederlands/02%20-%20Object%20georienteerde%20programmeren/09%20classes/09.00%20classes%20maken%20en%20gebruiken.ipynb)"
   ]
  }
 ],
 "metadata": {
  "kernelspec": {
   "display_name": "Java",
   "language": "java",
   "name": "java"
  },
  "language_info": {
   "name": "java",
   "version": "3.10.6"
  },
  "orig_nbformat": 4,
  "vscode": {
   "interpreter": {
    "hash": "217c631b613e36ff4b9cdbe99ee2d03b09d4e7c1f494b32c9aa8f6b180d54c14"
   }
  }
 },
 "nbformat": 4,
 "nbformat_minor": 2
}
