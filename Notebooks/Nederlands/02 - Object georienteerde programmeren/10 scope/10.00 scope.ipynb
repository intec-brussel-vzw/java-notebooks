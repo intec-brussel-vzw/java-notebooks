{
 "cells": [
  {
   "cell_type": "markdown",
   "metadata": {},
   "source": [
    "![](https://intecbrussel.be/img/logo3.png)  \n",
    "_Java les-materialen_"
   ]
  },
  {
   "cell_type": "markdown",
   "metadata": {},
   "source": [
    "# Scope\n"
   ]
  },
  {
   "cell_type": "markdown",
   "metadata": {},
   "source": [
    "### Wat is een scope in Java\n",
    "\n",
    "We hebben 3 verschillende soorten scopes in Java. \n",
    "- class niveau scope\n",
    "- Methode niveau scope\n",
    "- Block scope\n",
    "\n",
    "De scope definieert waar een bepaalde methode of variabele toegankelijk is in een programma. "
   ]
  },
  {
   "cell_type": "markdown",
   "metadata": {},
   "source": [
    "### Class niveau scope (instance variables)\n",
    "\n",
    "Elke variabele die binnen een klasse wordt gedeclareerd, is toegankelijk voor alle methoden in die klas. Afhankelijk van de access modifier bijvoorbeeld public of private, kan het soms zijn dat de variabele ook buiten de klas toegankelijk zijn."
   ]
  },
  {
   "cell_type": "markdown",
   "metadata": {},
   "source": [
    "```java\n",
    "\n",
    "public class Car {\n",
    "\n",
    "    public String color;\n",
    "    private int speed;\n",
    "\n",
    "    public Car(String color, int speed) {\n",
    "        // Variables color en speed toegankelijk voor deze constructor\n",
    "    }\n",
    "\n",
    "    public void drive(boolean fourWheel) {\n",
    "        // Variables color en speed toegankelijk voor deze methode\n",
    "    }\n",
    "\n",
    "}\n",
    "\n",
    "// Andere class om te tonen of alle variabelen toegankelijk zijn.\n",
    "public class BuyCar {\n",
    "\n",
    "    public static void main(String[]args) {\n",
    "\n",
    "        Car myNewCar = new Car(\"blue\", 70);\n",
    "\n",
    "        // Heeft toegang tot de publieke variabele color. \n",
    "        String carColor = myNewCar.color;\n",
    "\n",
    "        /*\n",
    "        Heeft geen toegang tot de private variabele speed. Dit resulteert in de volgende error:\n",
    "\n",
    "        |int carSpeed = myNewCar.speed;\n",
    "        speed has private access in Car \n",
    "\n",
    "        */\n",
    "        int carSpeed = myNewCar.speed;\n",
    "    }\n",
    "\n",
    "}\n",
    "\n",
    "```"
   ]
  },
  {
   "cell_type": "markdown",
   "metadata": {},
   "source": [
    "### Method niveau scope (local variables)\n",
    "\n",
    "Elke variabele die in een methode is gedeclareerd ook de parameters zijn **niet** toegankelijk buiten de methode."
   ]
  },
  {
   "cell_type": "markdown",
   "metadata": {},
   "source": [
    "```java\n",
    "\n",
    "public class Car {\n",
    "\n",
    "    public String color;\n",
    "    private int speed;\n",
    "\n",
    "    public void drive(boolean fourWheels) {\n",
    "        \n",
    "        String tires = \"wide\";\n",
    "        \n",
    "        //fourWheels en tires zijn alleen hier toegankelijk, en zullen vernietigd worden als de methode klaar is.\n",
    "\n",
    "    }\n",
    "\n",
    "    public void paint(String newColor, String oldColor) {\n",
    "\n",
    "        //newColors en oldColor zijn alleen hier toegankelijk, en zullen vernietigd worden als de methode klaar is.\n",
    "\n",
    "    }\n",
    "\n",
    "}\n",
    "\n",
    "public class PaintCar {\n",
    "\n",
    "    // De enigste variabele die voor deze klas toegankelijk is, de color van class Car. Geen van de andere variabelen zijn toegankelijk voor deze class\n",
    "\n",
    "}\n",
    "\n",
    "```"
   ]
  },
  {
   "cell_type": "code",
   "execution_count": null,
   "metadata": {},
   "outputs": [],
   "source": [
    "\n",
    "// Code hier kan x niet gebruiken\n",
    "System.out.println(x);\n",
    "\n",
    "int x = 100;\n",
    "\n",
    "// Code hier kan x wel gebruiken\n",
    "System.out.println(x);\n"
   ]
  },
  {
   "cell_type": "markdown",
   "metadata": {},
   "source": [
    "### Block scope (loop variables)\n",
    "\n",
    "Geen van de variabele in de `for loop` heb je toegang tot na de loop. Alleen als je het op voorhand hebt gedeclareerd. "
   ]
  },
  {
   "cell_type": "markdown",
   "metadata": {},
   "source": [
    "```java\n",
    "\n",
    "public class Car {\n",
    "\n",
    "    public void changeTires() {\n",
    "\n",
    "        int numTires = 4;\n",
    "        int changedTires = 0;\n",
    "\n",
    "        \n",
    "        for (index = 0; index < numTires; index++) {\n",
    "\n",
    "            changedTires += 1;\n",
    "            \n",
    "        }\n",
    "\n",
    "        // numTires en changedTires zijn toegankelijk van af hier, index is dat niet.\n",
    "    }\n",
    "\n",
    "}\n",
    "\n",
    "```"
   ]
  },
  {
   "cell_type": "markdown",
   "metadata": {},
   "source": [
    "Hieronder heb je een voorbeeld om te kijken waar de variabele bereik heeft. Doe de `System.out.println(x);` uit de comment halen om te zien wat er gebeurt. "
   ]
  },
  {
   "cell_type": "code",
   "execution_count": null,
   "metadata": {},
   "outputs": [],
   "source": [
    "// Code kan niet hier runnen\n",
    "// System.out.println(x);\n",
    "\n",
    "{ // Dit is een block\n",
    "  \n",
    "// Code kan niet hier runnen\n",
    "// System.out.println(x);\n",
    "\n",
    "int x = 100;\n",
    "  \n",
    "System.out.println(x); // Code kan hier runnen\n",
    "  \n",
    "} // Dit is het einde van het block\n",
    "\n",
    "\n",
    "// Code kan niet hier runnen\n",
    "// System.out.println(x);"
   ]
  },
  {
   "cell_type": "markdown",
   "metadata": {},
   "source": [
    "[Ga naar de samenvatting](/Notebooks/Nederlands/02%20-%20Object%20georienteerde%20programmeren/10%20scope/10.samenvatting.ipynb)"
   ]
  }
 ],
 "metadata": {
  "kernelspec": {
   "display_name": "Java",
   "language": "java",
   "name": "java"
  },
  "language_info": {
   "codemirror_mode": "java",
   "file_extension": ".jshell",
   "mimetype": "text/x-java-source",
   "name": "java",
   "pygments_lexer": "java",
   "version": "11.0.11+9-LTS"
  },
  "orig_nbformat": 4,
  "vscode": {
   "interpreter": {
    "hash": "217c631b613e36ff4b9cdbe99ee2d03b09d4e7c1f494b32c9aa8f6b180d54c14"
   }
  }
 },
 "nbformat": 4,
 "nbformat_minor": 2
}
