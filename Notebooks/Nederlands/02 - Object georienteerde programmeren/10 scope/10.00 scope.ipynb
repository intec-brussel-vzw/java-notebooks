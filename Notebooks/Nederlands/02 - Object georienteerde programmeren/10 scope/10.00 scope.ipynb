{
 "cells": [
  {
   "cell_type": "markdown",
   "metadata": {},
   "source": [
    "![](https://intecbrussel.be/img/logo3.png)  \n",
    "_Java les-materialen_"
   ]
  },
  {
   "cell_type": "markdown",
   "metadata": {},
   "source": [
    "# Scope\n"
   ]
  },
  {
   "cell_type": "markdown",
   "metadata": {},
   "source": [
    "### Wat is een scope in Java\n",
    "\n",
    "We hebben 3 verschillende soorten scopes in Java. \n",
    "- class niveau scope\n",
    "- Methode niveau scope\n",
    "- Block scope\n",
    "\n",
    "De scope definieert waar een bepaalde methode of variabele toegankelijk is in een programma. "
   ]
  },
  {
   "cell_type": "markdown",
   "metadata": {},
   "source": [
    "### Class niveau scope (instance variables)\n",
    "\n",
    "Elke variabele die binnen een klasse wordt gedeclareerd, is toegankelijk voor alle methoden in die klas. Afhankelijk van de access modifier bijvoorbeeld public of private, kan het soms zijn dat de variabele ook buiten de klas toegankelijk zijn."
   ]
  },
  {
   "cell_type": "markdown",
   "metadata": {},
   "source": [
    "```java\n",
    "package be.intecbrussel;\n",
    "\n",
    "public class Rectangle { // begin van class scope\n",
    "\n",
    "    // property staat op private\n",
    "    private double length;\n",
    "\n",
    "    // property staat op protected\n",
    "    protected double width;\n",
    "\n",
    "    // property staat op public\n",
    "    public String colour;\n",
    "\n",
    "    // constructor\n",
    "    public Rectangle() {\n",
    "\n",
    "    }\n",
    "\n",
    "    public Rectangle(double length, double width, String colour) {\n",
    "        this.length = length;\n",
    "        this.width = width;\n",
    "        this.colour = colour;\n",
    "    }\n",
    "\n",
    "}// einde class scope\n",
    "```"
   ]
  },
  {
   "cell_type": "markdown",
   "metadata": {},
   "source": [
    "```java\n",
    "package be.intecbrussel;\n",
    "\n",
    "public class MainApp { // begin van class scope\n",
    "\n",
    "    public static void main(String[] args) {\n",
    "\n",
    "        // We maken een nieuw object aan van de Rectangle class\n",
    "        Rectangle rectangle = new Rectangle(2,5, \"blue\");\n",
    "\n",
    "        // Geen toegang mogelijk vanuit een andere class. Access modifier staat op private.\n",
    "        // rectangle.length;\n",
    "\n",
    "        // Width toegankelijk in dezelfde package omdat de acces modifier staat op protected\n",
    "        double widthOfRec = rectangle.width;\n",
    "        System.out.println(\"Colour = \" + rectangle.colour + \"\\nWidth = \" + widthOfRec);\n",
    "\n",
    "        String recColour = rectangle.colour = \"white\";\n",
    "\n",
    "        System.out.println(\"Did I change the colour? \" + recColour);\n",
    "\n",
    "    }\n",
    "\n",
    "}// einde class scope\n",
    "```"
   ]
  },
  {
   "cell_type": "markdown",
   "metadata": {},
   "source": [
    "### Method niveau scope (local variables)\n",
    "\n",
    "Elke variabele die in een methode is gedeclareerd ook de parameters zijn **niet** toegankelijk buiten de methode.\n",
    "\n",
    "```java\n",
    "    // niet mogelijk valt buiten de scope\n",
    "    //height = 12.5;\n",
    "    \n",
    "    int counter = 0;\n",
    "\n",
    "    public double makeACube(double height) { // Start method scope, parameter is inclusief.\n",
    "        \n",
    "        height = 2.5;\n",
    "        double cube = length * width * height;\n",
    "        \n",
    "        return cube;\n",
    "        \n",
    "    } // einde method scope\n",
    "\n",
    "       // niet mogelijk valt buiten de scope\n",
    "    //height = 12.5;\n",
    "```"
   ]
  },
  {
   "cell_type": "markdown",
   "metadata": {},
   "source": [
    "### Loop scope\n",
    "\n",
    "Hieronder zie je een voorbeeld van het bereik van een scope van een for loop. \n",
    "\n",
    "```java\n",
    "\n",
    "package be.intecbrussel;\n",
    "\n",
    "public class MainApp {\n",
    "    \n",
    "    public static void main(String[] args) {\n",
    "\n",
    "        for(int index = 0; index < 5; index++) { // begin scope \n",
    "\n",
    "            System.out.println(index);\n",
    "\n",
    "        } // einde scope\n",
    "        \n",
    "        // compile error omdat de printline niet in de scope van de loop is. Index valt buiten de scope.\n",
    "        // System.out.println(index);\n",
    "\n",
    "    }\n",
    "\n",
    "}\n",
    "\n",
    "```"
   ]
  },
  {
   "cell_type": "markdown",
   "metadata": {},
   "source": [
    "### Block scope\n",
    "Hieronder heb je een voorbeeld om te kijken waar de variabele bereik heeft. Doe de `System.out.println(x);` uit de comment halen om te zien wat er gebeurt. \n",
    "\n",
    "```java\n",
    "package be.intecbrussel;\n",
    "\n",
    "public class MainApp {\n",
    "\n",
    "    public static void main(String[] args) {\n",
    "\n",
    "        // Buiten de scope\n",
    "        // System.out.println(x);\n",
    "\n",
    "        { // Start block scope\n",
    "\n",
    "            // Binnen de scope maar voor de declaratie\n",
    "            // System.out.println(x);\n",
    "\n",
    "            int x = 100;\n",
    "            System.out.println(x); // Code kan hier runnen\n",
    "\n",
    "        } // Einde block scope\n",
    "\n",
    "        // Buiten de scope\n",
    "        // System.out.println(x);\n",
    "\n",
    "    }\n",
    "\n",
    "}\n",
    "``` "
   ]
  },
  {
   "cell_type": "markdown",
   "metadata": {},
   "source": [
    "[Ga naar samenvatting en oefeningen](/Notebooks/Nederlands/02%20-%20Object%20georienteerde%20programmeren/10%20scope/10.samenvatting.ipynb)"
   ]
  }
 ],
 "metadata": {
  "kernelspec": {
   "display_name": "Java",
   "language": "java",
   "name": "java"
  },
  "language_info": {
   "codemirror_mode": "java",
   "file_extension": ".jshell",
   "mimetype": "text/x-java-source",
   "name": "java",
   "pygments_lexer": "java",
   "version": "11.0.11+9-LTS"
  },
  "orig_nbformat": 4,
  "vscode": {
   "interpreter": {
    "hash": "217c631b613e36ff4b9cdbe99ee2d03b09d4e7c1f494b32c9aa8f6b180d54c14"
   }
  }
 },
 "nbformat": 4,
 "nbformat_minor": 2
}
