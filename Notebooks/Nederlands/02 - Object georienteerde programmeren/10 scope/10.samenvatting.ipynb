{
 "cells": [
  {
   "cell_type": "markdown",
   "metadata": {},
   "source": [
    "![](https://intecbrussel.be/img/logo3.png)  \n",
    "_Java les-materialen_"
   ]
  },
  {
   "cell_type": "markdown",
   "metadata": {},
   "source": [
    "# Samenvatting en oefeningen"
   ]
  },
  {
   "cell_type": "markdown",
   "metadata": {},
   "source": [
    "### Samenvatting \n",
    "\n",
    "We hebben het over scopes gehad in Java. We hebben er 3 verschillende:\n",
    "| Bereik scope | Beschrijving |\n",
    "|---|---|\n",
    "| Class niveau scope | Overal toegankelijk in de klas en soms ook er buiten. Dit ligt aan de access modifier |\n",
    "| Methode niveau scope | Al de variabele en ook de parameters zijn **niet** bruikbaar buiten de methode | \n",
    "| block niveau scope | Alleen na de declaratie van de variabel heb je toegang tot de variabel en alleen in het block | \n"
   ]
  },
  {
   "cell_type": "markdown",
   "metadata": {},
   "source": [
    "### Oefening\n",
    "\n",
    "Voorspel de uitkomst van de volgende code: \n",
    "\n",
    "Tip: Gebruik de code in een IDEA zoals Intellij\n",
    "\n",
    "```java\n",
    "\n",
    "public class TestScope {\n",
    "\n",
    "    static int num01 = 11;\n",
    "    private int num02 = 33;\n",
    "\n",
    "    public void methodScope(int x) {\n",
    "\n",
    "        TestScope test = new TestScope();\n",
    "        this.num01 = 22;\n",
    "        num02 = 44;\n",
    "\n",
    "        System.out.println(\"TestScope.num01: \" + TestScope.num01);\n",
    "        System.out.println(\"test.num01: \" + test.num01);\n",
    "        System.out.println(\"test.num02: \" + test.num02);\n",
    "        System.out.println(\"num02: \" + num02);\n",
    "\n",
    "    }\n",
    "\n",
    "    public static void main(String args[]) {\n",
    "\n",
    "        TestScope t = new TestScope();\n",
    "        t.methodScope(5);\n",
    "\n",
    "    }\n",
    "\n",
    "}\n",
    "\n",
    "```"
   ]
  },
  {
   "cell_type": "code",
   "execution_count": null,
   "metadata": {
    "vscode": {
     "languageId": "java"
    }
   },
   "outputs": [],
   "source": [
    "// Plaats hier de uitkomst"
   ]
  },
  {
   "cell_type": "markdown",
   "metadata": {},
   "source": [
    "[Ga naar het volgende hoofdstuk](/Notebooks/Nederlands/03%20-%20Array%20and%20enums/01%201D%20arrays/01.00%20arrays.ipynb)"
   ]
  }
 ],
 "metadata": {
  "kernelspec": {
   "display_name": "Java",
   "language": "java",
   "name": "java"
  },
  "language_info": {
   "codemirror_mode": "java",
   "file_extension": ".jshell",
   "mimetype": "text/x-java-source",
   "name": "Java",
   "pygments_lexer": "java",
   "version": "11.0.11+9-LTS"
  },
  "orig_nbformat": 4,
  "vscode": {
   "interpreter": {
    "hash": "217c631b613e36ff4b9cdbe99ee2d03b09d4e7c1f494b32c9aa8f6b180d54c14"
   }
  }
 },
 "nbformat": 4,
 "nbformat_minor": 2
}
