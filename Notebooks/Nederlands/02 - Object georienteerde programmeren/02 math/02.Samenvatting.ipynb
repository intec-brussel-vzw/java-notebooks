{
 "cells": [
  {
   "cell_type": "markdown",
   "metadata": {},
   "source": [
    "![](https://intecbrussel.be/img/logo3.png)  \n",
    "_Java les-materialen_"
   ]
  },
  {
   "cell_type": "markdown",
   "metadata": {},
   "source": [
    "# Samenvatting"
   ]
  },
  {
   "cell_type": "markdown",
   "metadata": {},
   "source": [
    "# Oefeningen"
   ]
  },
  {
   "cell_type": "markdown",
   "metadata": {},
   "source": [
    "### Oefening 1\n",
    "\n",
    "Gebruik een functie van de math class die mij het grootste getal teruggeeft van deze getallen ```9.0f``` en ```8```."
   ]
  },
  {
   "cell_type": "code",
   "execution_count": null,
   "metadata": {},
   "outputs": [],
   "source": []
  },
  {
   "cell_type": "markdown",
   "metadata": {},
   "source": [
    "### Oefening 2\n",
    "Gebruik een functie uit de math class die de volgende bewerking uitvoert ```5*5*5*5``` het resultaat zou ```625``` moeten zijn."
   ]
  },
  {
   "cell_type": "code",
   "execution_count": null,
   "metadata": {},
   "outputs": [],
   "source": []
  },
  {
   "cell_type": "markdown",
   "metadata": {},
   "source": [
    "### Oefening 3\n",
    "\n",
    "Maak een applicatie die een random getal genereert tussen 0 en 60 met de math class, rond deze naar boven af en controlleer of dit getal even of oneven is.\n",
    "\n",
    "Voor deze oefening heb je een operator nodig uit hoofdstuk [02 operators](/Notebooks/Nederlands/01%20-%20Basisprogrammeren/02%20operators/02.00%20operators.ipynb)."
   ]
  },
  {
   "cell_type": "code",
   "execution_count": null,
   "metadata": {},
   "outputs": [],
   "source": []
  }
 ],
 "metadata": {
  "kernelspec": {
   "display_name": "Python 3.10.6 64-bit (windows store)",
   "language": "python",
   "name": "python3"
  },
  "language_info": {
   "name": "python",
   "version": "3.10.6"
  },
  "orig_nbformat": 4,
  "vscode": {
   "interpreter": {
    "hash": "6b37d82d5803a5e2590946df6dbaaa38f6646f38cc7b4ff419918623f65de815"
   }
  }
 },
 "nbformat": 4,
 "nbformat_minor": 2
}
