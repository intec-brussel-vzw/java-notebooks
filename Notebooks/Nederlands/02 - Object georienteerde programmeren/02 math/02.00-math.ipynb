{
 "cells": [
  {
   "cell_type": "markdown",
   "metadata": {},
   "source": [
    "![](https://intecbrussel.be/img/logo3.png)  \n",
    "_Java les-materialen_"
   ]
  },
  {
   "cell_type": "markdown",
   "metadata": {},
   "source": [
    "# Math class"
   ]
  },
  {
   "cell_type": "markdown",
   "metadata": {},
   "source": [
    "De klasse Math bevat methoden voor het uitvoeren van numerieke bewerkingen, zoals de exponentiële berekeningen, logaritmische bewerkingen-, het berekenen van de vierkantswortel en driehoek berekeningen."
   ]
  },
  {
   "cell_type": "markdown",
   "metadata": {},
   "source": [
    "De math class in java heeft een heleboel aan methodes die we kunnen gebruiken een volledige lijst kan je [hier](https://docs.oracle.com/en/java/javase/17/docs/api/java.base/java/lang/Math.html) terug vinden. Hieronder kan je de meest gebruikte functies terugvinden."
   ]
  },
  {
   "cell_type": "markdown",
   "metadata": {},
   "source": [
    "### Wiskundige bewerkingen"
   ]
  },
  {
   "cell_type": "markdown",
   "metadata": {},
   "source": [
    "#### abs()\n",
    "\n",
    "Heeft de absolute van een waarde terug."
   ]
  },
  {
   "cell_type": "code",
   "execution_count": null,
   "metadata": {},
   "outputs": [],
   "source": [
    "System.out.println(Math.abs(-10));"
   ]
  },
  {
   "cell_type": "markdown",
   "metadata": {},
   "source": [
    "#### max()\n",
    "Met de max functie kunnen we nagaan welk getal het grootste is van twee getallen. De nummers kunnen van de volgende types zijn: ```int```, ```long```, ```double``` en ```float```."
   ]
  },
  {
   "cell_type": "code",
   "execution_count": null,
   "metadata": {},
   "outputs": [],
   "source": [
    "System.out.println(Math.max(10, 9));\n",
    "System.out.println(Math.max(10.3, 9.6));\n",
    "System.out.println(Math.max(17l, 8.5l));\n",
    "System.out.println(Math.max(8f, 30.5f));"
   ]
  },
  {
   "cell_type": "markdown",
   "metadata": {},
   "source": [
    "Het is ook mogelijk om verschillende types van getallen door elkaar te gebruiken."
   ]
  },
  {
   "cell_type": "code",
   "execution_count": null,
   "metadata": {},
   "outputs": [],
   "source": [
    "System.out.println(Math.max(3l, 6.5f));"
   ]
  },
  {
   "cell_type": "markdown",
   "metadata": {},
   "source": [
    "#### min()\n",
    "De min functie doet net het omgekeerde van de max functie, deze zal het kleinste getal teruggeven. Net zoals de max functie kan je de volgende datatypes gan gebruiken: ```int```, ```long```, ```double```, ```float```."
   ]
  },
  {
   "cell_type": "code",
   "execution_count": null,
   "metadata": {},
   "outputs": [],
   "source": [
    "System.out.println(Math.min(7, 9));\n",
    "System.out.println(Math.min(1.3, 0.6));\n",
    "System.out.println(Math.min(12l, 18.5l));\n",
    "System.out.println(Math.min(71.5f, 30.5f));"
   ]
  },
  {
   "cell_type": "markdown",
   "metadata": {},
   "source": [
    "Ook bij deze functie kan je verschillende datatypes combineren."
   ]
  },
  {
   "cell_type": "code",
   "execution_count": null,
   "metadata": {},
   "outputs": [],
   "source": [
    "System.out.println(Math.min(4f, 2.4l));"
   ]
  }
 ],
 "metadata": {
  "kernelspec": {
   "display_name": "Python 3.10.6 64-bit (windows store)",
   "language": "python",
   "name": "python3"
  },
  "language_info": {
   "name": "python",
   "version": "3.10.6"
  },
  "orig_nbformat": 4,
  "vscode": {
   "interpreter": {
    "hash": "6b37d82d5803a5e2590946df6dbaaa38f6646f38cc7b4ff419918623f65de815"
   }
  }
 },
 "nbformat": 4,
 "nbformat_minor": 2
}
