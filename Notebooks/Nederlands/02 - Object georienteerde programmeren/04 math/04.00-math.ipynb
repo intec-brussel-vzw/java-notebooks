{
 "cells": [
  {
   "cell_type": "markdown",
   "metadata": {},
   "source": [
    "![](https://intecbrussel.be/img/logo3.png)  \n",
    "_Java les-materialen_"
   ]
  },
  {
   "cell_type": "markdown",
   "metadata": {},
   "source": [
    "# Math class"
   ]
  },
  {
   "cell_type": "markdown",
   "metadata": {},
   "source": [
    "De klasse Math bevat methoden voor het uitvoeren van numerieke bewerkingen, exponentiële berekeningen, logaritmische bewerkingen-, het berekenen van de vierkantswortel en driehoek berekeningen."
   ]
  },
  {
   "cell_type": "markdown",
   "metadata": {},
   "source": [
    "De math class in java heeft een heleboel aan methodes die we kunnen gebruiken een volledige lijst kan je [hier](https://docs.oracle.com/en/java/javase/17/docs/api/java.base/java/lang/Math.html) terug vinden. Hieronder kan je de meest gebruikte functies terugvinden."
   ]
  },
  {
   "cell_type": "markdown",
   "metadata": {},
   "source": [
    "### Wiskundige bewerkingen"
   ]
  },
  {
   "cell_type": "markdown",
   "metadata": {},
   "source": [
    "### Methode abs()\n",
    "\n",
    "Heeft de absolute van een waarde terug."
   ]
  },
  {
   "cell_type": "code",
   "execution_count": null,
   "metadata": {},
   "outputs": [],
   "source": [
    "int result = Math.abs(-10);\n",
    "        \n",
    "System.out.println(result);"
   ]
  },
  {
   "cell_type": "markdown",
   "metadata": {},
   "source": [
    "### Methode max()\n",
    "Met de max() functie kunnen we nagaan welk getal het grootste is van twee getallen. De nummers kunnen van de volgende types zijn: ```int```, ```long```, ```double``` en ```float```."
   ]
  },
  {
   "cell_type": "code",
   "execution_count": null,
   "metadata": {},
   "outputs": [],
   "source": [
    "int result01 = Math.max(10, 9);\n",
    "double result02 = Math.max(10.3, 9.6);\n",
    "long result03 = Math.max(17L, 8L);\n",
    "float result04 = Math.max(8F, 30.5F);\n",
    "\n",
    "System.out.println(result01);\n",
    "System.out.println(result02);\n",
    "System.out.println(result03);\n",
    "System.out.println(result04);"
   ]
  },
  {
   "cell_type": "markdown",
   "metadata": {},
   "source": [
    "Het is ook mogelijk om verschillende types van getallen door elkaar te gebruiken."
   ]
  },
  {
   "cell_type": "code",
   "execution_count": null,
   "metadata": {},
   "outputs": [],
   "source": [
    "// Welke van de 2 getallen is het grootst. 3L (L staat voor long) 6.5F (F staat voor float)\n",
    "System.out.println(Math.max(3L, 6.5f));\n",
    "\n",
    "// Welke van de 2 getallen is het grootst. 10L (L staat voor long) 11.5D (D staat voor double)\n",
    "System.out.println(Math.max(10L, 11.5D));"
   ]
  },
  {
   "cell_type": "markdown",
   "metadata": {},
   "source": [
    "### Methode min()\n",
    "De min() functie doet net het omgekeerde van de max functie, deze zal het kleinste getal teruggeven. Net zoals de max functie kan je de volgende datatypes gan gebruiken: ```int```, ```long```, ```double```, ```float```."
   ]
  },
  {
   "cell_type": "code",
   "execution_count": null,
   "metadata": {},
   "outputs": [],
   "source": [
    "int result01 = Math.min(7, 9);\n",
    "double result02 = Math.min(1.3, 0.6);\n",
    "long result03 = Math.min(12L, 18L);\n",
    "float result04 = Math.min(71.5F, 30.5F);\n",
    "\n",
    "System.out.println(result01);\n",
    "System.out.println(result02);\n",
    "System.out.println(result03);\n",
    "System.out.println(result04);"
   ]
  },
  {
   "cell_type": "markdown",
   "metadata": {},
   "source": [
    "Ook bij deze functie kan je verschillende datatypes combineren."
   ]
  },
  {
   "cell_type": "code",
   "execution_count": null,
   "metadata": {},
   "outputs": [],
   "source": [
    "// Welke van de 2 getallen is het grootst. 30L (L staat voor long) 12.5F (F staat voor float)\n",
    "System.out.println(Math.min(30L, 12.5F));\n",
    "\n",
    "// Welke van de 2 getallen is het grootst. 100L (L staat voor long) 101.9D (D staat voor double)\n",
    "System.out.println(Math.min(100L, 101.9D));"
   ]
  },
  {
   "cell_type": "markdown",
   "metadata": {},
   "source": [
    "### Methode round()\n",
    "De round() functie zal het komma getal ```double``` of ```float``` afronden naar het dichtstbijzijnde geheel getal."
   ]
  },
  {
   "cell_type": "code",
   "execution_count": null,
   "metadata": {},
   "outputs": [],
   "source": [
    "float result = Math.round(4.6F);\n",
    "\n",
    "System.out.println(result);"
   ]
  },
  {
   "cell_type": "markdown",
   "metadata": {},
   "source": [
    "### Methode ceil()\n",
    "\n",
    "De ceil() functie zal het komma getal `double` afronden naar boven."
   ]
  },
  {
   "cell_type": "code",
   "execution_count": null,
   "metadata": {},
   "outputs": [],
   "source": [
    "double result = Math.ceil(4.1);\n",
    "        \n",
    "System.out.println(result);"
   ]
  },
  {
   "cell_type": "markdown",
   "metadata": {},
   "source": [
    "### Methode floor()\n",
    "\n",
    "Met de floor() functie kunnen we een komma getal `double` afronden naar beneden."
   ]
  },
  {
   "cell_type": "code",
   "execution_count": null,
   "metadata": {},
   "outputs": [],
   "source": [
    "double result = Math.floor(10.9);\n",
    "\n",
    "System.out.println(result);"
   ]
  },
  {
   "cell_type": "markdown",
   "metadata": {},
   "source": [
    "### Methode random()\n",
    "Random() is een functie van de math class die een komma getal terug zal geven tussen 0 en 1. Telkens wanneer we de functie uitvoeren krijgen we een andere waarde."
   ]
  },
  {
   "cell_type": "code",
   "execution_count": null,
   "metadata": {},
   "outputs": [],
   "source": [
    "double result = Math.random();\n",
    "\n",
    "System.out.println(result);"
   ]
  },
  {
   "cell_type": "markdown",
   "metadata": {},
   "source": [
    "Wanneer we de waarde vermenigvuldigen met 10 kunnen we een willekeurig komma getal genereren tussen 0 en 10."
   ]
  },
  {
   "cell_type": "code",
   "execution_count": null,
   "metadata": {},
   "outputs": [],
   "source": [
    "double result = (Math.random() * 10);\n",
    "\n",
    "System.out.println(result);"
   ]
  },
  {
   "cell_type": "markdown",
   "metadata": {},
   "source": [
    "### Methode pow()\n",
    "\n",
    "Deze functie wordt gebruikt om een ​​getalverhoging tot de macht van een ander getal te berekenen."
   ]
  },
  {
   "cell_type": "code",
   "execution_count": null,
   "metadata": {},
   "outputs": [],
   "source": [
    "double result = Math.pow(2,3);\n",
    "\n",
    "System.out.println(result);"
   ]
  },
  {
   "cell_type": "markdown",
   "metadata": {},
   "source": [
    "[Ga naar samenvatting en oefeningen](/Notebooks/Nederlands/02%20-%20Object%20georienteerde%20programmeren/04%20math/04.Samenvatting.ipynb)"
   ]
  }
 ],
 "metadata": {
  "kernelspec": {
   "display_name": "Java",
   "language": "java",
   "name": "java"
  },
  "language_info": {
   "codemirror_mode": "java",
   "file_extension": ".jshell",
   "mimetype": "text/x-java-source",
   "name": "java",
   "pygments_lexer": "java",
   "version": "11.0.11+9-LTS"
  },
  "vscode": {
   "interpreter": {
    "hash": "6b37d82d5803a5e2590946df6dbaaa38f6646f38cc7b4ff419918623f65de815"
   }
  }
 },
 "nbformat": 4,
 "nbformat_minor": 2
}
