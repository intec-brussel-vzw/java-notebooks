{
 "cells": [
  {
   "cell_type": "markdown",
   "metadata": {},
   "source": [
    "![](https://intecbrussel.be/img/logo3.png)  \n",
    "_Java les-materialen_"
   ]
  },
  {
   "cell_type": "markdown",
   "metadata": {},
   "source": [
    "# Samenvatting\n",
    "\n",
    "We weten nu dat de math class een reeks aan functies heeft die we kunnen gebruiken voor numerieke bewerkingen, exponentiële berekeningen, logaritmische bewerkingen-, het berekenen van de vierkantswortel en driehoek berekeningen. In dit hoofdstuk hebben we de meest gebruikte methodes bekeken.\n",
    "\n",
    "Hier vind je nogmaals de link naar [Oracle Java doc Math class](https://docs.oracle.com/en/java/javase/17/docs/api/java.base/java/lang/Math.html)\n",
    "\n",
    "Hieronder kan je uw kennis testen."
   ]
  },
  {
   "cell_type": "markdown",
   "metadata": {},
   "source": [
    "# Oefeningen"
   ]
  },
  {
   "cell_type": "markdown",
   "metadata": {},
   "source": [
    "### Oefening 1\n",
    "\n",
    "Gebruik een functie van de math class die mij het grootste getal teruggeeft van deze getallen ```9.0f``` en ```8```."
   ]
  },
  {
   "cell_type": "code",
   "execution_count": null,
   "metadata": {},
   "outputs": [],
   "source": []
  },
  {
   "cell_type": "markdown",
   "metadata": {},
   "source": [
    "### Oefening 2\n",
    "Gebruik een functie uit de math class die de volgende bewerking uitvoert ```5*5*5*5``` het resultaat zou ```625``` moeten zijn."
   ]
  },
  {
   "cell_type": "code",
   "execution_count": null,
   "metadata": {},
   "outputs": [],
   "source": []
  },
  {
   "cell_type": "markdown",
   "metadata": {},
   "source": [
    "### Oefening 3\n",
    "\n",
    "Maak een applicatie die een random getal genereert tussen 0 en 60 met de math class, rond deze naar boven af en controlleer of dit getal even of oneven is.\n",
    "\n",
    "Voor deze oefening heb je een operator nodig uit hoofdstuk [02 operators](/Notebooks/Nederlands/01%20-%20Basisprogrammeren/02%20operators/02.00%20operators.ipynb)."
   ]
  },
  {
   "cell_type": "code",
   "execution_count": null,
   "metadata": {},
   "outputs": [],
   "source": []
  },
  {
   "cell_type": "markdown",
   "metadata": {},
   "source": [
    "[Gaan naar het volgende hoofdstuk random class](/Notebooks/Nederlands/02%20-%20Object%20georienteerde%20programmeren/05%20random/05.00-random.ipynb)"
   ]
  }
 ],
 "metadata": {
  "kernelspec": {
   "display_name": "Python 3.10.6 64-bit (windows store)",
   "language": "python",
   "name": "python3"
  },
  "language_info": {
   "name": "python",
   "version": "3.10.7"
  },
  "orig_nbformat": 4,
  "vscode": {
   "interpreter": {
    "hash": "217c631b613e36ff4b9cdbe99ee2d03b09d4e7c1f494b32c9aa8f6b180d54c14"
   }
  }
 },
 "nbformat": 4,
 "nbformat_minor": 2
}
