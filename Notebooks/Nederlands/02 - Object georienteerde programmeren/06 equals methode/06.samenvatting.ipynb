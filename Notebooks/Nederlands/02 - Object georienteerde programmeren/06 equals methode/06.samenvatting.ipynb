{
 "cells": [
  {
   "cell_type": "markdown",
   "metadata": {},
   "source": [
    "![](https://intecbrussel.be/img/logo3.png)  \n",
    "_Java les-materialen_"
   ]
  },
  {
   "cell_type": "markdown",
   "metadata": {},
   "source": [
    "# Samenvatting en oefeningen\n",
    "\n",
    "Belangrijk om te weten is dat de methode equals() retourneert een boolean:\n",
    "| Value | beschrijving |\n",
    "|---|---|\n",
    "| True| als het equal is. |\n",
    "| False | als het not equal is. |\n",
    "\n",
    "Het eerste verschil tussen deze 2 manieren van vergelijk is dat de `==` een vergelijkingsoperator is en dat de `equals()` een methode is van de java object klas.\n",
    "`==` voor primitieve datatypes te vergelijken of om referentie punten de vergelijken.\n",
    "`equals()` gebruiken we voor objecten te vergelijken met elkaar.\n"
   ]
  },
  {
   "cell_type": "markdown",
   "metadata": {},
   "source": [
    "### Oefening 1\n",
    "\n",
    "Hieronder zie je 4 verschillende Strings en 4 verschillende datatypes met de zelfde tekens tussen de haakjes als de strings. Als we deze vergelijken met de methode `equals()` krijgen we false terug. Er is een manier om deze met elkaar te kunnen vergelijk met de methode equals() en true te retourneren. Plaats de code hieronder in het vak.    \n",
    "\n",
    "```java\n",
    "\n",
    "String str = \"a\";  \n",
    "String str1 = \"123\";  \n",
    "String str2 = \"55.99\";  \n",
    "String str3 = \"false\";  \n",
    "\n",
    "Character c = new Character('a');  \n",
    "Integer i = new Integer(123);  \n",
    "Float f = new Float(55.99);  \n",
    "Boolean b = new Boolean(false);  \n",
    "\n",
    "```\n",
    "\n",
    "Tip: Pak een klas erbij die in 02 OOP hebt behandeld."
   ]
  },
  {
   "cell_type": "code",
   "execution_count": null,
   "metadata": {},
   "outputs": [],
   "source": [
    "// Plaats hier je code van oefening 1\n"
   ]
  },
  {
   "cell_type": "markdown",
   "metadata": {},
   "source": [
    "[Ga naar het volgende hoofdstuk]()"
   ]
  }
 ],
 "metadata": {
  "kernelspec": {
   "display_name": "Java",
   "language": "java",
   "name": "java"
  },
  "language_info": {
   "codemirror_mode": "java",
   "file_extension": ".jshell",
   "mimetype": "text/x-java-source",
   "name": "java",
   "pygments_lexer": "java",
   "version": "11.0.11+9-LTS"
  },
  "orig_nbformat": 4
 },
 "nbformat": 4,
 "nbformat_minor": 2
}
