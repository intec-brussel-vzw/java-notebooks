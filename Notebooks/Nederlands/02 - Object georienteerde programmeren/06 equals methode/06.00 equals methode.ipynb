{
 "cells": [
  {
   "cell_type": "markdown",
   "metadata": {},
   "source": [
    "![](https://intecbrussel.be/img/logo3.png)  \n",
    "_Java les-materialen_"
   ]
  },
  {
   "cell_type": "markdown",
   "metadata": {},
   "source": [
    "# Equals methode\n",
    "\n",
    "De methode equals() retourneert een boolean:\n",
    "| Value | beschrijving |\n",
    "|---|---|\n",
    "| True| als het equal is. |\n",
    "| False | als het not equal is. |"
   ]
  },
  {
   "cell_type": "markdown",
   "metadata": {},
   "source": [
    "### Waarom we .equals() gebruiken in plaats van ==?\n",
    "\n",
    "Het eerste verschil tussen deze 2 manieren van vergelijk is dat de `==` een vergelijkingsoperator is en dat de `equals()` een methode is van de java object klas.\n",
    "\n",
    "De vergelijkingsoperator `==` controleert of beide verwijzingen naar dezelfde locatie verwijzen of niet. Dit kun je gebruiken op primitieve variabelen omdat dit geen objecten zijn in tegenstelling tot bijvoorbeeld een string of een andere klas object.  \n",
    "\n",
    "De `equals()` methode word gebruikt voor het vergelijken van inhoud en zal true retourneren als de objecten gelijk zijn en false wanneer ze niet gelijk zijn. Dit is de manier om objecten te kunnen vergelijken. Als je de referentie of simpeler gezegd de plek waar dat het object zich bevind in de geheugen zou je de == kunnen gebruiken.\n",
    "\n",
    "Hieronder vind je voorbeelden van beide manieren:"
   ]
  },
  {
   "cell_type": "code",
   "execution_count": null,
   "metadata": {
    "vscode": {
     "languageId": "java"
    }
   },
   "outputs": [],
   "source": [
    "int a = 10; \n",
    "int b = 10;\n",
    "double c = 5.5;\n",
    "\n",
    "// vergelijken met een vergelijkingsoperator \n",
    "System.out.println( a == b );\n",
    "System.out.println( a == c );"
   ]
  },
  {
   "cell_type": "code",
   "execution_count": null,
   "metadata": {
    "vscode": {
     "languageId": "java"
    }
   },
   "outputs": [],
   "source": [
    "// Hier hebben een voorbeeld gemaakt van 4 string objecten en deze vergelijken we met equals()\n",
    "String s1=\"intec\";  \n",
    "String s2=\"intec\";  \n",
    "String s3=\"INTEC\";  \n",
    "String s4=\"Java\";  \n",
    "\n",
    "System.out.println(s1.equals(s2));  //true omdat alles overeenkomt grote van de letters en het woord.  \n",
    "System.out.println(s1.equals(s3));  //false omdat de grootte van de letters niet overeenkomt   \n",
    "System.out.println(s1.equals(s4));  //false omdat de content niet overeenkomt  "
   ]
  },
  {
   "cell_type": "markdown",
   "metadata": {},
   "source": [
    "Dit zijn voorbeelden als we de `==` gebruiken op een object:"
   ]
  },
  {
   "cell_type": "code",
   "execution_count": null,
   "metadata": {
    "vscode": {
     "languageId": "java"
    }
   },
   "outputs": [],
   "source": [
    "String str01 = \"Hello Intec\";                   // String object 1\n",
    "String str02 = new String(\"Hello Intec\");       // String object 2\n",
    "String str03 = str02;                           // Verwijzing van string object 2 naar str03\n",
    "\n",
    "System.out.println( str01 == str02 );           // False doordat we 2 objecten vergelijken met andere referentiepunten\n",
    "System.out.println( str02 == str03 );           // True doordat we hier 2 variabelen vergelijken die naar hetzelfde object wijzen. \n"
   ]
  },
  {
   "cell_type": "markdown",
   "metadata": {},
   "source": [
    "[Ga naar samenvatting en oefeningen](/Notebooks/Nederlands/02%20-%20Object%20georienteerde%20programmeren/06%20equals%20methode/06.samenvatting.ipynb)"
   ]
  }
 ],
 "metadata": {
  "kernelspec": {
   "display_name": "Java",
   "language": "java",
   "name": "java"
  },
  "language_info": {
   "codemirror_mode": "java",
   "file_extension": ".jshell",
   "mimetype": "text/x-java-source",
   "name": "Java",
   "pygments_lexer": "java",
   "version": "11.0.11+9-LTS"
  },
  "orig_nbformat": 4,
  "vscode": {
   "interpreter": {
    "hash": "217c631b613e36ff4b9cdbe99ee2d03b09d4e7c1f494b32c9aa8f6b180d54c14"
   }
  }
 },
 "nbformat": 4,
 "nbformat_minor": 2
}
