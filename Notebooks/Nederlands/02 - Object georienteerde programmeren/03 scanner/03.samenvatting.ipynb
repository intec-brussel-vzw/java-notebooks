{
 "cells": [
  {
   "cell_type": "markdown",
   "metadata": {},
   "source": [
    "![](https://intecbrussel.be/img/logo3.png)  \n",
    "_Java les-materialen_"
   ]
  },
  {
   "cell_type": "markdown",
   "metadata": {},
   "source": [
    "# Samenvatting en oefeningen\n",
    "\n",
    "Nu hebben we geleerd hoe we een object kunnen maken van een klas en hoe we deze kunnen gebruiken. Bijvoorbeeld: \n",
    "\n",
    "```java\n",
    "\n",
    "Scanner myScanner = new Scanner(System.in);       // Creëert een scanner object\n",
    "System.out.println(\"Enter username \");            // Om de gebruiker te laten weten dat er iets moet gebeuren/ invoeren.\n",
    "\n",
    "String userName = myScanner.nextLine();           // Bij het object dat we hebben aangemaakt roepen we nu een methode aan. Deze leest de gebruikersinvoer.\n",
    "System.out.println(\"Username is: \" + userName);   // drukt de invoer af.\n",
    "\n",
    "```\n",
    "\n",
    "Verder hebben ze nu ook geleerd om een applicatie interactief te maken door invoergegevens te vragen aan een gebruiker. Dit gaan we nu ook uitproberen in de volgende oefeningen:\n"
   ]
  },
  {
   "cell_type": "markdown",
   "metadata": {},
   "source": [
    "### Oefening 1\n",
    "\n",
    "Maak een applicatie die vraagt naar je naam, adres en telefoonnummer en zorg ervoor dat het netjes onder elkaar uitprint. "
   ]
  },
  {
   "cell_type": "code",
   "execution_count": null,
   "metadata": {},
   "outputs": [],
   "source": [
    "// Plaats hier je code voor oefening 1"
   ]
  },
  {
   "cell_type": "markdown",
   "metadata": {},
   "source": [
    "### Oefening 2\n",
    "\n",
    "Maak een applicatie die vraagt naar 2 verschillende `double` nummers. Vergelijk deze nummers met elkaar om te weten welke groter is en print het antwoord uit."
   ]
  },
  {
   "cell_type": "code",
   "execution_count": null,
   "metadata": {},
   "outputs": [],
   "source": [
    "// Plaats hier je code voor oefening 2"
   ]
  },
  {
   "cell_type": "markdown",
   "metadata": {},
   "source": [
    "[Gaan naar het volgende hoofdstuk *Math class*](/Notebooks/Nederlands/02%20-%20Object%20georienteerde%20programmeren/04%20math/04.00-math.ipynb)"
   ]
  }
 ],
 "metadata": {
  "kernelspec": {
   "display_name": "Java",
   "language": "java",
   "name": "java"
  },
  "language_info": {
   "name": "java"
  },
  "orig_nbformat": 4
 },
 "nbformat": 4,
 "nbformat_minor": 2
}
