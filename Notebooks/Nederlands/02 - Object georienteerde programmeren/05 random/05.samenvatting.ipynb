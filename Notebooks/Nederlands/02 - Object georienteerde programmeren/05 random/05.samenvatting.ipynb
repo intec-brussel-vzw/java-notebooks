{
 "cells": [
  {
   "cell_type": "markdown",
   "metadata": {},
   "source": [
    "![](https://intecbrussel.be/img/logo3.png)  \n",
    "_Java les-materialen_"
   ]
  },
  {
   "cell_type": "markdown",
   "metadata": {},
   "source": [
    "# Samenvatting en oefeningen\n",
    "Random klas word gebruikt om willekeurige nummers te genereren. De random klas heeft verschillende methodes om voor verschillende datatypes willekeurige nummers te genereren. Hieronder wul je verschillende voorbeelden zien. \n",
    "\n",
    "Belangrijk om te weten is als je geen waarde toevoegt aan de methode `random.nextInt()` zal het gegenereerde nummer liggen tussen de min en max van dat type. Bij ons voorbeeld willen we een willekeurige int dus zal het nummer tussen *-2147483648* en *2147483647* liggen. Als we dit wel invullen zoals hier word getoond `random.nextInt(50)` zal het nummer gegenereerd worden van 0 tot en met 49. Dat betekend 0 is inclusief en het nummer dat je opgeeft \"50\" is exclusief."
   ]
  },
  {
   "cell_type": "markdown",
   "metadata": {},
   "source": [
    "### Oefening 1\n",
    "\n",
    "Maak een applicatie die 5 verschillende willekeurige integers opvraagt en deze afdrukt op het scherm."
   ]
  },
  {
   "cell_type": "code",
   "execution_count": null,
   "metadata": {},
   "outputs": [],
   "source": [
    "// Plaats hier de code van oefening 1"
   ]
  },
  {
   "cell_type": "markdown",
   "metadata": {},
   "source": [
    "### Oefening 2\n",
    "\n",
    "Maak een applicatie die 6 willekeurige getallen afdrukt tussen de 0 en 45. Net als een Lotto."
   ]
  },
  {
   "cell_type": "code",
   "execution_count": null,
   "metadata": {},
   "outputs": [],
   "source": [
    "// Plaats hier de code van oefening 2\n",
    " "
   ]
  },
  {
   "cell_type": "markdown",
   "metadata": {},
   "source": [
    "### oefening 3 \n",
    "\n",
    "We gaan een hoger lager spel maken. De applicatie moet een random nummer produceren die de gebruiker moet raden. We gaan nu meerdere hoofdstukken samenbrengen om een applicatie te maken.\n",
    "\n",
    "Tip: We hebben een loop nodig, Scanner klas voor het invoeren om te raden welk nummer en natuurlijk de Random klas voor het getal dat we moeten raden."
   ]
  },
  {
   "cell_type": "code",
   "execution_count": null,
   "metadata": {},
   "outputs": [],
   "source": [
    "// Plaats hier de code van oefening 3"
   ]
  },
  {
   "cell_type": "markdown",
   "metadata": {},
   "source": [
    "[Ga naar het volgende hoofdstuk equals methode](/Notebooks/Nederlands/02%20-%20Object%20georienteerde%20programmeren/06%20equals%20methode/06.00%20equals%20methode.ipynb)"
   ]
  }
 ],
 "metadata": {
  "kernelspec": {
   "display_name": "Java",
   "language": "java",
   "name": "java"
  },
  "language_info": {
   "name": "java"
  },
  "orig_nbformat": 4
 },
 "nbformat": 4,
 "nbformat_minor": 2
}
