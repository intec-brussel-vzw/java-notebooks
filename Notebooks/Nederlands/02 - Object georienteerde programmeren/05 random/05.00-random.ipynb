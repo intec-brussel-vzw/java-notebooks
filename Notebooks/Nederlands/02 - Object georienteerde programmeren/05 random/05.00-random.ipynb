{
 "cells": [
  {
   "cell_type": "markdown",
   "metadata": {},
   "source": [
    "![](https://intecbrussel.be/img/logo3.png)  \n",
    "_Java les-materialen_"
   ]
  },
  {
   "cell_type": "markdown",
   "metadata": {},
   "source": [
    "# Random class\n",
    "\n",
    "Random klas word gebruikt om willekeurige nummers te genereren. De random klas heeft verschillende methodes om voor verschillende datatypes willekeurige nummers te genereren. Hieronder wul je verschillende voorbeelden zien. \n",
    "\n",
    "Belangrijk om te weten is als je geen waarde toevoegt aan de methode `random.nextInt()` zal het gegenereerde nummer liggen tussen de min en max van dat type. Bij ons voorbeeld willen we een willekeurige int dus zal het nummer tussen *-2147483648* en *2147483647* liggen. Als we dit wel invullen zoals hier word getoond `random.nextInt(50)` zal het nummer gegenereerd worden van 0 tot en met 49. Dat betekend 0 is inclusief en het nummer dat je opgeeft \"50\" is exclusief."
   ]
  },
  {
   "cell_type": "code",
   "execution_count": null,
   "metadata": {},
   "outputs": [],
   "source": [
    "// Importeren van de Random class\n",
    "import java.util.Random;\n",
    "\n",
    "// creëren van een nieuw object\n",
    "Random random = new Random();\n",
    "\n",
    "// Het genereert een boolean value\n",
    "boolean randomBoolean = random.nextBoolean();\n",
    "System.out.println(randomBoolean);\n",
    "\n",
    "// Het genereert een double value\n",
    "double randomDouble = random.nextDouble();\n",
    "System.out.println(randomDouble);\n",
    "\n",
    "// Het genereert een float value\n",
    "float randomFloat = random.nextFloat();\n",
    "System.out.println(randomFloat);\n",
    "\n",
    "// Het genereert een int value\n",
    "int randomInt = random.nextInt();\n",
    "System.out.println(randomInt);\n",
    "\n",
    "// Het genereert een int value tussen een specifieke waarden.\n",
    "int randomIntBound = random.nextInt(50);\n",
    "System.out.println(randomIntBound);"
   ]
  },
  {
   "cell_type": "markdown",
   "metadata": {},
   "source": [
    "**Dit is extra stof en zal niet in de opleiding voorkomen.**\n",
    "\n",
    "Een object van de random klas zijn niet geschikt voor beveiligingsapplicaties. Als je daar geïnteresseerd in bent kun je beter [java.security.SecureRandom](https://docs.oracle.com/javase/8/docs/api/java/security/SecureRandom.html) doorlezen. "
   ]
  },
  {
   "cell_type": "markdown",
   "metadata": {},
   "source": [
    "[Ga naar samenvatting en oefeningen](/Notebooks/Nederlands/02%20-%20Object%20georienteerde%20programmeren/05%20random/05.samenvatting.ipynb)"
   ]
  }
 ],
 "metadata": {
  "kernelspec": {
   "display_name": "Java",
   "language": "java",
   "name": "java"
  },
  "language_info": {
   "codemirror_mode": "java",
   "file_extension": ".jshell",
   "mimetype": "text/x-java-source",
   "name": "java",
   "pygments_lexer": "java",
   "version": "11.0.11+9-LTS"
  },
  "orig_nbformat": 4,
  "vscode": {
   "interpreter": {
    "hash": "217c631b613e36ff4b9cdbe99ee2d03b09d4e7c1f494b32c9aa8f6b180d54c14"
   }
  }
 },
 "nbformat": 4,
 "nbformat_minor": 2
}
