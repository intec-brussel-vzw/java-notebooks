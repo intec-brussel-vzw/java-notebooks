{
 "cells": [
  {
   "cell_type": "markdown",
   "metadata": {},
   "source": [
    "![](https://intecbrussel.be/img/logo3.png)  \n",
    "_Java les-materialen_"
   ]
  },
  {
   "cell_type": "markdown",
   "metadata": {},
   "source": [
    "# Samenvatting"
   ]
  },
  {
   "cell_type": "markdown",
   "metadata": {},
   "source": [
    "In dit hoofdstuk hebben we leren werken met de String class en zagen we ook het verschil tussen primitive datatypes en objecten op vlak van het geheugen primitive datatypes worden bewaard in de stack objecten gaan we bewaren in de heap, we bewaren enkel een pointer naar ons object in de stack. We zagen ook de meest gebruikte methodes van de String class.\n",
    "\n",
    "Met de volgende oefeningen kan je uw kennis over de string testen."
   ]
  },
  {
   "cell_type": "markdown",
   "metadata": {},
   "source": [
    "# Oefeningen"
   ]
  },
  {
   "cell_type": "markdown",
   "metadata": {},
   "source": [
    "### Oefening 1\n",
    "\n",
    "Ken volgende waarde aan een string toe ```Java Exercises!```, gebruik nu een functie van de String class en druk enkel het volgende woord ```Exercises``` af van de variabele."
   ]
  },
  {
   "cell_type": "code",
   "execution_count": null,
   "metadata": {},
   "outputs": [],
   "source": []
  },
  {
   "cell_type": "markdown",
   "metadata": {},
   "source": [
    "### Oefening 2\n",
    "\n",
    "Maak een string met volgende waarde ```walter, edwin, mike``` controlleer of de naam edwin voorkomt in de string. "
   ]
  },
  {
   "cell_type": "code",
   "execution_count": null,
   "metadata": {},
   "outputs": [],
   "source": []
  },
  {
   "cell_type": "markdown",
   "metadata": {},
   "source": [
    "### Oefening 3\n",
    "\n",
    "Maak een string met de volgende waarde ```hello world``` maak nu een algoritme dat van de huidige waarde het volgende maakt ```HeLlO WoRlD```. Bekijk voor deze oefening zeker de [documentatie](https://docs.oracle.com/en/java/javase/17/docs/api/java.base/java/lang/String.html) van oracle en de vorige hoofdstukken."
   ]
  },
  {
   "cell_type": "code",
   "execution_count": null,
   "metadata": {},
   "outputs": [],
   "source": []
  },
  {
   "cell_type": "markdown",
   "metadata": {},
   "source": [
    "[Ga naar het volgende hoofdstuk stringbuilder.](/Notebooks/Nederlands/02%20-%20Object%20georienteerde%20programmeren/02%20stringbuilder/02.00-stringbuilder.ipynb)"
   ]
  }
 ],
 "metadata": {
  "kernelspec": {
   "display_name": "Python 3.10.6 64-bit (windows store)",
   "language": "python",
   "name": "python3"
  },
  "language_info": {
   "name": "python",
   "version": "3.10.7"
  },
  "orig_nbformat": 4,
  "vscode": {
   "interpreter": {
    "hash": "217c631b613e36ff4b9cdbe99ee2d03b09d4e7c1f494b32c9aa8f6b180d54c14"
   }
  }
 },
 "nbformat": 4,
 "nbformat_minor": 2
}
