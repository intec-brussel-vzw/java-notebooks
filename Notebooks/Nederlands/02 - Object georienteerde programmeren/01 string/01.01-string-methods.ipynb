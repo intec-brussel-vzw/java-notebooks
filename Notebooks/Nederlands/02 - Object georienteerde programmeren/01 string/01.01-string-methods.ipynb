{
 "cells": [
  {
   "cell_type": "markdown",
   "metadata": {},
   "source": [
    "![](https://intecbrussel.be/img/logo3.png)  \n",
    "_Java les-materialen_"
   ]
  },
  {
   "cell_type": "markdown",
   "metadata": {},
   "source": [
    "# String methods"
   ]
  }
 ],
 "metadata": {
  "kernelspec": {
   "display_name": "Python 3.10.6 64-bit (windows store)",
   "language": "python",
   "name": "python3"
  },
  "language_info": {
   "name": "python",
   "version": "3.10.6"
  },
  "orig_nbformat": 4,
  "vscode": {
   "interpreter": {
    "hash": "6b37d82d5803a5e2590946df6dbaaa38f6646f38cc7b4ff419918623f65de815"
   }
  }
 },
 "nbformat": 4,
 "nbformat_minor": 2
}
