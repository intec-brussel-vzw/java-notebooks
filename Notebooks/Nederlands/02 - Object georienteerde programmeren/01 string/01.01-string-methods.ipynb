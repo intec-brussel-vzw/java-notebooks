{
 "cells": [
  {
   "cell_type": "markdown",
   "metadata": {},
   "source": [
    "![](https://intecbrussel.be/img/logo3.png)  \n",
    "_Java les-materialen_"
   ]
  },
  {
   "cell_type": "markdown",
   "metadata": {},
   "source": [
    "# String methods\n",
    "\n",
    "De String class heeft ons een reeks aan handige methodes die we kunnen gebruiken. Hier heb je een overzicht van de belangrijkste methodes maar er zijn er nog veel [meer](https://docs.oracle.com/en/java/javase/17/docs/api/java.base/java/lang/String.html)."
   ]
  },
  {
   "cell_type": "markdown",
   "metadata": {},
   "source": [
    "#### toUpperCase()\n",
    "\n",
    "Met de toUpperCase methode kunnen we op een heel eenvoudige manier de tekst van onze string omzetten naar hoofdletters."
   ]
  },
  {
   "cell_type": "code",
   "execution_count": null,
   "metadata": {},
   "outputs": [],
   "source": [
    "String name = \"my name\";\n",
    "System.out.println(name.toUpperCase());"
   ]
  },
  {
   "cell_type": "markdown",
   "metadata": {},
   "source": [
    "#### toLowerCase()\n",
    "\n",
    "Naast toUpperCase hebben we uiteraard ook de toLowerCase case methode."
   ]
  },
  {
   "cell_type": "code",
   "execution_count": null,
   "metadata": {},
   "outputs": [],
   "source": [
    "String name = \"MY NAME\";\n",
    "System.out.println(name.toLowerCase());"
   ]
  },
  {
   "cell_type": "markdown",
   "metadata": {},
   "source": [
    "#### length()\n",
    "\n",
    "Met de length methode kunnen we de lengte van een string opvragen, hou er rekening mee dat spaties ook meetellen."
   ]
  },
  {
   "cell_type": "code",
   "execution_count": null,
   "metadata": {},
   "outputs": [],
   "source": [
    "String str = \"hello world\";\n",
    "System.out.println(name.str());"
   ]
  }
 ],
 "metadata": {
  "kernelspec": {
   "display_name": "Python 3.10.6 64-bit (windows store)",
   "language": "python",
   "name": "python3"
  },
  "language_info": {
   "name": "python",
   "version": "3.10.6"
  },
  "orig_nbformat": 4,
  "vscode": {
   "interpreter": {
    "hash": "6b37d82d5803a5e2590946df6dbaaa38f6646f38cc7b4ff419918623f65de815"
   }
  }
 },
 "nbformat": 4,
 "nbformat_minor": 2
}
