{
 "cells": [
  {
   "cell_type": "markdown",
   "metadata": {},
   "source": [
    "![](https://intecbrussel.be/img/logo3.png)  \n",
    "_Java les-materialen_"
   ]
  },
  {
   "cell_type": "markdown",
   "metadata": {},
   "source": [
    "# String methods\n",
    "\n",
    "De String class heeft ons een reeks aan handige methodes die we kunnen gebruiken. Hier heb je een overzicht van de belangrijkste methodes maar er zijn er nog veel [meer](https://docs.oracle.com/en/java/javase/17/docs/api/java.base/java/lang/String.html)."
   ]
  },
  {
   "cell_type": "markdown",
   "metadata": {},
   "source": [
    "### toUpperCase()\n",
    "\n",
    "Met de toUpperCase methode kunnen we op een heel eenvoudige manier de tekst van onze string omzetten naar hoofdletters."
   ]
  },
  {
   "cell_type": "code",
   "execution_count": null,
   "metadata": {},
   "outputs": [],
   "source": [
    "String name = \"my name\";\n",
    "System.out.println(name.toUpperCase());"
   ]
  },
  {
   "cell_type": "markdown",
   "metadata": {},
   "source": [
    "### toLowerCase()\n",
    "\n",
    "Naast toUpperCase hebben we uiteraard ook de toLowerCase case methode."
   ]
  },
  {
   "cell_type": "code",
   "execution_count": null,
   "metadata": {},
   "outputs": [],
   "source": [
    "String name = \"MY NAME\";\n",
    "System.out.println(name.toLowerCase());"
   ]
  },
  {
   "cell_type": "markdown",
   "metadata": {},
   "source": [
    "### length()\n",
    "\n",
    "Met de length methode kunnen we de lengte van een string opvragen, hou er rekening mee dat spaties ook meetellen."
   ]
  },
  {
   "cell_type": "code",
   "execution_count": null,
   "metadata": {},
   "outputs": [],
   "source": [
    "String str = \"hello world\";\n",
    "System.out.println(str.length());"
   ]
  },
  {
   "cell_type": "markdown",
   "metadata": {},
   "source": [
    "### isBlank()\n",
    "\n",
    "De isBlank methode zal ons een true teruggeven wanneer de string leeg is of enkel spaties bevat."
   ]
  },
  {
   "cell_type": "code",
   "execution_count": null,
   "metadata": {},
   "outputs": [],
   "source": [
    "String str = \"\";\n",
    "System.out.println(str.isBlank());"
   ]
  },
  {
   "cell_type": "markdown",
   "metadata": {},
   "source": [
    "### replace()\n",
    "\n",
    "Replace met deze methode kunnen we specifieke characters gaan vervangen met een ander character."
   ]
  },
  {
   "cell_type": "code",
   "execution_count": null,
   "metadata": {},
   "outputs": [],
   "source": [
    "String str = \"hello world!\";\n",
    "System.out.println(str.replace('e', 'a'));"
   ]
  },
  {
   "cell_type": "markdown",
   "metadata": {},
   "source": [
    "Wanneer het character meerdere keren voorkomt in de string zullen deze allemaal vervangen worden."
   ]
  },
  {
   "cell_type": "code",
   "execution_count": null,
   "metadata": {},
   "outputs": [],
   "source": [
    "String str = \"hello world!\";\n",
    "System.out.println(str.replace('l', 'L'));"
   ]
  },
  {
   "cell_type": "markdown",
   "metadata": {},
   "source": [
    "### strip()\n",
    "\n",
    "Wanneer we alle spaties vooraan en achteraan een string willen verwijderen kunnen we gebruik maken van de strip methode."
   ]
  },
  {
   "cell_type": "code",
   "execution_count": null,
   "metadata": {},
   "outputs": [],
   "source": [
    "String str = \"   hello world      \";\n",
    "System.out.println(str.strip());"
   ]
  },
  {
   "cell_type": "markdown",
   "metadata": {},
   "source": [
    "### stripLeading()\n",
    "\n",
    "Met de stripLeading methode kunnen we enkel de spaties vooraan een stuk tekst verwijderen."
   ]
  },
  {
   "cell_type": "code",
   "execution_count": null,
   "metadata": {},
   "outputs": [],
   "source": [
    "String str = \"   hello world      \";\n",
    "System.out.println(str.stripLeading());"
   ]
  },
  {
   "cell_type": "markdown",
   "metadata": {},
   "source": [
    "### stripTrailing()\n",
    "\n",
    "Met de stripTrailing methode kunnen we de spaties achteraan een stuk tekst verwijderen."
   ]
  },
  {
   "cell_type": "code",
   "execution_count": null,
   "metadata": {},
   "outputs": [],
   "source": [
    "String str = \"   hello world      \";\n",
    "System.out.println(str.stripTrailing());"
   ]
  },
  {
   "cell_type": "markdown",
   "metadata": {},
   "source": [
    "### indexOf()\n",
    "\n",
    "De indexOf methode kunnen we nagaan op welke plaats een bepaald stukje text staat in de string."
   ]
  },
  {
   "cell_type": "code",
   "execution_count": null,
   "metadata": {},
   "outputs": [],
   "source": [
    "String str = \"hello world\";\n",
    "System.out.println(str.indexOf(\"world\"));"
   ]
  },
  {
   "cell_type": "markdown",
   "metadata": {},
   "source": [
    "### contains()\n",
    "\n",
    "Met de contains methode is het mogelijk om te controleren of een bepaalde stukje tekst terugkomt in de string."
   ]
  },
  {
   "cell_type": "code",
   "execution_count": null,
   "metadata": {},
   "outputs": [],
   "source": [
    "String str = \"hello world\";\n",
    "System.out.println(str.contains(\"world\"));"
   ]
  },
  {
   "cell_type": "markdown",
   "metadata": {},
   "source": [
    "### substring()\n",
    "\n",
    "De substring methode maakt het mogelijk om tekst uit de string te halen van een bepaalde plaats tot aan een andere plaats."
   ]
  },
  {
   "cell_type": "code",
   "execution_count": null,
   "metadata": {},
   "outputs": [],
   "source": [
    "String str = \"hello world\";\n",
    "System.out.println(str.substring(6, 10));"
   ]
  },
  {
   "cell_type": "markdown",
   "metadata": {},
   "source": [
    "[Ga naar samenvatting en oefeningen](/Notebooks/Nederlands/02%20-%20Object%20georienteerde%20programmeren/01%20string/01.samenvatting.ipynb)"
   ]
  }
 ],
 "metadata": {
  "kernelspec": {
   "display_name": "Python 3.10.6 64-bit (windows store)",
   "language": "python",
   "name": "python3"
  },
  "language_info": {
   "name": "python",
   "version": "3.10.6"
  },
  "orig_nbformat": 4,
  "vscode": {
   "interpreter": {
    "hash": "6b37d82d5803a5e2590946df6dbaaa38f6646f38cc7b4ff419918623f65de815"
   }
  }
 },
 "nbformat": 4,
 "nbformat_minor": 2
}
