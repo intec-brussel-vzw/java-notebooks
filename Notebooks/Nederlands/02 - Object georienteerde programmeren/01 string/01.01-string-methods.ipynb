{
 "cells": [
  {
   "cell_type": "markdown",
   "metadata": {},
   "source": [
    "![](https://intecbrussel.be/img/logo3.png)  \n",
    "_Java les-materialen_"
   ]
  },
  {
   "cell_type": "markdown",
   "metadata": {},
   "source": [
    "# String methods\n",
    "\n",
    "De String class heeft ons een reeks aan handige methodes die we kunnen gebruiken. Hier heb je een overzicht van de belangrijkste methodes maar er zijn er nog veel [meer](https://docs.oracle.com/en/java/javase/17/docs/api/java.base/java/lang/String.html)."
   ]
  },
  {
   "cell_type": "markdown",
   "metadata": {},
   "source": [
    "### Method toUpperCase()\n",
    "\n",
    "Met de toUpperCase() methode kunnen we op een heel eenvoudige manier de tekst van onze string omzetten naar hoofdletters."
   ]
  },
  {
   "cell_type": "code",
   "execution_count": null,
   "metadata": {},
   "outputs": [],
   "source": [
    "String name = \"my name\";\n",
    "System.out.println(name.toUpperCase());"
   ]
  },
  {
   "cell_type": "markdown",
   "metadata": {},
   "source": [
    "### Method toLowerCase()\n",
    "\n",
    "Naast toUpperCase() hebben we uiteraard ook de toLowerCase case methode."
   ]
  },
  {
   "cell_type": "code",
   "execution_count": null,
   "metadata": {},
   "outputs": [],
   "source": [
    "String name = \"MY NAME\";\n",
    "System.out.println(name.toLowerCase());"
   ]
  },
  {
   "cell_type": "markdown",
   "metadata": {},
   "source": [
    "### Method length()\n",
    "\n",
    "Met de length() methode kunnen we de lengte van een string opvragen, hou er rekening mee dat spaties ook meetellen."
   ]
  },
  {
   "cell_type": "code",
   "execution_count": null,
   "metadata": {},
   "outputs": [],
   "source": [
    "String str = \"hello world\";\n",
    "System.out.println(str.length());"
   ]
  },
  {
   "cell_type": "markdown",
   "metadata": {},
   "source": [
    "### Method isBlank()\n",
    "\n",
    "De isBlank() methode zal ons een true teruggeven wanneer de string leeg is of enkel spaties bevat."
   ]
  },
  {
   "cell_type": "code",
   "execution_count": null,
   "metadata": {},
   "outputs": [],
   "source": [
    "String str = \"\";\n",
    "System.out.println(str.isBlank());"
   ]
  },
  {
   "cell_type": "markdown",
   "metadata": {},
   "source": [
    "### Method replace()\n",
    "\n",
    "Met de replace() methode kunnen we specifieke characters gaan vervangen met een ander character."
   ]
  },
  {
   "cell_type": "code",
   "execution_count": null,
   "metadata": {},
   "outputs": [],
   "source": [
    "String str = \"hello world!\";\n",
    "System.out.println(str.replace('e', 'a'));"
   ]
  },
  {
   "cell_type": "markdown",
   "metadata": {},
   "source": [
    "Wanneer het character meerdere keren voorkomt in de string zullen deze allemaal vervangen worden."
   ]
  },
  {
   "cell_type": "code",
   "execution_count": null,
   "metadata": {},
   "outputs": [],
   "source": [
    "String str = \"hello world!\";\n",
    "System.out.println(str.replace('l', 'L'));"
   ]
  },
  {
   "cell_type": "markdown",
   "metadata": {},
   "source": [
    "### Method strip()\n",
    "\n",
    "Wanneer we alle spaties vooraan en achteraan een string willen verwijderen kunnen we gebruik maken van de strip methode."
   ]
  },
  {
   "cell_type": "code",
   "execution_count": null,
   "metadata": {},
   "outputs": [],
   "source": [
    "String str = \"   hello world      \";\n",
    "System.out.println(str.strip());"
   ]
  },
  {
   "cell_type": "markdown",
   "metadata": {},
   "source": [
    "### Method stripLeading()\n",
    "\n",
    "Met de stripLeading() methode kunnen we enkel de spaties vooraan een stuk tekst verwijderen."
   ]
  },
  {
   "cell_type": "code",
   "execution_count": null,
   "metadata": {},
   "outputs": [],
   "source": [
    "String str = \"   hello world      \";\n",
    "System.out.println(str.stripLeading());"
   ]
  },
  {
   "cell_type": "markdown",
   "metadata": {},
   "source": [
    "### Method stripTrailing()\n",
    "\n",
    "Met de stripTrailing() methode kunnen we de spaties achteraan een stuk tekst verwijderen."
   ]
  },
  {
   "cell_type": "code",
   "execution_count": null,
   "metadata": {},
   "outputs": [],
   "source": [
    "String str = \"   hello world      \";\n",
    "System.out.println(str.stripTrailing());"
   ]
  },
  {
   "cell_type": "markdown",
   "metadata": {},
   "source": [
    "### Method indexOf()\n",
    "\n",
    "De indexOf() methode kunnen we nagaan op welke plaats een bepaald stukje text staat in de string."
   ]
  },
  {
   "cell_type": "code",
   "execution_count": null,
   "metadata": {},
   "outputs": [],
   "source": [
    "String str = \"hello world\";\n",
    "System.out.println(str.indexOf(\"world\"));"
   ]
  },
  {
   "cell_type": "markdown",
   "metadata": {},
   "source": [
    "### Method contains()\n",
    "\n",
    "Met de contains() methode is het mogelijk om te controleren of een bepaalde stukje tekst terugkomt in de string."
   ]
  },
  {
   "cell_type": "code",
   "execution_count": null,
   "metadata": {},
   "outputs": [],
   "source": [
    "String str = \"hello world\";\n",
    "System.out.println(str.contains(\"world\"));"
   ]
  },
  {
   "cell_type": "markdown",
   "metadata": {},
   "source": [
    "### Method substring()\n",
    "\n",
    "De substring() methode maakt het mogelijk om tekst uit de string te halen van een bepaalde plaats tot aan een andere plaats."
   ]
  },
  {
   "cell_type": "code",
   "execution_count": null,
   "metadata": {},
   "outputs": [],
   "source": [
    "String str = \"hello world\";\n",
    "System.out.println(str.substring(6, 10));"
   ]
  },
  {
   "cell_type": "markdown",
   "metadata": {},
   "source": [
    "[Ga naar samenvatting en oefeningen](/Notebooks/Nederlands/02%20-%20Object%20georienteerde%20programmeren/01%20string/01.samenvatting.ipynb)"
   ]
  }
 ],
 "metadata": {
  "kernelspec": {
   "display_name": "Java",
   "language": "java",
   "name": "java"
  },
  "language_info": {
   "name": "java",
   "version": "3.10.7"
  },
  "orig_nbformat": 4,
  "vscode": {
   "interpreter": {
    "hash": "217c631b613e36ff4b9cdbe99ee2d03b09d4e7c1f494b32c9aa8f6b180d54c14"
   }
  }
 },
 "nbformat": 4,
 "nbformat_minor": 2
}
