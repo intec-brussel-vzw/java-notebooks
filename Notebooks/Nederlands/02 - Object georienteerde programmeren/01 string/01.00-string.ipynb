{
 "cells": [
  {
   "cell_type": "markdown",
   "metadata": {},
   "source": [
    "![](https://intecbrussel.be/img/logo3.png)  \n",
    "_Java les-materialen_"
   ]
  },
  {
   "cell_type": "markdown",
   "metadata": {},
   "source": [
    "# String\n",
    "\n",
    "Strings in java zijn objecten die onderliggend een [array](/Notebooks/Nederlands/03%20-%20Array%20and%20enums/01%201D%20arrays/01.00%20arrays.ipynb) van [char's](/Notebooks/Nederlands/01%20-%20Basisprogrammeren/01%20variables%20datatypes/01.00-variables.ipynb) vormen.\n",
    "Omdat een array niet immutable/onveranderlijk is, is een string dit dus ook niet wanneer we een String aanpassen wordt er een nieuwe gemaakt.\n",
    "\n",
    "![array](./src/string.png)"
   ]
  },
  {
   "cell_type": "markdown",
   "metadata": {},
   "source": [
    "### String declareren en initialiseren\n",
    "\n",
    "In hoofdstuk [variabelen](/Notebooks/Nederlands/01%20-%20Basisprogrammeren/01%20variables%20datatypes/01.00-variables.ipynb) hebben we gezien hoe we variabelen declareren en initialiseren, voor strings is dit bijna gelijk enkel dat ons datatype nu een [klasse](/Notebooks/Nederlands/02%20-%20Object%20georienteerde%20programmeren/09%20classes/09.00%20classes%20maken%20en%20gebruiken.ipynb) is en dus start met een hoofdletter. Deze manier van schrijven noemen we PascalCase."
   ]
  },
  {
   "cell_type": "code",
   "execution_count": null,
   "metadata": {},
   "outputs": [],
   "source": [
    "String name =  \"my name\";\n",
    "\n",
    "System.out.println(name);"
   ]
  },
  {
   "cell_type": "markdown",
   "metadata": {},
   "source": [
    "### Toewijzing string\n",
    "\n",
    "Wanneer we een string definiëren als **literal**, zal het object worden aangemaakt en bewaard in de String constant pool. Dit zorgt ervoor dat JVM de initialisatie kan optimialiseren."
   ]
  },
  {
   "cell_type": "code",
   "execution_count": null,
   "metadata": {},
   "outputs": [],
   "source": [
    "// this is a literal\n",
    "String name =  \"my name\";"
   ]
  },
  {
   "cell_type": "markdown",
   "metadata": {},
   "source": [
    "We kunnen een string ook declareren met de **new** operator dit zal de string dynamisch toewijzen. Wanneer we een string dynamisch toewijzen, wordt de string in de heap bewaard. De karakterreeks wordt dan niet toegevoegd aan de string constant pool."
   ]
  },
  {
   "cell_type": "code",
   "execution_count": 3,
   "metadata": {},
   "outputs": [],
   "source": [
    "String name = new String(\"my name\");"
   ]
  },
  {
   "cell_type": "markdown",
   "metadata": {},
   "source": [
    "### Heap vs Stack (Optionele lesstof)"
   ]
  },
  {
   "cell_type": "markdown",
   "metadata": {},
   "source": [
    "**Belangrijk: Dit onderwerp is goed om te weten maar op dit niveau nog niet het belangrijkste.**\n",
    "\n",
    "Hieronder kan je een voorbeeld zien hoe geheugen werkt in java. In kort werkt het als volgt Primitive data-types worden in de *stack memory* opgeslagen, objecten zoals String en [classes](/Notebooks/Nederlands/02%20-%20Object%20georienteerde%20programmeren/09%20classes/09.00%20classes%20maken%20en%20gebruiken.ipynb) worden in de *heap memory* opgeslagen er wordt dan wel een pointer in de stack bijgehouden die verwijst naar de plaats in de heap.\n",
    "\n",
    "*Voor meer informatie zie de volgende link:*\n",
    "- [Oracle java documentatie](https://docs.oracle.com/javase/specs/jvms/se8/html/jvms-2.html#jvms-2.5.2)\n",
    "\n",
    "![array](./src/Heap-Stack-Memory.png)"
   ]
  },
  {
   "cell_type": "markdown",
   "metadata": {},
   "source": [
    "[Ga naar het volgende deel van String](/Notebooks/Nederlands/02%20-%20Object%20georienteerde%20programmeren/01%20string/01.01-string-methods.ipynb)."
   ]
  }
 ],
 "metadata": {
  "kernelspec": {
   "display_name": "Java",
   "language": "java",
   "name": "java"
  },
  "language_info": {
   "codemirror_mode": "java",
   "file_extension": ".jshell",
   "mimetype": "text/x-java-source",
   "name": "java",
   "pygments_lexer": "java",
   "version": "11.0.11+9-LTS"
  },
  "orig_nbformat": 4,
  "vscode": {
   "interpreter": {
    "hash": "217c631b613e36ff4b9cdbe99ee2d03b09d4e7c1f494b32c9aa8f6b180d54c14"
   }
  }
 },
 "nbformat": 4,
 "nbformat_minor": 2
}
