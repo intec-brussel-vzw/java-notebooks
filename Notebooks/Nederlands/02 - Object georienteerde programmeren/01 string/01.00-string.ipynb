{
 "cells": [
  {
   "cell_type": "markdown",
   "metadata": {},
   "source": [
    "![](https://intecbrussel.be/img/logo3.png)  \n",
    "_Java les-materialen_"
   ]
  },
  {
   "cell_type": "markdown",
   "metadata": {},
   "source": [
    "# String\n",
    "\n",
    "Strings in java zijn objecten die onderliggend een [array]() van [char's](/Notebooks/Nederlands/01%20-%20Basisprogrammeren/01%20variables%20datatypes/01.00-variables.ipynb) vormen.\n",
    "Omdat een array niet immutable/onveranderlijk is, is een string dit dus ook niet wanneer we een String aanpassen wordt er een nieuwe gemaakt.\n",
    "\n",
    "![array](./src/string.png)"
   ]
  },
  {
   "cell_type": "markdown",
   "metadata": {},
   "source": [
    "#### String declareren en initialiseren\n",
    "\n",
    "In hoofdstuk [variabelen](/Notebooks/Nederlands/01%20-%20Basisprogrammeren/01%20variables%20datatypes/01.00-variables.ipynb) hebben we gezien hoe we variabelen declareren en initialiseren, voor strings is dit bijna gelijk enkel dat ons datatype nu een [klasse]() is en dus start met een hoofdletter. "
   ]
  },
  {
   "cell_type": "code",
   "execution_count": null,
   "metadata": {},
   "outputs": [],
   "source": [
    "String name =  \"my name\";\n",
    "\n",
    "System.out.println(name);"
   ]
  }
 ],
 "metadata": {
  "language_info": {
   "name": "python"
  },
  "orig_nbformat": 4
 },
 "nbformat": 4,
 "nbformat_minor": 2
}
