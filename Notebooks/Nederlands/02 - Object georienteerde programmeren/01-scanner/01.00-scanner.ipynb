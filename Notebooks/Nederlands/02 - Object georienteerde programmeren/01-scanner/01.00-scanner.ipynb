{
 "cells": [
  {
   "cell_type": "markdown",
   "metadata": {},
   "source": [
    "![](https://intecbrussel.be/img/logo3.png)  \n",
    "_Java les-materialen_"
   ]
  },
  {
   "cell_type": "markdown",
   "metadata": {},
   "source": [
    "# Scanner class"
   ]
  },
  {
   "cell_type": "markdown",
   "metadata": {},
   "source": [
    "De scanner klas in java word gebruikt om gebruikersinvoer te krijgen. Om de Scanner klas te gebruiken, maakt je een object van de klas en gebruikt je een van de beschikbare methoden. Ook moeten we de klas importeren om deze te kunnen gebruiken. Deze klas kun je vinden in de `java.util` package. Via de import deze import statement kun je de klas importeren:\n",
    "\n",
    "`import java.util.Scanner;`\n",
    "\n",
    "Hieronder vind je een voorbeeld van hoe de scanner klas kunnen gebruiken. In dit voorbeeld gebruiken we de methode `nextLine()` deze methode word gebruikt om invoer te lezen dat voor strings bedoeld is. "
   ]
  },
  {
   "cell_type": "code",
   "execution_count": null,
   "metadata": {
    "vscode": {
     "languageId": "java"
    }
   },
   "outputs": [],
   "source": [
    "import java.util.Scanner;                         // Import the Scanner class\n",
    "\n",
    "Scanner myScanner = new Scanner(System.in);       // Creëert een scanner object\n",
    "System.out.println(\"Enter username \");            // Om de gebruiker te laten weten dat er iets moet gebeuren/ invoeren.\n",
    "\n",
    "String userName = myScanner.nextLine();           // Leest de gebruikersinvoer.\n",
    "System.out.println(\"Username is: \" + userName);   // drukt de invoer af."
   ]
  },
  {
   "cell_type": "markdown",
   "metadata": {},
   "source": [
    "### input types\n",
    "\n",
    "In het vorige voorbeeld hebben we de `nextLine()` methode gebruikt. Dit is om Strings te kunnen lezen, om de andere datatypes te kunnen lezen hebben we andere methodes nodig. Zie de tabel hieronder.\n",
    "\n",
    "| Methode | Omschrijving |\n",
    "| --- | --- |\n",
    "| `nextBoolean()` | Leest een `boolean` value van de gebruiker |\n",
    "| `nextByte()` | Leest een `byte` value van de gebruiker |\n",
    "| `nextDouble()` | Leest een `double` value van de gebruiker |\n",
    "| `nextFloat()` | Leest een `float` value van de gebruiker |\n",
    "| `nextInt()` | Leest een `int` value van de gebruiker |\n",
    "| `nextLine()` | Leest een `String` value van de gebruiker |\n",
    "| `nextLong()` | Leest een `long` value van de gebruiker |\n",
    "| `nextShort()` | Leest een `short` value van de gebruiker |\n",
    "\n",
    "\n",
    "Hieronder vind je voorbeelden voor verschillende datatypes in te voeren.\n"
   ]
  },
  {
   "cell_type": "code",
   "execution_count": null,
   "metadata": {
    "vscode": {
     "languageId": "java"
    }
   },
   "outputs": [],
   "source": [
    "Scanner myScanner = new Scanner(System.in);  \n",
    "\n",
    "System.out.println(\"Enter name: \");\n",
    "\n",
    "// String input\n",
    "String name = myScanner.nextLine();\n",
    "\n",
    "System.out.println(\"Enter age: \");\n",
    "System.out.println(\"Enter salary: \");\n",
    "\n",
    "// Numerical input\n",
    "int age = myScanner.nextInt();\n",
    "double salary = myScanner.nextDouble();\n",
    "\n",
    "System.out.println(\"Name: \" + name);\n",
    "System.out.println(\"Age: \" + age);\n",
    "System.out.println(\"Salary: \" + salary);"
   ]
  },
  {
   "cell_type": "markdown",
   "metadata": {},
   "source": [
    "De volgende methodes kunnen ook handig zijn om te weten: \n",
    "\n",
    "Zoals de methode `hasNext()`deze methode retourneert `true` als de scanner nog een invoer heeft. Het is ook mogelijk om de invoer specifiek te controleren op een bepaalde datatype door `hasNextXXX()` deze methode retourneert `true` als de scanner een specifieke invoer heeft.\n",
    "\n",
    "bijvoorbeeld:\n",
    "`hasNextInt()` zal `true` retourneren als er nog een int is ingevoerd."
   ]
  },
  {
   "cell_type": "markdown",
   "metadata": {},
   "source": [
    "### Bij een verkeerde invoer\n",
    "\n",
    "Als er een verkeerde invoer word gedaan door de gebruiker stopt de applicatie. Dit komt omdat er iets gebeurt waar het programma niet op gerekend heeft. bijvoorbeeld hieronder hebben we een applicatie die vraagt om een double. Stel je voor dat je daar een String in plaatst, dit verwacht de applicatie niet en laat je dan weten dat je een verkeerde datatype invoert. \n",
    "\n",
    "We krijgen dan een *exception* om precies te zijn een `InputMismatchException`. **Later in het boek komen we hier op terug en leggen we dit ook in diepte uit.** maar dit geeft aan dat de input niet matcht met de verwachte invoer.\n",
    "\n",
    "Probeer het maar uit en kijk wat er gebeurt."
   ]
  },
  {
   "cell_type": "code",
   "execution_count": null,
   "metadata": {
    "vscode": {
     "languageId": "java"
    }
   },
   "outputs": [],
   "source": [
    "Scanner myScanner = new Scanner(System.in);  \n",
    "\n",
    "System.out.println(\"Enter double: \");\n",
    "\n",
    "Double num = myScanner.nextDouble();\n",
    "\n",
    "System.out.println(num);"
   ]
  }
 ],
 "metadata": {
  "kernelspec": {
   "display_name": "Java",
   "language": "java",
   "name": "java"
  },
  "language_info": {
   "codemirror_mode": "java",
   "file_extension": ".jshell",
   "mimetype": "text/x-java-source",
   "name": "Java",
   "pygments_lexer": "java",
   "version": "11.0.11+9-LTS"
  },
  "orig_nbformat": 4,
  "vscode": {
   "interpreter": {
    "hash": "217c631b613e36ff4b9cdbe99ee2d03b09d4e7c1f494b32c9aa8f6b180d54c14"
   }
  }
 },
 "nbformat": 4,
 "nbformat_minor": 2
}
