{
 "cells": [
  {
   "cell_type": "markdown",
   "metadata": {},
   "source": [
    "![](https://intecbrussel.be/img/logo3.png)  \n",
    "_Java les-materialen_"
   ]
  },
  {
   "cell_type": "markdown",
   "metadata": {},
   "source": [
    "# Access modifiers"
   ]
  },
  {
   "cell_type": "markdown",
   "metadata": {},
   "source": [
    "Een access modifier is een keyword dat we gebruiken om de toegangsniveau van een klas, properties, methodes of constructors aan te geven. \n",
    "\n",
    "Hieronder vind je de access modifiers die er zijn:"
   ]
  },
  {
   "cell_type": "markdown",
   "metadata": {},
   "source": [
    "Hier worden de 4 access modifiers weergegeven op volgorde met de meeste beperkingen.\n",
    "\n",
    "| modifier | beschrijving |\n",
    "|---|---|\n",
    "| Private | Toegankelijk binnen de klassen waar deze gedefinieerd is. Niet toegankelijk van buiten uit de klas|\n",
    "| Default | Alleen toegankelijk binnenin de package. Wanneer er geen access modifiers is opgegeven is dit de standaard |\n",
    "| Protected | Alleen toegankelijk voor klassen binnen het huidige pakket en buiten de package door subclasses |\n",
    "| Public | Overal toegankelijk, vanuit elke klas, package of buiten de package|\n",
    "\n",
    "Maar klassen en interfaces kunnen slechts 2 access modifiers gebruiken als ze buiten een andere klas worden gedeclareerd. Dit zijn de `public` en de `default` access modifiers.\n",
    "\n",
    "**Opmerking**: geneste interfaces en klassen kunnen alle access modifiers hebben."
   ]
  },
  {
   "cell_type": "markdown",
   "metadata": {},
   "source": [
    "Hier heb je een tabel om het overzichtelijk te maken wat welke access modifier doet:\n",
    "\n",
    "| Access Modifier | Binnen de klas | Binnen de package | Buiten de package bij alleen subclasses | Buiten de package |\n",
    "| --- | --- | --- | --- | --- |\n",
    "| **Private** | Y | N | N | N |\n",
    "| **Default** | Y | Y | N | N |\n",
    "| **Protected** | Y | Y | Y | N |\n",
    "| **Public** | Y | Y | Y | Y |\n"
   ]
  },
  {
   "cell_type": "markdown",
   "metadata": {},
   "source": [
    "### Access modifiers\n",
    "\n",
    "Hieronder vind je een voorbeeld van hoe we access modifiers kunnen gebruiken. Het beste is wel om dit uit te proberen in je eigen Idea zoals bijvoorbeeld Intellij. Dan heb je meer controle en bereik om dit goed in praktijk te proberen."
   ]
  },
  {
   "cell_type": "markdown",
   "metadata": {},
   "source": [
    "```java \n",
    "package be.intecbrussel;\n",
    "\n",
    "public class Rectangle {\n",
    "\n",
    "    // Properties van de rectangle class\n",
    "    private double length;\n",
    "    private double width;\n",
    "\n",
    "    // No-args constructor die op privé staat.\n",
    "    private Rectangle() {\n",
    "\n",
    "    }\n",
    "\n",
    "    // All-args constructor die op public staat.\n",
    "    public Rectangle(double length, double width) {\n",
    "\n",
    "        this.length = length;\n",
    "        this.width = width;\n",
    "\n",
    "    }\n",
    "\n",
    "    // Hier komen de getters en setters van de properties\n",
    "\n",
    "}\n",
    "\n",
    "```"
   ]
  },
  {
   "cell_type": "markdown",
   "metadata": {},
   "source": [
    "```java\n",
    "package be.intecbrussel;\n",
    "\n",
    "public class MainApp {\n",
    "\n",
    "\n",
    "    public static void main(String[] args) {\n",
    "\n",
    "        // Geen toegang doordat het een private constructor is.\n",
    "        // Rectangle rectangle01 = new Rectangle();\n",
    "\n",
    "        // Wel toegang doordat het een public constructor is.\n",
    "        Rectangle rectangle02 = new Rectangle(2,5);\n",
    "\n",
    "    }\n",
    "\n",
    "}\n",
    "``` "
   ]
  },
  {
   "cell_type": "markdown",
   "metadata": {},
   "source": [
    "Er zijn ook nog non-access modifiers zoals `static, abstract, synchronized, native, volatile, transient, enz`. Deze gaan we verder in het boek behandelen."
   ]
  },
  {
   "cell_type": "markdown",
   "metadata": {},
   "source": [
    "[Ga naar het volgende deel van classes](/Notebooks/Nederlands/02%20-%20Object%20georienteerde%20programmeren/09%20classes/09.05%20methods%20en%20overloading%20.ipynb)"
   ]
  }
 ],
 "metadata": {
  "kernelspec": {
   "display_name": "Java",
   "language": "java",
   "name": "java"
  },
  "language_info": {
   "codemirror_mode": "java",
   "file_extension": ".jshell",
   "mimetype": "text/x-java-source",
   "name": "java",
   "pygments_lexer": "java",
   "version": "11.0.11+9-LTS"
  },
  "orig_nbformat": 4,
  "vscode": {
   "interpreter": {
    "hash": "217c631b613e36ff4b9cdbe99ee2d03b09d4e7c1f494b32c9aa8f6b180d54c14"
   }
  }
 },
 "nbformat": 4,
 "nbformat_minor": 2
}
