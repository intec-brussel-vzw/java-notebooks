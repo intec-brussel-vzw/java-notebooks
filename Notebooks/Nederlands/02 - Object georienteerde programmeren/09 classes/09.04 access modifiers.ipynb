{
 "cells": [
  {
   "cell_type": "markdown",
   "metadata": {},
   "source": [
    "![](https://intecbrussel.be/img/logo3.png)  \n",
    "_Java les-materialen_"
   ]
  },
  {
   "cell_type": "markdown",
   "metadata": {},
   "source": [
    "# Access modifiers"
   ]
  },
  {
   "cell_type": "markdown",
   "metadata": {},
   "source": [
    "Een access modifier is een keyword dat we gebruiken om de toegangsniveau van een klas, properties, methodes of constructors aan te geven. \n",
    "\n",
    "Hieronder vind je de access modifiers die er zijn:"
   ]
  },
  {
   "cell_type": "markdown",
   "metadata": {},
   "source": [
    "Hier worden de 4 access modifiers weergegeven op volgorde met de meeste beperkingen.\n",
    "\n",
    "| modifier | beschrijving |\n",
    "|---|---|\n",
    "| Private | Toegankelijk binnen de klassen waar deze gedefinieerd is. Niet toegankelijk van buiten uit de klas|\n",
    "| Default | Alleen toegankelijk binnenin de package. Wanneer er geen access modifiers is opgegeven is dit de standaard |\n",
    "| Protected | Alleen toegankelijk voor klassen binnen het huidige pakket en buiten de package door subclasses |\n",
    "| Public | Overal toegankelijk, vanuit elke klas, package of buiten de package|\n",
    "\n",
    "Maar klassen en interfaces kunnen slechts 2 access modifiers gebruiken als ze buiten een andere klas worden gedeclareerd. Dit zijn de `public` en de `default` access modifiers.\n",
    "\n",
    "**Opmerking**: geneste interfaces en klassen kunnen alle access modifiers hebben."
   ]
  },
  {
   "cell_type": "markdown",
   "metadata": {},
   "source": [
    "Hier heb je een tabel om het overzichtelijk te maken wat welke access modifier doet:\n",
    "\n",
    "| Access Modifier | Binnen de klas | Binnen de package | Buiten de package bij alleen subclasses | Buiten de package |\n",
    "| --- | --- | --- | --- | --- |\n",
    "| **Private** | Y | N | N | N |\n",
    "| **Default** | Y | Y | N | N |\n",
    "| **Protected** | Y | Y | Y | N |\n",
    "| **Public** | Y | Y | Y | Y |\n"
   ]
  },
  {
   "cell_type": "markdown",
   "metadata": {},
   "source": [
    "### Access modifiers\n",
    "\n",
    "Hieronder vind je een voorbeeld van hoe we access modifiers kunnen gebruiken. Het beste is wel om dit uit te proberen in je eigen Idea zoals bijvoorbeeld Intellij. Dan heb je meer controle en bereik om dit goed in praktijk te proberen."
   ]
  },
  {
   "cell_type": "code",
   "execution_count": null,
   "metadata": {},
   "outputs": [],
   "source": [
    "class A {  \n",
    "    // private properties\n",
    "    private int data = 40;\n",
    "\n",
    "    //private constructor  \n",
    "    private A(){}\n",
    "\n",
    "    // private method\n",
    "    private void message() {\n",
    "\n",
    "        System.out.println(\"Hello java\");\n",
    "    }  \n",
    "    \n",
    "}  \n",
    "\n",
    "public class SimpleMessage{  \n",
    "\n",
    "    public static void main(String args[]) {  \n",
    "\n",
    "       A myObject = new A();  \n",
    "        \n",
    "       System.out.println(myObject.data);   \n",
    "        \n",
    "       myObject.message(); \n",
    "\n",
    "       }  \n",
    "\n",
    "    } \n",
    "\n",
    "\n",
    "    /*\n",
    "Als we dit programma laten lopen krijgen we deze foutmelding. \n",
    "\n",
    "|          A myObject = new A();  \n",
    "A() has private access in A\n",
    "\n",
    "|          System.out.println(myObject.data);   \n",
    "data has private access in A\n",
    "\n",
    "|          myObject.message(); \n",
    "message() has private access in A\n",
    "\n",
    "*/"
   ]
  },
  {
   "cell_type": "markdown",
   "metadata": {},
   "source": [
    "Er zijn ook nog non-access modifiers zoals `static, abstract, synchronized, native, volatile, transient, enz`. Deze gaan we verder in het boek behandelen."
   ]
  },
  {
   "cell_type": "markdown",
   "metadata": {},
   "source": [
    "[Ga naar het volgende deel van classes](/Notebooks/Nederlands/02%20-%20Object%20georienteerde%20programmeren/09%20classes/09.05%20methods%20en%20overloading%20.ipynb)"
   ]
  }
 ],
 "metadata": {
  "kernelspec": {
   "display_name": "Java",
   "language": "java",
   "name": "java"
  },
  "language_info": {
   "codemirror_mode": "java",
   "file_extension": ".jshell",
   "mimetype": "text/x-java-source",
   "name": "java",
   "pygments_lexer": "java",
   "version": "11.0.11+9-LTS"
  },
  "orig_nbformat": 4,
  "vscode": {
   "interpreter": {
    "hash": "217c631b613e36ff4b9cdbe99ee2d03b09d4e7c1f494b32c9aa8f6b180d54c14"
   }
  }
 },
 "nbformat": 4,
 "nbformat_minor": 2
}
