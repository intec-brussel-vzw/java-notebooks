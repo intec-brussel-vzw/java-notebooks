{
 "cells": [
  {
   "cell_type": "markdown",
   "metadata": {},
   "source": [
    "![](https://intecbrussel.be/img/logo3.png)  \n",
    "_Java les-materialen_"
   ]
  },
  {
   "cell_type": "markdown",
   "metadata": {},
   "source": [
    "# Properties"
   ]
  },
  {
   "cell_type": "markdown",
   "metadata": {},
   "source": [
    "\n",
    "Een property is een manier om een variabele te specificeren. Hieronder zie je een tabel over de verschillende manieren:\n",
    "\n",
    "| Benaming | Omschrijving |\n",
    "|---|---|\n",
    "| Variable | Een variable is een naam die word gegeven aan een memory locatie. Dit is een basis manier van opslag in een programma. De waarde kan altijd aangepast worden |\n",
    "| Field | Een field is een member van een class tenzij anders vermeld. Een field kan public, static, not static and final. |\n",
    "| Attribute | Attribute is een andere naam voor een field. Het is normaal met een access modifier \"public\" waar we direct toegang tot hebben. |\n",
    "| Property | Als we het hebben over een property, spreken we over een field die is voorzien van een getter en setter methode. Normaal is deze dan ook \"private\" |\n",
    "\n",
    "\n",
    "Hieronder hebben een voorbeeld:"
   ]
  },
  {
   "cell_type": "code",
   "execution_count": null,
   "metadata": {},
   "outputs": [],
   "source": [
    "public class Test {\n",
    "\n",
    "    // Property\n",
    "    private int number;\n",
    " \n",
    "    // Getter van de property\n",
    "    public int getNumber(){\n",
    "\n",
    "        return this.number;\n",
    "        \n",
    "    }\n",
    "    \n",
    "    // Setter van de property\n",
    "    public void setNumber(int num){\n",
    "\n",
    "        this.number = num;\n",
    "\n",
    "    }\n",
    "\n",
    "}"
   ]
  },
  {
   "cell_type": "markdown",
   "metadata": {},
   "source": [
    "[Ga naar het vervolg van classes](/Notebooks/Nederlands/02%20-%20Object%20georienteerde%20programmeren/09%20classes/09.02%20constructor%20and%20overloading.ipynb)"
   ]
  }
 ],
 "metadata": {
  "kernelspec": {
   "display_name": "Java",
   "language": "java",
   "name": "java"
  },
  "language_info": {
   "name": "java",
   "version": "3.10.6"
  },
  "orig_nbformat": 4,
  "vscode": {
   "interpreter": {
    "hash": "217c631b613e36ff4b9cdbe99ee2d03b09d4e7c1f494b32c9aa8f6b180d54c14"
   }
  }
 },
 "nbformat": 4,
 "nbformat_minor": 2
}
