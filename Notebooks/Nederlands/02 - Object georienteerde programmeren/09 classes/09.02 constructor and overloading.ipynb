{
 "cells": [
  {
   "cell_type": "markdown",
   "metadata": {},
   "source": [
    "![](https://intecbrussel.be/img/logo3.png)  \n",
    "_Java les-materialen_"
   ]
  },
  {
   "cell_type": "markdown",
   "metadata": {},
   "source": [
    "# Constructor and overloading"
   ]
  },
  {
   "cell_type": "markdown",
   "metadata": {},
   "source": [
    "### Constructor\n",
    "\n",
    "Een constructor in Java is een *speciale methode* die wordt gebruikt om objecten te initialiseren. De constructor wordt aangeroepen wanneer een object van een klasse gemaakt moet worden. Het kan worden gebruikt om begin waarden voor objectattributen in te stellen.\n",
    "\n",
    "Elke keer als we de keyword `new()` gebruiken dan word de constructor aangeroepen om een nieuw object aan te maken. \n",
    "\n",
    "Dit zijn de soorten constructors die we in Java hebben:\n",
    "- Default constructor: Een default constructor word automatisch gegenereerd als er geen constructor is gecreëerd door de programmeur. \n",
    "- No-arg constructor: Dit is een constructor zonder parameters.\n",
    "- Parameterized constructor: Deze constructor krijgt parameter mee. "
   ]
  },
  {
   "cell_type": "markdown",
   "metadata": {},
   "source": [
    "### Belangrijk\n",
    "\n",
    "- De constructor naam moet exact gelijk zijn aan de naam van de class.\n",
    "- Een constructor heeft geen return type zoals bijvoorbeeld `void`. \n",
    "- Alle klassen hebben een default constructor. Als je zelf geen constructor creëert, doet java dit voor jou. De constructor die dan word gecreëerd heeft geen beginwaarden."
   ]
  },
  {
   "cell_type": "markdown",
   "metadata": {},
   "source": [
    "Hieronder zie je een opbouw van een class met een no-arg constructor:"
   ]
  },
  {
   "cell_type": "markdown",
   "metadata": {},
   "source": [
    "```java\n",
    "package be.intecbrussel;\n",
    "\n",
    "public class Rectangle {\n",
    "    \n",
    "    // Properties van de rectangle class\n",
    "    private double length;\n",
    "    private double width;\n",
    "\n",
    "    // No-args constructor\n",
    "    public Rectangle() {\n",
    "    }\n",
    "\n",
    "    // Hier komen de getters en setters van de properties\n",
    "    \n",
    "}\n",
    "\n",
    "```"
   ]
  },
  {
   "cell_type": "markdown",
   "metadata": {},
   "source": [
    "Hieronder zie je een constructor met parameters:"
   ]
  },
  {
   "cell_type": "markdown",
   "metadata": {},
   "source": [
    "```java\n",
    "\n",
    "package be.intecbrussel;\n",
    "\n",
    "public class Rectangle {\n",
    "\n",
    "    // Properties van de rectangle class\n",
    "    private double length;\n",
    "    private double width;\n",
    "\n",
    "    // Constructor met parameters\n",
    "    public Rectangle(double length, double width) {\n",
    "        this.length = length;\n",
    "        this.width = width;\n",
    "    }\n",
    "\n",
    "    // Hier komen de getters en setters van de properties\n",
    "\n",
    "}\n",
    "\n",
    "```"
   ]
  },
  {
   "cell_type": "markdown",
   "metadata": {},
   "source": [
    "### Overloading\n",
    "\n"
   ]
  },
  {
   "cell_type": "markdown",
   "metadata": {},
   "source": [
    "Een constructor in java is net als een methode maar dan zonder return type. Dat betekend dat we op een constructor overloading kunnen toepassen.\n",
    "\n",
    "**Wat is overloading?**\n",
    "\n",
    "Constructor overloading is een techniek in Java om meer dan een constructor te hebben met verschillende parameters. Ze zijn zo gerangschikt dat elke constructeur een andere taak uitvoert. Er word door de compiler onderscheid gemaakt door het aantal parameters in de lijst.\n",
    "\n",
    "Voorbeeld van constructor overloading vind je hieronder:"
   ]
  },
  {
   "cell_type": "markdown",
   "metadata": {},
   "source": [
    "```java\n",
    "package be.intecbrussel;\n",
    "\n",
    "public class Rectangle {\n",
    "\n",
    "    // Properties van de rectangle class\n",
    "    private double length;\n",
    "    private double width;\n",
    "\n",
    "    // No-args constructor\n",
    "    public Rectangle() {\n",
    "    }\n",
    "\n",
    "    // Constructor met 1 parameter\n",
    "    public Rectangle(double length) {\n",
    "        \n",
    "        this.length = length;\n",
    "        \n",
    "    }\n",
    "\n",
    "    // All-args constructor\n",
    "    public Rectangle(double length, double width) {\n",
    "        \n",
    "        this.length = length;\n",
    "        this.width = width;\n",
    "        \n",
    "    }\n",
    "\n",
    "    // Hier komen de getters en setters van de properties\n",
    "\n",
    "}\n",
    "\n",
    "```"
   ]
  },
  {
   "cell_type": "markdown",
   "metadata": {},
   "source": [
    "[Ga naar het volgende deel van classes ](/Notebooks/Nederlands/02%20-%20Object%20georienteerde%20programmeren/09%20classes/09.03%20this%20keyword.ipynb)"
   ]
  }
 ],
 "metadata": {
  "kernelspec": {
   "display_name": "Java",
   "language": "java",
   "name": "java"
  },
  "language_info": {
   "codemirror_mode": "java",
   "file_extension": ".jshell",
   "mimetype": "text/x-java-source",
   "name": "java",
   "pygments_lexer": "java",
   "version": "11.0.11+9-LTS"
  },
  "orig_nbformat": 4,
  "vscode": {
   "interpreter": {
    "hash": "217c631b613e36ff4b9cdbe99ee2d03b09d4e7c1f494b32c9aa8f6b180d54c14"
   }
  }
 },
 "nbformat": 4,
 "nbformat_minor": 2
}
