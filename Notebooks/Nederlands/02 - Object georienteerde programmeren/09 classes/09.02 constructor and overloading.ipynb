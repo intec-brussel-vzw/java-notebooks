{
 "cells": [
  {
   "cell_type": "markdown",
   "metadata": {},
   "source": [
    "![](https://intecbrussel.be/img/logo3.png)  \n",
    "_Java les-materialen_"
   ]
  },
  {
   "cell_type": "markdown",
   "metadata": {},
   "source": [
    "# Constructor and overloading"
   ]
  },
  {
   "cell_type": "markdown",
   "metadata": {},
   "source": [
    "### Constructor\n",
    "\n",
    "Een constructor in Java is een *speciale methode* die wordt gebruikt om objecten te initialiseren. De constructor wordt aangeroepen wanneer een object van een klasse gemaakt moet worden. Het kan worden gebruikt om begin waarden voor objectattributen in te stellen.\n",
    "\n",
    "Elke keer als we de keyword `new()` gebruiken dan word de constructor aangeroepen om een nieuw object aan te maken. \n",
    "\n",
    "Dit zijn de soorten constructors die we in Java hebben:\n",
    "- Default constructor: Een default constructor word automatisch gegenereerd als er geen constructor is gecreëerd door de programmeur. \n",
    "- No-arg constructor: Dit is een constructor zonder parameters.\n",
    "- Parameterized constructor: Deze constructor krijgt parameter mee. "
   ]
  },
  {
   "cell_type": "markdown",
   "metadata": {},
   "source": [
    "### Belangrijk\n",
    "\n",
    "- De constructor naam moet exact gelijk zijn aan de naam van de class.\n",
    "- Een constructor heeft geen return type zoals bijvoorbeeld `void`. \n",
    "- Alle klassen hebben een default constructor. Als je zelf geen constructor creëert, doet java dit voor jou. De constructor die dan word gecreëerd heeft geen beginwaarden."
   ]
  },
  {
   "cell_type": "markdown",
   "metadata": {},
   "source": [
    "Hieronder zie je een opbouw van een class met een no-arg constructor en een constructor met parameters:"
   ]
  },
  {
   "cell_type": "markdown",
   "metadata": {},
   "source": [
    "```java\n",
    "package be.intecbrussel;\n",
    "\n",
    "// Programma om een default constructor op te roepen\n",
    "public class Fiets {\n",
    "\n",
    "    // Creëren van een default constructor\n",
    "    public Fiets() {\n",
    "\n",
    "        System.out.println(\"Fiets is gecreëerd\");\n",
    "\n",
    "    }\n",
    "\n",
    "    public static void main(String args[]) {\n",
    "\n",
    "        // Default constructor oproepen\n",
    "        Fiets myFiets = new Fiets();\n",
    "        \n",
    "\n",
    "    }\n",
    "\n",
    "}\n",
    "\n",
    "```"
   ]
  },
  {
   "cell_type": "code",
   "execution_count": 4,
   "metadata": {
    "vscode": {
     "languageId": "java"
    }
   },
   "outputs": [],
   "source": [
    "\n",
    "// Program om een parametrized constructor op te roepen \n",
    "public class Calculate {  \n",
    "     \n",
    "    // Properties \n",
    "    private int number01;  \n",
    "    private int number02;  \n",
    "   \n",
    "    // Creëert constructor \n",
    "    public Calculate (int number01, int number02) {  \n",
    "\n",
    "       this.number01 = number01;  \n",
    "       this.number02 = number02;  \n",
    "\n",
    "    }  \n",
    "   \n",
    "    // methode om add numbers\n",
    "    public int add () {  \n",
    "\n",
    "       int result = number01 + number02;  \n",
    "       return result;  \n",
    "\n",
    "    }  \n",
    "   \n",
    "\n",
    "    public static void main(String[] args) {  \n",
    "\n",
    "       // creating object of Class  \n",
    "       Calculate myCalculator = new Calculate(45, 4);  \n",
    "         \n",
    "       // calling the methods of Calculate class  \n",
    "       System.out.println(\"Addition is :\" + myCalculator.add());  \n",
    "\n",
    "    }  \n",
    "\n",
    "}"
   ]
  },
  {
   "cell_type": "markdown",
   "metadata": {},
   "source": [
    "### Overloading\n",
    "\n"
   ]
  },
  {
   "cell_type": "markdown",
   "metadata": {},
   "source": [
    "Een constructor in java is net als een methode maar dan zonder return type. Dat betekend dat we op een constructor overloading kunnen toepassen.\\\n",
    "\n",
    "**Wat is overloading?**\n",
    "\n",
    "Constructor overloading is een techniek in Java om meer dan een constructor te hebben met verschillende parameters. Ze zijn zo gerangschikt dat elke constructeur een andere taak uitvoert. Er word door de compiler onderscheid gemaakt door het aantal parameters in de lijst.\n",
    "\n",
    "Voorbeeld van constructor overloading vind je hieronder:"
   ]
  },
  {
   "cell_type": "code",
   "execution_count": 5,
   "metadata": {
    "vscode": {
     "languageId": "java"
    }
   },
   "outputs": [],
   "source": [
    "\n",
    "class StudentData {\n",
    "\n",
    "    private int studentId;\n",
    "    private String studentName;\n",
    "\n",
    "    // no-arg constructor\n",
    "    public StudentData() {\n",
    "\n",
    "   }\n",
    "\n",
    "    // Parameterized constructor some parameters\n",
    "    public StudentData(String studentName) {\n",
    "\n",
    "        this.stuName = studentName;\n",
    "\n",
    "    }\n",
    "\n",
    "    // Parameterized constructor alle arg constructor\n",
    "    public StudentData(int studentId, String studentName) {\n",
    "\n",
    "        this.studentId = studentId;\n",
    "        this.studentName = studentName;\n",
    "\n",
    "   }\n",
    "\n",
    "}"
   ]
  },
  {
   "cell_type": "markdown",
   "metadata": {},
   "source": [
    "[Ga naar het volgende deel van classes ](/Notebooks/Nederlands/02%20-%20Object%20georienteerde%20programmeren/09%20classes/09.03%20this%20keyword.ipynb)"
   ]
  }
 ],
 "metadata": {
  "kernelspec": {
   "display_name": "Java",
   "language": "java",
   "name": "java"
  },
  "language_info": {
   "codemirror_mode": "java",
   "file_extension": ".jshell",
   "mimetype": "text/x-java-source",
   "name": "Java",
   "pygments_lexer": "java",
   "version": "11.0.11+9-LTS"
  },
  "orig_nbformat": 4,
  "vscode": {
   "interpreter": {
    "hash": "217c631b613e36ff4b9cdbe99ee2d03b09d4e7c1f494b32c9aa8f6b180d54c14"
   }
  }
 },
 "nbformat": 4,
 "nbformat_minor": 2
}
