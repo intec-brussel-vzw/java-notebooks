{
 "cells": [
  {
   "cell_type": "markdown",
   "metadata": {},
   "source": [
    "![](https://intecbrussel.be/img/logo3.png)  \n",
    "_Java les-materialen_"
   ]
  },
  {
   "cell_type": "markdown",
   "metadata": {},
   "source": [
    "# This keyword"
   ]
  },
  {
   "cell_type": "markdown",
   "metadata": {},
   "source": [
    "\n",
    "### De `this` keyword gebruiken met fields\n",
    "\n",
    "Het `this` keyword verwijst naar het huidige object in een methode of constructor. Het word meestal gebruik om de verwarring tussen class fields en parameters met dezelfde naam te vermijden.\n",
    "\n",
    "Zie hieronder het voorbeeld:"
   ]
  },
  {
   "cell_type": "markdown",
   "metadata": {},
   "source": [
    "```java\n",
    "package be.intecbrussel;\n",
    "\n",
    "public class Rectangle {\n",
    "\n",
    "    // Properties van de rectangle class\n",
    "    private double length;\n",
    "    private double width;\n",
    "\n",
    "\n",
    "    // All-args constructor\n",
    "    public Rectangle(double length, double width) {\n",
    "\n",
    "        length = length;\n",
    "        width = width;\n",
    "\n",
    "    }\n",
    "\n",
    "    // Hier komen de getters en setters van de properties\n",
    "\n",
    "}\n",
    "\n",
    "```"
   ]
  },
  {
   "cell_type": "markdown",
   "metadata": {},
   "source": [
    "```java\n",
    "\n",
    "package be.intecbrussel;\n",
    "\n",
    "public class Rectangle {\n",
    "\n",
    "    // Properties van de rectangle class\n",
    "    private double length;\n",
    "    private double width;\n",
    "\n",
    "\n",
    "    // All-args constructor\n",
    "    public Rectangle(double length, double width) {\n",
    "        this.length = length;\n",
    "        this.width = width;\n",
    "    }\n",
    "\n",
    "\n",
    "    // Hier komen de getters en setters van de properties\n",
    "\n",
    "}\n",
    "\n",
    "\n",
    "```"
   ]
  },
  {
   "cell_type": "markdown",
   "metadata": {},
   "source": [
    "Zoals je hierboven in de voorbeelden kunt zien kan het verwarring geven. Dit is een van de redenen om dit keyword `this` te gebruiken. Zo is het duidelijker dat linkse van de = operant voor de field is (`this.x`) en de rechterzijde voor de parameter."
   ]
  },
  {
   "cell_type": "markdown",
   "metadata": {},
   "source": [
    "### De `this` keyword gebruiken met constructors\n",
    "\n",
    "Vanuit een constructor kun je ook met `this` een andere constructor aan te roepen die in de zelfde klas aanwezig is. Dit word genoemd *explicit constructor invocation*. Dit wil zeggen dat je de gewenst constructor uitdrukkelijk die wil aanroepen."
   ]
  },
  {
   "cell_type": "markdown",
   "metadata": {},
   "source": [
    "Hier onder zie je een gedeelte van een klas `Rectangle` met meerdere constructors. De constructors bieden een standaardwaarde voor elke variabele waarvan de initiële waarde niet wordt geleverd door een parameter. De constructor zonder parameter maakt bijvoorbeeld een 2x5 rechthoek. De constructor met een parameters roept de constructor met 2 parameters aan, waarbij de lengte word doorgegeven maar altijd de 5 voor breedte gebruikt. Net als voorheen bepaalt de compiler welke constructor moet worden aangeroepen, op basis van het aantal en het type parameters.\n",
    "\n",
    "**Belangrijk:** Indien aanwezig, moet de aanroep van een andere constructor de eerste regel in de constructor zijn."
   ]
  },
  {
   "cell_type": "markdown",
   "metadata": {},
   "source": [
    "```java \n",
    "package be.intecbrussel;\n",
    "\n",
    "public class Rectangle {\n",
    "\n",
    "    // Properties van de rectangle class\n",
    "    private double length;\n",
    "    private double width;\n",
    "\n",
    "    // No-args constructor\n",
    "    public Rectangle() {\n",
    "        \n",
    "        this(2,5);\n",
    "        \n",
    "    }\n",
    "\n",
    "    // Constructor met 1 parameter\n",
    "    public Rectangle(double length) {\n",
    "        \n",
    "        this(length, 5);\n",
    "\n",
    "    }\n",
    "\n",
    "    // All-args constructor\n",
    "    public Rectangle(double length, double width) {\n",
    "        \n",
    "        this.length = length;\n",
    "        this.width = width;\n",
    "        \n",
    "    }\n",
    "    \n",
    "    // Hier komen de getters en setters van de properties\n",
    "\n",
    "}\n",
    "\n",
    "```"
   ]
  },
  {
   "cell_type": "markdown",
   "metadata": {},
   "source": [
    "[Ga naar het volgende deel van classes](/Notebooks/Nederlands/02%20-%20Object%20georienteerde%20programmeren/09%20classes/09.04%20access%20modifiers.ipynb)"
   ]
  }
 ],
 "metadata": {
  "kernelspec": {
   "display_name": "Java",
   "language": "java",
   "name": "java"
  },
  "language_info": {
   "codemirror_mode": "java",
   "file_extension": ".jshell",
   "mimetype": "text/x-java-source",
   "name": "java",
   "pygments_lexer": "java",
   "version": "11.0.11+9-LTS"
  },
  "orig_nbformat": 4,
  "vscode": {
   "interpreter": {
    "hash": "217c631b613e36ff4b9cdbe99ee2d03b09d4e7c1f494b32c9aa8f6b180d54c14"
   }
  }
 },
 "nbformat": 4,
 "nbformat_minor": 2
}
