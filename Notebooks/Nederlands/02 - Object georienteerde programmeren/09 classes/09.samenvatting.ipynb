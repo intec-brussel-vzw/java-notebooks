{
 "cells": [
  {
   "cell_type": "markdown",
   "metadata": {},
   "source": [
    "![](https://intecbrussel.be/img/logo3.png)  \n",
    "_Java les-materialen_"
   ]
  },
  {
   "cell_type": "markdown",
   "metadata": {},
   "source": [
    "# samenvatting en oefeningen"
   ]
  },
  {
   "cell_type": "markdown",
   "metadata": {},
   "source": [
    "### Samenvatting\n",
    "\n",
    "We hebben nu geleerd hoe we een class opbouwen met de juiste structuur. \n",
    "- Access modifiers zoals `private`, `default`, `protected` en `public`\n",
    "- `class` keyword\n",
    "- Naamgevingsconventie: We gebruiken geen camelCase voor een class naam maar PascalCase. \n",
    "\n",
    "Hier heb je de syntax van een class:\n",
    "```java\n",
    "\n",
    "<access modifier> class ClassName {  \n",
    "\n",
    "// Variables   \n",
    "// Constructor\n",
    "// Methods   \n",
    "\n",
    "}  \n",
    "\n",
    "```\n",
    "\n",
    "Maar ook waar we op moeten letten als we in een class werken zoals:\n",
    "- Properties\n",
    "- Constructors en overloading constructors\n",
    "- `this`keyword\n",
    "- Methodes en overloading methodes\n",
    "- `static` keyword\n",
    "- Static methodes en overloading static methodes\n",
    "\n",
    "Deze structuur is zeer belangrijk om een goed werkend programma te bouwen. Zo hou je alles overzichtelijk voor je zelf maar ook voor een van de collega's.  \n",
    "\n",
    "**Nu gaan we deze kennis hieronder toepassen in praktijk:**\n"
   ]
  },
  {
   "cell_type": "markdown",
   "metadata": {},
   "source": [
    "### Oefening 1\n",
    "\n",
    "Schrijf een methode die het kleinste nummer van 3 nummers kan vinden. "
   ]
  },
  {
   "cell_type": "code",
   "execution_count": null,
   "metadata": {},
   "outputs": [],
   "source": [
    "// Plaats hier je code voor oefening 1"
   ]
  },
  {
   "cell_type": "markdown",
   "metadata": {},
   "source": [
    "### Oefening 2\n",
    "\n",
    "Schrijf een programma dat berekening kan doen net als een calculator. Het programma moet de volgende methodes hebben: \n",
    "- Optellen\n",
    "- Aftrekken\n",
    "- vermenigvuldigen\n",
    "- delen\n",
    "- modulus \n"
   ]
  },
  {
   "cell_type": "code",
   "execution_count": null,
   "metadata": {},
   "outputs": [],
   "source": [
    "// Plaats hier je code voor oefening 2"
   ]
  },
  {
   "cell_type": "markdown",
   "metadata": {},
   "source": [
    "### Oefening 3\n",
    "\n",
    "Schrijf een methode om te controleren of elk cijfer van een bepaald geheel getal even is. Is het getal even, retourneer dan `true` als elk cijfer oneven is retourneer `false`.\n",
    "\n",
    "Opmerking: 1, 3, 5, 7, 9 zijn oneven cijfers en 0, 2, 4, 6 en 8 zijn even cijfers\n",
    "\n",
    "Voorbeeld data:\n",
    "(8642)->true\n",
    "(123)->false\n",
    "(200)->true"
   ]
  },
  {
   "cell_type": "code",
   "execution_count": null,
   "metadata": {},
   "outputs": [],
   "source": [
    "// Plaats hier je code voor oefening 3"
   ]
  },
  {
   "cell_type": "markdown",
   "metadata": {},
   "source": [
    "[Ga naar het volgende hoofdstuk](/Notebooks/Nederlands/02%20-%20Object%20georienteerde%20programmeren/10%20scope/10.00%20scope.ipynb)"
   ]
  }
 ],
 "metadata": {
  "kernelspec": {
   "display_name": "Java",
   "language": "java",
   "name": "java"
  },
  "language_info": {
   "name": "java",
   "version": "3.10.6"
  },
  "orig_nbformat": 4,
  "vscode": {
   "interpreter": {
    "hash": "217c631b613e36ff4b9cdbe99ee2d03b09d4e7c1f494b32c9aa8f6b180d54c14"
   }
  }
 },
 "nbformat": 4,
 "nbformat_minor": 2
}
