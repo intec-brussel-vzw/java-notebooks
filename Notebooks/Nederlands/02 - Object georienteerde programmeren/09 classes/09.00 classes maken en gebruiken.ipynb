{
 "cells": [
  {
   "cell_type": "markdown",
   "metadata": {},
   "source": [
    "![](https://intecbrussel.be/img/logo3.png)  \n",
    "_Java les-materialen_"
   ]
  },
  {
   "cell_type": "markdown",
   "metadata": {},
   "source": [
    "# Classes \n"
   ]
  },
  {
   "cell_type": "markdown",
   "metadata": {},
   "source": [
    "In dit hoofdstuk gaan we het hebben over Object Oriented Programming (OOP) en waarom we dit gebruiken. Er zijn veel manieren om te programmeren, wij gebruiken object georiënteerd programmeren. \n",
    "\n",
    "Daar zijn een paar redenen voor: \n",
    "- OOP maakt het programma overzichtelijk. Dit maakt het makkelijker om te onderhouden, modificeren en debuggen.\n",
    "- OOP is flexible, modulair en dit komt vooral goed uit voor grote projecten.\n",
    "- Bij OOP hergebruiken we zoveel mogelijk code zodat we niet constant ons zelf hoeven te herhalen. Dit word ook wel `\"Don't Repeat Yourself\" (DRY)` genoemd.\n",
    "- Afscherming van informatie. Ieder object heeft een interne structuur afgeschermd is naar de buitenwereld.\n"
   ]
  },
  {
   "cell_type": "markdown",
   "metadata": {},
   "source": [
    "### Wat zijn classes en objects\n",
    "\n",
    "Een class in OOP kun je vergelijk met een blauwdruk ofwel een sjabloon en een object is een instantie van een class. Als de individuele objecten zijn gemaakt, erven ze alle variabelen en methodes van de klas. Hieronder zie je 2 voorbeelden van hoe het kan opgebouwd zijn van een class met objecten.\n",
    "\n",
    "| Class | Object | | | Class | Object | \n",
    "|---|---|---|---|---|---|\n",
    "| `Fruit` | `Apple` | | | `Car` | `Volvo` |\n",
    "| | `Banana` | | | | `Audi` |\n",
    "| | `Mango` | | | | `Mercedes` | "
   ]
  },
  {
   "cell_type": "markdown",
   "metadata": {},
   "source": [
    "### Structuur van een class\n",
    "\n",
    "Hieronder zullen we een klas laten zien hoe die is opgebouwd: \n",
    "\n",
    "-   **Modifiers**: Ga naar het hoofdstuk [Access Modifiers](/Notebooks/Nederlands/02%20-%20Object%20georienteerde%20programmeren/09%20classes/09.04%20access%20modifiers.ipynb) voor meer uitleg hier over.\n",
    "-   **Class keyword:** class keyword word gebruikt om een klas te creëren.\n",
    "-   **Class name:** De naam van de class behoord met een hoofdletter te beginnen en dan net als bij camelCase elk nieuw woord met een hoofdletter (Dit noemen ze PascalCase).\n",
    "-   **Body:** De class body word omringd door curly braces, { }.\n",
    "\n",
    "\n",
    "Hier heb je de syntax van een class:\n",
    "```java\n",
    "\n",
    "<access modifier> class ClassName {  \n",
    "\n",
    "// Variables   \n",
    "// Constructor\n",
    "// Methods   \n",
    "\n",
    "}  \n",
    "\n",
    "```"
   ]
  },
  {
   "cell_type": "code",
   "execution_count": 36,
   "metadata": {
    "vscode": {
     "languageId": "java"
    }
   },
   "outputs": [],
   "source": [
    "// voorbeeld van een class\n",
    "public class MyFirstClass {\n",
    "\n",
    "\n",
    "}"
   ]
  },
  {
   "cell_type": "markdown",
   "metadata": {},
   "source": [
    "[Ga naar het volgende deel van classes properties](/Notebooks/Nederlands/02%20-%20Object%20georienteerde%20programmeren/09%20classes/09.01%20properties.ipynb)"
   ]
  }
 ],
 "metadata": {
  "kernelspec": {
   "display_name": "Java",
   "language": "java",
   "name": "java"
  },
  "language_info": {
   "codemirror_mode": "java",
   "file_extension": ".jshell",
   "mimetype": "text/x-java-source",
   "name": "Java",
   "pygments_lexer": "java",
   "version": "11.0.11+9-LTS"
  },
  "orig_nbformat": 4,
  "vscode": {
   "interpreter": {
    "hash": "217c631b613e36ff4b9cdbe99ee2d03b09d4e7c1f494b32c9aa8f6b180d54c14"
   }
  }
 },
 "nbformat": 4,
 "nbformat_minor": 2
}
