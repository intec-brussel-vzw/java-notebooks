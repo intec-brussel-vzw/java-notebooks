{
 "cells": [
  {
   "cell_type": "markdown",
   "metadata": {},
   "source": [
    "![](https://intecbrussel.be/img/logo3.png)  \n",
    "_Java les-materialen_"
   ]
  },
  {
   "cell_type": "markdown",
   "metadata": {},
   "source": [
    "# Static methodes en overloading"
   ]
  },
  {
   "cell_type": "markdown",
   "metadata": {},
   "source": [
    "### Static keyword\n",
    "\n",
    "De `static` keyword is een non-access modifier. Deze gebruiken we op methods en fields om ervoor te zorgen dat ze toegankelijk zijn zonder een object van een klas te creëren.   \n",
    "\n",
    "*Voorbeeld hieronder kun je het beste testen in bijvoorbeeld Intellij.*\n",
    "\n",
    "```java\n",
    "\n",
    "public class TestingStatic {\n",
    "\n",
    "    // Static methode \n",
    "    static void myStaticMethod() {\n",
    "\n",
    "        System.out.println(\"Static methode kan ik oproepen zonder een klas object\");\n",
    "\n",
    "    }\n",
    "\n",
    "    // Public methode\n",
    "    public void myPublicMethod() {\n",
    "\n",
    "        System.out.println(\"Public methode kan ik alleen oproepen met een object\");\n",
    "\n",
    "    }\n",
    "\n",
    "    // Main methode\n",
    "    public static void main(String[] args) {\n",
    "\n",
    "    // Aanroepen van de static method\n",
    "    myStaticMethod(); \n",
    "\n",
    "    // Aanroepen van een public method.\n",
    "    // Dit gaat de volgende error geven: non-static method myPublicMethod() cannot be referenced from a static context\n",
    "    // myPublicMethod();\n",
    "\n",
    "    // Creëren van een object van de klas TestingStatic en de juiste manier om een public methode aan te roepen.. \n",
    "    TestingStatic myObjectOmTeTesten = new TestingStatic(); \n",
    "    myObjectOmTeTesten.myPublicMethod();\n",
    "\n",
    "  }\n",
    "\n",
    "}\n",
    "```"
   ]
  },
  {
   "cell_type": "markdown",
   "metadata": {},
   "source": [
    "### Beperkingen van Static Methods\n",
    "\n",
    "1.  Non-static fields of non-static methods Kunnen niet gebruikt worden door static methodes, en static methods kunnen geen directe toegang hebben tot non-static methods.\n",
    "2.  In een static omgeving, `this` en `super` keywords mogen niet gebruikt worden."
   ]
  },
  {
   "cell_type": "markdown",
   "metadata": {},
   "source": [
    "### Het verschil tussen static methodes en instant methodes\n",
    "\n",
    "| Instance Methodes | Static Methodes|\n",
    "| --- | --- |\n",
    "| Heeft een object van een klas nodig | Heeft *geen* object van een klas nodig |\n",
    "| Heeft toegang tot alle fields in een klas. | Heeft alleen toegang tot alle static fields in een klas. |\n",
    "| De methode is alleen maar toegankelijk door een object referentie | De methode is alleen toegankelijk door de klas naam. |\n",
    "| Syntax: ObjectName.methodName() | Syntax: className.methodName() |"
   ]
  },
  {
   "cell_type": "markdown",
   "metadata": {},
   "source": [
    "**Belangrijk:** We kunnen ook op static methodes overloading toepassen. Dit werkt exact hetzelfde als met een andere methode. Als de methode de zelfde naam heeft maar een andere return type en/ of parameters, is dit goed. Als het enigste verschil is dat het keyword static verschilt werkt dit niet. \n",
    "\n",
    "Bijvoorbeeld:"
   ]
  },
  {
   "cell_type": "code",
   "execution_count": null,
   "metadata": {
    "vscode": {
     "languageId": "java"
    }
   },
   "outputs": [],
   "source": [
    "// Testing method overloading with and without static keyword    \n",
    "public class TestTest {\n",
    "\n",
    "    public static void test() {\n",
    "        System.out.println(\"Test 1 \");\n",
    "    }\n",
    "\n",
    "    // Compiler Error\n",
    "    public void test() {\n",
    "        System.out.println(\"Test 2 \");\n",
    "    }\n",
    "\n",
    "}\n",
    "\n",
    "TestTest.test();"
   ]
  },
  {
   "cell_type": "markdown",
   "metadata": {},
   "source": [
    "[Ga naar het de samenvatting van classes](/Notebooks/Nederlands/02%20-%20Object%20georienteerde%20programmeren/09%20classes/09.samenvatting.ipynb)"
   ]
  }
 ],
 "metadata": {
  "kernelspec": {
   "display_name": "Java",
   "language": "java",
   "name": "java"
  },
  "language_info": {
   "codemirror_mode": "java",
   "file_extension": ".jshell",
   "mimetype": "text/x-java-source",
   "name": "Java",
   "pygments_lexer": "java",
   "version": "11.0.11+9-LTS"
  },
  "orig_nbformat": 4,
  "vscode": {
   "interpreter": {
    "hash": "217c631b613e36ff4b9cdbe99ee2d03b09d4e7c1f494b32c9aa8f6b180d54c14"
   }
  }
 },
 "nbformat": 4,
 "nbformat_minor": 2
}
