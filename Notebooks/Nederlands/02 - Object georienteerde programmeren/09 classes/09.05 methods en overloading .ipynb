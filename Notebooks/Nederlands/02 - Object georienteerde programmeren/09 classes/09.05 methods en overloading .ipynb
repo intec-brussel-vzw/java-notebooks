{
 "cells": [
  {
   "cell_type": "markdown",
   "metadata": {},
   "source": [
    "![](https://intecbrussel.be/img/logo3.png)  \n",
    "_Java les-materialen_"
   ]
  },
  {
   "cell_type": "markdown",
   "metadata": {},
   "source": [
    "# Methodes en overloading"
   ]
  },
  {
   "cell_type": "markdown",
   "metadata": {},
   "source": [
    "Methodes zijn een code block die alleen gebruikt word als we die aanroepen. We kunnen er data in meegeven door parameters. Methodes maken we om een specifieke actie te laten uitvoeren. Een belangrijke reden is dat we deze code 1 keer maken en dan kunnen we deze code hergebruiken wanneer we willen.\n",
    "\n",
    "We gaan de volgende onderwerpen behandelen:\n",
    "- [Creëren van een methode](#creëren-van-een-methode)\n",
    "- [Aanroepen van een methode](#aanroepen-van-een-methode)\n",
    "- [Methodes met parameters](#methodes-met-parameters)\n",
    "- [Return values](#return-values)\n",
    "- [Methode overloading](#methode-overloading)"
   ]
  },
  {
   "cell_type": "markdown",
   "metadata": {},
   "source": [
    "### Creëren van een methode\n",
    "\n",
    "Een methode moet altijd in een klas staan en na de naam moeten we haakjes gebruiken `()`. Java zelf heeft al zelf ingebouwde methodes die we ook al gebruikt hebben zoals `System.out.println()`, maar je kunt natuurlijk ook je eigen methodes ontwerpen. Zoals je kunt zien in het volgende code block.\n",
    "\n",
    "-   `public getMessageCreation()` Dit is de naam die we aan de methode geven met tussen de `()` kun je de parameters toevoegen die je wil gebruiken.\n",
    "-   `public` Dit is de access modifier. Dit hebben we al gezien in het hoofdstuk [Access modifiers](/Notebooks/Nederlands/02%20-%20Object%20georienteerde%20programmeren/09%20classes/09.04%20access%20modifiers.ipynb)\n",
    "-   `void` betekend dat er geen return waarde is."
   ]
  },
  {
   "cell_type": "markdown",
   "metadata": {},
   "source": [
    "```java\n",
    "package be.intecbrussel;\n",
    "\n",
    "public class Rectangle {\n",
    "\n",
    "    // properties van de class\n",
    "    private double length;\n",
    "    private double width;\n",
    "\n",
    "    // Constructor\n",
    "    public Rectangle(double length, double width) {\n",
    "        this.length = length;\n",
    "        this.width = width;\n",
    "    }\n",
    "\n",
    "    // Hier komen de getters en setters van de properties\n",
    "\n",
    "    // Methodes\n",
    "    public void getMessageCreation() {\n",
    "\n",
    "        System.out.println(\"Rectangle is created!\");\n",
    "\n",
    "    }\n",
    "\n",
    "}\n",
    "```"
   ]
  },
  {
   "cell_type": "markdown",
   "metadata": {},
   "source": [
    "### Aanroepen van een methode\n",
    "\n",
    "Hieronder zie je een voorbeeld om een methode aan te roepen. We werken verder op onze vorige class die we hebben gemaakt `Rectangle`. \n",
    "- In de Main methode gaan we eerst een nieuw object maken van de Rectangle class. \n",
    "- De volgende stap is met het nieuwe object de methode aanroepen. Dit doen we door een `.` achter het object te plaatsen en dat de naam van de methode `getMessageCreation()`. "
   ]
  },
  {
   "cell_type": "markdown",
   "metadata": {},
   "source": [
    "```java\n",
    "package be.intecbrussel;\n",
    "\n",
    "public class MainApp {\n",
    "\n",
    "    public static void main(String[] args) {\n",
    "\n",
    "        // We maken een nieuw object aan van de Rectangle class\n",
    "        Rectangle rectangle = new Rectangle(2,5);\n",
    "\n",
    "        // Methode aanroepen van de Rectangle class\n",
    "        rectangle.getMessageCreation();\n",
    "\n",
    "    }\n",
    "\n",
    "}\n",
    "```"
   ]
  },
  {
   "cell_type": "markdown",
   "metadata": {},
   "source": [
    "### Methodes met parameters\n",
    "\n",
    "We kunnen informatie in de methode doorgeven door parameters. we kunnen deze parameters tussen de haakjes plaatsen die na de naam van de methode komen. Je kunt er zoveel parameters in toevoegen als je wil. Je moet ze wel splitsen door een komma na de parameter te plaatsen. \n",
    "\n",
    "Hieronder zie je een voorbeeld van een methode met 2 parameter `public double getArea(double length, double width)`. "
   ]
  },
  {
   "cell_type": "markdown",
   "metadata": {},
   "source": [
    "```java\n",
    "package be.intecbrussel;\n",
    "\n",
    "public class Rectangle {\n",
    "\n",
    "    // properties van de class\n",
    "    private double length;\n",
    "    private double width;\n",
    "\n",
    "    // Constructors\n",
    "    public Rectangle() {\n",
    "    }\n",
    "\n",
    "    public Rectangle(double length, double width) {\n",
    "        this.length = length;\n",
    "        this.width = width;\n",
    "    }\n",
    "\n",
    "    // Hier komen de getters en setters van de properties\n",
    "\n",
    "    // Methodes\n",
    "    public void getMessageCreation() {\n",
    "\n",
    "        System.out.println(\"Rectangle is created!\");\n",
    "\n",
    "    }\n",
    "\n",
    "    public double getArea(double length, double width) {\n",
    "\n",
    "        this.length = length;\n",
    "        this.width = width;\n",
    "\n",
    "        return length * width;\n",
    "\n",
    "    }\n",
    "\n",
    "}\n",
    "```"
   ]
  },
  {
   "cell_type": "markdown",
   "metadata": {},
   "source": [
    "**Belangrijk:** Als je met meerdere parameters werkt, moet het aantal parameters gelijk zijn en op deze volgorde staan als in de methode aanroept. \n",
    "\n",
    "```java\n",
    "package be.intecbrussel;\n",
    "\n",
    "public class MainApp {\n",
    "\n",
    "    public static void main(String[] args) {\n",
    "\n",
    "        // We maken een nieuw object aan van de Rectangle class\n",
    "        Rectangle rectangle = new Rectangle();\n",
    "\n",
    "        rectangle.getMessageCreation();\n",
    "\n",
    "        // Dit is de aanroep van de methode met parameters\n",
    "        double area = rectangle.getArea(2,5);\n",
    "\n",
    "        System.out.println(\"The area of the rectangle is: \" + area);\n",
    "\n",
    "    }\n",
    "\n",
    "}\n",
    "```"
   ]
  },
  {
   "cell_type": "markdown",
   "metadata": {},
   "source": [
    "### Return values\n",
    "\n",
    "In een van de vorige methodes hebben we `void` keyword gebruikt. Dit geeft aan dat de methode niks retourneert. Als je wel een return value wil hebben zal je in plaats van `void` een andere datatype moeten gebruiken, bijvoorbeeld primitieve datatypes zoals in de methode `getArea()` daar hebben we een double als return waarde. Dit kan met alle primitieve datatypes en natuurlijk ook objecten. De volgende dingen zijn belangrijk om te weten:\n",
    "- Om iets te kunnen retourneren moeten we ook keyword `return` gebruiken.\n",
    "- Als je aangeeft in de methode dat je bijvoorbeeld een double wil retourneren dan moet dit ook het geval zijn aan het eind van de methode.\n",
    "- Als je een methode declareert met parameters. Dan moet de volgorde hetzelfde zijn wanneer je de methode aanroept. "
   ]
  },
  {
   "cell_type": "markdown",
   "metadata": {},
   "source": [
    "Hieronder zien we een methode `void` die gecombineerd is met een if/else. Deze methode word op dit moment gebruikt om een validatie te doen om te controleren of de data die is ingevoerd ook daadwerkelijk klopt. "
   ]
  },
  {
   "cell_type": "markdown",
   "metadata": {},
   "source": [
    "```java\n",
    "package be.intecbrussel;\n",
    "\n",
    "public class Rectangle {\n",
    "\n",
    "    // properties van de class\n",
    "    private double length;\n",
    "    private double width;\n",
    "\n",
    "    // constructor\n",
    "    public Rectangle() {\n",
    "    }\n",
    "\n",
    "    // Hier komen de getters en setters van de properties\n",
    "\n",
    "    // Methode om de oppervlakte te berekenen.\n",
    "    public void getMessageCreation(double height, double width) {\n",
    "\n",
    "        if (height == width) {\n",
    "            System.out.println(\"Sorry not a rectangle. Please try again.\");\n",
    "        } else {\n",
    "            System.out.println(\"Rectangle is created!\");\n",
    "        }\n",
    "\n",
    "    }\n",
    "\n",
    "}\n",
    "```"
   ]
  },
  {
   "cell_type": "markdown",
   "metadata": {},
   "source": [
    "```java\n",
    "package be.intecbrussel;\n",
    "\n",
    "public class MainApp {\n",
    "\n",
    "    public static void main(String[] args) {\n",
    "\n",
    "        // We maken een nieuw object aan van de Rectangle class\n",
    "        Rectangle rectangle = new Rectangle();\n",
    "\n",
    "        rectangle.getMessageCreation(1,1);\n",
    "\n",
    "    }\n",
    "\n",
    "}\n",
    "```"
   ]
  },
  {
   "cell_type": "markdown",
   "metadata": {},
   "source": [
    "### Methode overloading\n",
    "\n",
    "Method overloading is dat we meerdere methodes met de zelfde naam hebben maar met verschillende parameters. Dit kan handig zijn bijvoorbeeld je hebt een calculator en je wil `ìnt` en `double` datatypes berekenen. Dan is het handiger als je 1 methode overload dan dat je verschillende methodes maakt. \n",
    "\n",
    "Zie hieronder het voorbeeld: "
   ]
  },
  {
   "cell_type": "markdown",
   "metadata": {},
   "source": [
    "```java\n",
    "//Method overloading different datatypes and return types\n",
    "public int getArea(int length, int width) {\n",
    "     return length * width;\n",
    "}\n",
    "\n",
    "public double getArea(double length, double width) {\n",
    "    return length * width;\n",
    "}\n",
    "\n",
    "public Long getArea(Long length, Long width) {\n",
    "    return length * width;\n",
    "}\n",
    "```"
   ]
  },
  {
   "cell_type": "markdown",
   "metadata": {},
   "source": [
    "Methode overloading met de zelfde return type maar andere parameters. \n",
    "\n",
    "```java\n",
    "public void getMessageCreation(double length) {\n",
    "\n",
    "System.out.println(\"Rectangle is created!\" + length);\n",
    "\n",
    "}\n",
    "\n",
    "public void getMessageCreation(double length, double width) {\n",
    "\n",
    "System.out.println(\"Rectangle is created!\" + length + width);\n",
    "}\n",
    "```"
   ]
  },
  {
   "cell_type": "markdown",
   "metadata": {},
   "source": [
    "**Belangrijk:** Als je met methode overloading werkt kun je verschillende methodes hebben met de zelfde naam, alleen de return type en/ of de parameters moeten verschillend zijn."
   ]
  },
  {
   "cell_type": "markdown",
   "metadata": {},
   "source": [
    "[Ga naar het volgende deel van classes](/Notebooks/Nederlands/02%20-%20Object%20georienteerde%20programmeren/09%20classes/09.06%20static%20methods%20en%20overloading.ipynb)"
   ]
  }
 ],
 "metadata": {
  "kernelspec": {
   "display_name": "Java",
   "language": "java",
   "name": "java"
  },
  "language_info": {
   "codemirror_mode": "java",
   "file_extension": ".jshell",
   "mimetype": "text/x-java-source",
   "name": "java",
   "pygments_lexer": "java",
   "version": "11.0.11+9-LTS"
  },
  "orig_nbformat": 4,
  "vscode": {
   "interpreter": {
    "hash": "217c631b613e36ff4b9cdbe99ee2d03b09d4e7c1f494b32c9aa8f6b180d54c14"
   }
  }
 },
 "nbformat": 4,
 "nbformat_minor": 2
}
