{
 "cells": [
  {
   "cell_type": "markdown",
   "metadata": {},
   "source": [
    "![](https://intecbrussel.be/img/logo3.png)  \n",
    "_Java les-materialen_"
   ]
  },
  {
   "cell_type": "markdown",
   "metadata": {},
   "source": [
    "# Methodes en overloading"
   ]
  },
  {
   "cell_type": "markdown",
   "metadata": {},
   "source": [
    "Methodes zijn een code block die alleen gebruikt word als we die aanroepen. We kunnen er data in meegeven door parameters. Methodes maken we om een specifieke actie te laten uitvoeren. Een belangrijke reden is dat we deze code 1 keer maken en dan kunnen we deze code hergebruiken wanneer we willen.\n",
    "\n",
    "We gaan de volgende onderwerpen behandelen:\n",
    "- [Creëren van een methode](#creëren-van-een-methode)\n",
    "- [Aanroepen van een methode](#aanroepen-van-een-methode)\n",
    "- [Methodes met parameters](#methodes-met-parameters)\n",
    "- [Return values](#return-values)\n",
    "- [Methode overloading](#methode-overloading)"
   ]
  },
  {
   "cell_type": "markdown",
   "metadata": {},
   "source": [
    "### Creëren van een methode\n",
    "\n",
    "Een methode moet altijd in een klas staan en na de naam moeten we haakjes gebruiken `()`. Java zelf heeft al zelf ingebouwde methodes die we ook al gebruikt hebben zoals `System.out.println()`, maar je kunt natuurlijk ook je eigen methodes ontwerpen. Zoals je kunt zien in het volgende code block.\n",
    "\n",
    "-   `myFirstMethod()` Dit is de naam die we aan de methode geven.\n",
    "-   `public` Dit is de access modifier. Dit hebben we al gezien in het hoofdstuk [Access modifiers](/Notebooks/Nederlands/02%20-%20Object%20georienteerde%20programmeren/09%20classes/09.04%20access%20modifiers.ipynb)\n",
    "-   `void` betekend dat er geen return waarde is. Hier gaan we later dieper op in. "
   ]
  },
  {
   "cell_type": "code",
   "execution_count": 1,
   "metadata": {},
   "outputs": [],
   "source": [
    "public class MyClass {\n",
    "\n",
    "    public void myFirstMethod() {\n",
    "\n",
    "      // code to be executed\n",
    "\n",
    "    }\n",
    "\n",
    "}"
   ]
  },
  {
   "cell_type": "markdown",
   "metadata": {},
   "source": [
    "### Aanroepen van een methode\n",
    "\n",
    "Om een methode aan te roepen beginnen we met de naam gevolgd door haakjes en sluiten we dit af met puntkomma. \n",
    "\n",
    "Bijvoorbeeld ons vorige voorbeeld: `myFirstMethod()`"
   ]
  },
  {
   "cell_type": "code",
   "execution_count": null,
   "metadata": {},
   "outputs": [],
   "source": [
    "public void myFirstMethod() {\n",
    "    \n",
    "    System.out.println(\"Mijn eerste methode werkt!\");\n",
    "\n",
    "}\n",
    "\n",
    "myFirstMethod();"
   ]
  },
  {
   "cell_type": "code",
   "execution_count": null,
   "metadata": {},
   "outputs": [],
   "source": [
    "// We kunnen de methode meerdere keren aanroepen\n",
    "public void myFirstMethod() {\n",
    "    \n",
    "    System.out.println(\"Mijn eerste methode werkt!\");\n",
    "\n",
    "}\n",
    "\n",
    "myFirstMethod();\n",
    "myFirstMethod();\n",
    "myFirstMethod();"
   ]
  },
  {
   "cell_type": "markdown",
   "metadata": {},
   "source": [
    "### Methodes met parameters\n",
    "\n",
    "We kunnen informatie in de methode doorgeven door parameters. we kunnen deze parameters tussen de haakjes plaatsen die na de naam van de methode komen. Je kunt er zoveel parameters in toevoegen als je wil. Je moet ze wel splitsen door een komma na de parameter te plaatsen. \n",
    "\n",
    "Hieronder zie je een voorbeeld van een methode met 1 parameter. Hier gebruiken we een string voor de naam. "
   ]
  },
  {
   "cell_type": "code",
   "execution_count": null,
   "metadata": {},
   "outputs": [],
   "source": [
    "// Method met 1 parameter\n",
    "public void myFirstMethod(String name) {\n",
    "    \n",
    "    System.out.println(name);\n",
    "\n",
    "}\n",
    "\n",
    "myFirstMethod(\"John\");"
   ]
  },
  {
   "cell_type": "code",
   "execution_count": null,
   "metadata": {},
   "outputs": [],
   "source": [
    "// Method met 3 parameters\n",
    "public void myFirstMethod(String firstName, String lastName, int age) {\n",
    "    \n",
    "    System.out.println(\"The full name is: \" + firstName + \" \"+ lastName + \", age: \" + age);\n",
    "\n",
    "}\n",
    "\n",
    "myFirstMethod(\"John\", \"Doe\", 36);\n"
   ]
  },
  {
   "cell_type": "markdown",
   "metadata": {},
   "source": [
    "**Belangrijk:** Als je met meerdere parameters werkt, moet het aantal parameters gelijk zijn en op deze volgorde staan als in de methode aanroept. "
   ]
  },
  {
   "cell_type": "markdown",
   "metadata": {},
   "source": [
    "### Return values\n",
    "\n",
    "In de vorige methodes hebben we `void` keyword gebruikt. Dit geeft aan dat de methode niks retourneert. Als je wel een return value wil hebben zal je in plaats van `void` een andere datatype moeten gebruiken, bijvoorbeeld primitieve datatypes zoals: `int`, `char` enz. Ook moet je de `return` keyword gebruiken. "
   ]
  },
  {
   "cell_type": "code",
   "execution_count": null,
   "metadata": {},
   "outputs": [],
   "source": [
    "// Methode met een return value of int\n",
    "public int myCalculator(int num01, int num02) {\n",
    "\n",
    "    return num01 + num02;\n",
    "    \n",
    "}\n",
    "\n",
    "myCalculator(10, 25)"
   ]
  },
  {
   "cell_type": "markdown",
   "metadata": {},
   "source": [
    "Hieronder zien we een methode die gecombineerd is met een if/else. Dit word regelmatig gebruikt."
   ]
  },
  {
   "cell_type": "code",
   "execution_count": null,
   "metadata": {},
   "outputs": [],
   "source": [
    "// Voorbeeld methode met een if/ else statement\n",
    "public void ageValidation(int age) {\n",
    "\n",
    "    if (age < 18) {\n",
    "\n",
    "      System.out.println(\"Access denied\");\n",
    "\n",
    "    } else {\n",
    "\n",
    "      System.out.println(\"Access granted\");\n",
    "      \n",
    "    }\n",
    "\n",
    "}\n",
    "\n",
    "ageValidation(19);\n"
   ]
  },
  {
   "cell_type": "markdown",
   "metadata": {},
   "source": [
    "### Methode overloading\n",
    "\n",
    "Method overloading is dat we meerdere methodes met de zelfde naam hebben maar met verschillende parameters. Dit kan handig zijn bijvoorbeeld je hebt een calculator en je wil `ìnt` en `double` datatypes berekenen. Dan is het handiger als je 1 methode overload dan dat je verschillende methodes maakt. \n",
    "\n",
    "Zie hieronder het voorbeeld: "
   ]
  },
  {
   "cell_type": "code",
   "execution_count": null,
   "metadata": {},
   "outputs": [],
   "source": [
    "public int sumMethod(int num01, int num02) {\n",
    "    return num01 + num02;\n",
    "}\n",
    "  \n",
    "public double sumMethod(double doubleNum01, double doubleNum02) {\n",
    "    return doubleNum01 + doubleNum02;\n",
    "}\n",
    "\n",
    "int resultInInt = sumMethod(20, 30);\n",
    "double resultInDouble = sumMethod(20.5, 10.25);\n",
    "\n",
    "System.out.println(\"Result in int: \" + resultInInt);\n",
    "System.out.println(\"Result in double: \" + resultInDouble);"
   ]
  },
  {
   "cell_type": "markdown",
   "metadata": {},
   "source": [
    "**Belangrijk:** Als je met methode overloading werkt kun je verschillende methodes hebben met de zelfde naam, alleen de return type en/ of de parameters moeten verschillend zijn."
   ]
  },
  {
   "cell_type": "markdown",
   "metadata": {},
   "source": [
    "[Ga naar het volgende deel van classes](/Notebooks/Nederlands/02%20-%20Object%20georienteerde%20programmeren/09%20classes/09.06%20static%20methods%20en%20overloading.ipynb)"
   ]
  }
 ],
 "metadata": {
  "kernelspec": {
   "display_name": "Java",
   "language": "java",
   "name": "java"
  },
  "language_info": {
   "codemirror_mode": "java",
   "file_extension": ".jshell",
   "mimetype": "text/x-java-source",
   "name": "java",
   "pygments_lexer": "java",
   "version": "11.0.11+9-LTS"
  },
  "orig_nbformat": 4,
  "vscode": {
   "interpreter": {
    "hash": "217c631b613e36ff4b9cdbe99ee2d03b09d4e7c1f494b32c9aa8f6b180d54c14"
   }
  }
 },
 "nbformat": 4,
 "nbformat_minor": 2
}
