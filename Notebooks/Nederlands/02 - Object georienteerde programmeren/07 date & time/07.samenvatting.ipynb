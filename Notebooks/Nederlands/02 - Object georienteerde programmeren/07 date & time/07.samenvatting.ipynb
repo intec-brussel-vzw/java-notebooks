{
 "cells": [
  {
   "cell_type": "markdown",
   "metadata": {},
   "source": [
    "![](https://intecbrussel.be/img/logo3.png)  \n",
    "_Java les-materialen_"
   ]
  },
  {
   "cell_type": "markdown",
   "metadata": {},
   "source": [
    "# Samenvatting en oefeningen\n",
    "\n",
    "We hebben nu een aantallen klassen gezien die ons kunnen helpen met het creëren en manipuleren van de datum en tijd. \n",
    "\n",
    "- De *Instant class* weerspiegeld een moment in UTC.\n",
    "- De class OffsetDateTime stelt een moment voor als datum en tijd net zoals Instant maar het houdt rekening met de tijdzone van uw machine.\n",
    "- *LocalDateTime* stelt een datum en tijd voor maar LocalDateTime houdt geen rekening met zomertijd, tijdzone of *offset van UTC*.\n",
    "- *LocalDateTime* is een combinatie van de classen LocalDate en LocalTime.\n",
    "\n",
    "We kunnen de datums ook formatteren naar ons eigen wens met de klas DateTimeFormatter. Door de klassen Duration, Period en ChronoUnit kunnen we de datum en tijd manipuleren en mee rekenen."
   ]
  },
  {
   "cell_type": "markdown",
   "metadata": {},
   "source": [
    "### Oefening 1\n",
    "\n",
    "Schrijf een programma om de huidige tijd en datum te krijgen."
   ]
  },
  {
   "cell_type": "code",
   "execution_count": null,
   "metadata": {},
   "outputs": [],
   "source": [
    "// Plaats hier je code voor oefening 1"
   ]
  },
  {
   "cell_type": "markdown",
   "metadata": {},
   "source": [
    "### Oefening 2\n",
    "\n",
    "Schrijf een programma om de tijd en datum te formatteren naar: `ma, 22 aug. 2022 14:54:24`"
   ]
  },
  {
   "cell_type": "code",
   "execution_count": null,
   "metadata": {},
   "outputs": [],
   "source": [
    "// Plaats hier je code voor oefening 2"
   ]
  },
  {
   "cell_type": "markdown",
   "metadata": {},
   "source": [
    "### Oefening 3\n",
    "\n",
    "Schrijf een programma om je leeftijd te berekenen in dagen, maanden en jaren. "
   ]
  },
  {
   "cell_type": "code",
   "execution_count": null,
   "metadata": {},
   "outputs": [],
   "source": [
    "// Plaats hier je code voor oefening 3"
   ]
  },
  {
   "cell_type": "markdown",
   "metadata": {},
   "source": [
    "[Ga naar het volgende hoofdstuk]()"
   ]
  }
 ],
 "metadata": {
  "kernelspec": {
   "display_name": "Java",
   "language": "java",
   "name": "java"
  },
  "language_info": {
   "name": "java",
   "version": "3.10.6"
  },
  "orig_nbformat": 4,
  "vscode": {
   "interpreter": {
    "hash": "217c631b613e36ff4b9cdbe99ee2d03b09d4e7c1f494b32c9aa8f6b180d54c14"
   }
  }
 },
 "nbformat": 4,
 "nbformat_minor": 2
}
