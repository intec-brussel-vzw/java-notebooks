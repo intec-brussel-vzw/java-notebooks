{
 "cells": [
  {
   "cell_type": "markdown",
   "metadata": {},
   "source": [
    "![](https://intecbrussel.be/img/logo3.png)  \n",
    "_Java les-materialen_"
   ]
  },
  {
   "cell_type": "markdown",
   "metadata": {},
   "source": [
    "# Date & Time\n",
    "In Java hebben we een aantal klassen om te werken met datums en tijd. In dit deel gaan we de klassen bekijken en de belangrijkste methodes die we hiervan gaan gebruiken.\n",
    "\n",
    "De klassen die we gaan bekijken zijn:\n",
    "- [Instant class](/Notebooks/Nederlands/02%20-%20Object%20georienteerde%20programmeren/07%20date%20%26%20time/07.01-instant-class.ipynb)\n",
    "- LocalTime class\n",
    "- LocalDate class\n",
    "- LocalDateTime class\n",
    "\n",
    "Na deze klassen gaan we ook nog even dieper in of formatering van datum en tijd."
   ]
  },
  {
   "cell_type": "markdown",
   "metadata": {},
   "source": [
    "De Instant class en LocalDateTime zijn twee verschillende types, de **Instant class** weerspiegeld een moment in UTC, LocalDateTime niet.\n",
    "\n",
    "- **Instant** weerspiegeld een moment, een specifiek punt in de tijd.\n",
    "- **LocalDateTime** stelt een datum en tijd voor. Maar LocalDateTime heeft houdt geen rekening met tijdzone of *offset van UTC*, het kan geen specifiek moment voorstellen. De waarde van LocalDateTime is dus dubbelzinnig omdat het geen rekening houdt met tijdzones."
   ]
  },
  {
   "cell_type": "markdown",
   "metadata": {},
   "source": [
    "### Instant\n",
    "\n",
    "Wanneer we de functie *now()* gebruiken van de Instant class, krijgen we de het huidige moment terug UTC. Omdat meestal onze *\"business logic\"*, *\"data storage\"* en *\"data exchange\"* in UTC formaat is, is dit een handige class om te gaan gebruiken.\n",
    "\n",
    "#### now()\n",
    "\n",
    "![instant now](./src/now.png)"
   ]
  },
  {
   "cell_type": "code",
   "execution_count": null,
   "metadata": {},
   "outputs": [],
   "source": [
    "    Instant instant = Instant.now();\n",
    "    System.out.println(instant);"
   ]
  },
  {
   "cell_type": "markdown",
   "metadata": {},
   "source": [
    "### OffsetDateTime\n",
    "\n",
    "De class OffsetDateTime stelt een moment voor als Datum en tijd net zoals Instant maar het houdt rekening met de tijdzone van uw machine.\n",
    "\n",
    "![offset](./src/offsetDateTime.png)"
   ]
  },
  {
   "cell_type": "code",
   "execution_count": null,
   "metadata": {},
   "outputs": [],
   "source": [
    "    OffsetDateTime offsetDateTime = OffsetDateTime.now();\n",
    "    System.out.println(offsetDateTime);"
   ]
  },
  {
   "cell_type": "markdown",
   "metadata": {},
   "source": [
    "### ZoneOffSet\n",
    "\n",
    "ZoneOffSet is een class dat ons de tijd zal teruggeven rekening houdend met de tijdzone van de machine.\n",
    "\n",
    "![zoneoffset](./src/offsetZone.png)"
   ]
  },
  {
   "cell_type": "code",
   "execution_count": null,
   "metadata": {},
   "outputs": [],
   "source": []
  }
 ],
 "metadata": {
  "kernelspec": {
   "display_name": "Python 3.10.6 64-bit (windows store)",
   "language": "python",
   "name": "python3"
  },
  "language_info": {
   "name": "python",
   "version": "3.10.6"
  },
  "orig_nbformat": 4,
  "vscode": {
   "interpreter": {
    "hash": "6b37d82d5803a5e2590946df6dbaaa38f6646f38cc7b4ff419918623f65de815"
   }
  }
 },
 "nbformat": 4,
 "nbformat_minor": 2
}
