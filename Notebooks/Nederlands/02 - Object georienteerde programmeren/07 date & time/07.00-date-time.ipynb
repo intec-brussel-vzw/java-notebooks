{
 "cells": [
  {
   "cell_type": "markdown",
   "metadata": {},
   "source": [
    "![](https://intecbrussel.be/img/logo3.png)  \n",
    "_Java les-materialen_"
   ]
  },
  {
   "cell_type": "markdown",
   "metadata": {},
   "source": [
    "# Date & Time\n",
    "In Java hebben we een aantal klassen om te werken met datums en tijd. In dit deel gaan we de klassen bekijken en de belangrijkste methodes die we hiervan gaan gebruiken.\n",
    "\n",
    "De klassen die we gaan bekijken zijn:\n",
    "- [Instant class](#instant-class)\n",
    "- [OffsetDateTime](#offsetdatetime)\n",
    "- [LocalTime class](#localdate-localtime-localdatetime)\n",
    "- [LocalDate class](#localdate-localtime-localdatetime)\n",
    "- [LocalDateTime class](#localdate-localtime-localdatetime)\n",
    "- [DateTimeFormatter class](#datetimeformatter-class)\n",
    "- [Duration](#de-klassen-duration-period-en-chronounit)\n",
    "- [ChonoUnit](#de-klassen-duration-period-en-chronounit)\n",
    "- [Period](#de-klassen-duration-period-en-chronounit)"
   ]
  },
  {
   "cell_type": "markdown",
   "metadata": {},
   "source": [
    "### Instant class\n",
    "\n",
    "De Instant class en LocalDateTime zijn twee verschillende klassen, de *Instant class* weerspiegeld een moment in UTC, LocalDateTime niet.\n",
    "\n",
    "- *Instant* weerspiegeld een moment, een specifiek punt in de tijd.\n",
    "- *LocalDateTime* stelt een datum en tijd voor maar LocalDateTime houdt geen rekening met zomertijd, tijdzone of *offset van UTC*."
   ]
  },
  {
   "cell_type": "markdown",
   "metadata": {},
   "source": [
    "### `now()` methode\n",
    "\n",
    "Wanneer we de functie *now()* gebruiken van de Instant class, krijgen we de het huidige moment terug UTC. Omdat meestal onze *\"business logic\"*, *\"data storage\"* en *\"data exchange\"* in UTC formaat is, is dit een handige class om te gaan gebruiken.\n",
    "\n",
    "![instant now](./src/now.png)"
   ]
  },
  {
   "cell_type": "code",
   "execution_count": null,
   "metadata": {
    "vscode": {
     "languageId": "java"
    }
   },
   "outputs": [],
   "source": [
    "import java.time.Instant;\n",
    "\n",
    "Instant dateAndTime = Instant.now();\n",
    "System.out.println(dateAndTime);"
   ]
  },
  {
   "cell_type": "markdown",
   "metadata": {},
   "source": [
    "De Instant klas heeft veel opties om tijd en datums op te vragen en bewerken. Een andere belangrijke optie die je kunt gebruiken bij de Instant klas is de `Epoch` opvragen. \n",
    "\n",
    "Een epoch is een specifieke tijd en datum waarvan een computer de systeem tijd berekend. Als je de epoch opvraagt net als hieronder dan zul je als antwoord dit krijgen: \n",
    "\n",
    "`1970-01-01T00:00:00Z`"
   ]
  },
  {
   "cell_type": "code",
   "execution_count": null,
   "metadata": {
    "vscode": {
     "languageId": "java"
    }
   },
   "outputs": [],
   "source": [
    "import java.time.Instant;\n",
    "\n",
    "Instant epochDate = Instant.EPOCH;\n",
    "System.out.println(epochDate);"
   ]
  },
  {
   "cell_type": "markdown",
   "metadata": {},
   "source": [
    "De Instant klas heeft veel opties en via deze link kom je bij de documentatie [Instant class java](https://docs.oracle.com/javase/8/docs/api/java/time/Instant.html)"
   ]
  },
  {
   "cell_type": "markdown",
   "metadata": {},
   "source": [
    "### OffsetDateTime\n",
    "\n",
    "De class OffsetDateTime stelt een moment voor als Datum en tijd net zoals Instant maar het houdt rekening met de tijdzone van uw machine.\n",
    "\n",
    "![offset](./src/offsetDateTime.png)"
   ]
  },
  {
   "cell_type": "code",
   "execution_count": null,
   "metadata": {
    "vscode": {
     "languageId": "java"
    }
   },
   "outputs": [],
   "source": [
    "import java.time.*;\n",
    "import java.time.temporal.*;\n",
    "\n",
    "OffsetDateTime offsetDateTime = OffsetDateTime.now();\n",
    "\n",
    "System.out.println(offsetDateTime);"
   ]
  },
  {
   "cell_type": "markdown",
   "metadata": {},
   "source": [
    "Via deze link kom je bij de documentatie voor de [OffsetDateTime class](https://docs.oracle.com/javase/10/docs/api/java/time/OffsetDateTime.html#of(int,%20int,%20int,%20int,%20int,%20int,%20int,%20java.time.ZoneOffset))"
   ]
  },
  {
   "cell_type": "markdown",
   "metadata": {},
   "source": [
    "### LocalDate, LocalTime, LocalDateTime\n",
    "\n",
    "De localDate, LocalTime en LocalDateTime zijn een reeks klassen die niet gebonden zijn aan tijdzones en zomertijd. Dit zijn onveranderlijke objecten dat de datum en tijd representeert.\n",
    "\n"
   ]
  },
  {
   "cell_type": "code",
   "execution_count": null,
   "metadata": {
    "vscode": {
     "languageId": "java"
    }
   },
   "outputs": [],
   "source": [
    "import java.time.LocalDateTime;  \n",
    "\n",
    "LocalDate justTheDate = LocalDate.now();\n",
    "LocalTime justTheTime = LocalTime.now();\n",
    "LocalDateTime dateAndTheTimeNow = LocalDateTime.now();  \n",
    "\n",
    "System.out.println(justTheDate);\n",
    "System.out.println(justTheTime);\n",
    "System.out.println(dateAndTheTimeNow);"
   ]
  },
  {
   "cell_type": "markdown",
   "metadata": {},
   "source": [
    "Met de klas LocalDateTime kunnen we niet alleen maar de datum en tijd opvragen maar ook: berekenen van tijd door erbij op te tellen of aftrekken, converteren van een andere Instance en natuurlijk je eigen specifieke tijd aanmaken."
   ]
  },
  {
   "cell_type": "code",
   "execution_count": null,
   "metadata": {
    "vscode": {
     "languageId": "java"
    }
   },
   "outputs": [],
   "source": [
    "System.out.println(\"now: \" + LocalDateTime.now());\n",
    "\n",
    "System.out.println(\"Apr 15, 1994,  11:30am: \" + LocalDateTime.of(1994, Month.APRIL, 15, 11, 30));\n",
    "\n",
    "System.out.println(\"now (from Instant): \" + LocalDateTime.ofInstant(Instant.now(), ZoneId.systemDefault()));\n",
    "\n",
    "System.out.println(\"6 months from now: \" + LocalDateTime.now().plusMonths(6));\n",
    "\n",
    "System.out.println(\"6 months ago: \" + LocalDateTime.now().minusMonths(6));"
   ]
  },
  {
   "cell_type": "markdown",
   "metadata": {},
   "source": [
    "Als je verder wil lezen over tijdzones en offset klassen kun je deze link eens bekijken [Time Zone and Offset Classes](https://docs.oracle.com/javase/tutorial/datetime/iso/timezones.html)"
   ]
  },
  {
   "cell_type": "markdown",
   "metadata": {},
   "source": [
    "### DateTimeFormatter class\n",
    "\n",
    "Deze klas kan gebruikt worden om datum en tijd te printen en ontleden zodat je een leesbaarder ontwerp krijgt. Hieronder vind je een paar patronen die je kunt gebruiken.\n",
    "\n",
    "| patroon | uitkomst |\n",
    "|---|---|\n",
    "| yyyy-MM-dd | \"1988-09-29\"  |\n",
    "| dd/MM/yyyy | \"29/09/1988\" |\n",
    "| dd-MMM-yyyy | \"29-Sep-1988\" |\n",
    "| E, MMM dd yyyy | \"Thu, Sep 29 1988\" |\n",
    "\n",
    "\n",
    "Als je de documentatie bekijkt vind je veel info over de patronen die je kunt samenstellen [Class DateTimeFormatter](https://docs.oracle.com/javase/8/docs/api/java/time/format/DateTimeFormatter.html)\n",
    "\n",
    "Meer complexen manieren voor datum en tijd te formatteren kun je vinden in de klassen [DateTimeFormatterBuilder](https://docs.oracle.com/javase/8/docs/api/java/time/format/DateTimeFormatterBuilder.html) \n"
   ]
  },
  {
   "cell_type": "code",
   "execution_count": null,
   "metadata": {
    "vscode": {
     "languageId": "java"
    }
   },
   "outputs": [],
   "source": [
    "import java.time.LocalDateTime;  \n",
    "import java.time.format.DateTimeFormatter;  \n",
    "\n",
    "\n",
    "LocalDateTime now = LocalDateTime.now();  \n",
    "System.out.println(\"Before Formatting: \" + now);  \n",
    "\n",
    "DateTimeFormatter format = DateTimeFormatter.ofPattern(\"dd-MM-yyyy HH:mm:ss\");  \n",
    "\n",
    "String formatDateTime = now.format(format);  \n",
    "System.out.println(\"After Formatting: \" + formatDateTime);  "
   ]
  },
  {
   "cell_type": "markdown",
   "metadata": {},
   "source": [
    "### De klassen Duration, Period en ChronoUnit\n",
    "\n",
    "Deze klassen kun je gebruiken om datum en tijd te manipuleren en om te berekenen. Hieronder ga je een aantal voorbeelden zien hun je deze klassen kunt gebruiken. "
   ]
  },
  {
   "cell_type": "code",
   "execution_count": null,
   "metadata": {
    "vscode": {
     "languageId": "java"
    }
   },
   "outputs": [],
   "source": [
    "// Duration class\n",
    "\n",
    "// 2 datums aangemaakt om te kunnen bewerken. \n",
    "LocalDateTime ldt = LocalDateTime.now();\n",
    "DateTimeFormatter myFormatter = DateTimeFormatter.ofPattern(\"dd-MM-yyyy HH:mm:ss\");\n",
    "LocalDateTime oldDate = LocalDateTime.of(2016, 8, 31, 10, 20, 55);\n",
    "\n",
    "String formattedDate = ldt.format(myFormatter);\n",
    "\n",
    "// De methode getSeconds() gaat de seconde berekenen van 1 uur (ofHours(1))\n",
    "Duration seconds = Duration.ofHours(1);\n",
    "System.out.println(seconds.getSeconds() + \" seconds\");\n",
    "\n",
    "// Dit berekend de tijd in seconde tussen de nu en de oude datum die we hebben gecreëerd.\n",
    "Duration duration = Duration.between(oldDate, ldt);\n",
    "System.out.println(duration.getSeconds() + \" seconds\");\n",
    "\n"
   ]
  },
  {
   "cell_type": "code",
   "execution_count": null,
   "metadata": {
    "vscode": {
     "languageId": "java"
    }
   },
   "outputs": [],
   "source": [
    "// Period class\n",
    "\n",
    "// Hier kunnen we de dagen instellen\n",
    "Period tenDays = Period.ofDays(10);\n",
    "System.out.println(tenDays.getDays()); \n",
    "\n",
    "// 2 datums creëren om de volgende bewerking te doen.\n",
    "LocalDate oldDate = LocalDate.of(1985, Month.NOVEMBER, 23);\n",
    "LocalDate newDate = LocalDate.of(2022, Month.AUGUST, 22);\n",
    "\n",
    "// check period between dates\n",
    "Period period = Period.between(oldDate, newDate);\n",
    "\n",
    "System.out.print(period.getYears() + \" years,\");\n",
    "System.out.print(period.getMonths() + \" months,\");\n",
    "System.out.print(period.getDays() + \" days\");"
   ]
  },
  {
   "cell_type": "code",
   "execution_count": null,
   "metadata": {
    "vscode": {
     "languageId": "java"
    }
   },
   "outputs": [],
   "source": [
    "// ChronoUnit class\n",
    "\n",
    "// Creëren van een datum\n",
    "LocalDateTime oldDate = LocalDateTime.of(1985, 11, 23, 12, 29, 55);\n",
    "LocalDateTime newDate = LocalDateTime.of(2022, 8, 22, 2, 15, 33);\n",
    "\n",
    "// calculate tijd tussen de 2 datums\n",
    "long years = ChronoUnit.YEARS.between(oldDate, newDate);\n",
    "long months = ChronoUnit.MONTHS.between(oldDate, newDate);\n",
    "long weeks = ChronoUnit.WEEKS.between(oldDate, newDate);\n",
    "long days = ChronoUnit.DAYS.between(oldDate, newDate);\n",
    "long hours = ChronoUnit.HOURS.between(oldDate, newDate);\n",
    "long minutes = ChronoUnit.MINUTES.between(oldDate, newDate);\n",
    "long seconds = ChronoUnit.SECONDS.between(oldDate, newDate);\n",
    "long milis = ChronoUnit.MILLIS.between(oldDate, newDate);\n",
    "long nano = ChronoUnit.NANOS.between(oldDate, newDate);\n",
    "\n",
    "System.out.println(years + \" years\");\n",
    "System.out.println(months + \" months\");\n",
    "System.out.println(weeks + \" weeks\");\n",
    "System.out.println(days + \" days\");\n",
    "System.out.println(hours + \" hours\");\n",
    "System.out.println(minutes + \" minutes\");\n",
    "System.out.println(seconds + \" seconds\");\n",
    "System.out.println(milis + \" milis\");\n",
    "System.out.println(nano + \" nano\");"
   ]
  },
  {
   "cell_type": "markdown",
   "metadata": {},
   "source": [
    "[Ga naar samenvatting en oefeningen](/Notebooks/Nederlands/02%20-%20Object%20georienteerde%20programmeren/07%20date%20%26%20time/07.samenvatting.ipynb)"
   ]
  }
 ],
 "metadata": {
  "kernelspec": {
   "display_name": "Java",
   "language": "java",
   "name": "java"
  },
  "language_info": {
   "codemirror_mode": "java",
   "file_extension": ".jshell",
   "mimetype": "text/x-java-source",
   "name": "Java",
   "pygments_lexer": "java",
   "version": "11.0.11+9-LTS"
  },
  "orig_nbformat": 4,
  "vscode": {
   "interpreter": {
    "hash": "217c631b613e36ff4b9cdbe99ee2d03b09d4e7c1f494b32c9aa8f6b180d54c14"
   }
  }
 },
 "nbformat": 4,
 "nbformat_minor": 2
}
