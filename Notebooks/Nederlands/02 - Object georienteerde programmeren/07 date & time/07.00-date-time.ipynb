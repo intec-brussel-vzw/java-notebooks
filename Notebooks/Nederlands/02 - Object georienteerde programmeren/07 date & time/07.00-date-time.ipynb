{
 "cells": [
  {
   "cell_type": "markdown",
   "metadata": {},
   "source": [
    "![](https://intecbrussel.be/img/logo3.png)  \n",
    "_Java les-materialen_"
   ]
  },
  {
   "cell_type": "markdown",
   "metadata": {},
   "source": [
    "# Date & Time\n",
    "In Java hebben we een aantal klassen om te werken met datums en tijd. In dit deel gaan we de klassen bekijken en de belangrijkste methodes die we hiervan gaan gebruiken.\n",
    "\n",
    "De klassen die we gaan bekijken zijn:\n",
    "- [Instant class](/Notebooks/Nederlands/02%20-%20Object%20georienteerde%20programmeren/07%20date%20%26%20time/07.01-instant-class.ipynb)\n",
    "- OffsetDateTime\n",
    "- LocalTime class\n",
    "- LocalDate class\n",
    "- LocalDateTime class\n",
    "\n",
    "Na deze klassen gaan we ook nog even dieper in op het formatteren van datum en tijd."
   ]
  },
  {
   "cell_type": "markdown",
   "metadata": {},
   "source": [
    "De Instant class en LocalDateTime zijn twee verschillende types, de **Instant class** weerspiegeld een moment in UTC, LocalDateTime niet.\n",
    "\n",
    "- **Instant** weerspiegeld een moment, een specifiek punt in de tijd.\n",
    "- **LocalDateTime** stelt een datum en tijd voor. Maar LocalDateTime houdt geen rekening met tijdzone of *offset van UTC*, het kan geen specifiek moment voorstellen. De waarde van LocalDateTime is dus dubbelzinnig omdat het geen rekening houdt met tijdzones."
   ]
  },
  {
   "cell_type": "markdown",
   "metadata": {},
   "source": [
    "### Instant class\n",
    "\n",
    "Wanneer we de functie *now()* gebruiken van de Instant class, krijgen we de het huidige moment terug UTC. Omdat meestal onze *\"business logic\"*, *\"data storage\"* en *\"data exchange\"* in UTC formaat is, is dit een handige class om te gaan gebruiken.\n",
    "\n",
    "![instant now](./src/now.png)"
   ]
  },
  {
   "cell_type": "code",
   "execution_count": null,
   "metadata": {
    "vscode": {
     "languageId": "java"
    }
   },
   "outputs": [],
   "source": [
    "import java.time.*;\n",
    "\n",
    "Instant dateAndTime = Instant.now();\n",
    "System.out.println(dateAndTime);"
   ]
  },
  {
   "cell_type": "markdown",
   "metadata": {},
   "source": [
    "### OffsetDateTime\n",
    "\n",
    "De class OffsetDateTime stelt een moment voor als Datum en tijd net zoals Instant maar het houdt rekening met de tijdzone van uw machine.\n",
    "\n",
    "![offset](./src/offsetDateTime.png)"
   ]
  },
  {
   "cell_type": "code",
   "execution_count": null,
   "metadata": {
    "vscode": {
     "languageId": "java"
    }
   },
   "outputs": [],
   "source": [
    "import java.time.*;\n",
    "import java.time.temporal.*;\n",
    "\n",
    "OffsetDateTime offsetDateTime = OffsetDateTime.now();\n",
    "\n",
    "System.out.println(offsetDateTime);"
   ]
  },
  {
   "cell_type": "markdown",
   "metadata": {},
   "source": [
    "### LocalDate, LocalTime, LocalDateTime\n",
    "\n",
    "De localDate, LocalTime en LocalDateTime zijn een reeks klassen die niet gebonden zijn aan tijdzones. Dit zijn onveranderlijke objecten dat de datum en tijd representeert met een default format is yyyy-MM-dd-HH-mm-ss.zzz. "
   ]
  },
  {
   "cell_type": "code",
   "execution_count": null,
   "metadata": {
    "vscode": {
     "languageId": "java"
    }
   },
   "outputs": [],
   "source": [
    "import java.time.LocalDateTime;  \n",
    "\n",
    "LocalDateTime ldtNow = LocalDateTime.now();  \n",
    "System.out.println(ldtNow);"
   ]
  },
  {
   "cell_type": "markdown",
   "metadata": {},
   "source": [
    "### DateTimeFormatter class\n",
    "\n",
    "Deze klas kan gebruikt worden om datum en tijd te printen en ontleden zodat je een leesbaarder ontwerp krijgt. \n",
    "\n",
    "\n",
    "Meer complexen manieren voor datum en tijd te formatteren kun je vinden in de klassen [DateTimeFormatterBuilder](https://docs.oracle.com/javase/8/docs/api/java/time/format/DateTimeFormatterBuilder.html) \n"
   ]
  },
  {
   "cell_type": "code",
   "execution_count": null,
   "metadata": {
    "vscode": {
     "languageId": "java"
    }
   },
   "outputs": [],
   "source": [
    "import java.time.LocalDateTime;  \n",
    "import java.time.format.DateTimeFormatter;  \n",
    "\n",
    "\n",
    "LocalDateTime now = LocalDateTime.now();  \n",
    "System.out.println(\"Before Formatting: \" + now);  \n",
    "\n",
    "DateTimeFormatter format = DateTimeFormatter.ofPattern(\"dd-MM-yyyy HH:mm:ss\");  \n",
    "\n",
    "String formatDateTime = now.format(format);  \n",
    "System.out.println(\"After Formatting: \" + formatDateTime);  "
   ]
  }
 ],
 "metadata": {
  "kernelspec": {
   "display_name": "Java",
   "language": "java",
   "name": "java"
  },
  "language_info": {
   "codemirror_mode": "java",
   "file_extension": ".jshell",
   "mimetype": "text/x-java-source",
   "name": "Java",
   "pygments_lexer": "java",
   "version": "11.0.11+9-LTS"
  },
  "orig_nbformat": 4,
  "vscode": {
   "interpreter": {
    "hash": "217c631b613e36ff4b9cdbe99ee2d03b09d4e7c1f494b32c9aa8f6b180d54c14"
   }
  }
 },
 "nbformat": 4,
 "nbformat_minor": 2
}
