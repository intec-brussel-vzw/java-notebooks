{
 "cells": [
  {
   "cell_type": "markdown",
   "metadata": {
    "pycharm": {
     "name": "#%% md\n"
    }
   },
   "source": [
    "![](https://intecbrussel.be/img/logo3.png)  \n",
    "_Java les-materialen_"
   ]
  },
  {
   "cell_type": "markdown",
   "metadata": {},
   "source": [
    "# Variabelen\n",
    "\n",
    "### Wat zijn variabelen\n",
    "Variabelen is een stukje geheugen dat gereserveerd wordt in het geheugen van onze machine door onze applicatie. In dit stukje geheugen kunnen we informatie bewaren dat we tijdens het uitvoeren van onze applicatie telkens opnieuw kunnen opvragen. We kunnen ook de waarde ervan veranderen."
   ]
  },
  {
   "cell_type": "markdown",
   "metadata": {
    "pycharm": {
     "name": "#%% md\n"
    }
   },
   "source": [
    "### Variabele Toewijzing (Assignments)\n",
    "Wanneer we een variabele willen gaan declareren moeten we ons aan een aantal voorwaarden houden.\n",
    "\n",
    "- Namen mogen niet beginnen met een cijfer\n",
    "- Namen mogen geen spaties bevatten, gebruik in plaats van een spatie een underscore. Het is aanbevolen om CamelCase te gebruiken.\n",
    "- Namen mogen geen van deze symbolen bevatten zoals: '\",<>/?|\\!@#%^&*~-+\n",
    "- Namen mogen niet verwijzen naar al bestaande kernwoorden van de programmeer taal\n",
    "- Vermijd het gebruik van de enkele karakters `l` (kleine letter l), `O` (hoofdletter o) en `I` (hoofdletter i), aangezien deze kunnen worden verward met `1` en `0`.\n"
   ]
  },
  {
   "cell_type": "markdown",
   "metadata": {
    "pycharm": {
     "name": "#%% md\n"
    }
   },
   "source": [
    "### Variabelen toewijzen\n",
    "Variabele toewijzing volgt `datatype variabelNaam = waarden`, waarbij een enkel gelijkteken `=` een *toewijzingsoperator* is"
   ]
  },
  {
   "cell_type": "code",
   "execution_count": null,
   "metadata": {},
   "outputs": [],
   "source": [
    "int a = 5;"
   ]
  },
  {
   "cell_type": "markdown",
   "metadata": {},
   "source": [
    "### Variabele afdrukken\n",
    "Om een variabele af te drukken kunnen we gebruik maken van ```System.out.println()``` "
   ]
  },
  {
   "cell_type": "code",
   "execution_count": null,
   "metadata": {
    "collapsed": true,
    "pycharm": {
     "name": "#%%\n"
    }
   },
   "outputs": [
    {
     "name": "stdout",
     "output_type": "stream",
     "text": [
      "5\n"
     ]
    }
   ],
   "source": [
    "int a = 5;\n",
    "System.out.println(a);"
   ]
  },
  {
   "cell_type": "markdown",
   "metadata": {
    "pycharm": {
     "name": "#%% md\n"
    }
   },
   "source": [
    "### Variabelen opnieuw toewijzen\n",
    "Met Java kun je variabelen opnieuw toewijzen met een verwijzing naar hetzelfde object."
   ]
  },
  {
   "cell_type": "markdown",
   "metadata": {
    "pycharm": {
     "name": "#%% md\n"
    }
   },
   "source": [
    "Hier hebben we het integer-object `5` toegewezen aan de variabelenaam `a` hierboven.<br>Laten we `a` aan iets anders toewijzen:"
   ]
  },
  {
   "cell_type": "code",
   "execution_count": null,
   "metadata": {
    "collapsed": true,
    "pycharm": {
     "name": "#%%\n"
    }
   },
   "outputs": [
    {
     "name": "stdout",
     "output_type": "stream",
     "text": [
      "10\n"
     ]
    }
   ],
   "source": [
    "int a = 10;\n",
    "System.out.println(a);"
   ]
  },
  {
   "cell_type": "code",
   "execution_count": null,
   "metadata": {
    "collapsed": true,
    "pycharm": {
     "name": "#%%\n"
    }
   },
   "outputs": [],
   "source": [
    "a = a + 10;\n",
    "System.out.println(a);"
   ]
  },
  {
   "cell_type": "markdown",
   "metadata": {
    "pycharm": {
     "name": "#%% md\n"
    }
   },
   "source": [
    "U kunt nu `a` gebruiken in plaats van het getal `10`:"
   ]
  },
  {
   "cell_type": "code",
   "execution_count": null,
   "metadata": {
    "pycharm": {
     "name": "#%%\n"
    }
   },
   "outputs": [
    {
     "name": "stdout",
     "output_type": "stream",
     "text": [
      "20\n"
     ]
    }
   ],
   "source": [
    "a = a + a;\n",
    "System.out.println(a);"
   ]
  },
  {
   "cell_type": "markdown",
   "metadata": {
    "pycharm": {
     "name": "#%% md\n"
    }
   },
   "source": [
    "Hier is ook een snellere manier voor. Met Java kun je getallen optellen, aftrekken, vermenigvuldigen en delen door ze opnieuw toe te wijzen met behulp van de operatoren te combineren `+=`, `-=`, `*=` en `/=`."
   ]
  },
  {
   "cell_type": "code",
   "execution_count": null,
   "metadata": {
    "collapsed": true,
    "pycharm": {
     "name": "#%%\n"
    }
   },
   "outputs": [
    {
     "name": "stdout",
     "output_type": "stream",
     "text": [
      "50\n"
     ]
    }
   ],
   "source": [
    "a += 10;\n",
    "System.out.println(a);"
   ]
  },
  {
   "cell_type": "code",
   "execution_count": null,
   "metadata": {
    "collapsed": true,
    "pycharm": {
     "name": "#%%\n"
    }
   },
   "outputs": [
    {
     "name": "stdout",
     "output_type": "stream",
     "text": [
      "100\n"
     ]
    }
   ],
   "source": [
    "a *= 2;\n",
    "System.out.println(a);"
   ]
  },
  {
   "cell_type": "markdown",
   "metadata": {},
   "source": [
    "### Primitive data-typen"
   ]
  },
  {
   "cell_type": "markdown",
   "metadata": {},
   "source": [
    "Deze soort van de data-typen fungeren zoals key-value paren. \n",
    "\n",
    "Voorbeeld scenario: \n",
    "\n",
    "- a is gelijk aan 10: In het geheuge maakt Java een nieuwe disk-spatie voor a. Dan is de waarde 10 aangepast voor de variabel 'a'.\n",
    "\n",
    "- b is gelijk aan 20 -> In het geheuge maakt Java een nieuwe disk-spatie voor b. Dan is de waarde 10 aangepast voor de variabel 'b'.\n",
    "\n",
    "- c is gelijk aan de sum van a en b -> In het geheuge maakt Java een nieuwe disk-spatie voor c. \n",
    "                                     Dan is de sum van a en b samengevoegd en doorgegeven als de waarde van de variabel 'c'.\n",
    "\n",
    "Primitive datatypen hebben altijd default waardes (values). Voer de volgende code-stuk om zich te observeren.\n"
   ]
  },
  {
   "cell_type": "code",
   "execution_count": null,
   "metadata": {},
   "outputs": [],
   "source": [
    "int a = 10;\n",
    "int b = 20;\n",
    "int c = a + b;\n",
    "\n",
    "System.out.println(\"The value of a is \" + a);\n",
    "System.out.println(\"The value of b is \" + b);\n",
    "System.out.println(\"The sum of a and b is \" + c);\n",
    "\n",
    "int d;\n",
    "\n",
    "System.out.println(\"The default value of d is \" + d);"
   ]
  },
  {
   "cell_type": "markdown",
   "metadata": {},
   "source": [
    "Hieronder vind je alle primitieve datatypes met de min en max waarden. Na dit tabel gaan we verder om voorbeelden te geven van elk type. \n",
    "\n",
    "Zie hier de documentatie over [Primitieve datatypes](https://docs.oracle.com/javase/tutorial/java/nutsandbolts/datatypes.html)"
   ]
  },
  {
   "cell_type": "markdown",
   "metadata": {},
   "source": [
    "Datatype | voorbeeld min en max \n",
    "---|---\n",
    "byte | -128 MAX 127\n",
    "short | -32768 MAX 32767\n",
    "int | -2^31 = -2147483648 MAX 2^31-1 = 2147483647\n",
    "long | MIN -2^63 = -9223372036854775808 MAX 2^63-1 = 9223372036854775807\n",
    "float | MIN -3.4E+38 = 1.4E-45 MAX 3.4E+38 = 3.4028235E38\n",
    "double | MIN -1.7E+308 = 4.9E-324 MAX 1.7E+308 = 1.7976931348623157E308\n",
    "boolean | false and true\n",
    "char | MIN '\\u0000' (or 0) of '\\uffff' (of 65,535 inclusief)"
   ]
  },
  {
   "cell_type": "markdown",
   "metadata": {},
   "source": [
    "### Byte"
   ]
  },
  {
   "cell_type": "code",
   "execution_count": null,
   "metadata": {},
   "outputs": [],
   "source": [
    "byte a = 10;\n",
    "byte b = -20;\n",
    "\n",
    "System.out.println(\"De waarde van variabel a = \" + a);\n",
    "System.out.println(\"De waarde van variabel b = \" + b);\n",
    "\n",
    "byte c;\n",
    "\n",
    "System.out.println(\"De default waarde van datatype byte = \" + c);"
   ]
  },
  {
   "cell_type": "markdown",
   "metadata": {},
   "source": [
    "### Short\n"
   ]
  },
  {
   "cell_type": "code",
   "execution_count": null,
   "metadata": {},
   "outputs": [],
   "source": [
    "short a = 10;\n",
    "short b = -20;\n",
    "\n",
    "System.out.println(\"De waarde van variabel a = \" + a);\n",
    "System.out.println(\"De waarde van variabel b = \" + b);\n",
    "\n",
    "short c;\n",
    "\n",
    "System.out.println(\"De default waarde van datatype short = \" + c);"
   ]
  },
  {
   "cell_type": "markdown",
   "metadata": {},
   "source": [
    "### Integer"
   ]
  },
  {
   "cell_type": "code",
   "execution_count": null,
   "metadata": {},
   "outputs": [],
   "source": [
    "int a = 10;\n",
    "int b = 20;\n",
    "int c = a + b;\n",
    "\n",
    "System.out.println(\"The value of a is \" + a);\n",
    "System.out.println(\"The value of b is \" + b);\n",
    "System.out.println(\"The sum of a and b is \" + c);\n",
    "\n",
    "int d;\n",
    "\n",
    "System.out.println(\"The default value of d is \" + d);\n"
   ]
  },
  {
   "cell_type": "markdown",
   "metadata": {},
   "source": [
    "### Long"
   ]
  },
  {
   "cell_type": "markdown",
   "metadata": {},
   "source": [
    "We moeten aangeven als we met het datatype long werken dit doen we door L achter het getal te zetten. Dit komt doordat de default datatype int is."
   ]
  },
  {
   "cell_type": "code",
   "execution_count": null,
   "metadata": {},
   "outputs": [],
   "source": [
    "long a = 10000000L;\n",
    "long b = 20000000L;\n",
    "long c = a + b;\n",
    "\n",
    "System.out.println(\"The value of a is \" + a);\n",
    "System.out.println(\"The value of b is \" + b);\n",
    "System.out.println(\"The sum of a and b is \" + c);\n",
    "\n",
    "long d;\n",
    "\n",
    "System.out.println(\"The default value of d is \" + d);"
   ]
  },
  {
   "cell_type": "markdown",
   "metadata": {},
   "source": [
    "### Float"
   ]
  },
  {
   "cell_type": "markdown",
   "metadata": {},
   "source": [
    "Als je float wil gebruiken moet je achter het getal F of f plaatsten. Dit komt doordat voor een decimaal getal het default datatype double is."
   ]
  },
  {
   "cell_type": "code",
   "execution_count": null,
   "metadata": {},
   "outputs": [],
   "source": [
    "float a = 10000F;\n",
    "float b = 20000F;\n",
    "float c = a + b;\n",
    "\n",
    "System.out.println(\"The value of a is \" + a);\n",
    "System.out.println(\"The value of b is \" + b);\n",
    "System.out.println(\"The sum of a and b is \" + c);\n",
    "\n",
    "float dF;\n",
    "\n",
    "System.out.println(\"The default value of d is \" + d);"
   ]
  },
  {
   "cell_type": "markdown",
   "metadata": {},
   "source": [
    "### Double"
   ]
  },
  {
   "cell_type": "code",
   "execution_count": null,
   "metadata": {},
   "outputs": [],
   "source": [
    "double a = 10000D;\n",
    "double b = 20000D;\n",
    "double c = a + b;\n",
    "\n",
    "System.out.println(\"The value of a is \" + a);\n",
    "System.out.println(\"The value of b is \" + b);\n",
    "System.out.println(\"The sum of a and b is \" + c);\n",
    "\n",
    "float d;\n",
    "\n",
    "System.out.println(\"The default value of d is \" + d);"
   ]
  },
  {
   "cell_type": "markdown",
   "metadata": {},
   "source": [
    "### boolean"
   ]
  },
  {
   "cell_type": "code",
   "execution_count": null,
   "metadata": {},
   "outputs": [],
   "source": [
    "boolean aa = false;\n",
    "boolean bb = true;\n",
    "boolean cc;\n",
    "\n",
    "System.out.println(\"The value of aa: \" + aa);\n",
    "System.out.println(\"The value of bb: \" + bb);\n",
    "System.out.println(\"The default value of a boolean is : \" + cc);\n",
    "\n",
    "boolean dd = (aa == cc);\n",
    "\n",
    "System.out.println(\"Have aa and cc equal values: \" +  dd);\n",
    "\n"
   ]
  },
  {
   "cell_type": "markdown",
   "metadata": {},
   "source": [
    "### Char"
   ]
  },
  {
   "cell_type": "markdown",
   "metadata": {},
   "source": [
    "\n",
    "\n",
    "Een char doen we ook anders aangeven. Bij een string gebruiken we de dubbel quotes maar bij een char gebruiken we de enkelen quotes. Zie hieronder voor een voorbeeld.  \n",
    "\n",
    "De default van een char is een lege plek '\\u0000' (or 0) daarom zien we niks als we dit uitprinten."
   ]
  },
  {
   "cell_type": "code",
   "execution_count": null,
   "metadata": {},
   "outputs": [],
   "source": [
    "\n",
    "char firstLetter = 'a';\n",
    "char aChar;\n",
    "\n",
    "System.out.println(\"The value of firstLetter is: \" + firstLetter);\n",
    "System.out.println(\"The default value of a char is : \" + aChar);\n"
   ]
  },
  {
   "cell_type": "markdown",
   "metadata": {
    "pycharm": {
     "name": "#%% md\n"
    }
   },
   "source": [
    "### Dynamisch typen\n",
    "\n",
    "Java gebruikt *dynamische typen*, wat betekent dat je variabelen opnieuw kunt toewijzen aan verschillende gegevenstypen. Dit maakt Java erg flexibel in het toewijzen van datatypes; het verschilt van andere talen die *statisch getypt* zijn."
   ]
  },
  {
   "cell_type": "code",
   "execution_count": null,
   "metadata": {
    "collapsed": true,
    "pycharm": {
     "name": "#%%\n"
    }
   },
   "outputs": [
    {
     "name": "stdout",
     "output_type": "stream",
     "text": [
      "2\n",
      "1.9\n",
      "Nu is het een string\n"
     ]
    }
   ],
   "source": [
    "var myNumbers = 2;\n",
    "System.out.println(myNumbers);\n",
    "\n",
    "var myNumbers = 1.9;\n",
    "System.out.println(myNumbers);\n",
    "\n",
    "var myNumbers = \"Nu is het een string\";\n",
    "System.out.println(myNumbers);\n"
   ]
  },
  {
   "cell_type": "markdown",
   "metadata": {
    "pycharm": {
     "name": "#%% md\n"
    }
   },
   "source": [
    "### Voor- en nadelen van dynamisch typen\n",
    "#### Voordelen van dynamisch typen\n",
    "* Zeer gemakkelijk om mee te werken.\n",
    "* Snellere ontwikkeltijd.\n",
    "\n",
    "#### Nadelen van dynamisch typen\n",
    "* Het kan leiden tot onverwachte bugs!\n",
    "* Je moet op de hoogte zijn van welk `datatype` je gebruikt.\n",
    "\n",
    "\n",
    "[Ga naar samenvatting en oefeningen](/Notebooks/Nederlands/01%20-%20Basisprogrammeren/01%20variables%20datatypes/01.samenvatting.ipynb)"
   ]
  }
 ],
 "metadata": {
  "kernelspec": {
   "display_name": "Python 3.10.6 64-bit (windows store)",
   "language": "python",
   "name": "python3"
  },
  "language_info": {
   "name": "python",
   "version": "3.10.6"
  },
  "orig_nbformat": 4,
  "vscode": {
   "interpreter": {
    "hash": "6b37d82d5803a5e2590946df6dbaaa38f6646f38cc7b4ff419918623f65de815"
   }
  }
 },
 "nbformat": 4,
 "nbformat_minor": 2
}
