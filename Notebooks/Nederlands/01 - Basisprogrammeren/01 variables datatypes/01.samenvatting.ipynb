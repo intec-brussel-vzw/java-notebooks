{
 "cells": [
  {
   "cell_type": "markdown",
   "metadata": {
    "pycharm": {
     "name": "#%% md\n"
    }
   },
   "source": [
    "![](https://intecbrussel.be/img/logo3.png)  \n",
    "_Java les-materialen_"
   ]
  },
  {
   "cell_type": "markdown",
   "metadata": {},
   "source": [
    "\n",
    "[maak overzicht]\n",
    "## Regels voor namen van variabelen (Naamgevingsconventies)\n",
    "\n",
    "* Namen mogen niet beginnen met een cijfer\n",
    "* Namen mogen geen spaties bevatten, gebruik in plaats van een spatie een underscore. Het is aanbevolen om CamelCase te gebruiken.\n",
    "* Namen mogen geen van deze symbolen bevatten:\n",
    "\n",
    "       :'\",<>/?|\\!@#%^&*~-+\n",
    "       \n",
    "* Deze link verwijst voorbeelden en documentatie ([Oracle doc](https://docs.oracle.com/javase/tutorial/java/nutsandbolts/variables.html)).\n",
    "* Vermijd het gebruik van ingebouwde Java-sleutelwoorden zoals `list` en `str` ([keywords in Java](https://docs.oracle.com/javase/tutorial/java/nutsandbolts/_keywords.html)).\n",
    "* Vermijd het gebruik van de enkele karakters `l` (kleine letter l), `O` (hoofdletter o) en `I` (hoofdletter i), aangezien deze kunnen worden verward met `1` en `0`."
   ]
  }
 ],
 "metadata": {
  "kernelspec": {
   "display_name": "Python 3.10.6 64-bit (windows store)",
   "language": "python",
   "name": "python3"
  },
  "language_info": {
   "name": "python",
   "version": "3.10.6"
  },
  "orig_nbformat": 4,
  "vscode": {
   "interpreter": {
    "hash": "6b37d82d5803a5e2590946df6dbaaa38f6646f38cc7b4ff419918623f65de815"
   }
  }
 },
 "nbformat": 4,
 "nbformat_minor": 2
}
