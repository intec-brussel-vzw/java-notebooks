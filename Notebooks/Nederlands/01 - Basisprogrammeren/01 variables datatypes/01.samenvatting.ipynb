{
 "cells": [
  {
   "cell_type": "markdown",
   "metadata": {
    "pycharm": {
     "name": "#%% md\n"
    }
   },
   "source": [
    "![](https://intecbrussel.be/img/logo3.png)  \n",
    "_Java les-materialen_"
   ]
  },
  {
   "cell_type": "markdown",
   "metadata": {},
   "source": [
    "# Samenvatting\n",
    "\n",
    "We hebben in dit hoofdstuk nu bekeken hoe we variabelen kunnen declareren en initialiseren met **statische datatypes**. En dat we op een dynamische manier in Java types kunnen schrijven en wat de verschillende datatypes zijn.\n",
    "\n",
    "overzicht datatypes:\n",
    "Datatype | voorbeeld \n",
    "---|---\n",
    "byte | ```byte number = 127;```\n",
    "short | ```short number = 1000;```\n",
    "int | ```int number = 3378;```\n",
    "long | ```long number = 47384L;```\n",
    "float | ```float number = -343847.43784f;```\n",
    "double | ```double number = 743493.4743;```\n",
    "boolean | ```boolean isRaining = false;```\n",
    "char | ```char character = 'Q';```"
   ]
  },
  {
   "cell_type": "markdown",
   "metadata": {},
   "source": [
    "Dynamische variabelen:"
   ]
  },
  {
   "cell_type": "code",
   "execution_count": null,
   "metadata": {},
   "outputs": [],
   "source": [
    "var number = 43439.463746F;\n",
    "System.out.println(number);"
   ]
  },
  {
   "cell_type": "markdown",
   "metadata": {},
   "source": [
    "# Oefeningen\n",
    "Test je kennis met de volgende oefeningen."
   ]
  },
  {
   "cell_type": "markdown",
   "metadata": {},
   "source": [
    "### Oefening 1\n",
    "Declareer en initialiseer de variabele number."
   ]
  },
  {
   "cell_type": "code",
   "execution_count": null,
   "metadata": {},
   "outputs": [],
   "source": [
    "// declareer en initialiseer uw variabele onder deze lijn.\n",
    "\n",
    "System.out.println(number);"
   ]
  },
  {
   "cell_type": "markdown",
   "metadata": {},
   "source": [
    "### Oefening 2\n",
    "Declareer en initialiseer een variabele en druk deze af, zorg ervoor dat we true op het scherm krijgen."
   ]
  },
  {
   "cell_type": "code",
   "execution_count": null,
   "metadata": {},
   "outputs": [],
   "source": [
    "// Plaats de code hier van oefening 2"
   ]
  },
  {
   "cell_type": "markdown",
   "metadata": {},
   "source": [
    "### Oefening 3\n",
    "Gebruik de 4 manieren om kort en snel een berekening te doen en het antwoord toe te wijzen. Print deze antwoorden uit. "
   ]
  },
  {
   "cell_type": "code",
   "execution_count": null,
   "metadata": {},
   "outputs": [],
   "source": [
    "// Plaats de code hier van oefening 3"
   ]
  },
  {
   "cell_type": "markdown",
   "metadata": {},
   "source": [
    "[Gaan naar het volgende hoofdstuk *operators*](/Notebooks/Nederlands/01%20-%20Basisprogrammeren/02%20operators/02.00%20operators.ipynb)"
   ]
  }
 ],
 "metadata": {
  "kernelspec": {
   "display_name": "Java",
   "language": "java",
   "name": "java"
  },
  "language_info": {
   "codemirror_mode": "java",
   "file_extension": ".jshell",
   "mimetype": "text/x-java-source",
   "name": "java",
   "pygments_lexer": "java",
   "version": "11.0.11+9-LTS"
  },
  "orig_nbformat": 4,
  "vscode": {
   "interpreter": {
    "hash": "217c631b613e36ff4b9cdbe99ee2d03b09d4e7c1f494b32c9aa8f6b180d54c14"
   }
  }
 },
 "nbformat": 4,
 "nbformat_minor": 2
}
