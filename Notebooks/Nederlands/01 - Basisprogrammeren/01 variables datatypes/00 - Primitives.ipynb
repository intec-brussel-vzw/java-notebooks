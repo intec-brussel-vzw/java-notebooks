{
 "cells": [
  {
   "cell_type": "markdown",
   "metadata": {},
   "source": [
    "# Primitive data-typen"
   ]
  },
  {
   "cell_type": "markdown",
   "metadata": {},
   "source": [
    "Deze soort van de data-typen fungeren zoals key-value paren. \n",
    "\n",
    "Voorbeeld scenario: \n",
    "\n",
    "- a is gelijk aan 10: In het geheuge maakt Java een nieuwe disk-spatie voor a. Dan is de waarde 10 aangepast voor de variabel 'a'.\n",
    "\n",
    "- b is gelijk aan 20 -> In het geheuge maakt Java een nieuwe disk-spatie voor b. Dan is de waarde 10 aangepast voor de variabel 'b'.\n",
    "\n",
    "- c is gelijk aan de sum van a en b -> In het geheuge maakt Java een nieuwe disk-spatie voor c. \n",
    "                                     Dan is de sum van a en b samengevoegd en doorgegeven als de waarde van de variabel 'c'.\n",
    "\n",
    "Primitive datatypen hebben altijd default waardes (values). Voer de volgende code-stuk om zich te observeren.\n"
   ]
  },
  {
   "cell_type": "code",
   "execution_count": null,
   "metadata": {},
   "outputs": [],
   "source": [
    "int a = 10;\n",
    "int b = 20;\n",
    "int c = a + b;\n",
    "\n",
    "System.out.println(\"The value of a is \" + a);\n",
    "System.out.println(\"The value of b is \" + b);\n",
    "System.out.println(\"The sum of a and b is \" + c);\n",
    "\n",
    "int d;\n",
    "\n",
    "System.out.println(\"The default value of d is \" + d);"
   ]
  },
  {
   "cell_type": "markdown",
   "metadata": {},
   "source": [
    "Hieronder vind je alle primitieve datatypes met de min en max waarden. Na dit tabel gaan we verder om voorbeelden te geven van elk type. \n",
    "\n",
    "Zie hier de documentatie over [Primitieve datatypes](https://docs.oracle.com/javase/tutorial/java/nutsandbolts/datatypes.html)"
   ]
  },
  {
   "cell_type": "markdown",
   "metadata": {},
   "source": [
    "Datatype | voorbeeld min en max \n",
    "---|---\n",
    "byte | -128 MAX 127\n",
    "short | -32768 MAX 32767\n",
    "int | -2^31 = -2147483648 MAX 2^31-1 = 2147483647\n",
    "long | MIN -2^63 = -9223372036854775808 MAX 2^63-1 = 9223372036854775807\n",
    "float | MIN -3.4E+38 = 1.4E-45 MAX 3.4E+38 = 3.4028235E38\n",
    "double | MIN -1.7E+308 = 4.9E-324 MAX 1.7E+308 = 1.7976931348623157E308\n",
    "boolean | false and true\n",
    "char | MIN '\\u0000' (or 0) of '\\uffff' (of 65,535 inclusief)"
   ]
  },
  {
   "cell_type": "markdown",
   "metadata": {},
   "source": [
    "## Byte"
   ]
  },
  {
   "cell_type": "code",
   "execution_count": null,
   "metadata": {},
   "outputs": [],
   "source": [
    "byte a = 10;\n",
    "byte b = -20;\n",
    "\n",
    "System.out.println(\"De waarde van variabel a = \" + a);\n",
    "System.out.println(\"De waarde van variabel b = \" + b);\n",
    "\n",
    "byte c;\n",
    "\n",
    "System.out.println(\"De default waarde van datatype byte = \" + c);"
   ]
  },
  {
   "cell_type": "markdown",
   "metadata": {},
   "source": [
    "## Short\n"
   ]
  },
  {
   "cell_type": "code",
   "execution_count": null,
   "metadata": {},
   "outputs": [],
   "source": [
    "short a = 10;\n",
    "short b = -20;\n",
    "\n",
    "System.out.println(\"De waarde van variabel a = \" + a);\n",
    "System.out.println(\"De waarde van variabel b = \" + b);\n",
    "\n",
    "short c;\n",
    "\n",
    "System.out.println(\"De default waarde van datatype short = \" + c);"
   ]
  },
  {
   "cell_type": "markdown",
   "metadata": {},
   "source": [
    "## Integer"
   ]
  },
  {
   "cell_type": "code",
   "execution_count": null,
   "metadata": {},
   "outputs": [],
   "source": [
    "int a = 10;\n",
    "int b = 20;\n",
    "int c = a + b;\n",
    "\n",
    "System.out.println(\"The value of a is \" + a);\n",
    "System.out.println(\"The value of b is \" + b);\n",
    "System.out.println(\"The sum of a and b is \" + c);\n",
    "\n",
    "int d;\n",
    "\n",
    "System.out.println(\"The default value of d is \" + d);\n"
   ]
  },
  {
   "cell_type": "markdown",
   "metadata": {},
   "source": [
    "## Long"
   ]
  },
  {
   "cell_type": "markdown",
   "metadata": {},
   "source": [
    "We moeten aangeven als we met het datatype long werken dit doen we door L achter het getal te zetten. Dit komt doordat de default datatype int is."
   ]
  },
  {
   "cell_type": "code",
   "execution_count": null,
   "metadata": {},
   "outputs": [],
   "source": [
    "long a = 10000000L;\n",
    "long b = 20000000L;\n",
    "long c = a + b;\n",
    "\n",
    "System.out.println(\"The value of a is \" + a);\n",
    "System.out.println(\"The value of b is \" + b);\n",
    "System.out.println(\"The sum of a and b is \" + c);\n",
    "\n",
    "long d;\n",
    "\n",
    "System.out.println(\"The default value of d is \" + d);"
   ]
  },
  {
   "cell_type": "markdown",
   "metadata": {},
   "source": [
    "## Float"
   ]
  },
  {
   "cell_type": "markdown",
   "metadata": {},
   "source": [
    "Als je float wil gebruiken moet je achter het getal F of f plaatsten. Dit komt doordat voor een decimaal getal het default datatype double is."
   ]
  },
  {
   "cell_type": "code",
   "execution_count": null,
   "metadata": {},
   "outputs": [],
   "source": [
    "float a = 10000F;\n",
    "float b = 20000F;\n",
    "float c = a + b;\n",
    "\n",
    "System.out.println(\"The value of a is \" + a);\n",
    "System.out.println(\"The value of b is \" + b);\n",
    "System.out.println(\"The sum of a and b is \" + c);\n",
    "\n",
    "float dF;\n",
    "\n",
    "System.out.println(\"The default value of d is \" + d);"
   ]
  },
  {
   "cell_type": "markdown",
   "metadata": {},
   "source": [
    "## Double"
   ]
  },
  {
   "cell_type": "code",
   "execution_count": null,
   "metadata": {},
   "outputs": [],
   "source": [
    "double a = 10000D;\n",
    "double b = 20000D;\n",
    "double c = a + b;\n",
    "\n",
    "System.out.println(\"The value of a is \" + a);\n",
    "System.out.println(\"The value of b is \" + b);\n",
    "System.out.println(\"The sum of a and b is \" + c);\n",
    "\n",
    "float d;\n",
    "\n",
    "System.out.println(\"The default value of d is \" + d);"
   ]
  },
  {
   "cell_type": "markdown",
   "metadata": {},
   "source": [
    "## boolean"
   ]
  },
  {
   "cell_type": "code",
   "execution_count": null,
   "metadata": {},
   "outputs": [],
   "source": [
    "boolean aa = false;\n",
    "boolean bb = true;\n",
    "boolean cc;\n",
    "\n",
    "System.out.println(\"The value of aa: \" + aa);\n",
    "System.out.println(\"The value of bb: \" + bb);\n",
    "System.out.println(\"The default value of a boolean is : \" + cc);\n",
    "\n",
    "boolean dd = (aa == cc);\n",
    "\n",
    "System.out.println(\"Have aa and cc equal values: \" +  dd);\n",
    "\n"
   ]
  },
  {
   "cell_type": "markdown",
   "metadata": {},
   "source": [
    "## Char"
   ]
  },
  {
   "cell_type": "markdown",
   "metadata": {},
   "source": [
    "\n",
    "\n",
    "Een char doen we ook anders aangeven. Bij een string gebruiken we de dubbel quotes maar bij een char gebruiken we de enkelen quotes. Zie hieronder voor een voorbeeld.  \n",
    "\n",
    "De default van een char is een lege plek '\\u0000' (or 0) daarom zien we niks als we dit uitprinten."
   ]
  },
  {
   "cell_type": "code",
   "execution_count": null,
   "metadata": {},
   "outputs": [],
   "source": [
    "\n",
    "char firstLetter = 'a';\n",
    "char aChar;\n",
    "\n",
    "System.out.println(\"The value of firstLetter is: \" + firstLetter);\n",
    "System.out.println(\"The default value of a char is : \" + aChar);\n"
   ]
  }
 ],
 "metadata": {
  "kernelspec": {
   "display_name": "Python 3.10.6 64-bit (windows store)",
   "language": "python",
   "name": "python3"
  },
  "language_info": {
   "codemirror_mode": "java",
   "file_extension": ".jshell",
   "mimetype": "text/x-java-source",
   "name": "python",
   "pygments_lexer": "java",
   "version": "3.10.6"
  },
  "vscode": {
   "interpreter": {
    "hash": "6b37d82d5803a5e2590946df6dbaaa38f6646f38cc7b4ff419918623f65de815"
   }
  }
 },
 "nbformat": 4,
 "nbformat_minor": 4
}
