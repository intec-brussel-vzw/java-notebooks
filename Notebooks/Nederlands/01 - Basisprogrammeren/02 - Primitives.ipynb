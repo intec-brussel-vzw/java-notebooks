{
 "cells": [
  {
   "cell_type": "markdown",
   "metadata": {},
   "source": [
    "# Primitive data-typen"
   ]
  },
  {
   "cell_type": "markdown",
   "metadata": {},
   "source": [
    "Deze soort van de data-typen fungeren zoals key-value paren. \n",
    "\n",
    "Voorbeeld scenario: \n",
    "\n",
    "- a is gelijk aan 10: In het geheuge maakt Java een nieuwe disk-spatie voor a. Dan is de waarde 10 aangepast voor de variabel 'a'.\n",
    "\n",
    "- b is gelijk aan 20 -> In het geheuge maakt Java een nieuwe disk-spatie voor b. Dan is de waarde 10 aangepast voor de variabel 'b'.\n",
    "\n",
    "- c is gelijk aan de sum van a en b -> In het geheuge maakt Java een nieuwe disk-spatie voor c. \n",
    "                                     Dan is de sum van a en b samengevoegd en doorgegeven als de waarde van de variabel 'c'.\n",
    "\n",
    "Primitive datatypen hebben altijd default waardes (values). Voer de volgende code-stuk om zich te observeren.\n"
   ]
  },
  {
   "cell_type": "code",
   "execution_count": 2,
   "metadata": {
    "vscode": {
     "languageId": "java"
    }
   },
   "outputs": [
    {
     "name": "stdout",
     "output_type": "stream",
     "text": [
      "The value of a is 10\n",
      "The value of b is 20\n",
      "The sum of a and b is 30\n",
      "The default value of d is 0\n"
     ]
    }
   ],
   "source": [
    "int a = 10;\n",
    "int b = 20;\n",
    "int c = a + b;\n",
    "\n",
    "System.out.println(\"The value of a is \" + a);\n",
    "System.out.println(\"The value of b is \" + b);\n",
    "System.out.println(\"The sum of a and b is \" + c);\n",
    "\n",
    "int d;\n",
    "\n",
    "System.out.println(\"The default value of d is \" + d);\n"
   ]
  },
  {
   "cell_type": "markdown",
   "metadata": {},
   "source": [
    "## boolean"
   ]
  },
  {
   "cell_type": "code",
   "execution_count": 3,
   "metadata": {
    "vscode": {
     "languageId": "java"
    }
   },
   "outputs": [
    {
     "name": "stdout",
     "output_type": "stream",
     "text": [
      "The value of aa: false\n",
      "The value of bb: true\n",
      "The value of cc: false\n",
      "Have aa and cc equal values: true\n"
     ]
    }
   ],
   "source": [
    "boolean aa = false;\n",
    "boolean bb = true;\n",
    "boolean cc;\n",
    "\n",
    "System.out.println(\"The value of aa: \" + aa);\n",
    "System.out.println(\"The value of bb: \" + bb);\n",
    "System.out.println(\"The value of cc: \" + cc);\n",
    "\n",
    "boolean dd = (aa == cc);\n",
    "\n",
    "System.out.println(\"Have aa and cc equal values: \" +  dd);\n",
    "\n"
   ]
  }
 ],
 "metadata": {
  "kernelspec": {
   "display_name": "Java",
   "language": "java",
   "name": "java"
  },
  "language_info": {
   "codemirror_mode": "java",
   "file_extension": ".jshell",
   "mimetype": "text/x-java-source",
   "name": "Java",
   "pygments_lexer": "java",
   "version": "11.0.12+7"
  }
 },
 "nbformat": 4,
 "nbformat_minor": 4
}
