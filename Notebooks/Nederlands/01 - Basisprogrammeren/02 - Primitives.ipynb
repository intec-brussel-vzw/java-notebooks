{
 "cells": [
  {
   "cell_type": "markdown",
   "metadata": {},
   "source": [
    "# Primitive data-typen"
   ]
  },
  {
   "cell_type": "markdown",
   "metadata": {},
   "source": [
    "Deze soort van de data-typen fungeren zoals key-value paren. \n",
    "\n",
    "Voorbeeld scenario: \n",
    "\n",
    "- a is gelijk aan 10: In het geheuge maakt Java een nieuwe disk-spatie voor a. Dan is de waarde 10 aangepast voor de variabel 'a'.\n",
    "\n",
    "- b is gelijk aan 20 -> In het geheuge maakt Java een nieuwe disk-spatie voor b. Dan is de waarde 10 aangepast voor de variabel 'b'.\n",
    "\n",
    "- c is gelijk aan de sum van a en b -> In het geheuge maakt Java een nieuwe disk-spatie voor c. \n",
    "                                     Dan is de sum van a en b samengevoegd en doorgegeven als de waarde van de variabel 'c'.\n",
    "\n",
    "Primitive datatypen zijn automatisch berekent bij Java interpreter. \n",
    "\n",
    "Voer de volgende code-stuk om zich te observeren.\n"
   ]
  },
  {
   "cell_type": "code",
   "execution_count": 1,
   "metadata": {
    "vscode": {
     "languageId": "java"
    }
   },
   "outputs": [
    {
     "data": {
      "text/plain": [
       "30"
      ]
     },
     "execution_count": 1,
     "metadata": {},
     "output_type": "execute_result"
    }
   ],
   "source": [
    "int a = 10;\n",
    "int b = 20;\n",
    "int c = a + b;\n",
    "\n",
    "c;"
   ]
  },
  {
   "cell_type": "markdown",
   "metadata": {},
   "source": [
    "## boolean"
   ]
  },
  {
   "cell_type": "code",
   "execution_count": 7,
   "metadata": {
    "vscode": {
     "languageId": "java"
    }
   },
   "outputs": [
    {
     "name": "stdout",
     "output_type": "stream",
     "text": [
      "true\n"
     ]
    }
   ],
   "source": [
    "boolean b = true;\n",
    "\n",
    "if(b) {\n",
    "    System.out.println(\"true\");\n",
    "} else {\n",
    "    System.out.println(\"false\");\n",
    "}"
   ]
  }
 ],
 "metadata": {
  "kernelspec": {
   "display_name": "Java",
   "language": "java",
   "name": "java"
  },
  "language_info": {
   "codemirror_mode": "java",
   "file_extension": ".jshell",
   "mimetype": "text/x-java-source",
   "name": "Java",
   "pygments_lexer": "java",
   "version": "11.0.12+7"
  }
 },
 "nbformat": 4,
 "nbformat_minor": 4
}
