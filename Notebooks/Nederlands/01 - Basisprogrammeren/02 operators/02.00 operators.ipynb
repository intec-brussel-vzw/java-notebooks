{
 "cells": [
  {
   "cell_type": "markdown",
   "metadata": {},
   "source": [
    "![](https://intecbrussel.be/img/logo3.png)  \n",
    "_Java les-materialen_"
   ]
  },
  {
   "cell_type": "markdown",
   "metadata": {},
   "source": [
    "# Operators"
   ]
  },
  {
   "cell_type": "markdown",
   "metadata": {},
   "source": [
    "### Arithmetic Operator\n",
    "\n",
    "Arithmetic operatoren worden in wiskundige uitdrukkingen op dezelfde manier gebruikt als in de algebra. In de volgende tabel staan de Arithmetic operatoren\n",
    "\n",
    "Voor de volgende voorbeelden gebruiken we voor variabel A = 10 en variabel B = 20.\n",
    "\n",
    "| Operator\t| Beschrijving | Voorbeeld | \n",
    "|---|---|---|\n",
    "| + (Optellen)\t| Voegt waarden toe aan weerszijden van de operator.\t| A + B = 30| \n",
    "| - (Aftrekken)\t| Trekt de rechter operand af van de linker operand.\t| A - B = -10| \n",
    "| * (Vermenigvuldigen)\t| Vermenigvuldigt waarden aan weerszijden van de operator. | A * B = 200|\n",
    "| / (delen)\t| Verdeelt de linker operand door de rechter operand.\t| B / A = 2|\n",
    "| % (Modulus)\t| Verdeelt de linker operand door de rechter operand en geeft de rest terug.\t| B % A = 0|\n",
    "| ++ (Increment)\t| Verhoogt de waarde van de operand met 1.\t| ++B = 21|\n",
    "| -- (Decrement)\t| Verlaagt de waarde van de operand met 1.\t| --B = 19|\n"
   ]
  },
  {
   "cell_type": "code",
   "execution_count": null,
   "metadata": {
    "vscode": {
     "languageId": "java"
    }
   },
   "outputs": [],
   "source": [
    "int A = 10;\n",
    "int B = 20;\n",
    "\n",
    "int sum = A + B;\n",
    "int sub = A - B;\n",
    "int mul = A * B;\n",
    "int div = A / B;\n",
    "int mod = A % B;\n",
    "\n",
    "System.out.println(\"Optellen van A en B is: \" + sum);\n",
    "System.out.println(\"Aftrekken van A en B is: \" + sub);\n",
    "System.out.println(\"Vermenigvuldigen van A en B is: \" + mul);\n",
    "System.out.println(\"delen van A en B is: \" + div);\n",
    "System.out.println(\"Modulus van A en B is: \" + mod);\n",
    "\n",
    "// verhoogt met 1\n",
    "int inc = ++B;\n",
    "System.out.println(\"Increment van A en B is: \" + inc);\n",
    "\n",
    "// verlaagd met 1 terug naar de startwaarde.\n",
    "int ind = --B;\n",
    "System.out.println(\"Decrement van A en B is: \" + ind);"
   ]
  },
  {
   "cell_type": "markdown",
   "metadata": {},
   "source": [
    "### Relational Operators"
   ]
  },
  {
   "cell_type": "markdown",
   "metadata": {},
   "source": [
    "Voor de volgende voorbeelden gebruiken we voor variabel A = 10 en variabel B = 20.\n",
    "\n",
    "| Operator | Beschrijving | Voorbeeld |\n",
    "| --- | --- | --- |\n",
    "| == (Gelijk aan) | Controleert of de waarden van twee operanden gelijk zijn of niet, zo ja, dan wordt de voorwaarde waar. | (A == B) niet waar. |\n",
    "| != (Niet gelijk aan) | Controleert of de waarden van twee operanden gelijk zijn of niet, als de waarden niet gelijk zijn, wordt de voorwaarde waar. | (A != B) waar. |\n",
    "| > (Groter dan) | Controleert of de waarde van de linker operand groter is dan de waarde van de rechter operand, zo ja, dan wordt de voorwaarde waar. | (A > B) niet waar. |\n",
    "| < (Kleiner dan) | Controleert of de waarde van de linker operand kleiner is dan de waarde van de rechter operand, zo ja, dan wordt de voorwaarde waar. | (A < B) waar. |\n",
    "| >= (Groter dan of gelijk aan) | Controleert of de waarde van de linker operand groter is dan of gelijk is aan de waarde van de rechter operand, zo ja, dan wordt de voorwaarde waar. | (A >= B) niet waar. |\n",
    "| <= (Kleiner dan of gelijk aan) | Controleert of de waarde van de linker operand kleiner is dan of gelijk is aan de waarde van de rechter operand, zo ja, dan wordt de voorwaarde waar. | (A <= B) waar. |"
   ]
  },
  {
   "cell_type": "code",
   "execution_count": null,
   "metadata": {
    "vscode": {
     "languageId": "java"
    }
   },
   "outputs": [],
   "source": [
    "int A = 10;\n",
    "int B = 20;\n",
    "\n",
    "boolean gelijkAan = A == B;\n",
    "boolean nietGelijkAan = A != B;\n",
    "boolean groterDan = A > B;\n",
    "boolean kleinerDan = A < B;\n",
    "boolean groterOfGelijk = A >= B;\n",
    "boolean kleinerOfGelijk = A <= B;\n",
    "\n",
    "System.out.println(gelijkAan);\n",
    "System.out.println(nietGelijkAan);\n",
    "System.out.println(groterDan);\n",
    "System.out.println(kleinerDan);\n",
    "System.out.println(groterOfGelijk);\n",
    "System.out.println(kleinerOfGelijk);"
   ]
  },
  {
   "cell_type": "markdown",
   "metadata": {},
   "source": [
    "### Logical Operators\n",
    "\n",
    "Voor de volgende voorbeelden gebruiken we voor variabel A = waar en voor variabel B = niet waar.\n",
    "\n",
    "| Operator | Beschrijving | voorbeeld |\n",
    "| --- | --- | --- |\n",
    "| && (logische AND) | Logische AND-operator genoemd. Als beide operanden niet nul zijn, wordt de voorwaarde waar. | (A && B) niet waar |\n",
    "| \\|\\| (logische OR) | Logische OR-operator genoemd. Als een van de twee operanden niet nul is, wordt de voorwaarde waar. | (A \\|\\| B) waar |\n",
    "| ! (logische NOT) | Logische NIET-operator genoemd. Gebruiken om de logische status van de operand om te keren. Als een voorwaarde waar is, maakt de logische NIET-operator onwaar. | !(A && B) waar |\n"
   ]
  },
  {
   "cell_type": "code",
   "execution_count": null,
   "metadata": {
    "vscode": {
     "languageId": "java"
    }
   },
   "outputs": [],
   "source": [
    "boolean A = true;\n",
    "boolean B = false;\n",
    "\n",
    "System.out.println( A && B );\n",
    "System.out.println( A || B );\n",
    "System.out.println(!(A && B));"
   ]
  },
  {
   "cell_type": "markdown",
   "metadata": {},
   "source": [
    "### Assignment Operators\n",
    "\n",
    "| Operator | Beschrijving | Voorbeeld |\n",
    "| --- | --- | --- |\n",
    "| =\t |  Eenvoudige toewijzingsoperator. Wijst waarden toe van operanden aan de rechterkant naar operanden aan de linkerkant. |\tC = A + B zal waarde toekennen van A + B naar C |\n",
    "| += |\tAND-toewijzingsoperator toevoegen. Het voegt de rechter operand toe aan de linker operand en wijst het resultaat toe aan de linker operand. |\tC += A is gelijk aan C = C + A |\n",
    "| -= |\tTrek de AND-toekenningsoperator af. Het trekt de rechter operand af van de linker operand en wijst het resultaat toe aan de linker operand. |\tC -= A is gelijk aan C = C – A |\n",
    "| *= |\tVermenigvuldig EN toewijzingsoperator. Het vermenigvuldigt de rechter operand met de linker operand en wijst het resultaat toe aan de linker operand. | C *= A gelijk aan C = C * A |   \n",
    "| /= |\tVerdeel EN toewijzingsoperator. Het verdeelt de linker operand met de rechter operand en wijst het resultaat toe aan de linker operand. |\tC /= A gelijk aan C = C / A |\n",
    "| %= |\tModulus EN toewijzingsoperator. Het neemt modulus met behulp van twee operanden en wijst het resultaat toe aan de linker operand. | C %= A gelijk aan C = C % A |"
   ]
  },
  {
   "cell_type": "code",
   "execution_count": null,
   "metadata": {
    "vscode": {
     "languageId": "java"
    }
   },
   "outputs": [],
   "source": [
    "int A = 10;\n",
    "int B = 20;\n",
    "int C = 0;\n",
    "\n",
    "C = (A + B);\n",
    "System.out.println(C);\n",
    "\n",
    "C += A;\n",
    "System.out.println(C);\n",
    "\n",
    "C -= A;\n",
    "System.out.println(C);\n",
    "\n",
    "C *= A;\n",
    "System.out.println(C);\n",
    "\n",
    "C /= A;\n",
    "System.out.println(C);\n",
    "\n",
    "C %= A; \n",
    "System.out.println(C);"
   ]
  },
  {
   "cell_type": "markdown",
   "metadata": {},
   "source": [
    "### Conditional Operator ( ? : )\n",
    "\n",
    "Een conditional operator ook wel genoemd als ternary operator kun je ook wel vergelijken met een if-else statement (Zie voorbeeld hieronder). Dit word gebruikt om eenvoudige situaties in een regel af te handelen.\n",
    "\n",
    "De syntax van een conditional operator:\n",
    "\n",
    "`variable x = (expression) ? value if true : value if false`"
   ]
  },
  {
   "cell_type": "code",
   "execution_count": null,
   "metadata": {
    "vscode": {
     "languageId": "java"
    }
   },
   "outputs": [],
   "source": [
    "// voorbeeld van een if-else\n",
    "int num1 = 15;\n",
    "\n",
    "if (num1 > 10) {\n",
    "    System.out.println(\"Number is greater than 10\");\n",
    "} else {\n",
    "    System.out.println(\"Number is smaller than 10\");\n",
    "}\n",
    "\n",
    "// voorbeeld hoe je een conditional operator gebruikt.\n",
    "int num2 = 15;\n",
    "\n",
    "String message = num2 > 10 ? \"Number is greater than 10\" : \"Number is smaller than 10\";\n",
    "\n",
    "System.out.println(message);"
   ]
  }
 ],
 "metadata": {
  "kernelspec": {
   "display_name": "Java",
   "language": "java",
   "name": "java"
  },
  "language_info": {
   "codemirror_mode": "java",
   "file_extension": ".jshell",
   "mimetype": "text/x-java-source",
   "name": "Java",
   "pygments_lexer": "java",
   "version": "11.0.11+9-LTS"
  },
  "orig_nbformat": 4
 },
 "nbformat": 4,
 "nbformat_minor": 2
}
