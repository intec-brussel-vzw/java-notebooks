{
 "cells": [
  {
   "cell_type": "markdown",
   "metadata": {},
   "source": [
    "![](https://intecbrussel.be/img/logo3.png)  \n",
    "_Java les-materialen_"
   ]
  },
  {
   "cell_type": "markdown",
   "metadata": {},
   "source": [
    "# Operators"
   ]
  },
  {
   "cell_type": "markdown",
   "metadata": {},
   "source": [
    "### Arithmetic Operators\n",
    "\n",
    "Voor de volgende voorbeelden gebruiken we het volgende: variabel A = 10 en variabel B = 20.\n",
    "\n",
    "| Operator\t| Description |\tExample | \n",
    "|---|---|---|\n",
    "| + (Addition)\t| Voegt waarden toe aan weerszijden van de operator.\t| A + B will give 30| \n",
    "| - (Subtraction)\t| Trekt de rechter operand af van de linker operand.\t| A - B will give -10| \n",
    "| * (Multiplication)\t| Vermenigvuldigt waarden aan weerszijden van de operator. | A * B will give 200|\n",
    "| / (Division)\t| Verdeelt de linker operand door de rechter operand.\t| B / A will give 2|\n",
    "| % (Modulus)\t| Verdeelt de linker operand door de rechter operand en geeft de rest terug.\t| B % A will give 0|\n",
    "| ++ (Increment)\t| Verhoogt de waarde van de operand met 1.\t| B++ gives 21|\n",
    "| -- (Decrement)\t| Verlaagt de waarde van de operand met 1.\t| B-- gives 19|\n"
   ]
  },
  {
   "cell_type": "code",
   "execution_count": null,
   "metadata": {},
   "outputs": [],
   "source": []
  },
  {
   "cell_type": "markdown",
   "metadata": {},
   "source": [
    "### Relational Operators"
   ]
  }
 ],
 "metadata": {
  "kernelspec": {
   "display_name": "Java",
   "language": "java",
   "name": "java"
  },
  "language_info": {
   "name": "java"
  },
  "orig_nbformat": 4
 },
 "nbformat": 4,
 "nbformat_minor": 2
}
