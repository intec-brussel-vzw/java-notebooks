{
 "cells": [
  {
   "cell_type": "markdown",
   "metadata": {},
   "source": [
    "![](https://intecbrussel.be/img/logo3.png)  \n",
    "_Java les-materialen_"
   ]
  },
  {
   "cell_type": "markdown",
   "metadata": {},
   "source": [
    "# Operators\n",
    "\n",
    "In dit hoofdstuk gaan we leren over de verschillende operators die we kunnen gebruiken in Java. In de komende hoofdstukken hebben we deze operators nodig om kleine berekeningen te doen, variabelen te vergelijken en om waardes toe te wijzen."
   ]
  },
  {
   "cell_type": "markdown",
   "metadata": {},
   "source": [
    "### Arithmetic Operator\n",
    "\n",
    "Arithmetic operatoren worden in wiskundige uitdrukkingen op dezelfde manier gebruikt als in algebra. In de volgende tabel staan de Arithmetic operatoren\n",
    "\n",
    "Voor de volgende voorbeelden gebruiken we voor variabele A = 10 en variabele B = 20.\n",
    "\n",
    "| Operator\t| Beschrijving | Voorbeeld | \n",
    "|---|---|---|\n",
    "| + (Optellen)\t| Voegt waarden van de twee operanden samen.\t| A + B = 30| \n",
    "| - (Aftrekken)\t| Trekt de rechter operand af van de linker operand.\t| A - B = -10| \n",
    "| * (Vermenigvuldigen)\t| Vermenigvuldigt waarden van de twee operanden. | A * B = 200|\n",
    "| / (delen)\t| Verdeelt de linker operand door de rechter operand.\t| B / A = 2|\n",
    "| % (Modulus)\t| Verdeelt de linker operand door de rechter operand en geeft de rest terug.\t| B % A = 0|\n",
    "| ++ (Increment)\t| Verhoogt de waarde van de operand met 1.\t| ++B = 21|\n",
    "| -- (Decrement)\t| Verlaagt de waarde van de operand met 1.\t| --B = 19|\n"
   ]
  },
  {
   "cell_type": "code",
   "execution_count": null,
   "metadata": {},
   "outputs": [],
   "source": [
    "int A = 10;\n",
    "int B = 20;\n",
    "\n",
    "int sum = A + B;\n",
    "int sub = A - B;\n",
    "int mul = A * B;\n",
    "int div = A / B;\n",
    "int mod = A % B;\n",
    "\n",
    "System.out.println(\"Sum of A and B = \" + sum);\n",
    "System.out.println(\"Subtraction of A and B = \" + sub);\n",
    "System.out.println(\"Multiplication of A and B = \" + mul);\n",
    "System.out.println(\"Division of A and B = \" + div);\n",
    "System.out.println(\"Modulus of A and B = \" + mod);\n",
    "\n",
    "// verhoogt met 1\n",
    "int inc = ++B;\n",
    "System.out.println(\"Incrementing B: \" + inc);\n",
    "\n",
    "// verlaagd met 1 terug naar de startwaarde.\n",
    "int dec = --B;\n",
    "System.out.println(\"Decrementing B: \" + dec);"
   ]
  },
  {
   "cell_type": "markdown",
   "metadata": {},
   "source": [
    "### Relational Operators"
   ]
  },
  {
   "cell_type": "markdown",
   "metadata": {},
   "source": [
    "Voor de volgende voorbeelden gebruiken we voor variabele A = 10 en variabele B = 20.\n",
    "\n",
    "| Operator | Beschrijving | Voorbeeld |\n",
    "| --- | --- | --- |\n",
    "| == (Gelijk aan) | Controleert of de waarden van twee operanden gelijk zijn, zo ja, dan wordt de voorwaarde 'true'. | (A == B) false. |\n",
    "| != (Niet gelijk aan) | Controleert of de waarden van twee operanden niet gelijk zijn, als de waarden niet gelijk zijn, wordt de voorwaarde 'true'. | (A != B) true. |\n",
    "| > (Groter dan) | Controleert of de waarde van de linker operand groter is dan de waarde van de rechter operand, zo ja, dan wordt de voorwaarde 'true'. | (A > B) false. |\n",
    "| < (Kleiner dan) | Controleert of de waarde van de linker operand kleiner is dan de waarde van de rechter operand, zo ja, dan wordt de voorwaarde 'true'. | (A < B) true. |\n",
    "| >= (Groter dan of gelijk aan) | Controleert of de waarde van de linker operand groter is dan of gelijk is aan de waarde van de rechter operand, zo ja, dan wordt de voorwaarde 'true'. | (A >= B) false. |\n",
    "| <= (Kleiner dan of gelijk aan) | Controleert of de waarde van de linker operand kleiner is dan of gelijk is aan de waarde van de rechter operand, zo ja, dan wordt de voorwaarde 'true'. | (A <= B) true. |"
   ]
  },
  {
   "cell_type": "code",
   "execution_count": null,
   "metadata": {},
   "outputs": [],
   "source": [
    "int A = 10;\n",
    "int B = 20;\n",
    "\n",
    "boolean equal = (A == B);\n",
    "boolean notEqual = (A != B);\n",
    "boolean biggerThan = (A > B);\n",
    "boolean smallerThan = (A < B);\n",
    "boolean biggerEqual = (A >= B);\n",
    "boolean smallerEqual = (A <= B);\n",
    "\n",
    "System.out.println(equal);\n",
    "System.out.println(notEqual);\n",
    "System.out.println(biggerThan);\n",
    "System.out.println(smallerThan);\n",
    "System.out.println(biggerEqual);\n",
    "System.out.println(smallerEqual);"
   ]
  },
  {
   "cell_type": "markdown",
   "metadata": {},
   "source": [
    "### Logical Operators\n",
    "\n",
    "Voor de volgende voorbeelden gebruiken we voor variabele A = true en voor variabele B = false.\n",
    "\n",
    "| Operator | Beschrijving | voorbeeld |\n",
    "| --- | --- | --- |\n",
    "| && (logische AND) | Logische AND-operator genoemd. Als beide operanden 'true' zijn, wordt de voorwaarde 'true'. | (A && B) false |\n",
    "| \\|\\| (logische OR) | Logische OR-operator genoemd. Als één van de twee operanden 'true' is, wordt de voorwaarde 'true'. | (A \\|\\| B) true |\n",
    "| ! (logische NOT) | Logische NOT-operator genoemd. Gebruiken om de logische status van de operand om te keren. Als een voorwaarde 'true' is, maakt de logische NOT-operator 'false'. | !(A && B) true |\n"
   ]
  },
  {
   "cell_type": "code",
   "execution_count": null,
   "metadata": {},
   "outputs": [],
   "source": [
    "boolean A = true;\n",
    "boolean B = false;\n",
    "\n",
    "boolean result01 = (A && B);\n",
    "boolean result02 = (A || B);\n",
    "boolean result03 = (!(A && B));\n",
    "\n",
    "System.out.println(result01);\n",
    "System.out.println(result02);\n",
    "System.out.println(result03);"
   ]
  },
  {
   "cell_type": "markdown",
   "metadata": {},
   "source": [
    "### Assignment Operators\n",
    "\n",
    "Dit is een snelle manier om een berekening uit te voeren en meteen de waarde te kunnen toekennen. Zoals je al ziet, combineren we de arithmetic operator met de toewijzingsoperator. \n",
    "\n",
    "| Operator | Beschrijving | Voorbeeld |\n",
    "| --- | --- | --- |\n",
    "| =\t |  Eenvoudige toewijzingsoperator. Wijst waarden toe van operanden aan de rechterkant naar variabele aan de linkerkant. |\tC = A + B zal waarde toekennen van A + B naar C |\n",
    "| += |\tOptellen EN de toekenningsoperator. Het voegt de rechter operand toe aan de linker operand en wijst het resultaat toe aan de variabele. |\tC += A is gelijk aan C = C + A |\n",
    "| -= |\tAftrekken EN de toekenningsoperator. Het trekt de rechter operand af van de linker operand en wijst het resultaat toe aan de variabele. |\tC -= A is gelijk aan C = C – A |\n",
    "| *= |\tVermenigvuldigen EN toekenningsoperator. Het vermenigvuldigt de rechter operand met de linker operand en wijst het resultaat toe aan de variabele. | C *= A gelijk aan C = C * A |   \n",
    "| /= |\tVerdelen EN toekenningsoperator. Het verdeelt de linker operand met de rechter operand en wijst het resultaat toe aan de variabele. |\tC /= A gelijk aan C = C / A |\n",
    "| %= |\tModulus EN toekenningsoperator. Het geeft de rest-waarde terug van twee operanden en wijst het resultaat toe aan de variabele. | C %= A gelijk aan C = C % A |"
   ]
  },
  {
   "cell_type": "code",
   "execution_count": null,
   "metadata": {},
   "outputs": [],
   "source": [
    "int A = 10;\n",
    "int B = 20;\n",
    "int C = 0;\n",
    "\n",
    "C = (A + B);\n",
    "System.out.println(C);\n",
    "\n",
    "C += A;\n",
    "System.out.println(C);\n",
    "\n",
    "C -= A;\n",
    "System.out.println(C);\n",
    "\n",
    "C *= A;\n",
    "System.out.println(C);\n",
    "\n",
    "C /= A;\n",
    "System.out.println(C);\n",
    "\n",
    "C %= A; \n",
    "System.out.println(C);"
   ]
  },
  {
   "cell_type": "markdown",
   "metadata": {},
   "source": [
    "[Ga naar samenvatting en oefeningen](/Notebooks/Nederlands/01%20-%20Basisprogrammeren/02%20operators/samenvatting.ipynb)"
   ]
  }
 ],
 "metadata": {
  "kernelspec": {
   "display_name": "Java",
   "language": "java",
   "name": "java"
  },
  "language_info": {
   "codemirror_mode": "java",
   "file_extension": ".jshell",
   "mimetype": "text/x-java-source",
   "name": "java",
   "pygments_lexer": "java",
   "version": "11.0.11+9-LTS"
  },
  "orig_nbformat": 4
 },
 "nbformat": 4,
 "nbformat_minor": 2
}
