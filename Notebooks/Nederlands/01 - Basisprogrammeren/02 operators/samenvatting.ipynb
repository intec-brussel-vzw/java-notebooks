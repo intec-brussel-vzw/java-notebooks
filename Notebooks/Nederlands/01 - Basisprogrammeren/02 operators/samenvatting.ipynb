{
 "cells": [
  {
   "cell_type": "markdown",
   "metadata": {},
   "source": [
    "![](https://intecbrussel.be/img/logo3.png)  \n",
    "_Java les-materialen_"
   ]
  },
  {
   "cell_type": "markdown",
   "metadata": {},
   "source": [
    "# Samenvatting en oefeningen"
   ]
  },
  {
   "cell_type": "markdown",
   "metadata": {},
   "source": [
    "## Samenvatting\n",
    "We hebben nu verschillende operators gezien: \n",
    "- Arithmetic Operator\n",
    "- Relational Operator\n",
    "- Logical Operator\n",
    "- Assignment Operator\n",
    "- Conditional Operator\n",
    "\n",
    "Deze operators kunnen we gebruiken om kleine berekeningen te doen, variabelen te vergelijken en om waarde toe te wijzen.\n",
    "\n",
    "Nu gaan we deze kennis testen. Hieronder vind je een aantal oefeningen om te kijken of je alles beheerst."
   ]
  },
  {
   "cell_type": "markdown",
   "metadata": {},
   "source": [
    "## Oefeningen"
   ]
  },
  {
   "cell_type": "markdown",
   "metadata": {},
   "source": [
    "### Oefening 1\n",
    "Schrijf een programma om de oppervlakte van een rechthoek te berekenen. De rechthoek is 12,5 cm lang en 7,8 cm breed.\n",
    "\n",
    "De uitkomst moet zijn: 97.5 cm<sup>2</sup>"
   ]
  },
  {
   "cell_type": "code",
   "execution_count": null,
   "metadata": {
    "vscode": {
     "languageId": "java"
    }
   },
   "outputs": [],
   "source": [
    "// Hier mag je voor oefening 1 de code testen. \n",
    "\n",
    "\n"
   ]
  },
  {
   "cell_type": "markdown",
   "metadata": {},
   "source": [
    "### Oefening 2\n",
    "\n",
    "Vergelijk deze 2 variabelen: `bool01 = true` en `bool02 = false`.\n",
    "\n",
    "Gebruik hiervoor alle 3 de logical operators voor."
   ]
  },
  {
   "cell_type": "code",
   "execution_count": 4,
   "metadata": {
    "vscode": {
     "languageId": "java"
    }
   },
   "outputs": [],
   "source": [
    "// Hier mag je voor oefening 2 de code testen.\n",
    "\n",
    "\n",
    "\n"
   ]
  },
  {
   "cell_type": "markdown",
   "metadata": {},
   "source": [
    "### Oefening 3 (gevorderd)\n",
    "\n",
    "**Gebruik hier een conditional operator voor**\n",
    "\n",
    "Ga na of het gegeven getal positief is of niet. \n",
    "\n",
    "int number = 35;"
   ]
  },
  {
   "cell_type": "code",
   "execution_count": null,
   "metadata": {
    "vscode": {
     "languageId": "java"
    }
   },
   "outputs": [],
   "source": [
    "// Hier mag je voor oefening 3 de code testen.\n",
    "\n",
    "\n"
   ]
  },
  {
   "cell_type": "markdown",
   "metadata": {},
   "source": [
    "Nu hebben we de operators beheersen kunnen we deze gaan toepassen in het volgende hoofdstuk Branching.\n",
    "[Gaan naar het volgende hoofdstuk *Branching*]()"
   ]
  }
 ],
 "metadata": {
  "kernelspec": {
   "display_name": "Java",
   "language": "java",
   "name": "java"
  },
  "language_info": {
   "codemirror_mode": "java",
   "file_extension": ".jshell",
   "mimetype": "text/x-java-source",
   "name": "Java",
   "pygments_lexer": "java",
   "version": "11.0.11+9-LTS"
  },
  "orig_nbformat": 4,
  "vscode": {
   "interpreter": {
    "hash": "217c631b613e36ff4b9cdbe99ee2d03b09d4e7c1f494b32c9aa8f6b180d54c14"
   }
  }
 },
 "nbformat": 4,
 "nbformat_minor": 2
}
