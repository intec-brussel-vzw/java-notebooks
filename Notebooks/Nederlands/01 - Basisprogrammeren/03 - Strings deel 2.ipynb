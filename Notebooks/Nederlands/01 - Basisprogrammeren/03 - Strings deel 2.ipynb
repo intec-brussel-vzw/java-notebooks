{
 "cells": [
  {
   "cell_type": "markdown",
   "metadata": {},
   "source": [
    "<center>\n",
    "    <img src='https://intecbrussel.be/img/logo3.png' width='400px' height='auto'/>\n",
    "    <br/>\n",
    "    <em>Java les-materialen</em>\n",
    "</center>"
   ]
  },
  {
   "cell_type": "markdown",
   "metadata": {
    "collapsed": true
   },
   "source": [
    "# geavanceerde String methodes\n",
    "String objecten hebben verschillende methodes die we kunnen aanroepen om deze te manipuleren. \n",
    "\n",
    "### Veranderen van letter grote. \n",
    "Hieronder gaan we zien hoe we strings kunnen omzetten van kleine letters naar hoofdletters en omgekeerd."
   ]
  },
  {
   "cell_type": "code",
   "execution_count": null,
   "metadata": {},
   "outputs": [],
   "source": [
    "String inKleineLetters = \"dit is een string in kleine letters\";\n",
    "\n",
    "// String veranderen naar hoofdletters\n",
    "System.out.println(inKleineLetters.toUpperCase());\n",
    "\n",
    "String inGroteLetters = \"DIT IS EEN STRING IN GROTE LETTERS\";\n",
    "\n",
    "// String veranderen naar kleine letters\n",
    "System.out.println(inGroteLetters.toLowerCase());\n"
   ]
  },
  {
   "cell_type": "markdown",
   "metadata": {},
   "source": [
    "Hieronder laten we zien dat we nog veel meer kunnen met deze methodes. Als voorbeeld hieronder gaan we de eerste letter van de de string veranderen naar hoofdletters."
   ]
  },
  {
   "cell_type": "code",
   "execution_count": null,
   "metadata": {},
   "outputs": [],
   "source": [
    "String myString = \"dit is een string\";\n",
    "\n",
    "// We gaan eerst 2 substrings maken (string opdelen in 2 delen). De eerste substring zal de eerste letter zijn en de tweede string is de rest.\n",
    "String firstLetter = myString.substring(0, 1);\n",
    "String remainingLetters = myString.substring(1, myString.length());\n",
    "\n",
    "// Hier veranderen we de eerste letter naar hoofdletter\n",
    "firstLetter = firstLetter.toUpperCase();\n",
    "\n",
    "// Hier verbinden we de substring weer samen\n",
    "myString = firstLetter + remainingLetters;\n",
    "System.out.println(\"Name: \" + myString);"
   ]
  },
  {
   "cell_type": "markdown",
   "metadata": {},
   "source": [
    "Belangrijk on te weten is dat een String niet te veranderen is. De methodes van hierboven veranderen niet de string maar maken een aangepaste kopie van de originele string."
   ]
  },
  {
   "cell_type": "markdown",
   "metadata": {},
   "source": [
    "### Spaties verwijderen\n",
    "Soms ko;t het voor dat we blanco plekken oftewel spatie moeten verwijderen. Dit kunnen we doen met de `trim()`methode, "
   ]
  },
  {
   "cell_type": "code",
   "execution_count": null,
   "metadata": {},
   "outputs": [],
   "source": [
    "String stringTrimmen =\"  Java  \";    \n",
    "System.out.println(stringTrimmen);   \n",
    "System.out.println(stringTrimmen.trim());  "
   ]
  },
  {
   "cell_type": "markdown",
   "metadata": {},
   "source": [
    "### Strings vergelijken\n",
    "Soms komt het voor dqt je waardes moet vergelijken. Bij Strings kunnen we niet de `==` gebruiken om te vergelijken. Deze manier gaat de geheugen adres vergelijken. Om echt de waardes te vergelijken van een string kunnen we `equals()` methode gebruiken. Deze methode gaat echt naar de waarde kijken van de strings. We hebben hier ook nog een variant op `equalsIgnoreCase()` deze methode doet hetzelfde alleen negeert het verschil van letter grote."
   ]
  },
  {
   "cell_type": "code",
   "execution_count": null,
   "metadata": {},
   "outputs": [],
   "source": [
    "String s1 = \"Java\";\n",
    "String s2 = new String(\"Java\");\n",
    "String s3 = new String(\"java\");\n",
    "\n",
    "System.out.println(s1.equals(s2));// True, beide strings zijn gelijk.\n",
    "System.out.println(s1.equals(s3));// False, komt niet overeen door de hoofdletter\n",
    "System.out.println(s2.equals(s3));// False, komt niet overeen door de hoofdletter\n",
    "System.out.println(s1.equalsIgnoreCase(s3));// True, niet hoofdletter gevoelig\n",
    "System.out.println(s2.equalsIgnoreCase(s3));// True, niet hoofdletter gevoelig"
   ]
  },
  {
   "cell_type": "markdown",
   "metadata": {},
   "source": [
    "### Converteren van andere datatypes naar strings\n",
    "Met de methode `valueOf()` kunnen we andere datatypes zoals int, long, boolean enz omzetten naar een string. "
   ]
  },
  {
   "cell_type": "code",
   "execution_count": null,
   "metadata": {},
   "outputs": [],
   "source": [
    "int num = 10; \n",
    "\n",
    "String str = String.valueOf(num);    \n",
    "System.out.println(num);   \n",
    "\n",
    "// Dit is een manier om te weten welk datatype we hebben, Dit is uitgelegd in Variabelen toewijzen.\n",
    "System.out.println(str + \" is of type: \" + str.getClass().getSimpleName()); "
   ]
  },
  {
   "cell_type": "markdown",
   "metadata": {},
   "source": [
    "### Controleren van begin of eide van een string\n",
    "Met de volgende methodes `startsWith() en endsWith()` kunnen we controleren of een string ergens mee begin of eindigt. De methode `startsWith()` heeft nog iets extra's. Hier kun je ook een index geven zodat je van een bepaalde plaats kunt controleren of dit bepaalde deel voorkomt in de string.  "
   ]
  },
  {
   "cell_type": "code",
   "execution_count": null,
   "metadata": {},
   "outputs": [],
   "source": [
    "String str = \"123456789\";\n",
    "\n",
    "System.out.println(str.startsWith(\"123\")); // True\n",
    "System.out.println(str.startsWith(\"45\"));  // False\n",
    "System.out.println(str.startsWith(\"56\", 4)); // True, because on index 4 it starts with 56\n",
    "\n",
    "System.out.println(str.endsWith(\"789\")); // True\n",
    "System.out.println(str.endsWith(\"123\")); // False"
   ]
  },
  {
   "cell_type": "markdown",
   "metadata": {},
   "source": [
    "### veranderen van letters of woorden in een string\n",
    "Met de `replace()` methode kunnen ze delen van een string aanpassen. Het kan een letter zijn maar ook hele woorden. "
   ]
  },
  {
   "cell_type": "code",
   "execution_count": null,
   "metadata": {},
   "outputs": [],
   "source": [
    "String whatIsJava = \"Java is a programming language and Java is de best\";    \n",
    "\n",
    "String replaceString = whatIsJava.replace(\"Java\",\"Cava\");      \n",
    "System.out.println(replaceString);  "
   ]
  }
 ],
 "metadata": {
  "kernelspec": {
   "display_name": "Java",
   "language": "java",
   "name": "java"
  },
  "language_info": {
   "codemirror_mode": "java",
   "file_extension": ".jshell",
   "mimetype": "text/x-java-source",
   "name": "java",
   "pygments_lexer": "java",
   "version": "11.0.11+9-LTS"
  },
  "vscode": {
   "interpreter": {
    "hash": "b49aaccd02884d5549109035e6ff183faf7cd75fb001ffab5a5222a358c908f3"
   }
  }
 },
 "nbformat": 4,
 "nbformat_minor": 1
}
