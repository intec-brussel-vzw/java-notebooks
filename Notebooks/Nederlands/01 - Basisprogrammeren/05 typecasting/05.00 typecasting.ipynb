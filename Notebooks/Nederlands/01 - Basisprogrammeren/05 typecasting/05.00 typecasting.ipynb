{
 "cells": [
  {
   "cell_type": "markdown",
   "metadata": {},
   "source": [
    "![](https://intecbrussel.be/img/logo3.png)  \n",
    "_Java les-materialen_"
   ]
  },
  {
   "cell_type": "markdown",
   "metadata": {},
   "source": [
    "# Typecasting\n",
    "\n",
    "Type casting is wanneer je een waarde toewijst van een primitieve datatype naar een ander datatype.\n",
    "\n",
    "We kennen 2 manieren om een type casting te doen:\n",
    "\n",
    "**Widening Casting**  - omzetten van een kleinere type naar een grotere type.\n",
    "\n",
    "`byte -> short -> char -> int -> long -> float -> double`\n",
    "\n",
    "**Narrowing Casting (handmatig)** - een groter type omzetten naar een kleiner formaat type\n",
    "\n",
    "`double -> float -> long -> int -> char -> short -> byte`"
   ]
  },
  {
   "cell_type": "markdown",
   "metadata": {},
   "source": [
    "### Widening Casting\n",
    "\n",
    "Widening Casting word ook wel *implicit conversion* of *casting down* genoemd. Deze manier word automatisch gedaan wanneer je een kleinere datatype in een grotere datatype plaatst. Het is veilig omdat er geen kans is om gegevens te verliezen. Het vindt plaats wanneer:\n",
    "\n",
    "- Beide gegevenstypen moeten compatibel zijn met elkaar.\n",
    "- Het target type moet groter zijn dan het source type.\n",
    "\n",
    "Hieronder zie je een voorbeeld hiervan:"
   ]
  },
  {
   "cell_type": "code",
   "execution_count": null,
   "metadata": {
    "vscode": {
     "languageId": "java"
    }
   },
   "outputs": [],
   "source": [
    "int myInt = 9;\n",
    "double myDouble = myInt; // Automatische casting: int naar double\n",
    "\n",
    "System.out.println(myInt);\n",
    "System.out.println(myDouble);\n"
   ]
  },
  {
   "cell_type": "markdown",
   "metadata": {},
   "source": [
    "De conversie tussen numeriek datatype naar char of Boolean gebeurt niet automatisch. Ook zijn de gegevenstypen char en Boolean niet compatibel met elkaar. Zie hieronder de voorbeelden:"
   ]
  },
  {
   "cell_type": "code",
   "execution_count": null,
   "metadata": {
    "vscode": {
     "languageId": "java"
    }
   },
   "outputs": [],
   "source": [
    "char myChar = 'q';\n",
    "\n",
    "// compileer fout \"incompatible types: char cannot be converted to boolean\"\n",
    "boolean myBoolean = myChar;\n",
    "\n",
    "System.out.println(myChar);\n",
    "System.out.println(myBoolean);"
   ]
  },
  {
   "cell_type": "markdown",
   "metadata": {},
   "source": [
    "### Narrowing Casting\n",
    "\n",
    "Narrowing casting word ook wel *explicit conversion* of *casting up* genoemd. Het wordt handmatig gedaan door de programmeur. Als we geen casting uitvoeren, meldt de compiler een compileer fout.\n",
    "\n",
    "Zie hieronder voor een voorbeeld:"
   ]
  },
  {
   "cell_type": "code",
   "execution_count": null,
   "metadata": {
    "vscode": {
     "languageId": "java"
    }
   },
   "outputs": [],
   "source": [
    "double myDouble = 9.78d;\n",
    "int myInt = (int) myDouble; // Manueel casting: double to int\n",
    "\n",
    "System.out.println(myDouble);\n",
    "System.out.println(myInt);"
   ]
  },
  {
   "cell_type": "markdown",
   "metadata": {},
   "source": [
    "[Ga naar samenvatting en oefeningen](/Notebooks/Nederlands/01%20-%20Basisprogrammeren/05%20typecasting/05.samenvating.ipynb)"
   ]
  }
 ],
 "metadata": {
  "kernelspec": {
   "display_name": "Java",
   "language": "java",
   "name": "java"
  },
  "language_info": {
   "codemirror_mode": "java",
   "file_extension": ".jshell",
   "mimetype": "text/x-java-source",
   "name": "Java",
   "pygments_lexer": "java",
   "version": "11.0.11+9-LTS"
  },
  "orig_nbformat": 4,
  "vscode": {
   "interpreter": {
    "hash": "217c631b613e36ff4b9cdbe99ee2d03b09d4e7c1f494b32c9aa8f6b180d54c14"
   }
  }
 },
 "nbformat": 4,
 "nbformat_minor": 2
}
