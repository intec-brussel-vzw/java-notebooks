{
 "cells": [
  {
   "cell_type": "markdown",
   "metadata": {},
   "source": [
    "![](https://intecbrussel.be/img/logo3.png)  \n",
    "_Java les-materialen_"
   ]
  },
  {
   "cell_type": "markdown",
   "metadata": {},
   "source": [
    "# Samenvatting en oefeningen \n",
    "\n",
    "\n",
    "### Samenvatting\n",
    "\n",
    "We hebben het over deze deze 2 casting manieren gezien:\n",
    "\n",
    "[Widening Casting](#widening-casting)\n",
    "\n",
    "`byte -> short -> char -> int -> long -> float -> double`\n",
    "\n",
    "[Narrowing Casting](#narrowing-casting) (handmatig manier)\n",
    "\n",
    "`double -> float -> long -> int -> char -> short -> byte`\n",
    "\n",
    "Nu gaan we het toepassen in de volgende oefeningen. "
   ]
  },
  {
   "cell_type": "markdown",
   "metadata": {},
   "source": [
    "## Oefeningen"
   ]
  },
  {
   "cell_type": "markdown",
   "metadata": {},
   "source": [
    "### Oefening 1\n",
    "\n",
    "Cast de volgende variabelen naar een double: \n",
    "\n",
    "```java\n",
    "int number01 = 253;\n",
    "long number02 = 2365L;\n",
    "```"
   ]
  },
  {
   "cell_type": "code",
   "execution_count": null,
   "metadata": {},
   "outputs": [],
   "source": [
    "// Plaats hier je code voor oefening 1\n"
   ]
  },
  {
   "cell_type": "markdown",
   "metadata": {},
   "source": [
    "### Oefening 2\n",
    "\n",
    "Cast deze variabel naar een int.\n",
    "\n",
    "double number = 10.99;"
   ]
  },
  {
   "cell_type": "code",
   "execution_count": null,
   "metadata": {},
   "outputs": [],
   "source": [
    "// Plaats hier je code voor oefening 2"
   ]
  }
 ],
 "metadata": {
  "kernelspec": {
   "display_name": "Java",
   "language": "java",
   "name": "java"
  },
  "language_info": {
   "codemirror_mode": "java",
   "file_extension": ".jshell",
   "mimetype": "text/x-java-source",
   "name": "java",
   "pygments_lexer": "java",
   "version": "11.0.11+9-LTS"
  },
  "orig_nbformat": 4,
  "vscode": {
   "interpreter": {
    "hash": "217c631b613e36ff4b9cdbe99ee2d03b09d4e7c1f494b32c9aa8f6b180d54c14"
   }
  }
 },
 "nbformat": 4,
 "nbformat_minor": 2
}
