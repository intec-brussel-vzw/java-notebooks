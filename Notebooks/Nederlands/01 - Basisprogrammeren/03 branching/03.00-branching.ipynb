{
 "cells": [
  {
   "cell_type": "markdown",
   "metadata": {
    "pycharm": {
     "name": "#%% md\n"
    }
   },
   "source": [
    "![](https://intecbrussel.be/img/logo3.png)  \n",
    "_Java les-materialen_"
   ]
  },
  {
   "cell_type": "markdown",
   "metadata": {},
   "source": [
    "Wanneer een \"algoritme\" een keuze maakt om een van twee (of meer dingen) te doen, wordt dit branching (vertakking) genoemd. De meest voorkomende programmeer-\"instructie\" die wordt gebruikt om te vertakken, is de \"IF\"-instructie. Naast de \"IF\"-structuur bestaat er ook de \"SWITCH\"-structuur."
   ]
  },
  {
   "cell_type": "markdown",
   "metadata": {},
   "source": [
    "Een vertakking in een computerprogramma is een instructie die een computer vertelt om verschillende instructies uit te voeren in plaats van simpelweg de instructies in volgorde uit te voeren. In talen op hoog niveau zoals java worden deze procedures doorgaans flow control-procedures/branching genoemd en zijn ze in de taal ingebouwd. Bij assemblageprogrammering worden vertakkingsinstructies ingebouwd in een CPU.\n",
    "\n",
    "Wanneer een bepaalde tak wordt gekozen omdat deze aan een bepaalde conditie voldoet zullen de andere branches/takken niet meer uitgevoerd worden.\n",
    "\n",
    "![Branching](./src/branching.png)"
   ]
  }
 ],
 "metadata": {
  "kernelspec": {
   "display_name": "Python 3",
   "language": "python",
   "name": "python3"
  },
  "language_info": {
   "codemirror_mode": {
    "name": "ipython",
    "version": 3
   },
   "file_extension": ".py",
   "mimetype": "text/x-python",
   "name": "python",
   "nbconvert_exporter": "python",
   "pygments_lexer": "ipython3",
   "version": "3.7.3"
  },
  "vscode": {
   "interpreter": {
    "hash": "6b37d82d5803a5e2590946df6dbaaa38f6646f38cc7b4ff419918623f65de815"
   }
  }
 },
 "nbformat": 4,
 "nbformat_minor": 2
}
