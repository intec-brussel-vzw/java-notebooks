{
 "cells": [
  {
   "cell_type": "markdown",
   "metadata": {
    "pycharm": {
     "name": "#%% md\n"
    }
   },
   "source": [
    "![](https://intecbrussel.be/img/logo3.png)  \n",
    "_Java les-materialen_"
   ]
  },
  {
   "cell_type": "markdown",
   "metadata": {},
   "source": [
    "# Branching\n",
    "Normaal gezien voert een computer instructies uit in volgorde. Een vertakking zorgt ervoor dat je alternatieve instructies kunt uitvoeren. In talen op hoog niveau zoals java worden deze procedures doorgaans flow control-procedures/branching genoemd en zijn ze in de taal ingebouwd. Bij assemblageprogrammering worden vertakkingsinstructies ingebouwd in een CPU. In java bestaan er twee structuren voor branching toe te passen\n",
    "\n",
    "### If statement\n",
    "Dit is de meest voorkomende structuur voor branching toe te passen binnen onze applicatie. De statement begint met een if gevolgd door een conditie. Wanneer deze true is zal de if block uitgevoerd worden, als de conditie false zou teruggeven gaat onze if structuur door naar de volgende instructie. Dit kan een **else if** of een **else** zijn. Deze twee statements zijn zijn optioneel bij de if structuur.\n",
    "\n",
    "![if statement](./src/if.png)\n",
    "\n",
    "[IF statement voorbeelden](/Notebooks/Nederlands/01%20-%20Basisprogrammeren/03%20branching/03.01-if-statement.ipynb)\n",
    "\n",
    "### Switch statement\n",
    "Naast de if structuur er nog de switch voor branching te kunnen toepassen. De switch is een multi-way branch instructie. Simpelweg voert de switch instructie één instructie/case uit, uit een reeks van cases. Wanneer de case voorzien in van het **break** keyword zal het de switch verlaten. Wanneer geen enkele case overeenkomt met de expressie kunnen we terugvallen op de **default** case, deze is optioneel.\n",
    "\n",
    "![switch statement](./src/switch.png)\n",
    "\n",
    "[SWITCH statement voorbeelden](/Notebooks/Nederlands/01%20-%20Basisprogrammeren/03%20branching/03.02-switch-statement.ipynb)\n",
    "\n",
    "### If vs switch\n",
    "\n",
    "Bij een if statement wordt zowel de gelijkheid als de logische expressie gecontroleerd. De switch statement zal enkel de gelijkheid gaan controlleren. Het voordeel hiervan is dat we bij een if structuur complexere vergelijkingen kunnen maken."
   ]
  }
 ],
 "metadata": {
  "kernelspec": {
   "display_name": "Java",
   "language": "java",
   "name": "java"
  },
  "language_info": {
   "codemirror_mode": {
    "name": "ipython",
    "version": 3
   },
   "file_extension": ".py",
   "mimetype": "text/x-python",
   "name": "java",
   "nbconvert_exporter": "python",
   "pygments_lexer": "ipython3",
   "version": "3.10.6"
  },
  "vscode": {
   "interpreter": {
    "hash": "217c631b613e36ff4b9cdbe99ee2d03b09d4e7c1f494b32c9aa8f6b180d54c14"
   }
  }
 },
 "nbformat": 4,
 "nbformat_minor": 2
}
