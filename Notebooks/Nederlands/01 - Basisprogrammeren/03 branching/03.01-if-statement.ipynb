{
 "cells": [
  {
   "cell_type": "markdown",
   "metadata": {
    "pycharm": {
     "name": "#%% md\n"
    }
   },
   "source": [
    "![](https://intecbrussel.be/img/logo3.png)  \n",
    "_Java les-materialen_"
   ]
  },
  {
   "cell_type": "markdown",
   "metadata": {},
   "source": [
    "## IF - Statement"
   ]
  },
  {
   "cell_type": "markdown",
   "metadata": {},
   "source": [
    "In Java wordt de \"if\"-instructie gebruikt om een voorwaarde te evalueren. De besturing van het programma wordt omgeleid afhankelijk van de specifieke toestand. De voorwaarde van de If-instructie geeft een Booleaanse waarde, waar of onwaar. In Java zijn er vier soorten if-statements die hieronder worden gegeven."
   ]
  },
  {
   "cell_type": "markdown",
   "metadata": {},
   "source": [
    "### Eenvoudige if - statement"
   ]
  },
  {
   "cell_type": "markdown",
   "metadata": {},
   "source": [
    "Hieronder staat een voorbeeld van de meest simpele **if structuur** die je kan bedenken. Wanneer de conditie true is zal de code tussen het if block uitgevoerd worden."
   ]
  },
  {
   "cell_type": "code",
   "execution_count": null,
   "metadata": {},
   "outputs": [
    {
     "ename": "",
     "evalue": "",
     "output_type": "error",
     "traceback": [
      "\u001b[1;31mThe kernel failed to start due to the missing module 'astroid'. Consider installing this module.\n",
      "Click <a href='https://aka.ms/kernelFailuresMissingModule'>here</a> for more info."
     ]
    }
   ],
   "source": [
    "int number = 10;\n",
    "\n",
    "if(number < 100) {\n",
    "    // this line is printed out when number is smaller than 100! When the condition is TRUE\n",
    "    System.out.println(\"The value of number is smaller than 100 \");\n",
    "}"
   ]
  },
  {
   "cell_type": "markdown",
   "metadata": {},
   "source": [
    "### Eenvoudige if - else statement"
   ]
  },
  {
   "cell_type": "markdown",
   "metadata": {},
   "source": [
    "In het volgende voorbeeld voegen we een **else statement** toe aan de **if statement**, dit zorgt ervoor wanneer de conditie een false retourneerd we een ander stukje code kunnen uitvoeren alvorens ons programma zal verder gaan."
   ]
  },
  {
   "cell_type": "code",
   "execution_count": null,
   "metadata": {
    "vscode": {
     "languageId": "javascript"
    }
   },
   "outputs": [
    {
     "ename": "",
     "evalue": "",
     "output_type": "error",
     "traceback": [
      "\u001b[1;31mThe kernel failed to start due to the missing module 'astroid'. Consider installing this module.\n",
      "Click <a href='https://aka.ms/kernelFailuresMissingModule'>here</a> for more info."
     ]
    }
   ],
   "source": [
    "int number = 110;\n",
    "\n",
    "if(number < 100) {\n",
    "    // this line is printed out when number is smaller than 100! When the condition is TRUE\n",
    "    System.out.println(\"The value of number is smaller than 100 \");\n",
    "}\n",
    "else{\n",
    "    // this line is printed out when number is NOT smaller than 100! When the condition is FALSE\n",
    "    System.out.println(\"The value of number is NOT smaller than 100 \");\n",
    "}"
   ]
  },
  {
   "cell_type": "markdown",
   "metadata": {},
   "source": [
    "### If - else - if statement"
   ]
  },
  {
   "cell_type": "markdown",
   "metadata": {},
   "source": [
    "Het if-else-if-statement bevat het if-statement gevolgd door één of meerdere else-if-statements. Met andere woorden, we kunnen zeggen dat het een reeks van if-else-statements is. het programma het codeblok eerste code blok uitvoeren waar de voorwaarde TRUE is. We kunnen ook een else-statement aan het einde van de reeks definiëren wanneer geen enkele if statement TRUE zou zijn."
   ]
  },
  {
   "cell_type": "code",
   "execution_count": null,
   "metadata": {
    "vscode": {
     "languageId": "javascript"
    }
   },
   "outputs": [],
   "source": [
    "int time = 22;\n",
    "\n",
    "if (time < 10) {\n",
    "  System.out.println(\"Good morning.\");\n",
    "} else if (time < 20) {\n",
    "  System.out.println(\"Good day.\");\n",
    "} else {\n",
    "  System.out.println(\"Good evening.\");\n",
    "}"
   ]
  }
 ],
 "metadata": {
  "kernelspec": {
   "display_name": "Python 3.10.6 64-bit (windows store)",
   "language": "python",
   "name": "python3"
  },
  "language_info": {
   "codemirror_mode": "java",
   "file_extension": ".jshell",
   "mimetype": "text/x-java-source",
   "name": "python",
   "pygments_lexer": "java",
   "version": "3.10.6"
  },
  "vscode": {
   "interpreter": {
    "hash": "6b37d82d5803a5e2590946df6dbaaa38f6646f38cc7b4ff419918623f65de815"
   }
  }
 },
 "nbformat": 4,
 "nbformat_minor": 2
}
