{
 "cells": [
  {
   "cell_type": "markdown",
   "metadata": {
    "pycharm": {
     "name": "#%% md\n"
    }
   },
   "source": [
    "![](https://intecbrussel.be/img/logo3.png)  \n",
    "_Java les-materialen_"
   ]
  },
  {
   "cell_type": "markdown",
   "metadata": {},
   "source": [
    "## IF - Statement"
   ]
  },
  {
   "cell_type": "markdown",
   "metadata": {},
   "source": [
    "In Java wordt de \"if\"-instructie gebruikt om een voorwaarde te evalueren. De besturing van het programma wordt omgeleid afhankelijk van de specifieke toestand. De voorwaarde van de If-instructie geeft een Booleaanse waarde, waar of onwaar. In Java zijn er vier soorten if-statements die hieronder worden gegeven."
   ]
  },
  {
   "cell_type": "markdown",
   "metadata": {},
   "source": [
    "### Eenvoudige if - statement"
   ]
  },
  {
   "cell_type": "markdown",
   "metadata": {},
   "source": [
    "Hieronder staat een voorbeeld van de meest simpele **if structuur** die je kan bedenken. Wanneer de conditie true is zal de code tussen het if block uitgevoerd worden."
   ]
  },
  {
   "cell_type": "code",
   "execution_count": null,
   "metadata": {},
   "outputs": [],
   "source": [
    "int number = 10;\n",
    "\n",
    "if(number < 100) {\n",
    "    \n",
    "    // this line is printed out when number is smaller than 100! When the condition is TRUE\n",
    "    System.out.println(\"The value of number is smaller than 100 \");\n",
    "    \n",
    "}"
   ]
  },
  {
   "cell_type": "markdown",
   "metadata": {},
   "source": [
    "### Eenvoudige if - else statement"
   ]
  },
  {
   "cell_type": "markdown",
   "metadata": {},
   "source": [
    "In het volgende voorbeeld voegen we een **else statement** toe aan de **if statement**, dit zorgt ervoor wanneer de conditie een false retourneerd we een ander stukje code kunnen uitvoeren alvorens ons programma zal verder gaan."
   ]
  },
  {
   "cell_type": "code",
   "execution_count": null,
   "metadata": {},
   "outputs": [],
   "source": [
    "int number = 110;\n",
    "\n",
    "if(number < 100) {\n",
    "    // this line is printed out when number is smaller than 100! When the condition is TRUE\n",
    "    System.out.println(\"The value of number is smaller than 100 \");\n",
    "}\n",
    "else{\n",
    "    // this line is printed out when number is NOT smaller than 100! When the condition is FALSE\n",
    "    System.out.println(\"The value of number is NOT smaller than 100 \");\n",
    "}"
   ]
  },
  {
   "cell_type": "markdown",
   "metadata": {},
   "source": [
    "### If - else - if statement"
   ]
  },
  {
   "cell_type": "markdown",
   "metadata": {},
   "source": [
    "Het if-else-if-statement bevat het if-statement gevolgd door één of meerdere else-if-statements. Met andere woorden, we kunnen zeggen dat het een reeks van if-else-statements is. het programma het codeblok eerste code blok uitvoeren waar de voorwaarde TRUE is. We kunnen ook een else-statement aan het einde van de reeks definiëren wanneer geen enkele if statement TRUE zou zijn."
   ]
  },
  {
   "cell_type": "code",
   "execution_count": null,
   "metadata": {},
   "outputs": [],
   "source": [
    "int time = 22;\n",
    "\n",
    "if (time < 10) {\n",
    "  System.out.println(\"Good morning.\");\n",
    "} \n",
    "else if (time < 20) {\n",
    "  System.out.println(\"Good day.\");\n",
    "} \n",
    "else {\n",
    "  System.out.println(\"Good evening.\");\n",
    "}"
   ]
  },
  {
   "cell_type": "markdown",
   "metadata": {},
   "source": [
    "### Logische operators met if statement\n",
    "\n",
    "In hoofdstuk [02-operators](/Notebooks/Nederlands/01%20-%20Basisprogrammeren/02%20operators/02.00%20operators.ipynb) hebben we de verschillende logische operatoren gezien deze zijn uiterst geschikt om te gebruiken in if statements. "
   ]
  },
  {
   "cell_type": "markdown",
   "metadata": {},
   "source": [
    "Voorbeeld **AND** operator:\n",
    "\n",
    "Bij de AND operator zal het if statement uitgevoerd worden wanneer zowel de linkerkant als de rechterkant een **true** opleveren. In het voorbeeld hieronder wil ik controlleren of de variabele number tussen 0 en 10 valt."
   ]
  },
  {
   "cell_type": "code",
   "execution_count": null,
   "metadata": {},
   "outputs": [],
   "source": [
    "int number = 5;\n",
    "\n",
    "if(number > 0 && number < 10){\n",
    "    System.out.println(\"number falls in the range from 0 to 10!\");\n",
    "}\n",
    "else{\n",
    "    System.out.println(\"number doesn't fall in the range from 0 to 10!\");\n",
    "}"
   ]
  },
  {
   "cell_type": "markdown",
   "metadata": {},
   "source": [
    "Voorbeeld **OR** operator:\n",
    "\n",
    "Wanneer we de OR operator gebruiken zal ons if statement uitgevoerd worden wanneer de linkerkant of de rechterkant een **true** opleverd. In het volgende voorbeeld wil ik controlleren of de variabele number niet gelijk is 0."
   ]
  },
  {
   "cell_type": "code",
   "execution_count": null,
   "metadata": {},
   "outputs": [],
   "source": [
    "int number = 2;\n",
    "\n",
    "if(number > 0 || number < 0){\n",
    "    System.out.println(\"number in not equal to 0!\");\n",
    "}\n",
    "else{\n",
    "    System.out.println(\"number in equal to 0!\");\n",
    "}"
   ]
  },
  {
   "cell_type": "markdown",
   "metadata": {},
   "source": [
    "Voorbeeld **NOT** operator: \n",
    "\n",
    "In het volgende voorbeeld wil ik nagaan of de variabele number niet gelijk is aan 0. De NOT operator zal de waarde tussen de haakjes omdraaien."
   ]
  },
  {
   "cell_type": "code",
   "execution_count": null,
   "metadata": {},
   "outputs": [],
   "source": [
    "int number = 1;\n",
    "        \n",
    "if(!(number == 0)){\n",
    "    System.out.println(\"number is not equal to 0\");\n",
    "}"
   ]
  },
  {
   "cell_type": "markdown",
   "metadata": {},
   "source": [
    "Optie 2 **NOT equal** :"
   ]
  },
  {
   "cell_type": "code",
   "execution_count": null,
   "metadata": {},
   "outputs": [],
   "source": [
    "int number = 1;\n",
    "        \n",
    "if(number != 0){\n",
    "    System.out.println(\"number is not equal to 0\");\n",
    "}"
   ]
  },
  {
   "cell_type": "markdown",
   "metadata": {},
   "source": [
    "[Gaan naar het volgende deel van branching *switch*](/Notebooks/Nederlands/01%20-%20Basisprogrammeren/03%20branching/03.02-switch-statement.ipynb)"
   ]
  }
 ],
 "metadata": {
  "kernelspec": {
   "display_name": "Java",
   "language": "java",
   "name": "java"
  },
  "language_info": {
   "codemirror_mode": "java",
   "file_extension": ".jshell",
   "mimetype": "text/x-java-source",
   "name": "java",
   "pygments_lexer": "java",
   "version": "11.0.11+9-LTS"
  },
  "vscode": {
   "interpreter": {
    "hash": "217c631b613e36ff4b9cdbe99ee2d03b09d4e7c1f494b32c9aa8f6b180d54c14"
   }
  }
 },
 "nbformat": 4,
 "nbformat_minor": 2
}
