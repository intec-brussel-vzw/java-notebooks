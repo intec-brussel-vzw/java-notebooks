{
 "cells": [
  {
   "cell_type": "markdown",
   "metadata": {
    "pycharm": {
     "name": "#%% md\n"
    }
   },
   "source": [
    "![](https://intecbrussel.be/img/logo3.png)  \n",
    "_Java les-materialen_"
   ]
  },
  {
   "cell_type": "markdown",
   "metadata": {},
   "source": [
    "## Switch Statement"
   ]
  },
  {
   "cell_type": "markdown",
   "metadata": {},
   "source": [
    "Naast \"if - statement\" is er ook de \"switch - statement\" om branching toe te passen."
   ]
  },
  {
   "cell_type": "markdown",
   "metadata": {},
   "source": [
    "### Switch statement Syntax"
   ]
  },
  {
   "cell_type": "code",
   "execution_count": 1,
   "metadata": {
    "vscode": {
     "languageId": "java"
    }
   },
   "outputs": [
    {
     "ename": "CompilationException",
     "evalue": "",
     "output_type": "error",
     "traceback": [
      "\u001b[1m\u001b[30m|   \u001b[1m\u001b[30mswitch(\u001b[0m\u001b[1m\u001b[30m\u001b[41mexpression\u001b[0m\u001b[1m\u001b[30m) {\u001b[0m",
      "\u001b[1m\u001b[31mcannot find symbol\u001b[0m",
      "\u001b[1m\u001b[31m  symbol:   variable expression\u001b[0m",
      "",
      "\u001b[1m\u001b[30m|   \u001b[1m\u001b[30mswitch\u001b[0m\u001b[1m\u001b[30m\u001b[41m(expression)\u001b[0m\u001b[1m\u001b[30m {\u001b[0m",
      "\u001b[1m\u001b[31millegal parenthesized expression\u001b[0m",
      "",
      "\u001b[1m\u001b[30m|   \u001b[1m\u001b[30m  case \u001b[0m\u001b[1m\u001b[30m\u001b[41mx\u001b[0m\u001b[1m\u001b[30m:\u001b[0m",
      "\u001b[1m\u001b[31mcannot find symbol\u001b[0m",
      "\u001b[1m\u001b[31m  symbol:   variable x\u001b[0m",
      "",
      "\u001b[1m\u001b[30m|   \u001b[1m\u001b[30m  case \u001b[0m\u001b[1m\u001b[30m\u001b[41my\u001b[0m\u001b[1m\u001b[30m:\u001b[0m",
      "\u001b[1m\u001b[31mcannot find symbol\u001b[0m",
      "\u001b[1m\u001b[31m  symbol:   variable y\u001b[0m",
      ""
     ]
    }
   ],
   "source": [
    "switch(expression) {\n",
    "  case x:\n",
    "    // code block\n",
    "    break;\n",
    "  case y:\n",
    "    // code block\n",
    "    break;\n",
    "  default:\n",
    "    // code block\n",
    "}"
   ]
  },
  {
   "cell_type": "markdown",
   "metadata": {},
   "source": [
    "## Default keyword\n",
    "\n",
    "Wanneer onze input/expression van de switch niet overeenkomt met een case zal steeds de default case uitgevoerd worden."
   ]
  },
  {
   "cell_type": "markdown",
   "metadata": {},
   "source": [
    "## Break keyword\n",
    "\n",
    "Wat nieuw is tegenover een if statement is het **break** keyword wanneer onze code dit woord tegenkomt verlaten we meteen de switch statement."
   ]
  },
  {
   "cell_type": "markdown",
   "metadata": {},
   "source": [
    "Bij een switch statement geven we de variabele mee deze wordt voor iedere case geëvalueerd zolang we de switch statement nog niet verlaten hebben door het break keyword als de waarde dat we meegeven overeenkomt met de waarde van de case is dit gelijk aan TRUE zoals we dat kennen van de if statement en zal de case uitgevoerd worden."
   ]
  },
  {
   "cell_type": "code",
   "execution_count": 3,
   "metadata": {
    "vscode": {
     "languageId": "java"
    }
   },
   "outputs": [
    {
     "name": "stdout",
     "output_type": "stream",
     "text": [
      "Day number doesn't exists\n"
     ]
    }
   ],
   "source": [
    "int day = 8;\n",
    "switch (day) {\n",
    "  case 1:\n",
    "    System.out.println(\"Monday\");\n",
    "    break;\n",
    "  case 2:\n",
    "    System.out.println(\"Tuesday\");\n",
    "    break;\n",
    "  case 3:\n",
    "    System.out.println(\"Wednesday\");\n",
    "    break;\n",
    "  case 4:\n",
    "    System.out.println(\"Thursday\");\n",
    "    break;\n",
    "  case 5:\n",
    "    System.out.println(\"Friday\");\n",
    "    break;\n",
    "  case 6:\n",
    "    System.out.println(\"Saturday\");\n",
    "    break;\n",
    "  case 7:\n",
    "    System.out.println(\"Sunday\");\n",
    "    break;\n",
    "  default:\n",
    "    System.out.println(\"Day number doesn't exists\");\n",
    "    break;\n",
    "}"
   ]
  }
 ],
 "metadata": {
  "kernelspec": {
   "display_name": "Java",
   "language": "java",
   "name": "java"
  },
  "language_info": {
   "codemirror_mode": "java",
   "file_extension": ".jshell",
   "mimetype": "text/x-java-source",
   "name": "Java",
   "pygments_lexer": "java",
   "version": "11.0.4+11-LTS"
  },
  "vscode": {
   "interpreter": {
    "hash": "6b37d82d5803a5e2590946df6dbaaa38f6646f38cc7b4ff419918623f65de815"
   }
  }
 },
 "nbformat": 4,
 "nbformat_minor": 2
}
