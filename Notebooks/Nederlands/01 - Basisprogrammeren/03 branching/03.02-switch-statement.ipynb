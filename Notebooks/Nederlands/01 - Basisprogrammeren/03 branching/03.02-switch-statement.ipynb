{
 "cells": [
  {
   "cell_type": "markdown",
   "metadata": {
    "pycharm": {
     "name": "#%% md\n"
    }
   },
   "source": [
    "![](https://intecbrussel.be/img/logo3.png)  \n",
    "_Java les-materialen_"
   ]
  },
  {
   "cell_type": "markdown",
   "metadata": {},
   "source": [
    "# Switch Statement"
   ]
  },
  {
   "cell_type": "markdown",
   "metadata": {},
   "source": [
    "Naast \"if - statement\" is er ook de \"switch - statement\" om branching toe te passen. De switch is structuur die we minder gaan gebruiken dan het if statement omdat deze geen logische vergelijkingen kan maken. Het grootste voordeel van switch is snelheid wanneer we een vijftal of meeer vergelijkingen moeten maken kunnen we beter proberen om dit met een switch op te lossen."
   ]
  },
  {
   "cell_type": "markdown",
   "metadata": {},
   "source": [
    "### Switch statement Syntax"
   ]
  },
  {
   "cell_type": "markdown",
   "metadata": {},
   "source": [
    "```java\n",
    "\n",
    "switch(expression) {\n",
    "  case x:\n",
    "    // code block\n",
    "    break;\n",
    "  case y:\n",
    "    // code block\n",
    "    break;\n",
    "  default:\n",
    "    // code block\n",
    "}\n",
    "\n",
    "```"
   ]
  },
  {
   "cell_type": "markdown",
   "metadata": {},
   "source": [
    "### Default keyword\n",
    "\n",
    "Wanneer onze input/expression van de switch niet overeenkomt met een case zal steeds de default case uitgevoerd worden."
   ]
  },
  {
   "cell_type": "markdown",
   "metadata": {},
   "source": [
    "### Break keyword\n",
    "\n",
    "Wat nieuw is tegenover een if statement is het **break** keyword wanneer onze code dit woord tegenkomt verlaten we meteen de switch statement."
   ]
  },
  {
   "cell_type": "markdown",
   "metadata": {},
   "source": [
    "Bij een switch statement geven we de variabele mee deze wordt voor iedere case geëvalueerd zolang we de switch statement nog niet verlaten hebben door het break keyword als de waarde dat we meegeven overeenkomt met de waarde van de case is dit gelijk aan TRUE zoals we dat kennen van de if statement en zal de case uitgevoerd worden."
   ]
  },
  {
   "cell_type": "code",
   "execution_count": 2,
   "metadata": {
    "vscode": {
     "languageId": "java"
    }
   },
   "outputs": [
    {
     "name": "stdout",
     "output_type": "stream",
     "text": [
      "Thursday\n"
     ]
    }
   ],
   "source": [
    "int day = 4;\n",
    "switch (day) {\n",
    "  case 1:\n",
    "    System.out.println(\"Monday\");\n",
    "    break;\n",
    "  case 2:\n",
    "    System.out.println(\"Tuesday\");\n",
    "    break;\n",
    "  case 3:\n",
    "    System.out.println(\"Wednesday\");\n",
    "    break;\n",
    "  case 4:\n",
    "    System.out.println(\"Thursday\");\n",
    "    break;\n",
    "  case 5:\n",
    "    System.out.println(\"Friday\");\n",
    "    break;\n",
    "  case 6:\n",
    "    System.out.println(\"Saturday\");\n",
    "    break;\n",
    "  case 7:\n",
    "    System.out.println(\"Sunday\");\n",
    "    break;\n",
    "  default:\n",
    "    System.out.println(\"Day number doesn't exists\");\n",
    "    break;\n",
    "}"
   ]
  },
  {
   "cell_type": "markdown",
   "metadata": {},
   "source": [
    "### Multi cases\n",
    "\n",
    "We zijn niet verplicht om bij iedere case het **break** keyword te gebruiken, wanneer we geen break keyword gebruiken zoals in het voorbeeld hieronder zal de code uitgevoerd worden voor alle cases die boven de code staan bijvoorbeeld de volgende code ```System.out.println(\"Weekday\");``` zal uitgevoerd worden voor zowel ```case 1, case 2, case 3, case 4``` en ```case 5```"
   ]
  },
  {
   "cell_type": "code",
   "execution_count": 3,
   "metadata": {
    "vscode": {
     "languageId": "java"
    }
   },
   "outputs": [
    {
     "name": "stdout",
     "output_type": "stream",
     "text": [
      "Weekday\n"
     ]
    }
   ],
   "source": [
    "int day = 4;\n",
    "\n",
    "switch (day) {\n",
    "    // Multiple cases without break statements\n",
    "    case 1:\n",
    "    case 2:\n",
    "    case 3:\n",
    "    case 4:\n",
    "    case 5:\n",
    "        System.out.println(\"Weekday\");\n",
    "        break;\n",
    "    case 6:\n",
    "    case 7:\n",
    "        System.out.println(\"Weekend\");\n",
    "        break;\n",
    "    default:\n",
    "        System.out.println(\"Invalid\");\n",
    "}"
   ]
  },
  {
   "cell_type": "markdown",
   "metadata": {},
   "source": [
    "### Fall through\n",
    "\n",
    "Wanneer we geen break keyword zouden gebruiken krijgen we een fall-through dit wil zeggen dat alle andere cases ook worden uitgevoerd tot de switch wordt onderbroken door het break keyword of de switch structuur tot een einde komt. Zoals in het voorbeeld hieronder zal iedere ```System.out.println()``` uitgevoerd worden vanaf het punt dat we een case hebben die overeenkomt met met de expressie."
   ]
  },
  {
   "cell_type": "code",
   "execution_count": 4,
   "metadata": {
    "vscode": {
     "languageId": "java"
    }
   },
   "outputs": [
    {
     "name": "stdout",
     "output_type": "stream",
     "text": [
      "We are Indian.\n",
      "You are my crony friend.\n",
      "Our Indian flag has tri-color.\n",
      "It is the default statement.\n"
     ]
    }
   ],
   "source": [
    "String str=\"we\";  \n",
    "\n",
    "switch(str)  \n",
    "{  \n",
    "    case \"I\":  \n",
    "        System.out.println(\"I want to become a doctor.\");  \n",
    "    case \"we\":  \n",
    "        System.out.println(\"We are Indian.\");  \n",
    "    case \"you\":  \n",
    "        System.out.println(\"You are my crony friend.\");  \n",
    "    case \"our\":  \n",
    "        System.out.println(\"Our Indian flag has tri-color.\");  \n",
    "    default:  \n",
    "        System.out.println(\"It is the default statement.\");  \n",
    "}      "
   ]
  },
  {
   "cell_type": "markdown",
   "metadata": {},
   "source": [
    "[Ga naar samenvatting en oefeningen](/Notebooks/Nederlands/01%20-%20Basisprogrammeren/03%20branching/03.samenvatting.ipynb)"
   ]
  }
 ],
 "metadata": {
  "kernelspec": {
   "display_name": "Java",
   "language": "java",
   "name": "java"
  },
  "language_info": {
   "codemirror_mode": "java",
   "file_extension": ".jshell",
   "mimetype": "text/x-java-source",
   "name": "Java",
   "pygments_lexer": "java",
   "version": "11.0.11+9-LTS"
  },
  "vscode": {
   "interpreter": {
    "hash": "6b37d82d5803a5e2590946df6dbaaa38f6646f38cc7b4ff419918623f65de815"
   }
  }
 },
 "nbformat": 4,
 "nbformat_minor": 2
}
