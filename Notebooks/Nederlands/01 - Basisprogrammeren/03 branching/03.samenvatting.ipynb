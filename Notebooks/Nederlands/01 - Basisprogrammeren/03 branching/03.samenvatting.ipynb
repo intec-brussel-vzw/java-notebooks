{
 "cells": [
  {
   "cell_type": "markdown",
   "metadata": {
    "pycharm": {
     "name": "#%% md\n"
    }
   },
   "source": [
    "![](https://intecbrussel.be/img/logo3.png)  \n",
    "_Java les-materialen_"
   ]
  },
  {
   "cell_type": "markdown",
   "metadata": {},
   "source": [
    "## Samenvatting"
   ]
  },
  {
   "cell_type": "markdown",
   "metadata": {},
   "source": [
    "In dit hoofdstuk hebben we branching bekeken, branching is een onderdeel van flow control samen met loops. we weten nu dat we onze applicatie verschillende keuzes kunnen laten maken door middel van een if-else statement of switch statement.\n",
    "\n",
    "Het belangrijkste verschill tussen een if statement en switch statement, een if-else structuur kan complexere expressies vergelijken op basis van waardes of voorwaarden, dit terwijl een switch structuur alleen kan vergelijken of de waarde gelijk is zoals een int, char, string en andere primitieve datatypes.\n",
    "\n",
    "hieronder kan je uw kennis testen met verschillende oefeningen."
   ]
  },
  {
   "cell_type": "markdown",
   "metadata": {},
   "source": [
    "### Oefening 1\n",
    "Maak een applicatie die kan vertellen welk getal het grootste is.\n"
   ]
  },
  {
   "cell_type": "code",
   "execution_count": null,
   "metadata": {},
   "outputs": [],
   "source": [
    "int number1 = 7;\n",
    "int number2 = 16;"
   ]
  },
  {
   "cell_type": "markdown",
   "metadata": {},
   "source": [
    "### Oefening 2\n",
    "\n",
    "Maak een applicatie die kan zeggen of de input variabele positief, negatief of 0 is."
   ]
  },
  {
   "cell_type": "code",
   "execution_count": null,
   "metadata": {},
   "outputs": [],
   "source": [
    "int input = 10;"
   ]
  },
  {
   "cell_type": "markdown",
   "metadata": {},
   "source": [
    "### Oefening 3\n",
    "\n",
    "Maak een applicatie die je kan vertellen aan de hand van de maand hoeveel dagen deze telt van het huidige jaar."
   ]
  },
  {
   "cell_type": "code",
   "execution_count": null,
   "metadata": {},
   "outputs": [],
   "source": [
    "String month = \"March\";\n",
    "String daysCount = 0;"
   ]
  }
 ],
 "metadata": {
  "kernelspec": {
   "display_name": "Python 3.10.6 64-bit (windows store)",
   "language": "python",
   "name": "python3"
  },
  "language_info": {
   "name": "python",
   "version": "3.10.6"
  },
  "orig_nbformat": 4,
  "vscode": {
   "interpreter": {
    "hash": "6b37d82d5803a5e2590946df6dbaaa38f6646f38cc7b4ff419918623f65de815"
   }
  }
 },
 "nbformat": 4,
 "nbformat_minor": 2
}
