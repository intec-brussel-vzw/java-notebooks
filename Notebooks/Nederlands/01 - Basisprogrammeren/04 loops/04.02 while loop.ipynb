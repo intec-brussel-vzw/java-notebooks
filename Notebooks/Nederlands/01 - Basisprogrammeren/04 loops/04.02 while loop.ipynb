{
 "cells": [
  {
   "cell_type": "markdown",
   "metadata": {},
   "source": [
    "![](https://intecbrussel.be/img/logo3.png)  \n",
    "_Java les-materialen_"
   ]
  },
  {
   "cell_type": "markdown",
   "metadata": {},
   "source": [
    "# While loop"
   ]
  },
  {
   "cell_type": "markdown",
   "metadata": {},
   "source": [
    "De while-loop in Java is een control flow-statement waarmee code herhaaldelijk kan worden uitgevoerd op basis van een bepaalde Booleaanse waarde. \n",
    "\n",
    "De while-lus kan worden gezien als een herhalend if-statement. While-lus in Java wordt gebruikt wanneer we herhaaldelijk een blok met instructies moeten uitvoeren. \n",
    "\n",
    "*Als het aantal iteraties niet vaststaat, wordt aanbevolen om de while-lus te gebruiken.* "
   ]
  },
  {
   "cell_type": "markdown",
   "metadata": {},
   "source": [
    "### Hier hebben we de while loop syntax:\n",
    "\n",
    "**test_expression**: In deze uitdrukking moeten we de voorwaarde testen. Als de voorwaarde waar is, zullen we de body van de loop uitvoeren en de expressie bijwerken. Anders verlaten we de while-loop.\n",
    "\n",
    "**update_expression**: Na het uitvoeren van de loop-body, increments/decrements deze expressie de loop-variabele met een bepaalde waarde.\n",
    "\n",
    "```\n",
    "while (test_expression)\n",
    "{\n",
    "   // statements\n",
    " \n",
    "  update_expression;\n",
    "}\n",
    "```"
   ]
  },
  {
   "cell_type": "markdown",
   "metadata": {},
   "source": [
    "### Voorbeelden van een while loop"
   ]
  },
  {
   "cell_type": "code",
   "execution_count": null,
   "metadata": {},
   "outputs": [],
   "source": [
    "// Deze loop zal 5 keer \"Hello World\" af drukken.\n",
    "\n",
    "// initialization expression\n",
    "int i = 1;\n",
    " \n",
    "// test expression\n",
    "while (i < 6) {\n",
    "    System.out.println(\"Hello World\");\n",
    " \n",
    "    // update expression\n",
    "    i++;\n",
    "}"
   ]
  },
  {
   "cell_type": "code",
   "execution_count": null,
   "metadata": {},
   "outputs": [],
   "source": [
    "// Deze loop zal de optelling doen van de getallen 1 tot 10 doen.\n",
    "\n",
    "int x = 1, sum = 0;\n",
    " \n",
    "// Exit when x becomes greater than 4\n",
    "while (x <= 10) {\n",
    "    // summing up x\n",
    "    sum = sum + x;\n",
    " \n",
    "    // Increment the value of x for\n",
    "    // next iteration\n",
    "    x++;\n",
    "}\n",
    "System.out.println(\"Summation: \" + sum);"
   ]
  },
  {
   "cell_type": "markdown",
   "metadata": {},
   "source": [
    "### Vervolg de cursus\n",
    "\n",
    "[Hoofd pagina loops](/Notebooks/Nederlands/01%20-%20Basisprogrammeren/04%20loops/04.00%20Loops.ipynb)\n",
    "\n",
    "[Examples for loop](/Notebooks/Nederlands/01%20-%20Basisprogrammeren/04%20loops/04.01%20For%20loop.ipynb)\n",
    "\n",
    "[Examples Do while loop](/Notebooks/Nederlands/01%20-%20Basisprogrammeren/04%20loops/04.03%20Do%20while%20loop.ipynb)"
   ]
  }
 ],
 "metadata": {
  "kernelspec": {
   "display_name": "Java",
   "language": "java",
   "name": "java"
  },
  "language_info": {
   "codemirror_mode": "java",
   "file_extension": ".jshell",
   "mimetype": "text/x-java-source",
   "name": "java",
   "pygments_lexer": "java",
   "version": "11.0.11+9-LTS"
  },
  "orig_nbformat": 4,
  "vscode": {
   "interpreter": {
    "hash": "217c631b613e36ff4b9cdbe99ee2d03b09d4e7c1f494b32c9aa8f6b180d54c14"
   }
  }
 },
 "nbformat": 4,
 "nbformat_minor": 2
}
