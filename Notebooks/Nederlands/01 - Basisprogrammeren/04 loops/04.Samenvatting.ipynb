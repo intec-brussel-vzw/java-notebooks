{
 "cells": [
  {
   "cell_type": "markdown",
   "metadata": {},
   "source": [
    "![](https://intecbrussel.be/img/logo3.png)  \n",
    "_Java les-materialen_"
   ]
  },
  {
   "cell_type": "markdown",
   "metadata": {},
   "source": [
    "# Samenvatting"
   ]
  },
  {
   "cell_type": "markdown",
   "metadata": {},
   "source": [
    "### samenvatting\n",
    "\n",
    "Nu hebben we 3 verschillende loops gezien om herhaaldelijk werk te doen. Welke loops hebben ze gezien ik zal ze nog even kort toelichten.\n",
    "- For loop\n",
    "- While loop\n",
    "- Do while loop\n",
    "\n",
    "Ze lijken veel op elkaar en doen groot gedeelte hetzelfde maar hier en daar pakken ze hun voordeel bijvoorbeeld: \n",
    "- Een while-loop, waarin de loop-controlerende Booleaanse expressie de eerste instructie in de loop is.\n",
    "- Een for-loop, die meestal wordt gebruikt als het aantal iteraties **vaststaat**.\n",
    "- Een do...while-loop, waarin de loop-controlerende Booleaanse expressie de laatste instructie in de loop is\n",
    "\n",
    "Nu gaan we onze kennis testen hieronder vind je een aantal oefeningen om elke loop een uit te proberen."
   ]
  },
  {
   "cell_type": "markdown",
   "metadata": {},
   "source": [
    "### Oefening 1 \n",
    "\n",
    "**Gebruik een for loop** \n",
    "\n",
    "Print elke waarde die je door 7 kunt delen van 1 tot en met 100 in omgekeerde volgorde."
   ]
  },
  {
   "cell_type": "code",
   "execution_count": null,
   "metadata": {},
   "outputs": [],
   "source": [
    "// Hier mag je voor oefening 1 de code testen. \n",
    "\n",
    "\n",
    "\n"
   ]
  },
  {
   "cell_type": "markdown",
   "metadata": {},
   "source": [
    "### Oefening 2 \n",
    "\n",
    "**Gebruik een while loop**\n",
    "\n",
    "Maak een programma dat de getallen van 50 tot en met 100 omgekeerd afdrukken.\n"
   ]
  },
  {
   "cell_type": "code",
   "execution_count": null,
   "metadata": {},
   "outputs": [],
   "source": [
    "// Hier mag je voor oefening 2 de code testen. \n",
    "\n",
    "\n",
    "\n"
   ]
  },
  {
   "cell_type": "markdown",
   "metadata": {},
   "source": [
    "### Oefening 3\n",
    "\n",
    "**Gebruik een do while loop**\n"
   ]
  },
  {
   "cell_type": "code",
   "execution_count": null,
   "metadata": {},
   "outputs": [],
   "source": [
    "// Hier mag je voor oefening 3 de code testen. \n",
    "\n",
    "\n"
   ]
  },
  {
   "cell_type": "markdown",
   "metadata": {},
   "source": [
    "Nu zijn we bekend met de verschillende loops en dan kunnen we door naar het volgende hoofdstuk. [Hier moet een link komen]()"
   ]
  }
 ],
 "metadata": {
  "kernelspec": {
   "display_name": "Java",
   "language": "java",
   "name": "java"
  },
  "language_info": {
   "codemirror_mode": "java",
   "file_extension": ".jshell",
   "mimetype": "text/x-java-source",
   "name": "java",
   "pygments_lexer": "java",
   "version": "11.0.11+9-LTS"
  },
  "orig_nbformat": 4,
  "vscode": {
   "interpreter": {
    "hash": "217c631b613e36ff4b9cdbe99ee2d03b09d4e7c1f494b32c9aa8f6b180d54c14"
   }
  }
 },
 "nbformat": 4,
 "nbformat_minor": 2
}
