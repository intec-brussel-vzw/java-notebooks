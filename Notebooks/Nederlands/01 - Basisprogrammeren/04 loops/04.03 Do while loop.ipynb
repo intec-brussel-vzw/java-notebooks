{
 "cells": [
  {
   "cell_type": "markdown",
   "metadata": {},
   "source": [
    "![](https://intecbrussel.be/img/logo3.png)  \n",
    "_Java les-materialen_"
   ]
  },
  {
   "cell_type": "markdown",
   "metadata": {},
   "source": [
    "# Do while loop"
   ]
  },
  {
   "cell_type": "markdown",
   "metadata": {},
   "source": [
    "De do-while loop in Java is een Exit control loop. Daarom, in tegenstelling tot de for of while-loop doet de do-while loop een controle op de voorwaarde na het uitvoeren van de instructies van de loop-body."
   ]
  },
  {
   "cell_type": "markdown",
   "metadata": {},
   "source": [
    "### Hier hebben we de do while loop syntax:\n",
    "\n",
    "**test_expression**: In deze uitdrukking moeten we de voorwaarde testen. Als de voorwaarde waar is, zullen we de hoofdtekst van de lus uitvoeren en de expressie bijwerken. Anders verlaten we de while-lus.\n",
    "\n",
    "**Update_Expression**: Na het uitvoeren van de loop-body, increments/decrements deze expressie de loop-variabele met een bepaalde waarde.\n",
    "\n",
    "\n",
    "```\n",
    "do\n",
    "{\n",
    "    // Loop Body\n",
    "    Update_expression\n",
    "}\n",
    "\n",
    "// Condition check\n",
    "while (test_expression);\n",
    "\n",
    "```\n",
    "\n",
    "Opmerking: de test_expression voor de do-while-loop moet een booleaanse waarde retourneren, anders zouden we een compile-time-error krijgen.\n"
   ]
  },
  {
   "cell_type": "markdown",
   "metadata": {},
   "source": [
    "Deze loop zal 5 keer \"Hello World\" af drukken."
   ]
  },
  {
   "cell_type": "code",
   "execution_count": null,
   "metadata": {},
   "outputs": [],
   "source": [
    "int i = 1;\n",
    "do {\n",
    " \n",
    "    // Body of do-while loop\n",
    "    System.out.println(\"Hello World\");\n",
    " \n",
    "    // Update expression\n",
    "    i++;\n",
    "}\n",
    " \n",
    "// Test expression\n",
    "while (i < 6);"
   ]
  },
  {
   "cell_type": "markdown",
   "metadata": {},
   "source": [
    "Ik heb het bovenste voorbeeld aangepast. In plaats van de i = 1 is hebben we i = 10 gemaakt om te laten zien dat als de conditie niet waar is, dat de do while loop toch 1 keer de body van de loop gebruikt. "
   ]
  },
  {
   "cell_type": "code",
   "execution_count": null,
   "metadata": {},
   "outputs": [],
   "source": [
    "int i = 10;\n",
    "do {\n",
    " \n",
    "    // Body of do-while loop\n",
    "    System.out.println(\"Hello World\");\n",
    " \n",
    "    // Update expression\n",
    "    i++;\n",
    "}\n",
    " \n",
    "// Test expression\n",
    "while (i < 6);"
   ]
  },
  {
   "cell_type": "markdown",
   "metadata": {},
   "source": [
    "Bij deze loop tellen we steeds x op bij sum tot sum onder de 10 komt."
   ]
  },
  {
   "cell_type": "code",
   "execution_count": null,
   "metadata": {},
   "outputs": [],
   "source": [
    "int x = 21, sum = 0;\n",
    "do {\n",
    " \n",
    "    // Execution statements(Body of loop)\n",
    " \n",
    "    // Here, the line will be printed even if the condition is false\n",
    "    sum += x;\n",
    "    x--;\n",
    "}\n",
    " \n",
    "// Now checking condition\n",
    "while (x > 10);\n",
    " \n",
    "// Summing up\n",
    "System.out.println(\"Summation: \" + sum);"
   ]
  },
  {
   "cell_type": "markdown",
   "metadata": {},
   "source": [
    "### Vervolg de cursus\n",
    "\n",
    "[Hoofd pagina loops](/Notebooks/Nederlands/01%20-%20Basisprogrammeren/04%20loops/04.00%20Loops.ipynb)\n",
    "\n",
    "[Voorbeelden for loop](/Notebooks/Nederlands/01%20-%20Basisprogrammeren/04%20loops/04.01%20For%20loop.ipynb)\n",
    "\n",
    "[Voorbeelden while loop](/Notebooks/Nederlands/01%20-%20Basisprogrammeren/04%20loops/04.02%20while%20loop.ipynb)"
   ]
  }
 ],
 "metadata": {
  "kernelspec": {
   "display_name": "Java",
   "language": "java",
   "name": "java"
  },
  "language_info": {
   "codemirror_mode": "java",
   "file_extension": ".jshell",
   "mimetype": "text/x-java-source",
   "name": "java",
   "pygments_lexer": "java",
   "version": "11.0.11+9-LTS"
  },
  "orig_nbformat": 4,
  "vscode": {
   "interpreter": {
    "hash": "217c631b613e36ff4b9cdbe99ee2d03b09d4e7c1f494b32c9aa8f6b180d54c14"
   }
  }
 },
 "nbformat": 4,
 "nbformat_minor": 2
}
