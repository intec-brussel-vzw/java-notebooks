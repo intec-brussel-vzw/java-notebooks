{
 "cells": [
  {
   "cell_type": "markdown",
   "metadata": {},
   "source": [
    "![](https://intecbrussel.be/img/logo3.png)  \n",
    "_Java les-materialen_"
   ]
  },
  {
   "cell_type": "markdown",
   "metadata": {},
   "source": [
    "# De For loop\n",
    "\n",
    "Hieronder heb je de uitleg van de verschillende delen van een for loop. \n",
    "\n",
    "**Initialisatie voorwaarde:** In deze expressie moeten we de loop index/ counter initialiseren tot een bepaalde waarde.\n",
    "\n",
    "**Testconditie:** In deze uitdrukking moeten we de voorwaarde testen. Als de voorwaarde dan naar true evalueert, voeren we de hoofdtekst van de loop uit en gaan we de expressie bijwerken anders verlaten we de for-loop.\n",
    "\n",
    "**Uitvoering van de verklaring:** Na het uitvoeren van de loop tekst, verhoogt / verlaagt deze expressie de loop variabele met een bepaalde waarde.\n",
    "\n",
    "**Verhoging/ Verlaging:** Het wordt gebruikt voor het bijwerken van de variabele voor de volgende iteratie.\n",
    "\n",
    "**Beëindiging van de lus:** Wanneer de toestand false wordt, eindigt de loop en markeert het einde van zijn levenscyclus."
   ]
  },
  {
   "cell_type": "markdown",
   "metadata": {},
   "source": [
    "Hier heb je de syntax voor een **for loop**\n",
    "\n",
    "```\n",
    "\n",
    "for (initialization condition; testing condition; increment/decrement)\n",
    "\n",
    "{\n",
    "    // body of the loop\n",
    "    // statements we want to execute\n",
    "}\n",
    "\n",
    "```"
   ]
  },
  {
   "cell_type": "markdown",
   "metadata": {},
   "source": [
    "### Voorbeelden \n",
    "\n",
    "Hieronder zullen we een aantal verschillende `for loops` tonen die je kunt uitproberen.\n",
    "\n",
    "\n",
    "Deze for loop zal de index afdrukken en dat zal zijn van 0 tot en met 9."
   ]
  },
  {
   "cell_type": "code",
   "execution_count": null,
   "metadata": {},
   "outputs": [],
   "source": [
    "\n",
    "for (int index = 0; index < 10; index++) {\n",
    "\n",
    "    System.out.println(\"The index is: \" + index);\n",
    "\n",
    "} "
   ]
  },
  {
   "cell_type": "markdown",
   "metadata": {},
   "source": [
    "Deze for loop zal 5 keer \"Hello World\" afdrukken."
   ]
  },
  {
   "cell_type": "code",
   "execution_count": null,
   "metadata": {},
   "outputs": [],
   "source": [
    "\n",
    "for (int index = 1; index <= 5; index++) {\n",
    "\n",
    "    System.out.println(\"Hello World\");\n",
    "\n",
    "}"
   ]
  },
  {
   "cell_type": "markdown",
   "metadata": {},
   "source": [
    "Deze for loop zal omgekeerd aftellen doordat we de index decrementeren. "
   ]
  },
  {
   "cell_type": "code",
   "execution_count": null,
   "metadata": {},
   "outputs": [],
   "source": [
    "\n",
    "for (int index = 10; index >= 0; index--) {\n",
    "\n",
    "    System.out.println(\"The index is: \" + index); \n",
    "\n",
    "}"
   ]
  },
  {
   "cell_type": "markdown",
   "metadata": {},
   "source": [
    "### Belangrijk\n",
    "Dit is een voorbeeld van een oneindigende for loop. Deze hebben we niet in een code blok gezet want als we dit testen zal het programma vastlopen. Dit is ook het gevaar van een oneindigende loop.\n",
    "\n",
    "Dit is een oneindigende loop doordat nooit de testing conditie word behaald (index <= 10). "
   ]
  },
  {
   "cell_type": "markdown",
   "metadata": {},
   "source": [
    "```java    \n",
    "int sum = 0;\n",
    "\n",
    "for (int index = 1; index <= 10; --index) {\n",
    "\n",
    "    System.out.println(\"Hello\");\n",
    "    \n",
    "}\n",
    "```"
   ]
  },
  {
   "cell_type": "markdown",
   "metadata": {},
   "source": [
    "### Vervolg de cursus\n",
    "\n",
    "[Advanced for loop: for each](/Notebooks/Nederlands/03%20-%20Array%20and%20enums/02%20array%20overlopen%20met%20loops/02.00%20iterate%20arrays.ipynb)\n",
    "\n",
    "[Hoofd pagina loops](/Notebooks/Nederlands/01%20-%20Basisprogrammeren/04%20loops/04.00%20Loops.ipynb)\n",
    "\n",
    "[Examples while loop](/Notebooks/Nederlands/01%20-%20Basisprogrammeren/04%20loops/04.02%20while%20loop.ipynb)\n",
    "\n",
    "[Examples Do while loop](/Notebooks/Nederlands/01%20-%20Basisprogrammeren/04%20loops/04.03%20Do%20while%20loop.ipynb)"
   ]
  }
 ],
 "metadata": {
  "kernelspec": {
   "display_name": "Java",
   "language": "java",
   "name": "java"
  },
  "language_info": {
   "codemirror_mode": "java",
   "file_extension": ".jshell",
   "mimetype": "text/x-java-source",
   "name": "java",
   "pygments_lexer": "java",
   "version": "11.0.11+9-LTS"
  },
  "orig_nbformat": 4,
  "vscode": {
   "interpreter": {
    "hash": "217c631b613e36ff4b9cdbe99ee2d03b09d4e7c1f494b32c9aa8f6b180d54c14"
   }
  }
 },
 "nbformat": 4,
 "nbformat_minor": 2
}
