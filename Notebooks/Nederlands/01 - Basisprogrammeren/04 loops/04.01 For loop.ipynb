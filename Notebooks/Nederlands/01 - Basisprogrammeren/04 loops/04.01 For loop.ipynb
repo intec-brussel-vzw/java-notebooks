{
 "cells": [
  {
   "cell_type": "markdown",
   "metadata": {},
   "source": [
    "![](https://intecbrussel.be/img/logo3.png)  \n",
    "_Java les-materialen_"
   ]
  },
  {
   "cell_type": "markdown",
   "metadata": {},
   "source": [
    "# De For loop\n",
    "\n",
    "**Initialisatie voorwaarde:** Hier initialiseren we de variabele die in gebruik is. Het markeert het begin van een for loop. Een reeds gedeclareerde variabele kan worden gebruikt of een variabele kan worden gedeclareerd, alleen lokaal naar lus.\n",
    "\n",
    "**Testconditie:** Het wordt gebruikt voor het testen van de uitgangsconditie voor een lus. Het moet een booleaanse waarde retourneren. Het is ook een **Entry Control Loop** omdat de toestand wordt gecontroleerd voordat de lusinstructies worden uitgevoerd.\n",
    "\n",
    "**Uitvoering van de verklaring:** Zodra de voorwaarde is geëvalueerd naar true, worden de instructies in de lustekst uitgevoerd.\n",
    "\n",
    "**Verhoging/ Verlaging:** Het wordt gebruikt voor het bijwerken van de variabele voor de volgende iteratie.\n",
    "\n",
    "**Beëindiging van de lus:** Wanneer de toestand vals wordt, eindigt de lus en markeert het einde van zijn levenscyclus."
   ]
  },
  {
   "cell_type": "markdown",
   "metadata": {},
   "source": [
    "```\n",
    "\n",
    "for (initialization condition; testing condition; increment/decrement)\n",
    "\n",
    "{\n",
    "    statement(s)\n",
    "}\n",
    "\n",
    "```"
   ]
  },
  {
   "cell_type": "code",
   "execution_count": null,
   "metadata": {
    "vscode": {
     "languageId": "java"
    }
   },
   "outputs": [],
   "source": [
    "for (int index = 0; index < 10; index++) {\n",
    "\n",
    "    System.out.println(\"The index is: \" + index);\n",
    "\n",
    "} "
   ]
  },
  {
   "cell_type": "markdown",
   "metadata": {},
   "source": [
    "[Hoofd pagina loops](/Notebooks/Nederlands/01%20-%20Basisprogrammeren/04%20loops/04.00%20Loops.ipynb)\n",
    "\n",
    "[Examples while loop](/Notebooks/Nederlands/01%20-%20Basisprogrammeren/04%20loops/04.02%20while%20loop.ipynb)\n",
    "\n",
    "[Examples Do while loop](/Notebooks/Nederlands/01%20-%20Basisprogrammeren/04%20loops/04.03%20Do%20while%20loop.ipynb)"
   ]
  }
 ],
 "metadata": {
  "kernelspec": {
   "display_name": "Java",
   "language": "java",
   "name": "java"
  },
  "language_info": {
   "codemirror_mode": "java",
   "file_extension": ".jshell",
   "mimetype": "text/x-java-source",
   "name": "Java",
   "pygments_lexer": "java",
   "version": "11.0.11+9-LTS"
  },
  "orig_nbformat": 4,
  "vscode": {
   "interpreter": {
    "hash": "217c631b613e36ff4b9cdbe99ee2d03b09d4e7c1f494b32c9aa8f6b180d54c14"
   }
  }
 },
 "nbformat": 4,
 "nbformat_minor": 2
}
