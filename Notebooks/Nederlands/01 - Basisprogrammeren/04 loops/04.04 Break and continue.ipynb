{
 "cells": [
  {
   "cell_type": "markdown",
   "metadata": {},
   "source": [
    "![](https://intecbrussel.be/img/logo3.png)  \n",
    "_Java les-materialen_"
   ]
  },
  {
   "cell_type": "markdown",
   "metadata": {},
   "source": [
    "## Break en continue keywords\n",
    "\n",
    "### Break keyword\n",
    "Je hebt de break-instructie al gezien in een eerder hoofdstuk 03. Het werd gebruikt om uit een switch-statement te springen.\n",
    "\n",
    "Het break-statement kan ook worden gebruikt om uit een loop te springen.\n",
    "\n",
    "Dit voorbeeld stopt de loop wanneer i gelijk is aan 4:"
   ]
  },
  {
   "cell_type": "code",
   "execution_count": null,
   "metadata": {
    "vscode": {
     "languageId": "java"
    }
   },
   "outputs": [],
   "source": [
    "for (int index = 0; index < 10; index++) {\n",
    "\n",
    "    if (index == 4) {\n",
    "      break;\n",
    "\n",
    "    }\n",
    "\n",
    "    System.out.println(index);\n",
    "    \n",
    "  }"
   ]
  },
  {
   "cell_type": "markdown",
   "metadata": {},
   "source": [
    "### Continue keyword\n",
    "De instructie continue verbreekt één iteratie (in de loop), als een opgegeven voorwaarde optreedt, en gaat verder met de volgende iteratie in de loop.\n",
    "\n",
    "In dit voorbeeld wordt de waarde van 4 overgeslagen:"
   ]
  },
  {
   "cell_type": "code",
   "execution_count": null,
   "metadata": {
    "vscode": {
     "languageId": "java"
    }
   },
   "outputs": [],
   "source": [
    "for (int index = 0; index < 10; index++) {\n",
    "\n",
    "    if (index == 4) {\n",
    "      continue;\n",
    "\n",
    "    }\n",
    "\n",
    "    System.out.println(index);\n",
    "    \n",
    "  }"
   ]
  },
  {
   "cell_type": "markdown",
   "metadata": {},
   "source": [
    "### Break en Continue in While Loop\n",
    "Je kunt ook pauze gebruiken en doorgaan in while-lussen:\n",
    "\n",
    "Zie hieronder naar de voorbeelden:"
   ]
  },
  {
   "cell_type": "code",
   "execution_count": null,
   "metadata": {
    "vscode": {
     "languageId": "java"
    }
   },
   "outputs": [],
   "source": [
    "int index = 0;\n",
    "while (index < 10) {\n",
    "\n",
    "  System.out.println(index);\n",
    "  index++;\n",
    "\n",
    "  if (index == 4) {\n",
    "\n",
    "    break;\n",
    "\n",
    "  }\n",
    "\n",
    "}"
   ]
  },
  {
   "cell_type": "code",
   "execution_count": null,
   "metadata": {
    "vscode": {
     "languageId": "java"
    }
   },
   "outputs": [],
   "source": [
    "int index = 0;\n",
    "while (index < 10) {\n",
    "\n",
    "  if (index == 4) {\n",
    "\n",
    "    index++;\n",
    "    continue;\n",
    "\n",
    "  }\n",
    "\n",
    "  System.out.println(index);\n",
    "  index++;\n",
    "\n",
    "}"
   ]
  }
 ],
 "metadata": {
  "kernelspec": {
   "display_name": "Java",
   "language": "java",
   "name": "java"
  },
  "language_info": {
   "codemirror_mode": "java",
   "file_extension": ".jshell",
   "mimetype": "text/x-java-source",
   "name": "Java",
   "pygments_lexer": "java",
   "version": "11.0.11+9-LTS"
  },
  "orig_nbformat": 4
 },
 "nbformat": 4,
 "nbformat_minor": 2
}
