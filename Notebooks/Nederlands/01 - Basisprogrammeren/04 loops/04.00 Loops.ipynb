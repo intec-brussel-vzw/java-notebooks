{
 "cells": [
  {
   "cell_type": "markdown",
   "metadata": {},
   "source": [
    "![](https://intecbrussel.be/img/logo3.png)  \n",
    "_Java les-materialen_"
   ]
  },
  {
   "cell_type": "markdown",
   "metadata": {},
   "source": [
    "# Loops in Java\n",
    "\n",
    "Looping in Java is een manier om herhaaldelijk instructies te vergemakkelijken. terwijl een bepaalde voorwaarde als true wordt geëvalueerd. Java biedt drie manieren om de loops uit te voeren. Hoewel alle manieren vergelijkbare basisfunctionaliteit bieden, verschillen ze in hun syntax en tijd voor het controleren van de conditie.\n",
    "\n",
    "- For loop\n",
    "- while loop \n",
    "- Do while loop\n",
    "\n"
   ]
  },
  {
   "cell_type": "markdown",
   "metadata": {},
   "source": [
    "### For loop\n",
    "De Java _for loop_ wordt gebruikt om een deel van het programma meerdere keren te herhalen. Als het aantal iteraties **vaststaat**, wordt het aanbevolen om een `for loop` te gebruiken.\n",
    "\n",
    "[Examples For loop](/Notebooks/Nederlands/01%20-%20Basisprogrammeren/04%20loops/04.01%20For%20loop.ipynb)"
   ]
  },
  {
   "cell_type": "markdown",
   "metadata": {},
   "source": [
    "### While loop\n",
    "A while loop is een control flow instructie waarmee code herhaaldelijk kan worden uitgevoerd op basis van een bepaalde Booleaan value. De while-lus kan worden gezien als een herhalende if-statement. \n",
    "\n",
    "[Examples while loop](/Notebooks/Nederlands/01%20-%20Basisprogrammeren/04%20loops/04.02%20while%20loop.ipynb)"
   ]
  },
  {
   "cell_type": "markdown",
   "metadata": {},
   "source": [
    "### Do while loop\n",
    "De `Do while loop` is vergelijkbaar met while loop met alleen het verschil dat het controleert op een conditie na het uitvoeren van de instructies, en is daarom een voorbeeld van Exit Control Loop.\n",
    "\n",
    "[Examples Do while loop](/Notebooks/Nederlands/01%20-%20Basisprogrammeren/04%20loops/04.03%20Do%20while%20loop.ipynb)"
   ]
  },
  {
   "cell_type": "markdown",
   "metadata": {},
   "source": [
    "## Belangrijk:\n",
    "\n",
    "### Valkuilen van een loop\n",
    "-  Een van de meest voorkomende fouten bij het implementeren van elke vorm van looping is dat de loop nooit wordt verlaten, dat wil zeggen dat de loop oneindig lang wordt uitgevoerd.\n",
    "- Een andere valkuil is dat je misschien iets toevoegt aan je verzamelobject via een loop en dat je geen geheugen meer hebt.\n"
   ]
  }
 ],
 "metadata": {
  "kernelspec": {
   "display_name": "Java",
   "language": "java",
   "name": "java"
  },
  "language_info": {
   "name": "java",
   "version": "3.10.6"
  },
  "orig_nbformat": 4,
  "vscode": {
   "interpreter": {
    "hash": "217c631b613e36ff4b9cdbe99ee2d03b09d4e7c1f494b32c9aa8f6b180d54c14"
   }
  }
 },
 "nbformat": 4,
 "nbformat_minor": 2
}
