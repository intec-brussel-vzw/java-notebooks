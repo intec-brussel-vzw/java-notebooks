{
 "cells": [
  {
   "cell_type": "markdown",
   "metadata": {},
   "source": [
    "![](https://intecbrussel.be/img/logo3.png)  \n",
    "_Java les-materialen_"
   ]
  },
  {
   "cell_type": "markdown",
   "metadata": {},
   "source": [
    "# Loops in Java\n",
    "\n",
    "Looping in Java is een manier om herhaaldelijk instructies te vergemakkelijken. terwijl een bepaalde voorwaarde als true wordt geëvalueerd. Java biedt drie manieren om de loops uit te voeren. Hoewel alle manieren vergelijkbare basisfunctionaliteit bieden, verschillen ze in hun syntax en tijd voor het controleren van de conditie.\n",
    "\n",
    "Dit hoofdstuk gaan we het hebben over de volgende zaken:\n",
    "- For loop\n",
    "- while loop \n",
    "- Do while loop\n",
    "- Break en continue keywords\n",
    "- Valkuilen loops"
   ]
  },
  {
   "cell_type": "markdown",
   "metadata": {},
   "source": [
    "### For loop\n",
    "De Java _for loop_ wordt gebruikt om een deel van het programma meerdere keren te herhalen. Als het aantal iteraties **vaststaat**, wordt het aanbevolen om een for loop te gebruiken.\n",
    "\n",
    "[Examples For loop](/Notebooks/Nederlands/01%20-%20Basisprogrammeren/04%20loops/04.01%20For%20loop.ipynb)"
   ]
  },
  {
   "cell_type": "markdown",
   "metadata": {},
   "source": [
    "### While loop\n",
    "Een while loop is een control flow instructie waarmee code herhaaldelijk kan worden uitgevoerd op basis van een bepaalde Boolean value. De while-loop kan worden gezien als een herhalende if-statement. \n",
    "\n",
    "[Examples while loop](/Notebooks/Nederlands/01%20-%20Basisprogrammeren/04%20loops/04.02%20while%20loop.ipynb)"
   ]
  },
  {
   "cell_type": "markdown",
   "metadata": {},
   "source": [
    "### Do while loop\n",
    "De Do while loop is vergelijkbaar met while loop met alleen het verschil dat het controleert op een conditie na het uitvoeren van de instructies, en is daarom een voorbeeld van Exit Control Loop. Ook goed om te weten is dat deze loop minimaal een keer rond gaat.\n",
    "\n",
    "[Examples Do while loop](/Notebooks/Nederlands/01%20-%20Basisprogrammeren/04%20loops/04.03%20Do%20while%20loop.ipynb)"
   ]
  },
  {
   "cell_type": "markdown",
   "metadata": {},
   "source": [
    "### Break en continue keywords\n",
    "\n",
    "Je hebt de break-instructie al gezien in een eerder [hoofdstuk 03.02 switch statement](/Notebooks/Nederlands/01%20-%20Basisprogrammeren/03%20branching/03.02-switch-statement.ipynb). Het werd gebruikt om uit een switch-statement te springen. Het break-statement kan ook worden gebruikt om uit een loop te springen.\n",
    "\n",
    "De keyword continue verbreekt één iteratie (in de loop), als een opgegeven voorwaarde optreedt, en gaat verder met de volgende iteratie in de loop.\n",
    "\n",
    "\n",
    "[Examples Break en continue keywords](/Notebooks/Nederlands/01%20-%20Basisprogrammeren/04%20loops/04.04%20Break%20and%20continue.ipynb)\n"
   ]
  },
  {
   "cell_type": "markdown",
   "metadata": {},
   "source": [
    "### Belangrijk:\n",
    "\n",
    "#### Valkuilen van een loop\n",
    "-  Een van de meest voorkomende fouten bij het implementeren van elke vorm van looping is dat de loop nooit wordt verlaten, dat wil zeggen dat de loop oneindig lang wordt uitgevoerd.\n",
    "- Een andere valkuil is dat je misschien iets toevoegt aan je verzamelobject via een loop en dat je geen geheugen meer hebt.\n"
   ]
  }
 ],
 "metadata": {
  "kernelspec": {
   "display_name": "Java",
   "language": "java",
   "name": "java"
  },
  "language_info": {
   "name": "java",
   "version": "3.10.6"
  },
  "orig_nbformat": 4,
  "vscode": {
   "interpreter": {
    "hash": "217c631b613e36ff4b9cdbe99ee2d03b09d4e7c1f494b32c9aa8f6b180d54c14"
   }
  }
 },
 "nbformat": 4,
 "nbformat_minor": 2
}
