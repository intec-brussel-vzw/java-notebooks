{
 "cells": [
  {
   "cell_type": "markdown",
   "metadata": {},
   "source": [
    "<center>\n",
    "    <img src='https://intecbrussel.be/img/logo3.png' width='400px' height='auto'/>\n",
    "    <br/>\n",
    "    <em>Java les-materialen</em>\n",
    "</center>"
   ]
  },
  {
   "cell_type": "markdown",
   "metadata": {},
   "source": [
    "# Getallen en meer in Java!\n",
    "\n",
    "In deze lezing leren we over getallen in Java en hoe we ze kunnen gebruiken.\n",
    "\n",
    "We leren over de volgende onderwerpen:\n",
    "\n",
    "     1.) Soorten getallen in Java.\n",
    "     2.) Basis rekenen.\n",
    "     3.) Verschillen tussen klassieke deling van getallen en floor division. \n",
    "     4.) Objecttoewijzing (EN: assignments) in Java."
   ]
  },
  {
   "cell_type": "markdown",
   "metadata": {},
   "source": [
    "## Soorten nummers\n",
    "\n",
    "Java heeft verschillende \"types\" getallen (numerieke letterlijke waarden). We zullen ons vooral concentreren op gehele getallen en getallen met drijvende komma.\n",
    "\n",
    "Hele getallen kunnen positief of negatief zijn. Bijvoorbeeld: 2 en -2 zijn voorbeelden van hele getallen.\n",
    "\n",
    "Drijvende-kommagetallen in Java zijn opmerkelijk omdat ze een decimaalteken bevatten of een exponentiële (e) gebruiken om het getal te definiëren. 2.0 en -2.1 zijn bijvoorbeeld getallen met drijvende komma. 4E2 (4 keer 10 tot de macht 2) is ook een voorbeeld van een getal met drijvende komma in Java.\n",
    "\n",
    "Gedurende deze cursus zullen we werken met gehele getallen of eenvoudige float-nummertypes.\n",
    "\n",
    "Hier is een tabel met de voorbeelden van welke getallen we gebruiken in Java. Achter het type hebben we ook vermeld wat de minimale en maximale waarden is van het getal."
   ]
  },
  {
   "cell_type": "markdown",
   "metadata": {},
   "source": [
    "Datatype | voorbeeld min en max \n",
    "---|---\n",
    "byte | -128 MAX 127\n",
    "short | -32768 MAX 32767\n",
    "int | -2^31 = -2147483648 MAX 2^31-1 = 2147483647\n",
    "long | MIN -2^63 = -9223372036854775808 MAX 2^63-1 = 9223372036854775807\n",
    "float | MIN -3.4E+38 = 1.4E-45 MAX 3.4E+38 = 3.4028235E38\n",
    "double | MIN -1.7E+308 = 4.9E-324 MAX 1.7E+308 = 1.7976931348623157E308\n"
   ]
  },
  {
   "cell_type": "markdown",
   "metadata": {},
   "source": [
    "### Basis rekenen"
   ]
  },
  {
   "cell_type": "markdown",
   "metadata": {},
   "source": [
    " \n",
    " \n",
    "Laten we nu beginnen met wat basisrekenkunde."
   ]
  },
  {
   "cell_type": "code",
   "execution_count": 1,
   "metadata": {
    "vscode": {
     "languageId": "java"
    }
   },
   "outputs": [
    {
     "name": "stdout",
     "output_type": "stream",
     "text": [
      "300\n"
     ]
    }
   ],
   "source": [
    "// sum is de optelling van getallen.\n",
    "int result = 100 + 200;\n",
    "System.out.println(result);"
   ]
  },
  {
   "cell_type": "code",
   "execution_count": 4,
   "metadata": {
    "scrolled": true,
    "vscode": {
     "languageId": "java"
    }
   },
   "outputs": [
    {
     "name": "stdout",
     "output_type": "stream",
     "text": [
      "-100\n"
     ]
    }
   ],
   "source": [
    "// aftrekken.\n",
    "int result = 100 - 200;\n",
    "System.out.println(result);"
   ]
  },
  {
   "cell_type": "code",
   "execution_count": 5,
   "metadata": {
    "vscode": {
     "languageId": "java"
    }
   },
   "outputs": [
    {
     "name": "stdout",
     "output_type": "stream",
     "text": [
      "20000\n"
     ]
    }
   ],
   "source": [
    "// Vermenigvuldigen\n",
    "int result = 100 * 200;\n",
    "System.out.println(result);"
   ]
  },
  {
   "cell_type": "markdown",
   "metadata": {},
   "source": [
    "### Delen van getallen \n",
    "Er zijn meerdere manieren om een getal te delen. We kunnen delen met hele getallen (floor division), decimalen of de modulo (rest van de deling bepalen). In Java ligt het aan in welke datatype je werkt. In sommige programmeertalen werken we met de dubbele breuklijn // om een floor division te krijgen. In Java moet je kiezen welk datatype je wil werken bijkijk de voorbeelden hieronder. "
   ]
  },
  {
   "cell_type": "code",
   "execution_count": null,
   "metadata": {
    "vscode": {
     "languageId": "java"
    }
   },
   "outputs": [],
   "source": [
    "// delen heel getal (floor division) \n",
    "int result = 101 / 20;              // 101 = 20 * 5 + 1 -> dus deze berekening word afgerond op een heel getal. \n",
    "System.out.println(result);\n",
    "\n",
    "// delen met decimaal\n",
    "double num1 = 101;\n",
    "double num2 = 20;\n",
    "double result = num1 / num2;\n",
    "System.out.println(result);\n",
    "\n",
    "// modulo (Geeft de restwaarde die overblijft)\n",
    "int result = 101 % 20;\n",
    "System.out.println(result);"
   ]
  },
  {
   "cell_type": "markdown",
   "metadata": {},
   "source": [
    "### Rekenkunde vervolg"
   ]
  },
  {
   "cell_type": "markdown",
   "metadata": {},
   "source": [
    "Nu gaan we verder met complexere rekenkunde. Bij het uitvoeren van meerdere berekeningen achter elkaar zijn de volgende regels geldig:\n",
    "\n",
    "Prioriteit | berekening\n",
    "---|---\n",
    "1 | Haakjes\n",
    "2 | Machten / Wortels\n",
    "3 | Vermenigvuldigen / Delen\n",
    "4 | Optellen / Aftrekken"
   ]
  },
  {
   "cell_type": "code",
   "execution_count": 22,
   "metadata": {
    "vscode": {
     "languageId": "java"
    }
   },
   "outputs": [
    {
     "name": "stdout",
     "output_type": "stream",
     "text": [
      "41.0\n"
     ]
    }
   ],
   "source": [
    "// voorbeeld van meerdere berekeningen achter elkaar.\n",
    "double result = (5*4)+(2*10)+(10/10);\n",
    "System.out.println(result);"
   ]
  },
  {
   "cell_type": "markdown",
   "metadata": {},
   "source": [
    "Om een macht of wortel uit te rekenen hebben we een speciale class nodig om dit te berekenen. Dit is de class Math ([Oracle doc class Math](https://docs.oracle.com/javase/1.5.0/docs/api/java/lang/Math.html)) Hier uit kunnen we methodes aanroepen om dit te bereken. Hieronder zie je voorbeelden om dit te doen. "
   ]
  },
  {
   "cell_type": "code",
   "execution_count": 36,
   "metadata": {
    "vscode": {
     "languageId": "java"
    }
   },
   "outputs": [
    {
     "name": "stdout",
     "output_type": "stream",
     "text": [
      "8.0\n"
     ]
    }
   ],
   "source": [
    "// Machten\n",
    "double result = Math.pow(2, 3);\n",
    "System.out.println(result);"
   ]
  },
  {
   "cell_type": "code",
   "execution_count": 39,
   "metadata": {
    "vscode": {
     "languageId": "java"
    }
   },
   "outputs": [
    {
     "name": "stdout",
     "output_type": "stream",
     "text": [
      "5.0\n"
     ]
    }
   ],
   "source": [
    "// Wortel\n",
    "double result = Math.sqrt(25);\n",
    "System.out.println(result);"
   ]
  },
  {
   "cell_type": "markdown",
   "metadata": {},
   "source": [
    "## Variabele Toewijzingen (Assignments)\n",
    "\n",
    "Nu we hebben gezien hoe we getallen in Java als rekenmachine kunnen gebruiken, laten we eens kijken hoe we namen kunnen toewijzen en variabelen kunnen maken.\n",
    "\n",
    "We gebruiken een enkel het gelijkteken om labels aan variabelen toe te wijzen. Laten we een paar voorbeelden bekijken van hoe we dit kunnen doen."
   ]
  },
  {
   "cell_type": "code",
   "execution_count": 8,
   "metadata": {
    "collapsed": true,
    "vscode": {
     "languageId": "java"
    }
   },
   "outputs": [],
   "source": [
    "# Laten we een object maken met de naam \"a\" en het nummer 5 toewijzen\n",
    "a = 5"
   ]
  },
  {
   "cell_type": "markdown",
   "metadata": {},
   "source": [
    "Als ik nu *a* in mijn Python-script aanroep, zal Python het behandelen als het getal 5."
   ]
  },
  {
   "cell_type": "code",
   "execution_count": 9,
   "metadata": {
    "vscode": {
     "languageId": "java"
    }
   },
   "outputs": [
    {
     "data": {
      "text/plain": [
       "10"
      ]
     },
     "execution_count": 9,
     "metadata": {},
     "output_type": "execute_result"
    }
   ],
   "source": [
    "# Het toevoegen van de objecten\n",
    "a+a"
   ]
  },
  {
   "cell_type": "markdown",
   "metadata": {},
   "source": [
    "Wat gebeurt er bij herplaatsing? Laat Python het ons overschrijven?"
   ]
  },
  {
   "cell_type": "code",
   "execution_count": 10,
   "metadata": {
    "collapsed": true,
    "vscode": {
     "languageId": "java"
    }
   },
   "outputs": [],
   "source": [
    "# Hertoewijzing (Reassignment)\n",
    "a = 10"
   ]
  },
  {
   "cell_type": "code",
   "execution_count": 11,
   "metadata": {
    "vscode": {
     "languageId": "java"
    }
   },
   "outputs": [
    {
     "data": {
      "text/plain": [
       "10"
      ]
     },
     "execution_count": 11,
     "metadata": {},
     "output_type": "execute_result"
    }
   ],
   "source": [
    "# Controleren\n",
    "a"
   ]
  },
  {
   "cell_type": "markdown",
   "metadata": {},
   "source": [
    "Ja! Met Python kunt u over toegewezen variabelenamen schrijven. We kunnen de variabelen ook zelf gebruiken bij het opnieuw toewijzen. \n",
    "Hier is een voorbeeld van wat ik bedoel:"
   ]
  },
  {
   "cell_type": "code",
   "execution_count": 12,
   "metadata": {
    "vscode": {
     "languageId": "java"
    }
   },
   "outputs": [
    {
     "data": {
      "text/plain": [
       "10"
      ]
     },
     "execution_count": 12,
     "metadata": {},
     "output_type": "execute_result"
    }
   ],
   "source": [
    "# Controleren\n",
    "a"
   ]
  },
  {
   "cell_type": "code",
   "execution_count": 13,
   "metadata": {
    "collapsed": true,
    "vscode": {
     "languageId": "java"
    }
   },
   "outputs": [],
   "source": [
    "# Gebruik a om a opnieuw te definiëren\n",
    "a = a + a"
   ]
  },
  {
   "cell_type": "code",
   "execution_count": 14,
   "metadata": {
    "vscode": {
     "languageId": "java"
    }
   },
   "outputs": [
    {
     "data": {
      "text/plain": [
       "20"
      ]
     },
     "execution_count": 14,
     "metadata": {},
     "output_type": "execute_result"
    }
   ],
   "source": [
    "# Controleren \n",
    "a"
   ]
  },
  {
   "cell_type": "markdown",
   "metadata": {},
   "source": [
    "De namen die u gebruikt bij het maken van deze labels, moeten aan een paar regels voldoen:\n",
    "\n",
    "     1. Namen mogen niet beginnen met een cijfer.\n",
    "     2. Er mogen geen spaties in de naam staan, gebruik in plaats daarvan _.\n",
    "     3. Kan geen van deze symbolen gebruiken:'\",<>/?|\\()!@#$%^&*~-+\n",
    "     4. Het wordt als best practice (PEP8) beschouwd dat namen in kleine letters zijn.\n",
    "     5. Vermijd het gebruik van de tekens 'l' (kleine letter l), 'O' (hoofdletter o), of 'I' (ı in hoofdletters) als variabelenamen van één teken.\n",
    "     6. Vermijd het gebruik van woorden die een speciale betekenis hebben in Python, zoals \"list\" en \"str\"\n",
    "\n",
    "\n",
    "Het gebruik van variabelenamen kan een zeer handige manier zijn om verschillende variabelen in Python bij te houden. Bijvoorbeeld:"
   ]
  },
  {
   "cell_type": "code",
   "execution_count": 15,
   "metadata": {
    "vscode": {
     "languageId": "java"
    }
   },
   "outputs": [],
   "source": [
    "# Gebruik objectnamen om beter bij te houden wat er in uw code gebeurt!\n",
    "my_income = 100\n",
    "\n",
    "tax_rate = 0.1\n",
    "\n",
    "my_taxes = my_income*tax_rate"
   ]
  },
  {
   "cell_type": "code",
   "execution_count": 16,
   "metadata": {
    "vscode": {
     "languageId": "java"
    }
   },
   "outputs": [
    {
     "data": {
      "text/plain": [
       "10.0"
      ]
     },
     "execution_count": 16,
     "metadata": {},
     "output_type": "execute_result"
    }
   ],
   "source": [
    "# Toon mijn belastingen!\n",
    "my_taxes"
   ]
  },
  {
   "cell_type": "markdown",
   "metadata": {},
   "source": [
    "Dus wat hebben we geleerd? We leerden enkele basisprincipes van getallen in Python. We hebben ook geleerd hoe we moeten rekenen en Python als basisrekenmachine kunnen gebruiken. Vervolgens hebben we het afgesloten met het leren over variabele toewijzing in Python.\n"
   ]
  }
 ],
 "metadata": {
  "anaconda-cloud": {},
  "kernelspec": {
   "display_name": "Java",
   "language": "java",
   "name": "java"
  },
  "language_info": {
   "codemirror_mode": "java",
   "file_extension": ".jshell",
   "mimetype": "text/x-java-source",
   "name": "Java",
   "pygments_lexer": "java",
   "version": "11.0.11+9-LTS"
  },
  "vscode": {
   "interpreter": {
    "hash": "217c631b613e36ff4b9cdbe99ee2d03b09d4e7c1f494b32c9aa8f6b180d54c14"
   }
  }
 },
 "nbformat": 4,
 "nbformat_minor": 1
}
