{
 "cells": [
  {
   "cell_type": "markdown",
   "metadata": {
    "pycharm": {
     "name": "#%% md\n"
    }
   },
   "source": [
    "![](https://intecbrussel.be/img/logo3.png)  \n",
    "_Java les-materialen_"
   ]
  },
  {
   "cell_type": "markdown",
   "metadata": {
    "pycharm": {
     "name": "#%% md\n"
    }
   },
   "source": [
    "# Variabele Toewijzing (Assignments)\n",
    "\n",
    "## Regels voor namen van variabelen (Naamgevingsconventies)\n",
    "\n",
    "* Namen mogen niet beginnen met een cijfer\n",
    "* Namen mogen geen spaties bevatten, gebruik in plaats van een spatie een underscore. Het is aanbevolen om CamelCase te gebruiken.\n",
    "* Namen mogen geen van deze symbolen bevatten:\n",
    "\n",
    "       :'\",<>/?|\\!@#%^&*~-+\n",
    "       \n",
    "* Deze link verwijst voorbeelden en documentatie ([Oracle doc](https://docs.oracle.com/javase/tutorial/java/nutsandbolts/variables.html)).\n",
    "* Vermijd het gebruik van ingebouwde Java-sleutelwoorden zoals `list` en `str` ([keywords in Java](https://docs.oracle.com/javase/tutorial/java/nutsandbolts/_keywords.html)).\n",
    "* Vermijd het gebruik van de enkele karakters `l` (kleine letter l), `O` (hoofdletter o) en `I` (hoofdletter i), aangezien deze kunnen worden verward met `1` en `0`."
   ]
  },
  {
   "cell_type": "markdown",
   "metadata": {
    "pycharm": {
     "name": "#%% md\n"
    }
   },
   "source": [
    "## Dynamisch typen\n",
    "\n",
    "Java gebruikt *dynamische typen*, wat betekent dat je variabelen opnieuw kunt toewijzen aan verschillende gegevenstypen. Dit maakt Java erg flexibel in het toewijzen van datatypes; het verschilt van andere talen die *statisch getypt* zijn."
   ]
  },
  {
   "cell_type": "code",
   "execution_count": 35,
   "metadata": {
    "collapsed": true,
    "pycharm": {
     "name": "#%%\n"
    }
   },
   "outputs": [
    {
     "name": "stdout",
     "output_type": "stream",
     "text": [
      "2\n",
      "1.9\n",
      "Nu is het een string\n"
     ]
    }
   ],
   "source": [
    "var myNumbers = 2;\n",
    "System.out.println(myNumbers);\n",
    "\n",
    "var myNumbers = 1.9;\n",
    "System.out.println(myNumbers);\n",
    "\n",
    "var myNumbers = \"Nu is het een string\";\n",
    "System.out.println(myNumbers);\n"
   ]
  },
  {
   "cell_type": "markdown",
   "metadata": {
    "pycharm": {
     "name": "#%% md\n"
    }
   },
   "source": [
    "### Voor- en nadelen van dynamisch typen\n",
    "#### Voordelen van dynamisch typen\n",
    "* Zeer gemakkelijk om mee te werken.\n",
    "* Snellere ontwikkeltijd.\n",
    "\n",
    "#### Nadelen van dynamisch typen\n",
    "* Het kan leiden tot onverwachte bugs!\n",
    "* Je moet op de hoogte zijn van welk `datatype` je gebruikt."
   ]
  },
  {
   "cell_type": "markdown",
   "metadata": {
    "pycharm": {
     "name": "#%% md\n"
    }
   },
   "source": [
    "## Variabelen toewijzen\n",
    "Variabele toewijzing volgt `datatype variabelNaam = waarden`, waarbij een enkel gelijkteken `=` een *toewijzingsoperator* is"
   ]
  },
  {
   "cell_type": "code",
   "execution_count": 45,
   "metadata": {
    "collapsed": true,
    "pycharm": {
     "name": "#%%\n"
    }
   },
   "outputs": [
    {
     "name": "stdout",
     "output_type": "stream",
     "text": [
      "5\n"
     ]
    }
   ],
   "source": [
    "int a = 5;\n",
    "System.out.println(a);"
   ]
  },
  {
   "cell_type": "markdown",
   "metadata": {
    "pycharm": {
     "name": "#%% md\n"
    }
   },
   "source": [
    "## Variabelen opnieuw toewijzen\n",
    "Met Java kun je variabelen opnieuw toewijzen met een verwijzing naar hetzelfde object."
   ]
  },
  {
   "cell_type": "markdown",
   "metadata": {
    "pycharm": {
     "name": "#%% md\n"
    }
   },
   "source": [
    "Hier hebben we het integer-object `5` toegewezen aan de variabelenaam `a`.<br>Laten we `a` aan iets anders toewijzen:"
   ]
  },
  {
   "cell_type": "code",
   "execution_count": 46,
   "metadata": {
    "collapsed": true,
    "pycharm": {
     "name": "#%%\n"
    }
   },
   "outputs": [
    {
     "name": "stdout",
     "output_type": "stream",
     "text": [
      "10\n"
     ]
    }
   ],
   "source": [
    "int a = 10;\n",
    "System.out.println(a);"
   ]
  },
  {
   "cell_type": "code",
   "execution_count": 43,
   "metadata": {
    "collapsed": true,
    "pycharm": {
     "name": "#%%\n"
    }
   },
   "outputs": [],
   "source": [
    "a = a + 10;\n",
    "System.out.println(a);"
   ]
  },
  {
   "cell_type": "markdown",
   "metadata": {
    "pycharm": {
     "name": "#%% md\n"
    }
   },
   "source": [
    "U kunt nu `a` gebruiken in plaats van het getal `10`:"
   ]
  },
  {
   "cell_type": "code",
   "execution_count": 48,
   "metadata": {
    "pycharm": {
     "name": "#%%\n"
    }
   },
   "outputs": [
    {
     "name": "stdout",
     "output_type": "stream",
     "text": [
      "20\n"
     ]
    }
   ],
   "source": [
    "a = a + a;\n",
    "System.out.println(a);"
   ]
  },
  {
   "cell_type": "markdown",
   "metadata": {
    "pycharm": {
     "name": "#%% md\n"
    }
   },
   "source": [
    "Hier is ook een snellere manier voor. Met Java kun je getallen optellen, aftrekken, vermenigvuldigen en delen door ze opnieuw toe te wijzen met behulp van de operatoren te combineren `+=`, `-=`, `*=` en `/=`."
   ]
  },
  {
   "cell_type": "code",
   "execution_count": 53,
   "metadata": {
    "collapsed": true,
    "pycharm": {
     "name": "#%%\n"
    }
   },
   "outputs": [
    {
     "name": "stdout",
     "output_type": "stream",
     "text": [
      "50\n"
     ]
    }
   ],
   "source": [
    "a += 10;\n",
    "System.out.println(a);"
   ]
  },
  {
   "cell_type": "code",
   "execution_count": 54,
   "metadata": {
    "collapsed": true,
    "pycharm": {
     "name": "#%%\n"
    }
   },
   "outputs": [
    {
     "name": "stdout",
     "output_type": "stream",
     "text": [
      "100\n"
     ]
    }
   ],
   "source": [
    "a *= 2;\n",
    "System.out.println(a);"
   ]
  },
  {
   "cell_type": "markdown",
   "metadata": {
    "pycharm": {
     "name": "#%% md\n"
    }
   },
   "source": [
    "## Variabel type bepalen met `getClass()` en `getSimpleName()`\n",
    "Dit is meer gevorderd maar we kunnen controleren welk datatype gekoppeld is aan een variabele. Dit doen we met behulp van deze methodes `getClass()` en `getSimpleName()`. Veel voorkomende gegevenstypen zijn:\n",
    "* **byte**\n",
    "* **short**\n",
    "* **int** (voor integer)\n",
    "* **float**\n",
    "* **double**\n",
    "* **long**\n",
    "* **char** (voor character)\n",
    "* **bool** (voor Boolean True/False)\n",
    "* **str** (voor string)"
   ]
  },
  {
   "cell_type": "code",
   "execution_count": 2,
   "metadata": {
    "pycharm": {
     "name": "#%%\n"
    }
   },
   "outputs": [
    {
     "name": "stdout",
     "output_type": "stream",
     "text": [
      "126 is of type Byte\n",
      "1256.32 is of type Float\n",
      "Dit is een string. is of type String\n"
     ]
    }
   ],
   "source": [
    "// Hele nummers\n",
    "byte aByte = 126;\n",
    "short aShortInteger = 1568;\n",
    "int anInteger = 1256456;\n",
    "long aLongInteger = 45631341L;\n",
    "\n",
    "// Decimal getallen\n",
    "float aDecimalNumber = 1256.32F;\n",
    "double aBigDecimalNumber = 12.365987451236;\n",
    "\n",
    "// Andere types\n",
    "boolean aBoolean = false;\n",
    "char aCharacter = 'd';\n",
    "String aString = \"Dit is een string.\";\n",
    "\n",
    "/* Hieronder staan voorbeelden hoe je kunt laten zien wat het datatype is van een variabel. \n",
    "Dit doen we door getClass() en getSimpleName() methodes te gebruiken. */  \n",
    "\n",
    "System.out.println(aByte + \" is of type \" + ((Object)aByte).getClass().getSimpleName());  \n",
    "System.out.println(aDecimalNumber + \" is of type \" + ((Object)aDecimalNumber).getClass().getSimpleName());  \n",
    "System.out.println(aString + \" is of type \" + aString.getClass().getSimpleName()); "
   ]
  },
  {
   "cell_type": "markdown",
   "metadata": {
    "pycharm": {
     "name": "#%% md\n"
    }
   },
   "source": [
    "## Eenvoudige oefening\n",
    "Dit laat zien hoe variabelen berekeningen leesbaarder en gemakkelijker te volgen maken."
   ]
  },
  {
   "cell_type": "code",
   "execution_count": 62,
   "metadata": {
    "collapsed": true,
    "pycharm": {
     "name": "#%%\n"
    }
   },
   "outputs": [
    {
     "name": "stdout",
     "output_type": "stream",
     "text": [
      "Mijn verschuldigde belasting is: € 10.0\n"
     ]
    }
   ],
   "source": [
    "double myIncome = 100;\n",
    "double taxRate = 0.1;\n",
    "double myTaxes = myIncome * taxRate;\n",
    "\n",
    "System.out.println(\"Mijn verschuldigde belasting is: € \" + myTaxes);"
   ]
  },
  {
   "cell_type": "markdown",
   "metadata": {
    "pycharm": {
     "name": "#%% md\n"
    }
   },
   "source": [
    "Geweldig! U zou nu de basisprincipes van het toewijzen en opnieuw toewijzen van variabelen in Java moeten begrijpen."
   ]
  }
 ],
 "metadata": {
  "kernelspec": {
   "display_name": "Java",
   "language": "java",
   "name": "java"
  },
  "language_info": {
   "codemirror_mode": "java",
   "file_extension": ".jshell",
   "mimetype": "text/x-java-source",
   "name": "java",
   "pygments_lexer": "java",
   "version": "11.0.11+9-LTS"
  },
  "vscode": {
   "interpreter": {
    "hash": "217c631b613e36ff4b9cdbe99ee2d03b09d4e7c1f494b32c9aa8f6b180d54c14"
   }
  }
 },
 "nbformat": 4,
 "nbformat_minor": 2
}
