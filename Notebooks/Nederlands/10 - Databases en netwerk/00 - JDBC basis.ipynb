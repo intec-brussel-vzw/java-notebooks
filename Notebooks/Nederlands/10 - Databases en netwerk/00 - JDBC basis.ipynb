{
 "cells": [
  {
   "cell_type": "markdown",
   "metadata": {},
   "source": [
    "# Java maakt verbinding met Oracle-database via JDBC"
   ]
  },
  {
   "cell_type": "markdown",
   "metadata": {},
   "source": [
    "Deze JDBC-zelfstudie helpt u bij het schrijven van Java-code om een databaseverbinding tot stand te brengen met een Oracle-databaseserver - de eerste stap om Java-toepassingen te laten werken met een van de meest populaire databasesystemen. Stel dat u al een versie van Oracle Database hebt geïnstalleerd, zoals [Oracle Database Express Edition](http://www.oracle.com/technetwork/products/express-edition/downloads/index.html). Inhoudsopgave:\n",
    "\n",
    "1.  1.  [JDBC-stuurprogrammabibliotheek voor Oracle-database downloaden](https://www.codejava.net/java-se/jdbc/connect-to-oracle-database-via-jdbc#DownloadDriver)\n",
    "    2.  [JDBC-database-URL voor Oracle-database](https://www.codejava.net/java-se/jdbc/connect-to-oracle-database-via-jdbc#DatabaseURL)\n",
    "    3.  [Oracle JDBC-stuurprogramma registreren](https://www.codejava.net/java-se/jdbc/connect-to-oracle-database-via-jdbc#RegisterDriver)\n",
    "    4.  [Verbinding maken met Oracle-database](https://www.codejava.net/java-se/jdbc/connect-to-oracle-database-via-jdbc#EstablishConnection)\n",
    "    5.  [Java Connect to Oracle Database Voorbeeldprogramma](https://www.codejava.net/java-se/jdbc/connect-to-oracle-database-via-jdbc#ExampleProgram)"
   ]
  },
  {
   "cell_type": "markdown",
   "metadata": {},
   "source": [
    "## 1\\. Download JDBC-stuurprogrammabibliotheek voor Oracle-database\n",
    "\n",
    "Om een Java-programma te laten praten met Oracle-database, moeten we de Oracle JDBC-driver (OJDBC) aanwezig hebben in het classpath. [Klik hier](https://www.oracle.com/database/technologies/appdev/jdbc-downloads.html) om naar de JDBC-stuurprogrammadownloadpagina van Oracle te gaan. Selecteer vervolgens de [JDBC-stuurprogrammaversie](https://www.codejava.net/java-se/jdbc/jdbc-driver-library-download) die overeenkomt met Oracle Database Sever en JDK die op uw computer is geïnstalleerd. Momenteel zijn er twee hoofdversies van OJDBC:- OJDBC 8: gecertificeerd met JDK 8, voor Oracle database 11g en 12c.- OJDBC 10: gecertificeerd met JDK 10, voor Oracle database 18c en 19c.OPMERKING**:** Oracle vereist dat gebruikers een Oracle-account hebben om te downloaden, dus mogelijk moet u een account registreren als u er geen hebt. Pak het gedownloade archief uit en plaats het bestand ojdbc10.jar onder het klassenpad van uw project, zoals gewoonlijk bij het gebruik van een potbestand. Als u Maven gebruikt, voegt u de volgende afhankelijkheid toe aan het bestand pom.xml:\n"
   ]
  },
  {
   "cell_type": "code",
   "execution_count": null,
   "metadata": {},
   "outputs": [],
   "source": [
    "<dependency>\n",
    "    <groupId>com.oracle</groupId>\n",
    "    <artifactId>ojdbc8</artifactId>\n",
    "    <version>1.0</version>\n",
    "    <scope>system</scope>\n",
    "    <systemPath>d:/Path/To/Oracle/JDBC/ojdbc8.jar</systemPath>\n",
    "</dependency>"
   ]
  },
  {
   "cell_type": "markdown",
   "metadata": {},
   "source": [
    "## 2\\. JDBC-database-URL voor Oracle-database\n",
    "\n",
    "De syntaxis van [database-URL](https://www.codejava.net/java-se/jdbc/jdbc-database-connection-url-for-common-databases) voor Oracle-database is als volgt:\n",
    "\n",
    "`jdbc:oracle:<drivertype>:@<database>`\n",
    "\n",
    "`jdbc:oracle:<drivertype>:<user>/<password>@<database>`\n",
    "\n",
    "Waar:\n",
    "\n",
    "-   `drivertype` can be _thin_, _oci_ or _kprb_.\n",
    "-   `database` can be in the form of `hostname:port:SID` or a `TNSNAMES` entry listed in the file `tnsnames.ora` reside on the client computer. The default port is 1521.\n",
    "\n",
    "Oracle categorizes their JDBC driver into four different types, as described in the following table:\n",
    "\n",
    "<table><tbody><tr><td><p><strong><span _msthash=\"1483274\" _msttexthash=\"162370\">Driver type</span></strong></p></td><td><p><strong><span _msthash=\"1483275\" _msttexthash=\"58877\">Usage</span></strong></p></td><td><p><strong><span _msthash=\"1483276\" _msttexthash=\"165282\">drivertype</span></strong></p></td></tr><tr><td><p><strong _msthash=\"1483277\" _msttexthash=\"155181\">Thin Driver</strong></p></td><td><p _msthash=\"1483278\" _msttexthash=\"1730001\">For client-side use without an Oracle installation</p></td><td><p><i _msthash=\"1483279\" _msttexthash=\"47957\">thin</i></p></td></tr><tr><td><p><strong _msthash=\"1483280\" _msttexthash=\"124774\">OCI Driver</strong></p></td><td><p _msthash=\"1483281\" _msttexthash=\"1518231\">For client-side use with an Oracle installation</p></td><td><p><i _msthash=\"1483282\" _msttexthash=\"32682\">oci</i></p></td></tr><tr><td><p><strong _msthash=\"1483283\" _msttexthash=\"466739\">Server-Side Thin Driver</strong></p></td><td><p _msthash=\"1483284\" _msttexthash=\"3509350\">Same as Thin Driver, but runs inside an Oracle server to access a remote server</p></td><td><p><i _msthash=\"1483285\" _msttexthash=\"47957\">thin</i></p></td></tr><tr><td><p><strong _msthash=\"1483286\" _msttexthash=\"629148\">Server-Side Internal Driver</strong></p></td><td><p _msthash=\"1483287\" _msttexthash=\"668486\">Runs inside the target server</p></td><td><p><i _msthash=\"1483288\" _msttexthash=\"47463\">kprb</i></p></td></tr></tbody></table>\n",
    "\n",
    "\n",
    "\n",
    "According to Oracle, if your JDBC client and Oracle database server are running on the same machine, you should use the OCI Driver because it is much faster than the Thin Driver (The OCI Driver can use _Inter Process Communication_ – IPC, whereas the Thin Driver can use only network connection).For example, if you want to connect user `tiger` with password `scott` to an Oracle database with SID `productDB` through default port on host `dbHost` using the Thin Driver, you can construct the URL as follows:"
   ]
  },
  {
   "cell_type": "code",
   "execution_count": null,
   "metadata": {},
   "outputs": [],
   "source": [
    "String url = “jdbc:oracle:thin:tiger/scott@dbHost:1521:productDB”"
   ]
  },
  {
   "cell_type": "markdown",
   "metadata": {},
   "source": [
    "Als u het OCI-stuurprogramma gebruikt:"
   ]
  },
  {
   "cell_type": "code",
   "execution_count": null,
   "metadata": {},
   "outputs": [],
   "source": [
    "String url = “jdbc:oracle:oci:tiger/scott@localhost:1521:productDB”\n",
    "String url = “jdbc:oracle:oci:tiger/scott@dbHost:1521:productDB”"
   ]
  },
  {
   "cell_type": "markdown",
   "metadata": {},
   "source": [
    "Als u een TNSNAMES-vermelding productionDB in het bestand tnsnames.ora hebt, kunt u de URL als volgt samenstellen:"
   ]
  },
  {
   "cell_type": "code",
   "execution_count": null,
   "metadata": {},
   "outputs": [],
   "source": [
    "String url = “jdbc:oracle:oci:@productionDB”"
   ]
  },
  {
   "cell_type": "markdown",
   "metadata": {},
   "source": [
    "Gebruik voor het thinstuurprogramma op de server dezelfde URL als het thinstuurprogramma.Gebruik voor het interne stuurprogramma aan de serverzijde de volgende URL's:"
   ]
  },
  {
   "cell_type": "code",
   "execution_count": null,
   "metadata": {},
   "outputs": [],
   "source": [
    "String url = \"jdbc:oracle:kprb:\"\n",
    "String url = \"jdbc:default:connection:\""
   ]
  },
  {
   "cell_type": "markdown",
   "metadata": {},
   "source": [
    "Omdat in die omgeving het stuurprogramma eigenlijk binnen een standaardsessie wordt uitgevoerd en de client altijd verbonden is, dus de verbinding mag nooit worden gesloten."
   ]
  },
  {
   "cell_type": "markdown",
   "metadata": {},
   "source": [
    "## 3. Oracle JDBC-stuurprogramma registreren\n",
    "De naam van de Oracle JDBC-stuurprogrammaklasse is oracle.jdbc.OracleDriver. U kunt deze driver als volgt registreren:"
   ]
  },
  {
   "cell_type": "code",
   "execution_count": null,
   "metadata": {},
   "outputs": [],
   "source": [
    "\t\n",
    "DriverManager.registerDriver(new oracle.jdbc.OracleDriver());"
   ]
  },
  {
   "cell_type": "markdown",
   "metadata": {},
   "source": [
    "of:"
   ]
  },
  {
   "cell_type": "code",
   "execution_count": null,
   "metadata": {},
   "outputs": [],
   "source": [
    "Class.forName(\"oracle.jdbc.OracleDriver\");"
   ]
  },
  {
   "cell_type": "markdown",
   "metadata": {},
   "source": [
    "OPMERKING:Sinds Java 6 (JDBC 4.0) wordt het optioneel om het stuurprogramma expliciet te registreren zoals hierboven. Zolang we het ojdbc10.jar bestand in het classpath plaatsen, kan JDBC driver manager het stuurprogramma automatisch detecteren en laden."
   ]
  },
  {
   "cell_type": "markdown",
   "metadata": {},
   "source": [
    "## 4\\. Establish connection to Oracle database\n",
    "\n",
    "With JDBC, we can establish a database connection by calling the method getConnection() of the DriverManager class. There are three versions of this method:\n",
    "\n",
    "-   -   static Connection **getConnection**(String **url**)\n",
    "    -   static Connection **getConnection**(String **url**, Properties **info**)\n",
    "    -   static Connection **getConnection**(String **url**, String **user**, String **password**)\n",
    "\n",
    "So we can have three ways for making a connection as follows:\n",
    "\n",
    "**Using only database URL for everything**\n",
    "\n",
    "In this method, we specify all connection properties in a single URL string, for example:"
   ]
  },
  {
   "cell_type": "code",
   "execution_count": null,
   "metadata": {},
   "outputs": [],
   "source": [
    "String dbURL = \"jdbc:oracle:thin:tiger/scott@localhost:1521:productDB\";\n",
    "Connection conn = DriverManager.getConnection(dbURL);\n",
    "if (conn != null) {\n",
    "    System.out.println(\"Connected\");\n",
    "}"
   ]
  },
  {
   "cell_type": "markdown",
   "metadata": {},
   "source": [
    "Dat gebruikt de Thin Driver om de gebruiker tijger met wachtwoord scott te verbinden met de database SID productDB die op dezelfde machine draait via de standaard poort 1521.\n",
    "\n",
    "### Database-URL, gebruikersnaam en wachtwoord gebruiken\n",
    "\n",
    "In deze methode geven we de gebruikersnaam en het wachtwoord als extra argumenten door aan de methode getConnetion(),, bijvoorbeeld:"
   ]
  },
  {
   "cell_type": "code",
   "execution_count": null,
   "metadata": {},
   "outputs": [],
   "source": [
    "String dbURL = \"jdbc:oracle:thin:@localhost:1521:productDB\";\n",
    "String username = \"tiger\";\n",
    "String password = \"scott\";\n",
    "Connection conn = DriverManager.getConnection(dbURL, username, password);"
   ]
  },
  {
   "cell_type": "markdown",
   "metadata": {},
   "source": [
    "### Database-URL en object Eigenschappen gebruiken\n",
    "\n",
    "Bij deze methode gebruiken we een `java.util.Properties-object` om gebruikersnaam, wachtwoord en andere extra eigenschappen te bevatten. Bijvoorbeeld:"
   ]
  },
  {
   "cell_type": "code",
   "execution_count": null,
   "metadata": {},
   "outputs": [],
   "source": [
    "String dbURL = \"jdbc:oracle:oci:@ProductDB\";\n",
    "Properties properties = new Properties();\n",
    "properties.put(\"user\", \"scott\");\n",
    "properties.put(\"password\", \"tiger\");\n",
    "properties.put(\"defaultRowPrefetch\", \"20\");\n",
    " \n",
    "Connection conn = DriverManager.getConnection(dbURL, properties);"
   ]
  },
  {
   "cell_type": "markdown",
   "metadata": {},
   "source": [
    "In dit voorbeeld gebruiken we het OCI-stuurprogramma met een `TNSNAMES-vermelding ProductDB` en geven we een extra eigenschap `defaultRowPrefetch` op, het aantal rijen dat vooraf moet worden gefokt vanaf de server"
   ]
  },
  {
   "cell_type": "markdown",
   "metadata": {},
   "source": [
    "## 5\\. Java Connect to Oracle Database Voorbeeldprogramma\n",
    "\n",
    "Om dit te demonstreren, maken we hieronder een klein voorbeeldprogramma dat drie verschillende verbindingen tot stand brengt op 3 hierboven genoemde manieren en uiteindelijk alle verbindingen sluit:\n"
   ]
  },
  {
   "cell_type": "code",
   "execution_count": null,
   "metadata": {},
   "outputs": [],
   "source": [
    "\n",
    "import java.sql.Connection;\n",
    "import java.sql.DriverManager;\n",
    "import java.sql.SQLException;\n",
    "import java.util.Properties;\n",
    " \n",
    "/**\n",
    " * This program demonstrates how to make database connection with Oracle\n",
    " * database server.\n",
    " * @author www.codejava.net\n",
    " *\n",
    " */\n",
    "public class JdbcOracleConnection {\n",
    " \n",
    "    public static void main(String[] args) {\n",
    " \n",
    "        Connection conn1 = null;\n",
    "        Connection conn2 = null;\n",
    "        Connection conn3 = null;\n",
    " \n",
    "        try {\n",
    "            // registers Oracle JDBC driver - though this is no longer required\n",
    "            // since JDBC 4.0, but added here for backward compatibility\n",
    "            Class.forName(\"oracle.jdbc.OracleDriver\");\n",
    " \n",
    "            // METHOD #1\n",
    "            String dbURL1 = \"jdbc:oracle:thin:tiger/scott@localhost:1521:productDB\";\n",
    "            conn1 = DriverManager.getConnection(dbURL1);\n",
    "            if (conn1 != null) {\n",
    "                System.out.println(\"Connected with connection #1\");\n",
    "            }\n",
    " \n",
    "            // METHOD #2\n",
    "            String dbURL2 = \"jdbc:oracle:thin:@localhost:1521:productDB\";\n",
    "            String username = \"tiger\";\n",
    "            String password = \"scott\";\n",
    "            conn2 = DriverManager.getConnection(dbURL2, username, password);\n",
    "            if (conn2 != null) {\n",
    "                System.out.println(\"Connected with connection #2\");\n",
    "            }\n",
    " \n",
    "            // METHOD #3\n",
    "            String dbURL3 = \"jdbc:oracle:oci:@ProductDB\";\n",
    "            Properties properties = new Properties();\n",
    "            properties.put(\"user\", \"tiger\");\n",
    "            properties.put(\"password\", \"scott\");\n",
    "            properties.put(\"defaultRowPrefetch\", \"20\");\n",
    "            conn3 = DriverManager.getConnection(dbURL3, properties);\n",
    " \n",
    "            if (conn3 != null) {\n",
    "                System.out.println(\"Connected with connection #3\");\n",
    "            }\n",
    "        } catch (ClassNotFoundException ex) {\n",
    "            ex.printStackTrace();\n",
    "        } catch (SQLException ex) {\n",
    "            ex.printStackTrace();\n",
    "        } finally {\n",
    "            try {\n",
    "                if (conn1 != null && !conn1.isClosed()) {\n",
    "                    conn1.close();\n",
    "                }\n",
    "                if (conn2 != null && !conn2.isClosed()) {\n",
    "                    conn2.close();\n",
    "                }\n",
    "                if (conn3 != null && !conn3.isClosed()) {\n",
    "                    conn3.close();\n",
    "                }\n",
    "            } catch (SQLException ex) {\n",
    "                ex.printStackTrace();\n",
    "            }\n",
    "        }\n",
    "    }\n",
    "}"
   ]
  }
 ],
 "metadata": {
  "kernelspec": {
   "display_name": "Java",
   "language": "java",
   "name": "java"
  },
  "language_info": {
   "name": "java",
   "version": "3.10.6"
  },
  "orig_nbformat": 4,
  "vscode": {
   "interpreter": {
    "hash": "217c631b613e36ff4b9cdbe99ee2d03b09d4e7c1f494b32c9aa8f6b180d54c14"
   }
  }
 },
 "nbformat": 4,
 "nbformat_minor": 2
}
