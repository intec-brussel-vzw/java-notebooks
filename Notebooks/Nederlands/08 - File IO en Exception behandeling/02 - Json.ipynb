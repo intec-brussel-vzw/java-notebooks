{
 "cells": [
  {
   "cell_type": "markdown",
   "metadata": {
    "pycharm": {
     "name": "#%% md\n"
    }
   },
   "source": [
    "# Simple Json Reading"
   ]
  },
  {
   "cell_type": "code",
   "execution_count": 5,
   "metadata": {
    "pycharm": {
     "name": "#%%\n"
    }
   },
   "outputs": [
    {
     "name": "stdout",
     "output_type": "stream",
     "text": [
      "usd: 1\n",
      "eur: 1.2\n",
      "gbp: 1.2\n"
     ]
    }
   ],
   "source": [
    "# Reading File From Local\n",
    "import json\n",
    "\n",
    "# read file\n",
    "with open('sampleexample', 'r') as myfile:\n",
    "    data=myfile.read()\n",
    "\n",
    "# parse file\n",
    "obj = json.loads(data)\n",
    "\n",
    "# show values\n",
    "print(\"usd: \" + str(obj['usd']))\n",
    "print(\"eur: \" + str(obj['eur']))\n",
    "print(\"gbp: \" + str(obj['gbp']))"
   ]
  },
  {
   "cell_type": "code",
   "execution_count": 8,
   "metadata": {
    "pycharm": {
     "name": "#%%\n"
    }
   },
   "outputs": [
    {
     "name": "stdout",
     "output_type": "stream",
     "text": [
      "{\"trade_id\":26497112,\"price\":\"9194.43\",\"size\":\"0.02601729\",\"time\":\"2020-05-08T17:15:41.175268Z\",\"bid\":\"9190\",\"ask\":\"9194.43\",\"volume\":\"6072.01375705\"}\n",
      "$ 9194.43\n",
      "$ 6072.01375705\n"
     ]
    }
   ],
   "source": [
    "# Reading File From URL\n",
    "\n",
    "import json\n",
    "import urllib.request\n",
    "\n",
    "# download raw json object\n",
    "url = \"https://api.gdax.com/products/BTC-EUR/ticker\"\n",
    "data = urllib.request.urlopen(url).read().decode()\n",
    "\n",
    "\n",
    "# parse json object\n",
    "obj = json.loads(data)\n",
    "print(data)\n",
    "\n",
    "# output some object attributes\n",
    "print('$ ' + obj['price'])\n",
    "print('$ ' + obj['volume'])"
   ]
  }
 ],
 "metadata": {
  "kernelspec": {
   "display_name": "Python 3",
   "language": "python",
   "name": "python3"
  },
  "language_info": {
   "codemirror_mode": {
    "name": "ipython",
    "version": 3
   },
   "file_extension": ".py",
   "mimetype": "text/x-python",
   "name": "python",
   "nbconvert_exporter": "python",
   "pygments_lexer": "ipython3",
   "version": "3.7.3"
  }
 },
 "nbformat": 4,
 "nbformat_minor": 2
}