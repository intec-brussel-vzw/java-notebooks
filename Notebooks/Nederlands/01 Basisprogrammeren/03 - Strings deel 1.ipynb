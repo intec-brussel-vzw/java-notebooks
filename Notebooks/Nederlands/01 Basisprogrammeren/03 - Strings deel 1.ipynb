{
 "cells": [
  {
   "cell_type": "markdown",
   "metadata": {},
   "source": [
    "<center>\n",
    "    <img src='https://intecbrussel.be/img/logo3.png' width='400px' height='auto'/>\n",
    "    <br/>\n",
    "    <em>Java les-materialen</em>\n",
    "</center>"
   ]
  },
  {
   "cell_type": "markdown",
   "metadata": {},
   "source": [
    "# Strings"
   ]
  },
  {
   "cell_type": "markdown",
   "metadata": {},
   "source": [
    "Strings worden in Java gebruikt om tekstinformatie, zoals namen, vast te leggen. Strings in Java zijn een *reeks (sequencies)*, wat betekent dat Java elk element in de string als een sequence bijhoudt. Java begrijpt bijvoorbeeld dat de tekenreeks \"hallo\" een reeks letters in een specifieke volgorde is. Dit betekent dat we indexering kunnen gebruiken om letters te pakken (zoals de eerste letter of de laatste letter).\n",
    "\n",
    "Dit idee van een reeks is een belangrijk idee in Java en we zullen er later in de toekomst op terugkomen.\n",
    "\n",
    "In deze lezing leren we over het volgende:\n",
    "\n",
    "     1.) Strings maken\n",
    "     2.) Strings afdrukken\n",
    "     3.) Stringindexering en slicen\n",
    "     4.) Eigenschappen van String\n",
    "     5.) Stringmethoden\n",
    "     6.) Formatteren van String"
   ]
  },
  {
   "cell_type": "markdown",
   "metadata": {},
   "source": [
    "## Een string maken\n",
    "Een string is een object. Er zijn 2 manieren om een string te maken. We kunnen een string direct maken met gebruik van de dubbele aanhalingstekens of de tweede manier is om het woord \"new\" te gebruiken. Hieronder vind je het voorbeeld: "
   ]
  },
  {
   "cell_type": "code",
   "execution_count": 2,
   "metadata": {},
   "outputs": [],
   "source": [
    "// Eerste manier\n",
    "String myFirstString = \"hello\";\n",
    "\n",
    "// Tweede manier\n",
    "String mySecondString = new String(\"World\");"
   ]
  },
  {
   "cell_type": "markdown",
   "metadata": {},
   "source": [
    "Het maakt niet uit of je één woord als string gebruik of een zin. Hieronder zie je een voorbeeld: "
   ]
  },
  {
   "cell_type": "code",
   "execution_count": 3,
   "metadata": {},
   "outputs": [],
   "source": [
    "// Enkel woord\n",
    "String word = \"Hello\";\n",
    "\n",
    "// Gehele zin \n",
    "String sentenceString = \"This is also a string\";"
   ]
  },
  {
   "cell_type": "markdown",
   "metadata": {},
   "source": [
    "Laten we nu leren over het afdrukken van Strings!"
   ]
  },
  {
   "cell_type": "markdown",
   "metadata": {},
   "source": [
    "## Een string afdrukken\n",
    "\n",
    "Als u Jupyter-notebook gebruikt met alleen een tekenreeks in een cel, worden automatisch tekenreeksen uitgevoerd, maar de juiste manier om tekenreeksen in uw uitvoer weer te geven, is door een afdrukfunctie te gebruiken."
   ]
  },
  {
   "cell_type": "code",
   "execution_count": null,
   "metadata": {},
   "outputs": [],
   "source": [
    "// We kunnen eenvoudig een string declareren en printen in de Jupyter-notebook\n",
    "\"Hello world!\""
   ]
  },
  {
   "cell_type": "code",
   "execution_count": null,
   "metadata": {},
   "outputs": [],
   "source": [
    "// Maar we moet het zo afdrukken als we gaan programmeren.\n",
    "String firstStringPrinted = \"Hello world!\";\n",
    "System.out.println(firstStringPrinted);\n",
    "\n",
    "// Het kan natuurlijk ook meteen in een printstatement. \n",
    "System.out.println(\"Dit printen we meteen uit met een print statement.\");"
   ]
  },
  {
   "cell_type": "markdown",
   "metadata": {},
   "source": [
    "Een leuk weetje is om een regel te splitsen naar een nieuwe regel in een print statement doen we door \\n te gebruiken. "
   ]
  },
  {
   "cell_type": "code",
   "execution_count": null,
   "metadata": {},
   "outputs": [],
   "source": [
    "System.out.println(\"Ik wil dat de regel hier stopt \\n en dat dit deel op de volgende regel doorgaat. \");"
   ]
  },
  {
   "cell_type": "markdown",
   "metadata": {},
   "source": [
    "## Basis Ingebouwde String-methoden\n",
    "\n",
    "Objecten in Java hebben meestal ingebouwde methoden. Deze methoden zijn functies binnen het object (we zullen hier later veel dieper op ingaan) die acties of opdrachten op het object zelf kunnen uitvoeren. We noemen methoden met een punt en dan de naam van de methode. Methoden zijn in de vorm:\n",
    "\n",
    "object.methode(parameters)\n",
    "\n",
    "Waar parameters extra argumenten zijn, kunnen we doorgeven aan de methode. Maak je geen zorgen als de details op dit moment niet 100% kloppen. Later gaan we hier dieper op in.\n",
    "\n",
    "Hier zijn enkele voorbeelden van ingebouwde methoden in strings:"
   ]
  },
  {
   "cell_type": "markdown",
   "metadata": {},
   "source": [
    "## lengte van een string opvragen\n",
    "\n",
    "Ook handig om te weten is dat we kunnen controleren wat de lengte is van een string. Dit doen we door een methode op te roepen. Hieronder vind je een voorbeeld om dit te doen. "
   ]
  },
  {
   "cell_type": "code",
   "execution_count": null,
   "metadata": {},
   "outputs": [],
   "source": [
    "// Zo kunnen we erachter komen hoe lang een string is.\n",
    "String string1 = \"Hello world!\";\n",
    "System.out.println(string1.length());"
   ]
  },
  {
   "cell_type": "markdown",
   "metadata": {},
   "source": [
    "De ingebouwde length() methode van Java telt alle tekens in de String, inclusief spaties en interpunctie (punctuation)."
   ]
  },
  {
   "cell_type": "markdown",
   "metadata": {},
   "source": [
    "## Indexeren van String\n",
    "\n",
    "We weten dat strings een sequences zijn, wat betekent dat Java indexen kan gebruiken om delen van de sequences aan te roepen. Laten we leren hoe dit werkt.\n",
    "\n",
    "In Java gebruiken we `indexOf()` om de index op te roepen van een specifieke letter of met de `charAt()` kunnen we juist de met de index oproepen welke letter daar op staat.  \n",
    "\n",
    "We moeten ook opmerken dat indexering begint bij het **getal 0** voor Java. Laten we een nieuw object maken met de naam `myString` en dan een paar voorbeelden van indexeren doornemen."
   ]
  },
  {
   "cell_type": "code",
   "execution_count": null,
   "metadata": {
    "collapsed": true
   },
   "outputs": [],
   "source": [
    "String myString = \"We gaan deze string gebruiken om index te oefenen\";\n",
    "System.out.println(myString);"
   ]
  },
  {
   "cell_type": "markdown",
   "metadata": {},
   "source": [
    "Laten we beginnen met indexeren!"
   ]
  },
  {
   "cell_type": "code",
   "execution_count": null,
   "metadata": {},
   "outputs": [],
   "source": [
    "// Toon eerste element (in dit geval een letter)\n",
    "String myString = \"We gaan deze string gebruiken om index te oefenen\";\n",
    "\n",
    "// Dit retourneert de index van de eerst keer de letter in de string voorkomt. Als de letter niet aanwezig is retourneert het -1 \n",
    "System.out.println(myString.indexOf(\"a\"));\n",
    "\n",
    "// Dit retourneert de index van de eerst keer de letter in de string voorkomt na de opgegeven index. Als de letter niet aanwezig is retourneert het -1 \n",
    "System.out.println(myString.indexOf(\"g\", 10));\n",
    "\n",
    "// Als we de index invoeren tussen de haakjes van de methode krijgen we de letter/ leesteken terug van die index.\n",
    "System.out.println(myString.charAt(0));"
   ]
  },
  {
   "cell_type": "markdown",
   "metadata": {},
   "source": [
    "Nu hebben alleen nog maar met enkele letters of posities gewerkt. Er is ook een methode om een gedeelte van een string op te roepen. Dit doen we met `substring()`. "
   ]
  },
  {
   "cell_type": "code",
   "execution_count": null,
   "metadata": {},
   "outputs": [],
   "source": [
    "String originalString = \"Dit is de volledige string.\";\n",
    "\n",
    "System.out.println(\"Original String: \" + originalString);  \n",
    "System.out.println(\"Substring start van index 6: \" +originalString.substring(6));   \n",
    "System.out.println(\"Substring start van index 0 to 6: \"+originalString.substring(0,6)); "
   ]
  },
  {
   "cell_type": "markdown",
   "metadata": {
    "collapsed": true
   },
   "source": [
    "## Eigenschappen van String\n",
    "\n",
    "Het is belangrijk op te merken dat strings een belangrijke eigenschap hebben die bekend staat als *onveranderlijkheid*. Dit betekent dat als een string eenmaal is gemaakt, de elementen erin niet meer kunnen worden gewijzigd of vervangen. Je kunt wel de variabel overschrijven maar niet veranderen\n",
    "\n",
    "Iets wat we *kunnen* doen, is strings samenvoegen! Dit doen we met de methode `concat()`"
   ]
  },
  {
   "cell_type": "code",
   "execution_count": null,
   "metadata": {},
   "outputs": [],
   "source": [
    "String string01 = \"Ik ben deel 1 van de string \";\n",
    "String string02 = \"en ik ben deel 2\";\n",
    "\n",
    "// zo voegen we 2 strings samen.\n",
    "String string03 = string01.concat(string02);\n",
    "System.out.println(string03)"
   ]
  },
  {
   "cell_type": "code",
   "execution_count": null,
   "metadata": {
    "collapsed": true
   },
   "outputs": [],
   "source": [
    "// We kunnen string01 echter volledig opnieuw toewijzen!\n",
    "String string01 = \"Ik ben deel 1 van de string \";\n",
    "String string02 = \"en ik ben deel 2\";\n",
    "\n",
    "string01 = string01.concat(string02);\n",
    "System.out.println(string01);"
   ]
  },
  {
   "cell_type": "markdown",
   "metadata": {},
   "source": [
    "## Letter grote aanpassen\n",
    "We kunnen ook bij een string de hoofdletters en kleine letters aanpassen met `toUpperCase()` en met `toLowerCase()`. Hieronder vind je een voorbeeld: "
   ]
  },
  {
   "cell_type": "code",
   "execution_count": null,
   "metadata": {},
   "outputs": [],
   "source": [
    "String txt = \"Hello World\";\n",
    "System.out.println(txt.toUpperCase());\n",
    "System.out.println(txt.toLowerCase());"
   ]
  },
  {
   "cell_type": "markdown",
   "metadata": {},
   "source": [
    "Er zijn veel meer methoden dan degene die hier worden behandeld. Bezoek de Advanced String sectie voor meer informatie!"
   ]
  }
 ],
 "metadata": {
  "kernelspec": {
   "display_name": "Java",
   "language": "java",
   "name": "java"
  },
  "language_info": {
   "codemirror_mode": "java",
   "file_extension": ".jshell",
   "mimetype": "text/x-java-source",
   "name": "java",
   "pygments_lexer": "java",
   "version": "11.0.11+9-LTS"
  },
  "vscode": {
   "interpreter": {
    "hash": "217c631b613e36ff4b9cdbe99ee2d03b09d4e7c1f494b32c9aa8f6b180d54c14"
   }
  }
 },
 "nbformat": 4,
 "nbformat_minor": 1
}
