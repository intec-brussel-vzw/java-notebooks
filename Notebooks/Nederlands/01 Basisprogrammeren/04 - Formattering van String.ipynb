{
 "cells": [
  {
   "cell_type": "markdown",
   "metadata": {},
   "source": [
    "<center>\n",
    "    <img src='https://intecbrussel.be/img/logo3.png' width='400px' height='auto'/>\n",
    "    <br/>\n",
    "    <em>Java les-materialen</em>\n",
    "</center>"
   ]
  },
  {
   "cell_type": "markdown",
   "metadata": {},
   "source": [
    "# Formatteren van een String\n",
    "De methode `format()` kun je strings manipuleren. Hieronder gaan we zat voorbeelden doornemen."
   ]
  },
  {
   "cell_type": "markdown",
   "metadata": {},
   "source": [
    "### Java String Format specificeerders\n",
    "\n",
    "Hieronder vind je het overzicht van de format specificeerders die je kunt gebruiken op strings.\n",
    "\n",
    "| Format Specifier | Data Type | Output |\n",
    "| --- | --- | --- |\n",
    "| %a | floating point (except _BigDecimal_) | Returns Hex output of floating point number. |\n",
    "| %b | Any type | \"true\" if non-null, \"false\" if null |\n",
    "| %c | character | Unicode character |\n",
    "| %d | integer (incl. byte, short, int, long, bigint) | Decimal Integer |\n",
    "| %e | floating point | decimal number in scientific notation |\n",
    "| %f | floating point | decimal number |\n",
    "| %g | floating point | decimal number, possibly in scientific notation depending on the precision and value. |\n",
    "| %h | any type | Hex String of value from hashCode() method. |\n",
    "| %n | none | Platform-specific line separator. |\n",
    "| %o | integer (incl. byte, short, int, long, bigint) | Octal number |\n",
    "| %s | any type | String value |\n",
    "| %t | Date/Time (incl. long, Calendar, Date and TemporalAccessor) | %t is the prefix for Date/Time conversions. More formatting flags are needed after this. See Date/Time conversion below. |\n",
    "| %x | integer (incl. byte, short, int, long, bigint) | Hex string.|"
   ]
  },
  {
   "cell_type": "code",
   "execution_count": null,
   "metadata": {},
   "outputs": [],
   "source": [
    "String name=\"Intec Brussel\"; \n",
    "\n",
    "// %s fills in the spot with a variable.\n",
    "String str1 = String.format(\"name is %s\",name);\n",
    "\n",
    "// This returns a float.\n",
    "String str2 = String.format(\"value is %f\",32.33434);  \n",
    "\n",
    "//returns 12 char fractional part filling with 0  \n",
    "String str3 = String.format(\"value is %32.12f\",32.33434);\n",
    "  \n",
    "System.out.println(str1);  \n",
    "System.out.println(str2);  \n",
    "System.out.println(str3);  "
   ]
  },
  {
   "cell_type": "markdown",
   "metadata": {},
   "source": [
    "### Datatype aanpassen"
   ]
  },
  {
   "cell_type": "code",
   "execution_count": null,
   "metadata": {},
   "outputs": [],
   "source": [
    "String str1 = String.format(\"%d\", 101);                 // Integer value  \n",
    "String str2 = String.format(\"%s\", \"Intec Brussel\");     // String value  \n",
    "String str3 = String.format(\"%f\", 101.00);              // Float value  \n",
    "String str4 = String.format(\"%x\", 101);                 // Hexadecimal value  \n",
    "String str5 = String.format(\"%c\", 'c');                 // Char value \n",
    "\n",
    "System.out.println(str1);  \n",
    "System.out.println(str2);  \n",
    "System.out.println(str3);  \n",
    "System.out.println(str4);  \n",
    "System.out.println(str5);  "
   ]
  },
  {
   "cell_type": "markdown",
   "metadata": {},
   "source": [
    "### Aanpassen van width en padding\n",
    "Hieronder vind je een paar voorbeelden om structuur om de variabelen aan te passen."
   ]
  },
  {
   "cell_type": "code",
   "execution_count": null,
   "metadata": {},
   "outputs": [],
   "source": [
    "String str2 = String.format(\"|%10d|\", 101);     // Specifying length of integer  \n",
    "String str3 = String.format(\"|%-10d|\", 101);    // Left-justifying within the specified width  \n",
    "String str5 = String.format(\"|%010d|\", 101);    // Filling with zeroes  \n",
    "\n",
    "System.out.println(str1);  \n",
    "System.out.println(str2);  \n",
    "System.out.println(str3);  \n",
    "System.out.println(str4);  \n",
    "System.out.println(str5);"
   ]
  }
 ],
 "metadata": {
  "kernelspec": {
   "display_name": "Java",
   "language": "java",
   "name": "java"
  },
  "language_info": {
   "codemirror_mode": "java",
   "file_extension": ".jshell",
   "mimetype": "text/x-java-source",
   "name": "java",
   "pygments_lexer": "java",
   "version": "11.0.11+9-LTS"
  },
  "vscode": {
   "interpreter": {
    "hash": "217c631b613e36ff4b9cdbe99ee2d03b09d4e7c1f494b32c9aa8f6b180d54c14"
   }
  }
 },
 "nbformat": 4,
 "nbformat_minor": 1
}
