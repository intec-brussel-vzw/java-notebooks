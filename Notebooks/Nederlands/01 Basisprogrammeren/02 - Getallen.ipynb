{
 "cells": [
  {
   "cell_type": "markdown",
   "metadata": {},
   "source": [
    "<center>\n",
    "    <img src='https://intecbrussel.be/img/logo3.png' width='400px' height='auto'/>\n",
    "    <br/>\n",
    "    <em>Java les-materialen</em>\n",
    "</center>"
   ]
  },
  {
   "cell_type": "markdown",
   "metadata": {},
   "source": [
    "# Getallen en meer in Java!\n",
    "\n",
    "In deze lezing leren we over getallen in Java en hoe we ze kunnen gebruiken.\n",
    "\n",
    "We leren over de volgende onderwerpen:\n",
    "\n",
    "     1.) Soorten getallen in Java.\n",
    "     2.) Basis rekenen.\n",
    "     3.) Verschillen tussen klassieke deling van getallen en floor division. \n",
    "     4.) Objecttoewijzing (EN: assignments) in Java."
   ]
  },
  {
   "cell_type": "markdown",
   "metadata": {},
   "source": [
    "## Soorten nummers\n",
    "\n",
    "Java heeft verschillende \"types\" getallen (numerieke letterlijke waarden). We zullen ons vooral concentreren op gehele getallen en getallen met drijvende komma.\n",
    "\n",
    "Hele getallen kunnen positief of negatief zijn. Bijvoorbeeld: 2 en -2 zijn voorbeelden van hele getallen.\n",
    "\n",
    "Drijvende-kommagetallen in Java zijn opmerkelijk omdat ze een decimaalteken bevatten of een exponentiële (e) gebruiken om het getal te definiëren. 2.0 en -2.1 zijn bijvoorbeeld getallen met drijvende komma. 4E2 (4 keer 10 tot de macht 2) is ook een voorbeeld van een getal met drijvende komma in Java.\n",
    "\n",
    "Gedurende deze cursus zullen we werken met gehele getallen of eenvoudige float-nummertypes.\n",
    "\n",
    "Hier is een tabel met de voorbeelden van welke getallen we gebruiken in Java. Achter het type hebben we ook vermeld wat de minimale en maximale waarden is van het getal."
   ]
  },
  {
   "cell_type": "markdown",
   "metadata": {},
   "source": [
    "Datatype | voorbeeld min en max \n",
    "---|---\n",
    "byte | -128 MAX 127\n",
    "short | -32768 MAX 32767\n",
    "int | -2^31 = -2147483648 MAX 2^31-1 = 2147483647\n",
    "long | MIN -2^63 = -9223372036854775808 MAX 2^63-1 = 9223372036854775807\n",
    "float | MIN -3.4E+38 = 1.4E-45 MAX 3.4E+38 = 3.4028235E38\n",
    "double | MIN -1.7E+308 = 4.9E-324 MAX 1.7E+308 = 1.7976931348623157E308\n"
   ]
  },
  {
   "cell_type": "markdown",
   "metadata": {},
   "source": [
    "### Basis rekenen"
   ]
  },
  {
   "cell_type": "markdown",
   "metadata": {},
   "source": [
    " \n",
    " \n",
    "Laten we nu beginnen met wat basisrekenkunde."
   ]
  },
  {
   "cell_type": "code",
   "execution_count": 1,
   "metadata": {},
   "outputs": [
    {
     "name": "stdout",
     "output_type": "stream",
     "text": [
      "300\n"
     ]
    }
   ],
   "source": [
    "// sum is de optelling van getallen.\n",
    "int result = 100 + 200;\n",
    "System.out.println(result);"
   ]
  },
  {
   "cell_type": "code",
   "execution_count": 4,
   "metadata": {
    "scrolled": true
   },
   "outputs": [
    {
     "name": "stdout",
     "output_type": "stream",
     "text": [
      "-100\n"
     ]
    }
   ],
   "source": [
    "// aftrekken.\n",
    "int result = 100 - 200;\n",
    "System.out.println(result);"
   ]
  },
  {
   "cell_type": "code",
   "execution_count": 5,
   "metadata": {},
   "outputs": [
    {
     "name": "stdout",
     "output_type": "stream",
     "text": [
      "20000\n"
     ]
    }
   ],
   "source": [
    "// Vermenigvuldigen\n",
    "int result = 100 * 200;\n",
    "System.out.println(result);"
   ]
  },
  {
   "cell_type": "markdown",
   "metadata": {},
   "source": [
    "### Delen van getallen \n",
    "Er zijn meerdere manieren om een getal te delen. We kunnen delen met hele getallen (floor division), decimalen of de modulo (rest van de deling bepalen). In Java ligt het aan in welke datatype je werkt. In sommige programmeertalen werken we met de dubbele breuklijn // om een floor division te krijgen. In Java moet je kiezen welk datatype je wil werken bijkijk de voorbeelden hieronder. "
   ]
  },
  {
   "cell_type": "code",
   "execution_count": null,
   "metadata": {},
   "outputs": [],
   "source": [
    "// delen heel getal (floor division) \n",
    "int result = 101 / 20;              // 101 = 20 * 5 + 1 -> dus deze berekening word afgerond op een heel getal. \n",
    "System.out.println(result);\n",
    "\n",
    "// delen met decimaal\n",
    "double num1 = 101;\n",
    "double num2 = 20;\n",
    "double result = num1 / num2;\n",
    "System.out.println(result);\n",
    "\n",
    "// modulo (Geeft de restwaarde die overblijft)\n",
    "int result = 101 % 20;\n",
    "System.out.println(result);"
   ]
  },
  {
   "cell_type": "markdown",
   "metadata": {},
   "source": [
    "### Rekenkunde vervolg"
   ]
  },
  {
   "cell_type": "markdown",
   "metadata": {},
   "source": [
    "Nu gaan we verder met complexere rekenkunde. Bij het uitvoeren van meerdere berekeningen achter elkaar zijn de volgende regels geldig:\n",
    "\n",
    "Prioriteit | berekening\n",
    "---|---\n",
    "1 | Haakjes\n",
    "2 | Machten / Wortels\n",
    "3 | Vermenigvuldigen / Delen\n",
    "4 | Optellen / Aftrekken"
   ]
  },
  {
   "cell_type": "code",
   "execution_count": 22,
   "metadata": {},
   "outputs": [
    {
     "name": "stdout",
     "output_type": "stream",
     "text": [
      "41.0\n"
     ]
    }
   ],
   "source": [
    "// voorbeeld van meerdere berekeningen achter elkaar.\n",
    "double result = (5*4)+(2*10)+(10/10);\n",
    "System.out.println(result);"
   ]
  },
  {
   "cell_type": "markdown",
   "metadata": {},
   "source": [
    "Om een macht of wortel uit te rekenen hebben we een speciale class nodig om dit te berekenen. Dit is de class Math ([Oracle doc class Math](https://docs.oracle.com/javase/1.5.0/docs/api/java/lang/Math.html)) Hier uit kunnen we methodes aanroepen om dit te bereken. Hieronder zie je voorbeelden om dit te doen. "
   ]
  },
  {
   "cell_type": "code",
   "execution_count": 36,
   "metadata": {},
   "outputs": [
    {
     "name": "stdout",
     "output_type": "stream",
     "text": [
      "8.0\n"
     ]
    }
   ],
   "source": [
    "// Machten\n",
    "double result = Math.pow(2, 3);\n",
    "System.out.println(result);"
   ]
  },
  {
   "cell_type": "code",
   "execution_count": 39,
   "metadata": {},
   "outputs": [
    {
     "name": "stdout",
     "output_type": "stream",
     "text": [
      "5.0\n"
     ]
    }
   ],
   "source": [
    "// Wortel\n",
    "double result = Math.sqrt(25);\n",
    "System.out.println(result);"
   ]
  },
  {
   "cell_type": "markdown",
   "metadata": {},
   "source": [
    "## Variabele Toewijzingen (Assignments)\n",
    "\n",
    "Nu we hebben gezien hoe we getallen in Java als rekenmachine kunnen gebruiken, laten we eens kijken hoe we namen kunnen toewijzen en variabelen kunnen maken.\n",
    "\n",
    "We gebruiken een enkel het gelijkteken om labels aan variabelen toe te wijzen. Laten we een paar voorbeelden bekijken van hoe we dit kunnen doen."
   ]
  },
  {
   "cell_type": "code",
   "execution_count": null,
   "metadata": {
    "collapsed": true
   },
   "outputs": [],
   "source": [
    "// Laten we een object maken met de naam \"a\" en het nummer 5 toewijzen\n",
    "int a = 5;\n",
    "System.out.println(a);\n",
    "\n",
    "// Als ik nu *a* in aanroep, zal Java het behandelen als het getal 5.\n",
    "a = a + a;\n",
    "System.out.println(a);"
   ]
  },
  {
   "cell_type": "markdown",
   "metadata": {},
   "source": [
    "Je kunt ook meerdere variabelen creëren van hetzelfde datatype: "
   ]
  },
  {
   "cell_type": "code",
   "execution_count": null,
   "metadata": {},
   "outputs": [],
   "source": [
    "int nummer1 = 10, nummer2 = 20, nummer3 = 30;\n",
    "System.out.println(\"Nummer 1 = \" + nummer1);\n",
    "System.out.println(\"Nummer 2 = \" + nummer2);\n",
    "System.out.println(\"Nummer 3 = \" + nummer3);"
   ]
  },
  {
   "cell_type": "markdown",
   "metadata": {},
   "source": [
    "Wat gebeurt er als je een variabel overschrijft? "
   ]
  },
  {
   "cell_type": "code",
   "execution_count": null,
   "metadata": {
    "collapsed": true
   },
   "outputs": [],
   "source": [
    "// Hergebruiken van een variabel (Reassignment)\n",
    "int a = 5;\n",
    "System.out.println(a);\n",
    "\n",
    "a = 10;\n",
    "System.out.println(a);"
   ]
  },
  {
   "cell_type": "markdown",
   "metadata": {},
   "source": [
    "## Regels voor namen van variabelen (Naamgevingsconventies)\n",
    "\n",
    "* Namen mogen niet beginnen met een cijfer\n",
    "* Namen mogen geen spaties bevatten, gebruik in plaats van een spatie een underscore. Het is aanbevolen om CamelCase te gebruiken.\n",
    "* Namen mogen geen van deze symbolen bevatten:\n",
    "\n",
    "       :'\",<>/?|\\!@#%^&*~-+\n",
    "       \n",
    "* Deze link verwijst voorbeelden en documentatie ([Oracle doc](https://docs.oracle.com/javase/tutorial/java/nutsandbolts/variables.html)).\n",
    "* Vermijd het gebruik van ingebouwde Java-sleutelwoorden zoals `list` en `str` ([keywords in Java](https://docs.oracle.com/javase/tutorial/java/nutsandbolts/_keywords.html)).\n",
    "* Vermijd het gebruik van de enkele karakters `l` (kleine letter l), `O` (hoofdletter o) en `I` (hoofdletter i), aangezien deze kunnen worden verward met `1` en `0`.\n",
    "\n",
    "**zorg bij het kiezen van een naam dat deze betekenisvol is!**"
   ]
  },
  {
   "cell_type": "code",
   "execution_count": null,
   "metadata": {},
   "outputs": [],
   "source": [
    "// Gebruik objectnamen om beter bij te houden wat er in uw code gebeurt!\n",
    "double myIncome = 100;\n",
    "double taxRate = 0.1;\n",
    "double myTaxes = myIncome * taxRate;\n",
    "\n",
    "System.out.println(\"Mijn verschuldigde belasting is: € \" + myTaxes);"
   ]
  },
  {
   "cell_type": "markdown",
   "metadata": {},
   "source": [
    "Dus wat hebben we geleerd? We leerden enkele basisprincipes van getallen in Java. We hebben ook geleerd hoe we moeten rekenen en Java als basisrekenmachine kunnen gebruiken."
   ]
  },
  {
   "cell_type": "markdown",
   "metadata": {},
   "source": [
    "### geavanceerde berekening maken\n",
    "Om getallen in een meer geavanceerde manier te bewerken gebruiken we de [Math class](https://docs.oracle.com/javase/8/docs/api/java/lang/Math.html). Er zijn nog meerdere methodes die we kunnen gebruiken bijvoorbeeld om getallen te omrekenen naar een ander stelsel kunnen we ook `toHexString()` gebruiken. Er zijn veel opties om getallen te bewerken en hieronder zullen we er een aantal laten zien."
   ]
  },
  {
   "cell_type": "code",
   "execution_count": null,
   "metadata": {},
   "outputs": [],
   "source": [
    "int number = 1750;\n",
    "\n",
    "System.out.println(\"Converting integer \" + number + \" to Hex String: \" + Integer.toHexString(number));\n"
   ]
  },
  {
   "cell_type": "markdown",
   "metadata": {},
   "source": [
    "### Math class\n",
    "Dit is een grote klas waar we veel gebruik van zullen maken, bijvoorbeeld om random nummers te genereren maar we kunnen ook afronden van getallen. Hieronder zullen we wat gaan tonen om een idee te geven wat we met deze klas alle;aal kunnen."
   ]
  },
  {
   "cell_type": "code",
   "execution_count": null,
   "metadata": {},
   "outputs": [],
   "source": [
    "double number01 = 15.53;\n",
    "\n",
    "// Afronden op een heel getal\n",
    "System.out.println(\"Het getal \" + number01 + \" gaan we afronden naar: \" + Math.round(number01));"
   ]
  },
  {
   "cell_type": "code",
   "execution_count": 8,
   "metadata": {},
   "outputs": [
    {
     "name": "stdout",
     "output_type": "stream",
     "text": [
      "58\n"
     ]
    }
   ],
   "source": [
    "// Random nummer genereren tussen de o en 100. Default is tussen 0.0 en 1.0 vandaar de * 101 o; hele getallen te krijgen.\n",
    "\n",
    "int randomNumber = (int)(Math.random() * 101); \n",
    "System.out.println(randomNumber);"
   ]
  },
  {
   "cell_type": "code",
   "execution_count": null,
   "metadata": {},
   "outputs": [],
   "source": [
    "// om de absolute waarden terug te geven.\n",
    "\n",
    "int num = -100; \n",
    "System.out.println(Math.abs(num));  \n",
    "\n",
    "int num01 = 100;\n",
    "int num02 = 200;\n",
    "System.out.println(\"Wat is the lowest number: \" + Math.min(num01, num02)); \n",
    "System.out.println(\"Wat is the highest number: \" + Math.max(num01, num02)); "
   ]
  },
  {
   "cell_type": "markdown",
   "metadata": {},
   "source": [
    "Zoals je ziet kunnen we veel met deze klas doen om getallen te bewerken. Er is nog veel meer en dat kun je hier terug vinden in de documentatie van [Math class](https://docs.oracle.com/javase/8/docs/api/java/lang/Math.html)."
   ]
  }
 ],
 "metadata": {
  "anaconda-cloud": {},
  "kernelspec": {
   "display_name": "Python 3.10.6 64-bit (windows store)",
   "language": "python",
   "name": "python3"
  },
  "language_info": {
   "codemirror_mode": "java",
   "file_extension": ".jshell",
   "mimetype": "text/x-java-source",
   "name": "python",
   "pygments_lexer": "java",
   "version": "3.10.6"
  },
  "vscode": {
   "interpreter": {
    "hash": "217c631b613e36ff4b9cdbe99ee2d03b09d4e7c1f494b32c9aa8f6b180d54c14"
   }
  }
 },
 "nbformat": 4,
 "nbformat_minor": 1
}
