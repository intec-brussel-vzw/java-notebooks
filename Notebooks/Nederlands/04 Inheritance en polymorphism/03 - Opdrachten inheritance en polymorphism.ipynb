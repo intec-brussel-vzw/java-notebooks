{
 "cells": [
  {
   "cell_type": "code",
   "execution_count": 11,
   "metadata": {
    "pycharm": {
     "name": "#%%\n"
    }
   },
   "outputs": [
    {
     "name": "stdout",
     "output_type": "stream",
     "text": [
      "Person: Justin Bieber, is 35 years old.\n",
      "\tContact: Brussel Centraal.46852145678, just.in@be\n",
      "Person: Nikola Tesla, is 54 years old.\n",
      "\tContact: Stad Gent.4966321185, nikola.tesla@legends.com\n"
     ]
    }
   ],
   "source": [
    "# Sorry Joey :D \n",
    "\n",
    "Create an assigment for the students. \n",
    "\n",
    "Donno where the hack is the paper :(\n",
    "\n"
   ]
  }
 ],
 "metadata": {
  "kernelspec": {
   "display_name": "Python 3.10.5 64-bit (windows store)",
   "language": "python",
   "name": "python3"
  },
  "language_info": {
   "codemirror_mode": {
    "name": "ipython",
    "version": 3
   },
   "file_extension": ".py",
   "mimetype": "text/x-python",
   "name": "python",
   "nbconvert_exporter": "python",
   "pygments_lexer": "ipython3",
   "version": "3.10.5"
  },
  "orig_nbformat": 4,
  "vscode": {
   "interpreter": {
    "hash": "b49aaccd02884d5549109035e6ff183faf7cd75fb001ffab5a5222a358c908f3"
   }
  }
 },
 "nbformat": 4,
 "nbformat_minor": 2
}
