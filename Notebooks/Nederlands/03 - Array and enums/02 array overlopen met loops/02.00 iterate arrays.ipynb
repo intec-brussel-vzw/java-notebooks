{
 "cells": [
  {
   "cell_type": "markdown",
   "metadata": {},
   "source": [
    "![](https://intecbrussel.be/img/logo3.png)  \n",
    "_Java les-materialen_"
   ]
  },
  {
   "cell_type": "markdown",
   "metadata": {},
   "source": [
    "# Iterate array's\n",
    "\n",
    "We kunnen een array creëren en gegevens toevoegen, maar het is ook belangrijk om te kunnen zien wat er nu volledig in een array staat. Hieronder gaan we een aantal methodes gebruiken om de array af te drukken. \n",
    "\n",
    "- [For loop](#for-loop)\n",
    "- [For each loop](#for-each-loop)\n",
    "- [While loop](#while-loop)"
   ]
  },
  {
   "cell_type": "markdown",
   "metadata": {},
   "source": [
    "\n",
    "Als we een enkel een element willen uitprinten gebruiken we natuurlijk de println methode. Belangrijk is hoe we een element aanroepen. Dit doen we door de naam met daar achter de blokhaken met de index die we willen zien.\n"
   ]
  },
  {
   "cell_type": "code",
   "execution_count": null,
   "metadata": {},
   "outputs": [],
   "source": [
    "// Hier hebben we een int array gevuld met gegevens.  \n",
    "int[] myArr = new int[5];\n",
    "myArr[0] = 100;\n",
    "myArr[1] = 200;\n",
    "myArr[2] = 300;\n",
    "myArr[3] = 400;\n",
    "myArr[4] = 500;\n",
    "\n",
    "// Hier word enkel index 3 uitprinten van de array\n",
    "System.out.println(myArr[3]);"
   ]
  },
  {
   "cell_type": "markdown",
   "metadata": {},
   "source": [
    "### For loop\n",
    "\n",
    "Om de hele array uit te printen hebben we een andere methode die we kunnen gebruiken. Een for loop die loopt door heel de array heen om de elementen een voor een uit te printen. Hier gebruiken we de methode `length()` voor. Hier hebben we in het vorige hoofdstuk over gesproken, om zo de lengte te krijgen van een array. Dit gebruiken we om de for loop te laten weten waar het einde is van de array. Dan net als hier boven kunnen we de waardes met een println afdrukken. \n",
    "\n",
    "Zoals je ziet kunnen we de println aanpassen naar onze wil. Bijvoorbeeld hier heb ik de index uitgeprint en de waarde om zo te zien welke index welke waarde heeft. Om in een for loop de waarde uit te printen van een array moeten we de naam van de array hebben met in de blokhaken en de index van de for loop. De for loop increment de index elke keer dat deze er doorheen loopt en zo krijgen we elke waarde uitgeprint. "
   ]
  },
  {
   "cell_type": "code",
   "execution_count": null,
   "metadata": {},
   "outputs": [],
   "source": [
    "for (int index = 0; index < myArr.length; index++) {\n",
    "\n",
    "    System.out.println(\"This is myArr array and the index is: \" + index +\" with the value of \" + myArr[index]);\n",
    "    \n",
    "}"
   ]
  },
  {
   "cell_type": "markdown",
   "metadata": {},
   "source": [
    "### For each loop\n",
    "\n",
    "Een andere optie is om een `for each` loop te gebruiken om de array af te drukken. Dit doet hetzelfde als een `for loop` maar is leesbaarder en makkelijker te schrijven. Belangrijk is dat met een `for each` loop je geen toegang hebt tot een index van de loop."
   ]
  },
  {
   "cell_type": "code",
   "execution_count": null,
   "metadata": {},
   "outputs": [],
   "source": [
    "for(int elements : myArr) {\n",
    "\n",
    "    System.out.println(\"This is a for each loop: \" + elements);\n",
    "\n",
    "}"
   ]
  },
  {
   "cell_type": "markdown",
   "metadata": {},
   "source": [
    "### While loop\n",
    "\n",
    "Ook is er een optie om een `while loop` te gebruiken zoals hieronder. Deze heeft voor een array niet de voorkeur omdat een `while loop` handig is als je niet weet hoeveel iteraties je moet doen. Bij een array weten we altijd de hoeveelheid omdat we dit bij het creëren van een array bekend moeten maken.  \n",
    "\n",
    "De keuze die je maakt wat voor soort loop je gebruikt om door een array te lopen heeft vooral te maken met wat je nodig hebt en je voorkeur. Belangrijkste is dat je geen overtollige code schrijft en dat het leesbaar is."
   ]
  },
  {
   "cell_type": "code",
   "execution_count": null,
   "metadata": {},
   "outputs": [],
   "source": [
    "\n",
    "int[] numbersArr = {2, 4, 6, 8, 10};\n",
    "int index = 0;\n",
    "while (index < numbersArr.length) {\n",
    "\n",
    "    System.out.println(\"This iteration is done by a While loop: \" + numbersArr[index]);\n",
    "    index++;\n",
    "\n",
    "}"
   ]
  },
  {
   "cell_type": "markdown",
   "metadata": {},
   "source": [
    "[Ga naar het volgende deel van het hoofdstuk](/Notebooks/Nederlands/03%20-%20Array%20and%20enums/02%20array%20overlopen%20met%20loops/02.samenvatting.ipynb)"
   ]
  }
 ],
 "metadata": {
  "kernelspec": {
   "display_name": "Java",
   "language": "java",
   "name": "java"
  },
  "language_info": {
   "codemirror_mode": "java",
   "file_extension": ".jshell",
   "mimetype": "text/x-java-source",
   "name": "java",
   "pygments_lexer": "java",
   "version": "11.0.11+9-LTS"
  },
  "orig_nbformat": 4
 },
 "nbformat": 4,
 "nbformat_minor": 2
}
