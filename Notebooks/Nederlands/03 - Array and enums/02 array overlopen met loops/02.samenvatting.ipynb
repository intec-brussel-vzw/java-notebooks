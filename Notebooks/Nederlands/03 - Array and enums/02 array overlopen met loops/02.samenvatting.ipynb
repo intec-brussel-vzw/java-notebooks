{
 "cells": [
  {
   "cell_type": "markdown",
   "metadata": {},
   "source": [
    "![](https://intecbrussel.be/img/logo3.png)  \n",
    "_Java les-materialen_"
   ]
  },
  {
   "cell_type": "markdown",
   "metadata": {},
   "source": [
    "# Samenvatting en oefeningen"
   ]
  },
  {
   "cell_type": "markdown",
   "metadata": {},
   "source": [
    "### Samenvatting\n",
    "\n",
    "We hebben nu gezien hoe we een array kunnen uitprinten en ook hoe we met loops de volledig array kunnen uitprinten. We hebben een aantal loops gezien de for, for each en de while loop. Om door een array te gaan is het de voorkeur van een for loop of een for each. De while loop is omslachtiger te schrijven en word gebruikt als we niet weten hoeveel keer de loop rond moet gaan. Het grote verschil met een for loop en for each loop is dat een for each loop veel compacter is geschreven. Enigste nadeel is dat we geen toegang hebben tot de index dat hebben we alleen bij een for loop. "
   ]
  },
  {
   "cell_type": "markdown",
   "metadata": {},
   "source": [
    "### Oefening 1\n",
    "\n",
    "Schrijf een programma dat van de volgende array alle elementen optelt. \n",
    "\n",
    "`int my_array[] = {1, 2, 3, 4, 5, 6, 7, 8, 9, 10};`\n",
    "\n",
    "De uitkomst moet 55 zijn."
   ]
  },
  {
   "cell_type": "code",
   "execution_count": null,
   "metadata": {
    "vscode": {
     "languageId": "java"
    }
   },
   "outputs": [],
   "source": [
    "// Plaats hier je code van oefening 1"
   ]
  },
  {
   "cell_type": "markdown",
   "metadata": {},
   "source": [
    "### Oefening 2\n",
    "\n",
    "-\tMaak een string aan met deze zin “Maak van deze string een char array”. \n",
    "-\tVervolgens gebruik je een methode om hier een char array van te maken. (Tip: bekijk de klas String). \n",
    "-\tTen slot print de char array uit. "
   ]
  },
  {
   "cell_type": "code",
   "execution_count": null,
   "metadata": {
    "vscode": {
     "languageId": "java"
    }
   },
   "outputs": [],
   "source": [
    "// Plaats hier je code van oefening 2"
   ]
  },
  {
   "cell_type": "markdown",
   "metadata": {},
   "source": [
    "### Oefening 3\n",
    "\n",
    "Schrijf een programma om het gemiddelde van deze array elementen te berekenen. \n",
    "\n",
    "`int[] numbers = {20, 30, 25, 35, -16, 60, -100};`\n",
    "\n",
    "Uitkomst moet zijn: 7.0"
   ]
  },
  {
   "cell_type": "code",
   "execution_count": 1,
   "metadata": {
    "vscode": {
     "languageId": "java"
    }
   },
   "outputs": [],
   "source": [
    "// Plaats hier je code van oefening 3"
   ]
  },
  {
   "cell_type": "markdown",
   "metadata": {},
   "source": [
    "[Ga na het volgende hoofdstuk](/Notebooks/Nederlands/03%20-%20Array%20and%20enums/03%20string%20omzetten%20naar%20array/03.00%20string%20naar%20array.ipynb)"
   ]
  }
 ],
 "metadata": {
  "kernelspec": {
   "display_name": "Java",
   "language": "java",
   "name": "java"
  },
  "language_info": {
   "codemirror_mode": "java",
   "file_extension": ".jshell",
   "mimetype": "text/x-java-source",
   "name": "Java",
   "pygments_lexer": "java",
   "version": "11.0.11+9-LTS"
  },
  "orig_nbformat": 4
 },
 "nbformat": 4,
 "nbformat_minor": 2
}
