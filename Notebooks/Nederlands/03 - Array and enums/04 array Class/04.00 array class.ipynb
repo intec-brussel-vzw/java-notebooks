{
 "cells": [
  {
   "cell_type": "markdown",
   "metadata": {},
   "source": [
    "![](https://intecbrussel.be/img/logo3.png)  \n",
    "_Java les-materialen_"
   ]
  },
  {
   "cell_type": "markdown",
   "metadata": {},
   "source": [
    "# Array class"
   ]
  },
  {
   "cell_type": "markdown",
   "metadata": {},
   "source": [
    "Deze klassen is een deel van de java collection framework *(Hier komen we later op terug in het boek)*. Deze klas heeft static methodes om dynamisch creëren en toegang te krijgen tot arrays. Door de klassen naam te gebruiken hebben we toegang tot deze methodes. hieronder ga je voorbeelden zien hoe we de klas importeren en gaan gebruiken. Deze klas zal het heel stuk gemakkelijker maken als we deze methodes kunnen aanroepen. Je gaat zien dat we veel taken direct kunnen uitvoeren zonder loops te gebruiken en daarmee maken we de code kort en geoptimaliseerd.\n",
    "\n",
    "hier gaan we syntax zien die we moeten gebruiken: \n",
    "\n",
    "```java\n",
    "// Importeren van de klas\n",
    "import java.util.Arrays;\n",
    "\n",
    "// De syntax om de methodes op te roepen.\n",
    "Arrays.<function name>;\n",
    "\n",
    "```"
   ]
  },
  {
   "cell_type": "code",
   "execution_count": null,
   "metadata": {
    "vscode": {
     "languageId": "java"
    }
   },
   "outputs": [],
   "source": []
  },
  {
   "cell_type": "markdown",
   "metadata": {},
   "source": [
    "###  binarySearch() method\n",
    "\n",
    "Hoe werkt deze methode en waar moeten we opletten:\n",
    "- Het is een statische methode die in de class Arrays zit. \n",
    "- Deze methode retourneert de index van een specifieke sleutel die gevonden word in een specifiek range in de array door middel van een binary search algorithm.\n",
    "- Dit werkt met alle primitieve datatypes en ook objecten.\n",
    "- **Belangrijk** Als je wil zoeken met deze methode moet de range die je zoekt gesorteerd zijn voordat je de methode aanroept. Dit doenj we met de methode`Arrays.sort()`, anders zou het resultaat niet betrouwbaar zijn. \n",
    "- **Belangrijk** Als de array meerder elementen bevat met de zelfde waarde. Als je deze probeert te zoeken is er geen garantie welke er gevonden zal worden. "
   ]
  },
  {
   "cell_type": "code",
   "execution_count": null,
   "metadata": {
    "vscode": {
     "languageId": "java"
    }
   },
   "outputs": [],
   "source": [
    "int intArr[] = { 300, 200, 100, 400, 500 };\n",
    "\n",
    "//System.out.println(\"Before sorting value at index 0 \" + intArr[0]);\n",
    "//System.out.println(\"Before sorting value at index 2 \" + intArr[2]);\n",
    "\n",
    "Arrays.sort(intArr);\n",
    "\n",
    "//System.out.println(\"After sorting value at index 0 \" + intArr[0]);\n",
    "//System.out.println(\"After sorting value at index 2 \" + intArr[2]);\n",
    "\n",
    "int keyElement = 300;\n",
    "  \n",
    "System.out.println(keyElement + \" found at index = \" + Arrays.binarySearch(intArr, keyElement));"
   ]
  },
  {
   "cell_type": "markdown",
   "metadata": {},
   "source": [
    "[Ga naar het volgende deel van het hoofdstuk](/Notebooks/Nederlands/03%20-%20Array%20and%20enums/04%20array%20Class/04.samenvatting.ipynb)"
   ]
  }
 ],
 "metadata": {
  "kernelspec": {
   "display_name": "Java",
   "language": "java",
   "name": "java"
  },
  "language_info": {
   "codemirror_mode": "java",
   "file_extension": ".jshell",
   "mimetype": "text/x-java-source",
   "name": "Java",
   "pygments_lexer": "java",
   "version": "11.0.11+9-LTS"
  },
  "orig_nbformat": 4,
  "vscode": {
   "interpreter": {
    "hash": "217c631b613e36ff4b9cdbe99ee2d03b09d4e7c1f494b32c9aa8f6b180d54c14"
   }
  }
 },
 "nbformat": 4,
 "nbformat_minor": 2
}
