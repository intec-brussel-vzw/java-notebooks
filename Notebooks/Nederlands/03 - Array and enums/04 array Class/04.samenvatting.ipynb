{
 "cells": [
  {
   "cell_type": "markdown",
   "metadata": {},
   "source": [
    "![](https://intecbrussel.be/img/logo3.png)  \n",
    "_Java les-materialen_"
   ]
  },
  {
   "cell_type": "markdown",
   "metadata": {},
   "source": [
    "# Samenvatting en oefeningen"
   ]
  },
  {
   "cell_type": "markdown",
   "metadata": {},
   "source": [
    "### Samenvatting\n",
    "\n",
    "We hebben nu gezien dat we op gemakkelijkere manier een array uit te printen zonder een loop, sorteren en kopiëren.\n",
    "\n",
    "Dit is de syntax om de klas en methodes te kunnen gebruiken:\n",
    "```java\n",
    "// Importeren van de klas\n",
    "import java.util.Arrays;\n",
    "\n",
    "// De syntax om de methodes op te roepen.\n",
    "Arrays.<function name>;\n",
    "\n",
    "```\n",
    "\n",
    "Deze Array class heeft nog veel meer methodes die ons leven makkelijker gaan maken. Via deze link kom je bij de documentatie van deze klas [Array.class](https://docs.oracle.com/javase/8/docs/api/java/util/Arrays.html)\n",
    "\n",
    "Nu gaan we de deze nieuwe kennis uitproberen."
   ]
  },
  {
   "cell_type": "markdown",
   "metadata": {},
   "source": [
    "### Oefening 1\n",
    "\n",
    "Schrijf een programma om 2 arrays van elks minimaal 15 elementen (een double en een string) te sorteren en te printen. Niet van laag naar hoog maar andersom van hoog naar laag."
   ]
  },
  {
   "cell_type": "code",
   "execution_count": null,
   "metadata": {},
   "outputs": [],
   "source": [
    "// Plaats hier je code voor oefening 1"
   ]
  },
  {
   "cell_type": "markdown",
   "metadata": {},
   "source": [
    "### Oefening 2\n",
    "\n",
    "Schrijf een programma om deze array te kopiëren en te vergroten naar 10 elementen. \n",
    "\n",
    "```java\n",
    "\n",
    "int[] myIntArray = {1, 2, 3, 4, 5};\n",
    "\n",
    "```\n"
   ]
  },
  {
   "cell_type": "code",
   "execution_count": null,
   "metadata": {},
   "outputs": [],
   "source": [
    "// Plaats hier je code voor oefening 2"
   ]
  },
  {
   "cell_type": "markdown",
   "metadata": {},
   "source": [
    "### Oefening 3 \n",
    "\n",
    "Schrijf een programma om de dubbele stadsnamen eruit te filteren en uit te printen.\n",
    "\n",
    "```java\n",
    "String[] myArray = {\"Amsterdam\", \"Brussel\", \"London\", \"Paris\", \"Madrid\", \"Brussel\", \"Amsterdam\"};\n",
    "```\n"
   ]
  },
  {
   "cell_type": "code",
   "execution_count": null,
   "metadata": {},
   "outputs": [],
   "source": [
    "// plaats hier je code voor oefening 3"
   ]
  },
  {
   "cell_type": "markdown",
   "metadata": {},
   "source": [
    "[Ga door naar het volgende hoofdstuk](/Notebooks/Nederlands/03%20-%20Array%20and%20enums/05%20multidimensioneel%20arrays/05.00%20multidimentionale%20arrays.ipynb)"
   ]
  }
 ],
 "metadata": {
  "kernelspec": {
   "display_name": "Java",
   "language": "java",
   "name": "java"
  },
  "language_info": {
   "codemirror_mode": "java",
   "file_extension": ".jshell",
   "mimetype": "text/x-java-source",
   "name": "java",
   "pygments_lexer": "java",
   "version": "11.0.11+9-LTS"
  },
  "orig_nbformat": 4,
  "vscode": {
   "interpreter": {
    "hash": "217c631b613e36ff4b9cdbe99ee2d03b09d4e7c1f494b32c9aa8f6b180d54c14"
   }
  }
 },
 "nbformat": 4,
 "nbformat_minor": 2
}
