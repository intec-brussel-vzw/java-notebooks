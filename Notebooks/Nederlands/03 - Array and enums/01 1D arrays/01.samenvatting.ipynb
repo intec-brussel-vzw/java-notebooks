{
 "cells": [
  {
   "cell_type": "markdown",
   "metadata": {},
   "source": [
    "![](https://intecbrussel.be/img/logo3.png)  \n",
    "_Java les-materialen_"
   ]
  },
  {
   "cell_type": "markdown",
   "metadata": {},
   "source": [
    "# Samenvatting en oefeningen"
   ]
  },
  {
   "cell_type": "markdown",
   "metadata": {},
   "source": [
    "### Samenvatting\n",
    "\n",
    "De basis principes hebben we nu van een array. \n",
    "\n",
    "- Het is een verzameling van elementen van de zelfde datatype: `int`, `char` of een object.\n",
    "- Een array heeft voor elk element een index. Zodat we door de array kunnen zoeken en uitprinten.\n",
    "- Bij het creëren van een array is het belangrijk niet te vergeten om de lengte van de array door te geven. \n",
    "\n",
    "` int[] myFirstArray = new int[10]; `\n",
    "\n",
    "- Als we de array niet vullen met gegevens krijgen we automatisch een default waarde van dat bepaalde datatype.\n",
    "\n",
    "In de tabel zie je per datatype wat de default waarde is:\n",
    "| Datatype | Default value |\n",
    "|---|---|\n",
    "|`byte`, `short`, `int`, `long`| 0 |\n",
    "| `float`, `double` | 0.0 |\n",
    "| `boolean` | false |\n",
    "| `char` | \\\\u0000 in decimale staat dit gelijk aan 0 |\n",
    "| `object` | null |\n",
    "\n",
    "- Doordat een array een object is kunnen we ook hier methodes op toepassen zoals bijvoorbeeld `length()`."
   ]
  },
  {
   "cell_type": "markdown",
   "metadata": {},
   "source": [
    "### Oefening 1\n",
    "\n",
    "-\tCreëer op 2 manieren een array.\n",
    "    - Met datatype van `double` en `char`.\n",
    "-\tDruk 1 element van beide array's af in de commando lijn. "
   ]
  },
  {
   "cell_type": "code",
   "execution_count": null,
   "metadata": {},
   "outputs": [],
   "source": [
    "// plaats hier de code van oefening 1"
   ]
  },
  {
   "cell_type": "markdown",
   "metadata": {},
   "source": [
    "### Oefening 2\n",
    "\n",
    "-\tCreëer een String array met 5 elementen.\n",
    "-\tDruk 1 element af in de commando lijn. \n",
    "-\tDruk de lengte van je array af. "
   ]
  },
  {
   "cell_type": "code",
   "execution_count": null,
   "metadata": {},
   "outputs": [],
   "source": [
    "// plaats hier de code van oefening 2"
   ]
  },
  {
   "cell_type": "markdown",
   "metadata": {},
   "source": [
    "[Ga naar het volgende hoofdstuk]()"
   ]
  }
 ],
 "metadata": {
  "kernelspec": {
   "display_name": "Java",
   "language": "java",
   "name": "java"
  },
  "language_info": {
   "name": "java"
  },
  "orig_nbformat": 4
 },
 "nbformat": 4,
 "nbformat_minor": 2
}
