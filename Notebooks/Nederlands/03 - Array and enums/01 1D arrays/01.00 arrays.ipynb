{
 "cells": [
  {
   "cell_type": "markdown",
   "metadata": {},
   "source": [
    "![](https://intecbrussel.be/img/logo3.png)  \n",
    "_Java les-materialen_"
   ]
  },
  {
   "cell_type": "markdown",
   "metadata": {},
   "source": [
    "# Arrays\n",
    "\n",
    "Wat gaan we in dit hoofdstuk tegenkomen:\n",
    "\n",
    "- [Wat is een array? ](#wat-is-een-array)\n",
    "- [De Index van een array](#de-index-van-een-array)\n",
    "- [Array creatie](#array-creatie)\n",
    "- [Gegevens invoeren in een array](#gegevens-invoeren-in-een-array)\n",
    "- [Gegevens uitprinten](#gegevens-uitprinten)"
   ]
  },
  {
   "cell_type": "markdown",
   "metadata": {},
   "source": [
    "### Wat is een array? \n",
    "\n",
    "Een array is een verzameling van elementen van hetzelfde datatype. De datatypes die we gebruiken zijn de primitieve datatypes zoals:  int, double, byte, short, float, long, char en boolean. Een array kan niet alleen primitieve datatypes bewaren maar ook referentie datatypes zoals een String.\n",
    "\n",
    "Ieder element is voorzien van een nummer. Dit nummer noemen we een index. De index duidt aan de plaats van een element in de array.\n",
    "\n",
    "Het doel van een array is een plek creëren om je gegevens te kunnen verzamelen. Als we dit op deze manier doen kunnen we makkelijk tussen de gegevens zoeken of sorteren als we iets specifieks willen hebben van deze verzameling. Een ander voordeel is dat we meerdere variabele kunnen declareren in één variabele. In plaats van dat we ze apart declareren. "
   ]
  },
  {
   "cell_type": "markdown",
   "metadata": {},
   "source": [
    "### De Index van een array\n",
    "\n",
    "Elk item in een array noemen we een element en elke element heeft een eigen index. Belangrijk is dat een index van een array altijd begint bij 0.\n",
    "\n",
    "bijvoorbeeld: we hebben een array van 10 elementen dan is de index van 0 t/m 9.\n",
    "\n",
    "Wat is nu de functie van een index? De index duidt de plaats aan van het element in een array. Dit hebben we straks nodig om een element te kunnen selecteren, bewerken of gewoon uit te printen.\n",
    "\n",
    "Als we een index oproepen die negatief is of buiten de grootte van de array ligt krijgen we een exception. Om precies te zijn krijgen we dan een [ArrayIndexOutOfBoundException](). Dit geeft aan dat we een index aan het zoeken zijn die niet is gecreëerd. \n",
    "\n",
    "*Exception komen we in een later hoofdstuk op terug*."
   ]
  },
  {
   "cell_type": "markdown",
   "metadata": {},
   "source": [
    "Wat als we een van de indexen leeg laten? Zelfs als we niks invoeren op die index heeft de array een default waarde. Bijvoorbeeld: Als we een primitieve datatype int pakken dan \n",
    "zou de default waarde het getal `0` zijn, maar bij een object hebben we een default waarde van `null`. "
   ]
  },
  {
   "cell_type": "markdown",
   "metadata": {},
   "source": [
    "### Array creatie\n",
    "\n",
    "We gaan doorlopen welke mogelijkheden we hebben om een array te creëren. Er zijn een aantal verschillende manieren om een array te creëren. \n",
    "\n",
    "Een array wordt als volgt gedeclareerd. Als eerst komt het datatype gevolgd door de blokhaken. Dit geeft aan dat het om een array gaat. Dit word dan gevolgd door een zelfgekozen naam. Natuurlijk zorg je ervoor, net als bij je variabelen, dat het een beschrijvende naam is. \n",
    "\n",
    "Arrays worden net als alle andere objecten gecreëerd met de `new` operator. Met een new operator creëren we een nieuwe instantie van een klas. Tijdens deze creatie wordt er ruimte gereserveerd voor dit object. Wat bij deze een verwijzing/referentie geeft naar het object in het geheugen. \n",
    "\n",
    "Bij het declareren en initialiseren van arrays moeten we rekening houden dat array een vaste grootte heeft die niet meer gewijzigd kan worden. Kijk hieronder voor de voorbeelden:"
   ]
  },
  {
   "cell_type": "code",
   "execution_count": 4,
   "metadata": {},
   "outputs": [],
   "source": [
    "// We creëren een array van 10 elementen van het datatype int.\n",
    "int[] myFirstArray = new int[10];\n",
    "\n",
    "// Nu creëren we een array van 5 elementen en we vullen deze meteen. \n",
    "int[] mySecondArray = {10, 20, 30, 40 ,50}"
   ]
  },
  {
   "cell_type": "markdown",
   "metadata": {},
   "source": [
    "Hieronder zie je een andere mogelijkheid om een array te creëren. Deze komt minder voor. **De voorkeur gaat naar de methodes hierboven**. \n",
    "\n",
    "Het verschil zit in de vierkante haakjes. Die staan niet bij het datatype maar de naam.  \n",
    "\n",
    "`int myArr[] = new int[lengte van de array];`"
   ]
  },
  {
   "cell_type": "markdown",
   "metadata": {},
   "source": [
    "Als we de array creëren net als hieronder dan hebben alle elementen een default waarde. Dit is omdat we nog geen gegevens hebben toegevoegd aan de array.\n",
    "\n",
    "`int[] myArray = new int[10];`\n",
    "\n",
    "In de tabel zie je per datatype wat de default waarde is:\n",
    "| Datatype | Default value |\n",
    "|---|---|\n",
    "|`byte`, `short`, `int`, `long`| 0 |\n",
    "| `float`, `double` | 0.0 |\n",
    "| `boolean` | false |\n",
    "| `char` | \\\\u0000 dit stelt `NULL` voor |\n",
    "| `object` | null |"
   ]
  },
  {
   "cell_type": "markdown",
   "metadata": {},
   "source": [
    "### Gegevens invoeren in een array\n",
    "\n",
    "We hebben al een manier gezien hoe dat we in een keer een array creëren en vullen. Deze manier is goed als we precies weten welke waardes we willen toevoegen aan de array. Dit noemen ze \n",
    "in-lijn initialisatie. \n",
    "```java\n",
    "int[] myArrIsFull = {10, 20, 30, 40 ,50};\n",
    "```\n",
    "Als we weten hoeveel elementen we hebben maar nog niet alle waarden dan kunnen we dit beter op een andere manier doen: We creëren een array maar vullen alleen index 1,3,4\n",
    "```java\n",
    "int[] myArrIsNotFull = new int[5]; \n",
    "myArrIsNotFull[1] = 100;\n",
    "myArrIsNotFull[3] = 1000;\n",
    "myArrIsNotFull[4] = 250;\n",
    "```\n",
    "De andere elementen blijven leeg of te wel op default staan. Dit is een int array dus default is 0."
   ]
  },
  {
   "cell_type": "markdown",
   "metadata": {},
   "source": [
    "### Gegevens uitprinten \n",
    "\n",
    "Het benaderen van een element gebeurt door de index tussen blokhaken achter de naam van de array te plaatsen. Dit kunnen we gebruiken om bijvoorbeeld die waarde uit te printen of als we een waarde willen aanpassen. Zoals je hieronder kunt zien. "
   ]
  },
  {
   "cell_type": "code",
   "execution_count": null,
   "metadata": {},
   "outputs": [],
   "source": [
    "\n",
    "int[] myArrPrintable = {10, 20, 30, 40 ,50}; \n",
    "\n",
    "System.out.println(\"Voor de aanpassing: \" + myArrPrintable[0]);\n",
    "\n",
    "// aanpassen van een waarde\n",
    "myArrPrintable[0] = 10000;\n",
    "\n",
    "System.out.println(\"Na de aanpassing: \" + myArrPrintable[0]);\n"
   ]
  },
  {
   "cell_type": "markdown",
   "metadata": {},
   "source": [
    "Omdat een array een object is kunnen we de lengte vinden door de eigenschap `length` te gebruiken. Hieronder zie je een voorbeeld hoe dit toe te passen. In het volgende deel zie je waarom dit handig kan zijn. "
   ]
  },
  {
   "cell_type": "code",
   "execution_count": null,
   "metadata": {},
   "outputs": [],
   "source": [
    "System.out.println(\"The length of myArr is: \" + myArrPrintable.length);"
   ]
  },
  {
   "cell_type": "markdown",
   "metadata": {},
   "source": [
    "[Ga naar het volgende deel van het hoofdstuk](/Notebooks/Nederlands/03%20-%20Array%20and%20enums/01%201D%20arrays/01.samenvatting.ipynb)"
   ]
  }
 ],
 "metadata": {
  "kernelspec": {
   "display_name": "Java",
   "language": "java",
   "name": "java"
  },
  "language_info": {
   "codemirror_mode": "java",
   "file_extension": ".jshell",
   "mimetype": "text/x-java-source",
   "name": "java",
   "pygments_lexer": "java",
   "version": "11.0.11+9-LTS"
  },
  "orig_nbformat": 4
 },
 "nbformat": 4,
 "nbformat_minor": 2
}
