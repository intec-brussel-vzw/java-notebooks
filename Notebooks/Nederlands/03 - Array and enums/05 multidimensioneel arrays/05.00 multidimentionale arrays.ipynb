{
 "cells": [
  {
   "cell_type": "markdown",
   "metadata": {},
   "source": [
    "![](https://intecbrussel.be/img/logo3.png)  \n",
    "_Java les-materialen_"
   ]
  },
  {
   "cell_type": "markdown",
   "metadata": {},
   "source": [
    "# Multidimensionale array's"
   ]
  },
  {
   "cell_type": "markdown",
   "metadata": {},
   "source": [
    "Een multidimensional array is een array van een array. De gegevens in een multidimensionale arrays worden in een tabelvorm gepresenteerd (Rijen en kolommen).\n",
    "\n",
    "**In de volgende tabel zie je een 2 dimensionale array van 3 * 2 = 6 elementen.**\n",
    "\n",
    "| **Rijen/ Kolommen** | **Kolom 1** | **Kolom 2** |\n",
    "| --- | --- | --- |\n",
    "| **Rij 1** | \\[0,0\\] | \\[0,1\\] |\n",
    "| **Rij 2** | \\[1,0\\] | \\[1,1\\] | \n",
    "| **Rij 3** | \\[2,0\\] | \\[2,1\\] | \n",
    "\n",
    "Syntax van een multidimensionale array:\n",
    "\n",
    "`data_type[1st dimension][2nd dimension] array_name = new data_type[size1][size2];`\n",
    "\n",
    "-   **data\\_type**: Het type data dat we willen opslaan bijvoorbeeld: int, char, enz.\n",
    "-   **dimension**: Hoeveel dimensies de array moet zijn bijvoorbeeld: 1D, 2D, 3D enz.\n",
    "-   **array\\_name**: Naam van de array.\n",
    "-   **size1, size2**: De grote van de verschillende dimensies. "
   ]
  },
  {
   "cell_type": "code",
   "execution_count": null,
   "metadata": {},
   "outputs": [],
   "source": [
    "// Two dimensional array:\n",
    "int[][] twoDArray = new int[10][20];\n",
    "\n",
    "// Three dimensional array:\n",
    "int[][][] threeDArray = new int[10][20][30];"
   ]
  },
  {
   "cell_type": "markdown",
   "metadata": {},
   "source": [
    "De totale aantal elementen in een multidimensionale array kun je berekenen door de elementen met elkaar te vermenigvuldigen. Bijvoorbeeld bij de 2 arrays van hierboven: \n",
    "\n",
    "twoDArray = 10 * 20 = 200 elementen\n",
    "\n",
    "threeDArray = 10 * 20 * 30 = 6000 elementen\n"
   ]
  },
  {
   "cell_type": "markdown",
   "metadata": {},
   "source": [
    "Hieronder zien we een 2 dimensionale array met 2 * 5 = 10 elementen. Het bewerken van een 2D array werkt hetzelfde als een 1D array. Zoals je ziet kunnen we de array op de zelfde manier vullen en uitprinten. We moeten alleen rekening houden met de 2<sup>de</sup> index. "
   ]
  },
  {
   "cell_type": "code",
   "execution_count": null,
   "metadata": {},
   "outputs": [],
   "source": [
    "\n",
    "int[][] myArr = new int[2][5];\n",
    "myArr[0][0] = 1;\n",
    "myArr[0][1] = 2;\n",
    "myArr[0][2] = 3;\n",
    "myArr[0][3] = 4;\n",
    "myArr[0][4] = 5;\n",
    "\n",
    "myArr[1][0] = 10;\n",
    "myArr[1][1] = 20;\n",
    "myArr[1][2] = 30;\n",
    "myArr[1][3] = 40;\n",
    "myArr[1][4] = 50;\n",
    "\n",
    "System.out.println(\"arr[0][0] = \" + myArr[0][0]);\n",
    "\n",
    "System.out.println(\"arr[1][4] = \" + myArr[1][4]);"
   ]
  },
  {
   "cell_type": "markdown",
   "metadata": {},
   "source": [
    "Nu gaan we heel de array uitprinten met een `for loop` maar hier moeten we ook de 2<sup>de</sup> index niet vergeten. We gaan dit doen met een for loop in een for loop. "
   ]
  },
  {
   "cell_type": "code",
   "execution_count": null,
   "metadata": {},
   "outputs": [],
   "source": [
    "int[][] myArr = new int[2][5];\n",
    "myArr[0][0] = 1;\n",
    "myArr[0][1] = 2;\n",
    "myArr[0][2] = 3;\n",
    "myArr[0][3] = 4;\n",
    "myArr[0][4] = 5;\n",
    "\n",
    "myArr[1][0] = 10;\n",
    "myArr[1][1] = 20;\n",
    "myArr[1][2] = 30;\n",
    "myArr[1][3] = 40;\n",
    "myArr[1][4] = 50;\n",
    "\n",
    "\n",
    "for (int index = 0; index < myArr.length; index++) {\n",
    "\n",
    "    for (int indexJ = 0; indexJ < myArr[index].length; indexJ++){\n",
    "\n",
    "        System.out.println(\"arr[\" + index + \"][\" + indexJ + \"] = \" + myArr[index][indexJ]);\n",
    "\n",
    "    }\n",
    "}"
   ]
  },
  {
   "cell_type": "markdown",
   "metadata": {},
   "source": [
    "[Ga naar samenvatting en oefeningen](/Notebooks/Nederlands/03%20-%20Array%20and%20enums/05%20multidimensioneel%20arrays/05.samenvatting.ipynb)"
   ]
  }
 ],
 "metadata": {
  "kernelspec": {
   "display_name": "Java",
   "language": "java",
   "name": "java"
  },
  "language_info": {
   "codemirror_mode": "java",
   "file_extension": ".jshell",
   "mimetype": "text/x-java-source",
   "name": "java",
   "pygments_lexer": "java",
   "version": "11.0.11+9-LTS"
  },
  "orig_nbformat": 4,
  "vscode": {
   "interpreter": {
    "hash": "217c631b613e36ff4b9cdbe99ee2d03b09d4e7c1f494b32c9aa8f6b180d54c14"
   }
  }
 },
 "nbformat": 4,
 "nbformat_minor": 2
}
