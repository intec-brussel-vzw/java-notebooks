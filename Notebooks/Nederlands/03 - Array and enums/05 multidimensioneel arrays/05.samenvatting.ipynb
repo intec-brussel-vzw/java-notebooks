{
 "cells": [
  {
   "cell_type": "markdown",
   "metadata": {},
   "source": [
    "![](https://intecbrussel.be/img/logo3.png)  \n",
    "_Java les-materialen_"
   ]
  },
  {
   "cell_type": "markdown",
   "metadata": {},
   "source": [
    "# Samenvatting en oefeningen\n",
    "\n",
    "Nu kunnen we ook een meerdere dimensie array maken en veel is hetzelfde als met een 1D array. Er zijn hier en daar wel een paar dingen om op te letten. Bijvoorbeeld werken we met meerdere dimensies vergeet niet dat je dan ook met meerdere indexen werkt. Dat betekend als we de hele array willen uitprinten gebruiken we nested `for loops` (Zie hieronder het voorbeeld). \n",
    "\n",
    "\n",
    "```java\n",
    "int[][] myArr = { { 1, 2 }, { 3, 4 } };\n",
    "\n",
    "// For loop for the rows\n",
    "for (int index = 0; index < myArr.length; index++) {\n",
    "\n",
    "    // For loop for the columns\n",
    "    for (int indexJ = 0; indexJ < myArr[index].length; indexJ++) {\n",
    "\n",
    "        System.out.println(\"arr[\" + index + \"][\" + indexJ + \"] = \" + myArr[index][indexJ]);\n",
    "\n",
    "    }\n",
    "}\n",
    "``` \n",
    "\n",
    "Nu gaan we dit ook uitproberen in de volgende oefeningen: "
   ]
  },
  {
   "cell_type": "markdown",
   "metadata": {},
   "source": [
    "### Oefening 1\n",
    "\n",
    "Maak een 3D array van 5 * 5 * 5 elementen en print de waarde van deze elementen uit. "
   ]
  },
  {
   "cell_type": "code",
   "execution_count": null,
   "metadata": {
    "vscode": {
     "languageId": "java"
    }
   },
   "outputs": [],
   "source": [
    "// Plaats hier je code van oefening 1"
   ]
  },
  {
   "cell_type": "markdown",
   "metadata": {},
   "source": [
    "### Oefening 2\n",
    "Gebruik de 2D array en print deze uit in combinatie met de toString() van de class Array.\n",
    "\n",
    "`int[][] numbers = {{1, 2, 3}, {4, 5, 6}};`"
   ]
  },
  {
   "cell_type": "code",
   "execution_count": null,
   "metadata": {
    "vscode": {
     "languageId": "java"
    }
   },
   "outputs": [],
   "source": [
    "// Plaats hier je code van oefening 2"
   ]
  },
  {
   "cell_type": "markdown",
   "metadata": {},
   "source": [
    "[Ga naar het volgende hoofdstuk](/Notebooks/Nederlands/03%20-%20Array%20and%20enums/06%20enums/06.00.enums.ipynb)"
   ]
  }
 ],
 "metadata": {
  "kernelspec": {
   "display_name": "Java",
   "language": "java",
   "name": "java"
  },
  "language_info": {
   "codemirror_mode": "java",
   "file_extension": ".jshell",
   "mimetype": "text/x-java-source",
   "name": "Java",
   "pygments_lexer": "java",
   "version": "11.0.11+9-LTS"
  },
  "orig_nbformat": 4,
  "vscode": {
   "interpreter": {
    "hash": "217c631b613e36ff4b9cdbe99ee2d03b09d4e7c1f494b32c9aa8f6b180d54c14"
   }
  }
 },
 "nbformat": 4,
 "nbformat_minor": 2
}
