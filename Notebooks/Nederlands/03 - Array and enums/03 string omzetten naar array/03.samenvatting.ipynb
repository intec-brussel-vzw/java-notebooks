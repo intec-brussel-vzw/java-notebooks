{
 "cells": [
  {
   "cell_type": "markdown",
   "metadata": {},
   "source": [
    "![](https://intecbrussel.be/img/logo3.png)  \n",
    "_Java les-materialen_"
   ]
  },
  {
   "cell_type": "markdown",
   "metadata": {},
   "source": [
    "# Samenvatting en oefeningen"
   ]
  },
  {
   "cell_type": "markdown",
   "metadata": {},
   "source": [
    "### Oefening 1\n",
    "\n",
    "Schrijf een programma en maak van de string waarde hierbeneden een char array met index. \n",
    "```java\n",
    "\n",
    "String myString = \"Char Array!\";\n",
    "\n",
    "```\n",
    "Uitkomst moet zijn: \n",
    "\n",
    "|0 = C | 1 = h | 2 = a | 3 = r | 4 =   | 5 = A | 6 = r | 7 = r | 8 = a | 9 = y | 10 = ! | "
   ]
  },
  {
   "cell_type": "code",
   "execution_count": null,
   "metadata": {
    "vscode": {
     "languageId": "java"
    }
   },
   "outputs": [],
   "source": [
    "// Plaats je code hier van oefening 1"
   ]
  },
  {
   "cell_type": "markdown",
   "metadata": {},
   "source": [
    "### Oefening 2\n",
    "\n",
    "Schrijf een programma om deze string arrays te wisselen van waarden. \n",
    "\n",
    "```java\n",
    "String[] firstArray = {\"Intec\", \"is\", \"the\", \"best!\"};\n",
    "\n",
    "String[] secondArray = {\"C#\", \"is\", \"the\", \"worst!\"};\n",
    "```\n",
    "Extra: Zorg voor een validatie dat de arrays gelijk zijn van lengte."
   ]
  },
  {
   "cell_type": "code",
   "execution_count": null,
   "metadata": {
    "vscode": {
     "languageId": "java"
    }
   },
   "outputs": [],
   "source": [
    "// Plaats hier je code van oefening 2"
   ]
  },
  {
   "cell_type": "markdown",
   "metadata": {},
   "source": [
    "[Ga naar het volgende deel het hoofdstuk](/Notebooks/Nederlands/03%20-%20Array%20and%20enums/04%20array%20Class/04.00%20array%20class.ipynb)"
   ]
  }
 ],
 "metadata": {
  "kernelspec": {
   "display_name": "Java",
   "language": "java",
   "name": "java"
  },
  "language_info": {
   "codemirror_mode": "java",
   "file_extension": ".jshell",
   "mimetype": "text/x-java-source",
   "name": "Java",
   "pygments_lexer": "java",
   "version": "11.0.11+9-LTS"
  },
  "orig_nbformat": 4
 },
 "nbformat": 4,
 "nbformat_minor": 2
}
