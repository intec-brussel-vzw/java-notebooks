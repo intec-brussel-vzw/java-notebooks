{
 "cells": [
  {
   "cell_type": "markdown",
   "metadata": {},
   "source": [
    "![](https://intecbrussel.be/img/logo3.png)  \n",
    "_Java les-materialen_"
   ]
  },
  {
   "cell_type": "markdown",
   "metadata": {},
   "source": [
    "# Converteer een string naar array"
   ]
  },
  {
   "cell_type": "markdown",
   "metadata": {},
   "source": [
    "We hebben verschillende manier om een String naar een array te converteren. We gaan hier een aantal manieren doornemen:\n",
    "\n",
    "- [Split() methode](#split-methode)\n",
    "\n",
    "- [String array naar String](#string-array-to-string)\n",
    "- [String naar char array](#string-to-char-array)\n",
    "\n",
    "\n",
    "Er is ook nog een andere manier om string naar array om te zetten via [Array class](/Notebooks/Nederlands/03%20-%20Array%20and%20enums/04%20array%20Class/04.00%20array%20class.ipynb).  "
   ]
  },
  {
   "cell_type": "markdown",
   "metadata": {},
   "source": [
    "### Split() methode\n",
    "\n",
    "Hieronder laten we zien met de methode split() om een string om te zetten naar een string array."
   ]
  },
  {
   "cell_type": "code",
   "execution_count": null,
   "metadata": {},
   "outputs": [],
   "source": [
    "String myStr = \"Java is the best!\";\n",
    "\n",
    "// Hier splitten we de string op een spatie.\n",
    "String[] strArray = myStr.split(\" \");\n",
    "\n",
    "// Oorspronkelijke string uitprinten.\n",
    "System.out.println(\"String : \" + myStr);\n",
    " \n",
    "// Loop door de string.\n",
    "for (int index = 0; index < strArray.length; index++) {\n",
    "\n",
    "// Printen van de index met de waarde.\n",
    "System.out.println(\"Index: \" + index + \" value of element: \" + strArray[index]);\n",
    "        \n",
    "}"
   ]
  },
  {
   "cell_type": "markdown",
   "metadata": {},
   "source": [
    "### String array to string\n",
    "\n",
    "We kunnen natuurlijk ook een string array terug naar een string omzetten. Dit gaan we via de methode uit de string klas doen de `join()` methode. "
   ]
  },
  {
   "cell_type": "code",
   "execution_count": null,
   "metadata": {},
   "outputs": [],
   "source": [
    "String[] strArrayToString = {\"Intec\",\"Brussels\",\"is\",\"the\",\"best!\"};\n",
    "\n",
    "// De array omzetten naar string met een spatie tussen de woorden.\n",
    "String itIsNowAString = String.join(\" \", strArrayToString);  \n",
    "\n",
    "// De array omzetten naar string met een koppelstreepje tussen de woorden.\n",
    "String itIsNowAStringWithHyphen = String.join(\"-\", strArrayToString);\n",
    " \n",
    "// printen van de nieuwe string\n",
    "System.out.println(itIsNowAString);\n",
    "System.out.println(itIsNowAStringWithHyphen);"
   ]
  },
  {
   "cell_type": "markdown",
   "metadata": {},
   "source": [
    "### String to char array\n",
    "\n",
    "We hebben ook nog een andere optie om een string om te zetten naar een char array. Dit gaan we doen door middel van de methode toCharArray()."
   ]
  },
  {
   "cell_type": "code",
   "execution_count": null,
   "metadata": {},
   "outputs": [],
   "source": [
    "String stringToChar = \"From String to a char array\";\n",
    "char[] charArray = stringToChar.toCharArray();\n",
    "\n",
    "for(char ch:charArray){\n",
    "    \n",
    "    System.out.print( ch + \" | \" );\n",
    "\n",
    "}"
   ]
  },
  {
   "cell_type": "markdown",
   "metadata": {},
   "source": [
    "[Ga naar het volgende deel van dit hoofdstuk](/Notebooks/Nederlands/03%20-%20Array%20and%20enums/03%20string%20omzetten%20naar%20array/03.samenvatting.ipynb)"
   ]
  }
 ],
 "metadata": {
  "kernelspec": {
   "display_name": "Java",
   "language": "java",
   "name": "java"
  },
  "language_info": {
   "codemirror_mode": "java",
   "file_extension": ".jshell",
   "mimetype": "text/x-java-source",
   "name": "java",
   "pygments_lexer": "java",
   "version": "11.0.11+9-LTS"
  },
  "orig_nbformat": 4,
  "vscode": {
   "interpreter": {
    "hash": "217c631b613e36ff4b9cdbe99ee2d03b09d4e7c1f494b32c9aa8f6b180d54c14"
   }
  }
 },
 "nbformat": 4,
 "nbformat_minor": 2
}
