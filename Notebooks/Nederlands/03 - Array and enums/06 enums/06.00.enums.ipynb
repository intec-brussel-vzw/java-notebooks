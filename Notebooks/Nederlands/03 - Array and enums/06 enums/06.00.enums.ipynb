{
 "cells": [
  {
   "cell_type": "markdown",
   "metadata": {},
   "source": [
    "![](https://intecbrussel.be/img/logo3.png)  \n",
    "_Java les-materialen_"
   ]
  },
  {
   "cell_type": "markdown",
   "metadata": {},
   "source": [
    "# Enums"
   ]
  },
  {
   "cell_type": "markdown",
   "metadata": {},
   "source": [
    "Enums is kort voor **Enumerations** dit is een speciale klas in java. Deze klas bestaat uit een groep van constanten. Dit zijn onveranderlijke variabelen, zoals een [final]() variabele ( Hier komen we later op terug in het boek). Voorbeeld van een enums is bijvoorbeeld de dagen van de week. Deze zullen nooit veranderen en kunnen ze worden gebruikt als een constante. \n",
    "\n",
    "Een Java enum is een class type maar we hebben niet het keyword `new` nodig om gebruik te maken van een enum. Een enum class heeft de zelfde functies als een normale class in Java. We kunnen gebruik maken van constructors, variabele en methodes. We kunnen zelfs een [interface]() implementeren (Hier gaan we verder op in later in het boek). \n",
    "\n",
    "Een ding om in gedachten te houden is dat enums in tegenstelling tot klassen, geen [andere klassen erven]() en ook niet kunnen worden extended. Dat wil zeggen dat ze geen superklasse kunnen worden."
   ]
  },
  {
   "cell_type": "markdown",
   "metadata": {},
   "source": [
    "### Creëren en gebruiken van een enum\n",
    "\n",
    "- Je kunt een enum binnen en buiten een klas declareren maar **niet** in een methode. \n",
    "- We gebruiken `enum` in plaats van `class` of `interface`.\n",
    "- De constante moeten in hoofdletter worden geschreven.\n",
    "- We gebruiken een komma om de constante te onderschrijden en bij de laatste constante sluiten we af met puntkomma.\n"
   ]
  },
  {
   "cell_type": "markdown",
   "metadata": {},
   "source": [
    "Een enum is altijd `public static final`. Dit betekend omdat het static is dat we een enum kunnen aanroepen door de naam te gebruiken. "
   ]
  },
  {
   "cell_type": "code",
   "execution_count": null,
   "metadata": {
    "vscode": {
     "languageId": "java"
    }
   },
   "outputs": [],
   "source": [
    "enum Color {\n",
    "\n",
    "    RED,\n",
    "    YELLOW,\n",
    "    BLUE;\n",
    "\n",
    "}\n",
    " \n",
    "Color c1 = Color.RED;\n",
    "System.out.println(c1);"
   ]
  },
  {
   "cell_type": "markdown",
   "metadata": {},
   "source": [
    "### Enums in a switch statement\n",
    "\n",
    "Enums worden veel gebruikt in een switch statement om overeenkomende waardes te controleren. "
   ]
  },
  {
   "cell_type": "code",
   "execution_count": null,
   "metadata": {
    "vscode": {
     "languageId": "java"
    }
   },
   "outputs": [],
   "source": [
    "enum Level {\n",
    "\n",
    "    LOW,\n",
    "    MEDIUM,\n",
    "    HIGH;\n",
    "\n",
    "}\n",
    "\n",
    "Level level = Level.MEDIUM;\n",
    "  \n",
    "switch(level) {\n",
    "    case LOW:\n",
    "        System.out.println(\"Low level\");\n",
    "        break;\n",
    "    case MEDIUM:\n",
    "        System.out.println(\"Medium level\");\n",
    "        break;\n",
    "    case HIGH:\n",
    "        System.out.println(\"High level\");\n",
    "        break;\n",
    "}"
   ]
  },
  {
   "cell_type": "markdown",
   "metadata": {},
   "source": [
    "### values() en ordinal() methods\n",
    "\n",
    "- Deze methoden zijn aanwezig in *java.lang.Enum*.\n",
    "- **values() methode** kan worden gebruikt om alle waarden in de enum te retourneren.\n",
    "- Volgorde is belangrijk in enums. Door de **ordinal()-methode** te gebruiken, kan elke enum-constante-index worden gevonden, net als een array-index.\n"
   ]
  },
  {
   "cell_type": "code",
   "execution_count": null,
   "metadata": {
    "vscode": {
     "languageId": "java"
    }
   },
   "outputs": [],
   "source": [
    "enum Color {\n",
    "\n",
    "    RED,\n",
    "    GREEN,\n",
    "    BLUE;\n",
    "\n",
    "}\n",
    "\n",
    "Color[] myColorArr = Color.values();\n",
    " \n",
    "for (Color col : myColorArr) {\n",
    "\n",
    "    System.out.println(col + \" at index \" + col.ordinal());\n",
    "\n",
    "}\n"
   ]
  },
  {
   "cell_type": "markdown",
   "metadata": {},
   "source": [
    "### Constructor and methods\n",
    "\n",
    "**enum en constructor:**\n",
    "\n",
    "- Een enum kan een constructor bevatten en wordt afzonderlijk uitgevoerd voor elke enum constante op het moment dat de enum klassen wordt geladen.\n",
    "- We kunnen enum-objecten niet uitzonderlijk maken en daarom kunnen we de enum constructor niet rechtstreeks aanroepen.\n",
    "\n",
    "**opsomming en methoden:**\n",
    "\n",
    "- enum kan zowel **concrete** methoden als **abstracte** methoden bevatten. Als een enum klassen een abstracte methode heeft, moet elke instantie van de enum klassen deze implementeren"
   ]
  },
  {
   "cell_type": "code",
   "execution_count": null,
   "metadata": {
    "vscode": {
     "languageId": "java"
    }
   },
   "outputs": [],
   "source": [
    "enum Color {\n",
    "\n",
    "    // Constanten\n",
    "\tRED(100),\n",
    "\tGREEN(200),\n",
    "\tBLUE(300);\n",
    "\n",
    "    // Field\n",
    "    private int colorCode;\n",
    "\n",
    "    // Constructor\n",
    "\tprivate Color(int colorCode) {\n",
    "\n",
    "        this.colorCode = colorCode;\n",
    "\n",
    "\t}\n",
    "\n",
    "    // Methodes\n",
    "\tint getColorCode() {\n",
    "\n",
    "\t\treturn colorCode;\n",
    "\n",
    "\t}\n",
    "\n",
    "    public void colorInfo() {\n",
    "\n",
    "        System.out.println(\"Universal Color\");\n",
    "\n",
    "    }\n",
    "\n",
    "}\n",
    "\n",
    "System.out.println(\"The colorcode for: \"+ Color.BLUE + \" = \" + Color.BLUE.getColorCode());\n",
    "Color.RED.colorInfo();\n",
    "\n",
    "\n"
   ]
  },
  {
   "cell_type": "markdown",
   "metadata": {},
   "source": [
    "[Ga naar het volgende deel van het hoofdstuk](/Notebooks/Nederlands/03%20-%20Array%20and%20enums/06%20enums/06.samenvatting.ipynb)"
   ]
  }
 ],
 "metadata": {
  "kernelspec": {
   "display_name": "Java",
   "language": "java",
   "name": "java"
  },
  "language_info": {
   "codemirror_mode": "java",
   "file_extension": ".jshell",
   "mimetype": "text/x-java-source",
   "name": "Java",
   "pygments_lexer": "java",
   "version": "11.0.11+9-LTS"
  },
  "orig_nbformat": 4,
  "vscode": {
   "interpreter": {
    "hash": "217c631b613e36ff4b9cdbe99ee2d03b09d4e7c1f494b32c9aa8f6b180d54c14"
   }
  }
 },
 "nbformat": 4,
 "nbformat_minor": 2
}
