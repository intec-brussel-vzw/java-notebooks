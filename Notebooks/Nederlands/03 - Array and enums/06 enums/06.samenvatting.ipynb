{
 "cells": [
  {
   "cell_type": "markdown",
   "metadata": {},
   "source": [
    "![](https://intecbrussel.be/img/logo3.png)  \n",
    "_Java les-materialen_"
   ]
  },
  {
   "cell_type": "markdown",
   "metadata": {},
   "source": [
    "# Samenvatting en oefeningen"
   ]
  },
  {
   "cell_type": "markdown",
   "metadata": {},
   "source": [
    "### Samenvatting\n",
    "\n",
    "Enums zijn een speciale klas in java. Deze klas bestaat uit een groep van constanten. Voorbeeld van een enums is bijvoorbeeld de dagen van de week. Deze zullen nooit veranderen en kunnen ze worden gebruikt als een constante. \n",
    "\n",
    "- Je kunt een enum binnen en buiten een klas declareren maar **niet** in een methode. \n",
    "- We gebruiken `enum` in plaats van `class` of `interface`.\n",
    "- De constante moeten in hoofdletter worden geschreven.\n",
    "- We gebruiken een komma om de constante te onderschrijden en bij de laatste constante sluiten we af met puntkomma.\n",
    "\n",
    "**enum en constructor:**\n",
    "\n",
    "- Een enum kan een constructor bevatten en wordt afzonderlijk uitgevoerd voor elke enum constante op het moment dat de enum klassen wordt geladen.\n",
    "- We kunnen enum-objecten niet uitzonderlijk maken en daarom kunnen we de enum constructor niet rechtstreeks aanroepen.\n",
    "\n",
    "**opsomming en methoden:**\n",
    "\n",
    "- enum kan zowel **concrete** methoden als **abstracte** methoden bevatten. Als een enum klassen een abstracte methode heeft, moet elke instantie van de enum klassen deze implementeren"
   ]
  },
  {
   "cell_type": "markdown",
   "metadata": {},
   "source": [
    "### Oefening 1\n",
    "\n",
    "Schrijf een enum class van de dagen van de week en print deze uit met de index erbij."
   ]
  },
  {
   "cell_type": "code",
   "execution_count": null,
   "metadata": {},
   "outputs": [],
   "source": [
    "// Plaats hier je code voor oefening 1"
   ]
  },
  {
   "cell_type": "markdown",
   "metadata": {},
   "source": [
    "### Oefening 2 \n",
    "\n",
    "Schrijf een programma dat input vraagt naar welke dag dat het is en deze dan ook uitprint. Gebruik je enum van de vorige opdracht in combinatie met een switch statement."
   ]
  },
  {
   "cell_type": "code",
   "execution_count": null,
   "metadata": {},
   "outputs": [],
   "source": [
    "// Plaats hier je code voor oefening 2"
   ]
  },
  {
   "cell_type": "markdown",
   "metadata": {},
   "source": [
    "[Ga naar het volgende hoofdstuk](/Notebooks/Nederlands/04%20-%20Inheritance%20en%20polymorphism/01%20super%20class/01.00%20super%20class.ipynb)"
   ]
  }
 ],
 "metadata": {
  "kernelspec": {
   "display_name": "Java",
   "language": "java",
   "name": "java"
  },
  "language_info": {
   "name": "java",
   "version": "3.10.6"
  },
  "orig_nbformat": 4,
  "vscode": {
   "interpreter": {
    "hash": "217c631b613e36ff4b9cdbe99ee2d03b09d4e7c1f494b32c9aa8f6b180d54c14"
   }
  }
 },
 "nbformat": 4,
 "nbformat_minor": 2
}
