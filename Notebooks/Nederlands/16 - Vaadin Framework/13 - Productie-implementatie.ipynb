{
 "cells": [
  {
   "cell_type": "markdown",
   "metadata": {},
   "source": [
    "# Productie-implementatie met Heroku\n",
    "\n",
    "> tags: []\n",
    "\n",
    "Learn how to prepare a Vaadin application for production and to deploy it on Heroku.\n",
    "\n",
    "\n",
    "Het is belangrijk om een afzonderlijke, voor productie geoptimaliseerde versie van de toepassing te bouwen voordat u deze implementeert. In de ontwikkelingsmodus heeft Vaadin een live-reload-widget, foutopsporingslogboekregistratie en gebruikt het een snelle, maar niet-geoptimaliseerde frontend-build met bronkaarten voor eenvoudige foutopsporing. Niet-geoptimaliseerde frontendbundels kunnen enkele megabytes JavaScript bevatten.\n",
    "\n",
    "Het pom.xml bestand bevat een profielconfiguratie die een geoptimaliseerde build voorbereidt die klaar is voor productie.`production`\n",
    "\n",
    "### [](https://vaadin.com/docs/latest/tutorial/production-deployment/#using-a-postgresql-database-in-production)Een PostgreSQL-database gebruiken in productie\n",
    "\n",
    "Tijdens de ontwikkeling heeft de applicatie gebruik gemaakt van een in-memory H2 database. Dit is handig en werkt goed voor een enkele gebruiker. In de productie wil je iets robuusters en persistenters gebruiken. De gratis laag van Heroku ondersteunt PostgreSQL, dus u kunt uw toepassing configureren om dat te gebruiken.\n",
    "\n",
    "Voeg eerst de PostgreSQL-afhankelijkheid toe aan het productieprofiel van pom.xml:\n",
    "\n",
    "```\n",
    "<profile>\n",
    " <id>production</id>\n",
    " <!-- Omitted -->\n",
    " <dependencies>\n",
    "   <dependency>\n",
    "     <groupId>org.postgresql</groupId>\n",
    "     <artifactId>postgresql</artifactId>\n",
    "   </dependency>\n",
    " </dependencies>\n",
    "</profile>\n",
    "```\n",
    "\n",
    "Configureer vervolgens hoe JPA moet omgaan met het genereren van schema's. Voeg de volgende twee eigenschappen toe aan het einde van application.properties.\n",
    "\n",
    "```\n",
    "spring.jpa.generate-ddl=true\n",
    "spring.jpa.hibernate.ddl-auto=create-drop\n",
    "```\n",
    "\n",
    "<table><tbody><tr><td _msthidden=\"1\"><p>Warning</p></td><td><p>Voorkom gegevensverlies</p><p><span _mstmutation=\"1\" _msthash=\"3190826\" _msttexthash=\"39045110\">Met deze instelling wordt de database bij elke implementatie opnieuw gemaakt. Als u met echte gegevens werkt, moet u in plaats daarvan een databasemigratietool zoals <a href=\"https://www.liquibase.org/\" _mstmutation=\"1\" _istranslated=\"1\">Liquibase</a> of <a href=\"https://flywaydb.org/\" _mstmutation=\"1\" _istranslated=\"1\">Flyway</a> gebruiken, zodat u het databaseschema kunt ontwikkelen zonder gegevens te verliezen.</span><code>ddl-auto=none</code></p></td></tr></tbody></table>\n",
    "\n",
    "### [](https://vaadin.com/docs/latest/tutorial/production-deployment/#building-a-production-optimized-jar)Een voor productie geoptimaliseerde JAR bouwen\n",
    "\n",
    "Bouw de applicatie met het profiel:`production`\n",
    "\n",
    "```\n",
    "mvn clean package -Pproduction\n",
    "```\n",
    "\n",
    "Hiermee wordt een voor productie geoptimaliseerd JAR-bestand in de map gemaakt.`target`\n"
   ]
  }
 ],
 "metadata": {
  "language_info": {
   "name": "python"
  },
  "orig_nbformat": 4
 },
 "nbformat": 4,
 "nbformat_minor": 2
}
