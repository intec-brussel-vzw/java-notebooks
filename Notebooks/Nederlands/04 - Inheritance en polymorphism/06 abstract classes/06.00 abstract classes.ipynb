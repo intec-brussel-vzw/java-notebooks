{
 "cells": [
  {
   "cell_type": "markdown",
   "metadata": {},
   "source": [
    "![](https://intecbrussel.be/img/logo3.png)  \n",
    "_Java les-materialen_"
   ]
  },
  {
   "cell_type": "markdown",
   "metadata": {},
   "source": [
    "# Abstract classes"
   ]
  },
  {
   "cell_type": "markdown",
   "metadata": {},
   "source": [
    "Een *abstract class* is een klas die we declareren met keyword `abstract`. Het abstract keyword is een non-access modifier en deze kan worden gebruikt voor klassen en methodes en niet voor variabelen. Deze klassen kunnen abstract en non-abstracte methodes(methode zonder enige code) bevatten. \n",
    "\n",
    "Wat betekend abstract? \n",
    "**Abstractie** is een proces waarbij de implementatiedetails worden verborgen en alleen functionaliteit aan de gebruiker wordt getoond. We hebben 2 manieren om dit te doen:\n",
    "- abstracte klas: Deze mag abstract en non-abstracte methodes bevatten.\n",
    "- interface: Deze kan alleen maar abstracte methodes bevatten. (Dit leggen we verder uit later in het boek)\n",
    "\n",
    "Van een abstracte klas kun je geen object maken. Zoals je hieronder kunt zien. Om gebruik te kunnen maken van deze klas en de methodes moet je deze overerven door keyword `extends` te gebruiken.  \n",
    "```java \n",
    "Animal myNewAnimal = new Animal(); // This will generate an error.\n",
    "```\n",
    "\n",
    "Hier onder zie je een voorbeeld van een abstracte klas met abstracte en non-abstracte methodes:\n",
    "```java\n",
    "abstract class Animal {\n",
    "\n",
    "    // abstract method\n",
    "    public abstract void animalSound();\n",
    "\n",
    "    // non-abstract method\n",
    "    public void sleep() {\n",
    "\n",
    "        System.out.println(\"Zzz\");\n",
    "\n",
    "    }\n",
    "\n",
    "}\n",
    "```"
   ]
  },
  {
   "cell_type": "markdown",
   "metadata": {},
   "source": [
    "### Belangrijk om te weten over een abstracte klas\n",
    "\n",
    "- We kunnen geen instantie van de klas creëren.\n",
    "- Je moet de klassen en methodes declareren met abstract keyword.\n",
    "- Een abstracte klas mag constructors hebben.\n",
    "- je kan een abstracte klas hebben zonder abstracte methodes.\n",
    "- In een abstracte klas kun je een [final](/Notebooks/Nederlands/04%20-%20Inheritance%20en%20polymorphism/07%20keyword%20final/07.00%20keyword%20final.ipynb) methode maken maar deze methode mag niet abstract zijn. Dan krijg je een error `Illegal combination of modifiers: abstract and final`.\n",
    "- Je mag een static methoden hebben in een abstracte klas."
   ]
  },
  {
   "cell_type": "code",
   "execution_count": null,
   "metadata": {},
   "outputs": [],
   "source": [
    "// Abstract class\n",
    "abstract class Animal {\n",
    "\n",
    "    // Abstract method\n",
    "    public abstract void animalSound();\n",
    "\n",
    "    // Regular method\n",
    "    public void sleep() {\n",
    "\n",
    "      System.out.println(\"Zzz Zzz Zzz\");\n",
    "\n",
    "    }\n",
    "\n",
    "}\n",
    "  \n",
    "// Subclass (extends Animal)\n",
    "class Dog extends Animal {\n",
    "\n",
    "    public void animalSound() {\n",
    "\n",
    "      // The body of animalSound() is provided here.\n",
    "      System.out.println(\"The sound of a dog is: woef woef\");\n",
    "\n",
    "    }\n",
    "\n",
    "  }\n",
    "  \n",
    "Dog myDog = new Dog();\n",
    "myDog.animalSound();\n",
    "myDog.sleep();"
   ]
  },
  {
   "cell_type": "markdown",
   "metadata": {},
   "source": [
    "[Ga naar het volgende deel van het hoofdstuk](/Notebooks/Nederlands/04%20-%20Inheritance%20en%20polymorphism/06%20abstract%20classes/06.samenvatting.ipynb)"
   ]
  }
 ],
 "metadata": {
  "kernelspec": {
   "display_name": "Java",
   "language": "java",
   "name": "java"
  },
  "language_info": {
   "codemirror_mode": "java",
   "file_extension": ".jshell",
   "mimetype": "text/x-java-source",
   "name": "java",
   "pygments_lexer": "java",
   "version": "11.0.11+9-LTS"
  },
  "orig_nbformat": 4,
  "vscode": {
   "interpreter": {
    "hash": "217c631b613e36ff4b9cdbe99ee2d03b09d4e7c1f494b32c9aa8f6b180d54c14"
   }
  }
 },
 "nbformat": 4,
 "nbformat_minor": 2
}
