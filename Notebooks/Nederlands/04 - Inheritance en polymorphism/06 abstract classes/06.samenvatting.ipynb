{
 "cells": [
  {
   "cell_type": "markdown",
   "metadata": {},
   "source": [
    "![](https://intecbrussel.be/img/logo3.png)  \n",
    "_Java les-materialen_"
   ]
  },
  {
   "cell_type": "markdown",
   "metadata": {},
   "source": [
    "# Samenvatting en oefeningen"
   ]
  },
  {
   "cell_type": "markdown",
   "metadata": {},
   "source": [
    "### Samenvatting\n",
    "\n",
    "Wat betekend abstract? \n",
    "**Abstractie** is een proces waarbij de implementatiedetails worden verborgen en alleen functionaliteit aan de gebruiker wordt getoond. We hebben 2 manieren om dit te doen:\n",
    "- abstracte klas: Deze mag abstract en non-abstracte methodes bevatten.\n",
    "- interface: Deze kan alleen maar abstracte methodes bevatten. (Dit leggen we verder uit later in het boek)\n",
    "\n",
    "### Belangrijk om te weten over een abstracte klas\n",
    "\n",
    "- We kunnen geen instantie van de klas creëren.\n",
    "- Je moet de klassen en methodes declareren met abstract keyword.\n",
    "- Een abstracte klas mag constructors hebben.\n",
    "- je kan een abstracte klas hebben zonder abstracte methodes.\n",
    "- In een abstracte klas kun je een final methode maken maar deze methode mag niet abstract zijn. Dan krijg je een error `Illegal combination of modifiers: abstract and final`.\n",
    "- Je mag een static methoden hebben in een abstracte klas."
   ]
  },
  {
   "cell_type": "markdown",
   "metadata": {},
   "source": [
    "### Oefening \n",
    "\n",
    "Creëer een abstracte klas `Bank` met een abstracte methode `getBalance`. In `BankA`, `BankB` en `BankC` wat de sub-klassen zijn, word $1000, $1500 en $2000 gestort. Elke bank heeft ook een methode `getBalance`. Roep deze methode op en creëer een object van elke klas."
   ]
  },
  {
   "cell_type": "code",
   "execution_count": null,
   "metadata": {},
   "outputs": [],
   "source": [
    "// Plaats hier je code voor oefening 1"
   ]
  },
  {
   "cell_type": "markdown",
   "metadata": {},
   "source": [
    "### Oefening 2\n",
    "\n",
    "Een abstracte klas heeft een constructor die als print statement heeft: *\"This is constructor of abstract class\"*. Deze klas heeft ook een abstracte methode met de naam `aMethod` en een non-abstracte methode die als print statement heeft: *\"This is a normal method of abstract class\"*. Dan heb je een sub-klas `SubClass` die erft van de abstracte klas. Deze klas heeft de methode `aMethod` dat als print statement heeft: *\"This is abstract method\"*. Daar na creeer je een object van sub-klas en roep de methodes op."
   ]
  },
  {
   "cell_type": "code",
   "execution_count": null,
   "metadata": {},
   "outputs": [],
   "source": [
    "// Plaats hier je code voor oefening 2"
   ]
  },
  {
   "cell_type": "markdown",
   "metadata": {},
   "source": [
    "[Ga naar het volgend deel van het hoofdstuk](/Notebooks/Nederlands/04%20-%20Inheritance%20en%20polymorphism/07%20final%20classes/07.00%20final%20classes.ipynb)"
   ]
  }
 ],
 "metadata": {
  "kernelspec": {
   "display_name": "Java",
   "language": "java",
   "name": "java"
  },
  "language_info": {
   "name": "java",
   "version": "3.10.6"
  },
  "orig_nbformat": 4,
  "vscode": {
   "interpreter": {
    "hash": "217c631b613e36ff4b9cdbe99ee2d03b09d4e7c1f494b32c9aa8f6b180d54c14"
   }
  }
 },
 "nbformat": 4,
 "nbformat_minor": 2
}
