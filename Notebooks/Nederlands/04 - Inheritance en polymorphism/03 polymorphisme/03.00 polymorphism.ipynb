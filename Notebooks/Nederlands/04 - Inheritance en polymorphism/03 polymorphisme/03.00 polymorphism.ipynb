{
 "cells": [
  {
   "cell_type": "markdown",
   "metadata": {},
   "source": [
    "![](https://intecbrussel.be/img/logo3.png)  \n",
    "_Java les-materialen_"
   ]
  },
  {
   "cell_type": "markdown",
   "metadata": {},
   "source": [
    "# Polymorphism"
   ]
  },
  {
   "cell_type": "markdown",
   "metadata": {},
   "source": [
    "Polymorphism betekent \"vele vormen\" en het komt voor wanneer we klassen hebben die door inheritance met elkaar verbonden zijn. Inheritance laat ons properties en methoden erven van een andere klasse. Polymorfisme gebruikt die methoden om verschillende taken uit te voeren. \n",
    "\n",
    "*Wanneer we willen erven van een klas kunnen we de verbinding maken met keyword `extends`.*\n",
    "\n",
    "```java\n",
    "class Dog extends Animal {\n",
    "    \n",
    "}\n",
    "\n",
    "```\n",
    "Waarom we `Inheritance` en `Polymorphism` gebruiken: \n",
    "- We gebruiken deze manier van coderen om code te kunnen hergebruiken en overzichtelijker/ flexibeler structuur te maken van ons project. \n",
    "\n",
    "\n",
    "Hieronder zie je een voorbeeld:"
   ]
  },
  {
   "cell_type": "markdown",
   "metadata": {},
   "source": [
    "```java\n",
    "\n",
    "package be.intecbrussel;\n",
    "\n",
    "public class Animal {\n",
    "\n",
    "    public void animalSound() {\n",
    "\n",
    "        System.out.println(\"The animal makes a sound\");\n",
    "\n",
    "    }\n",
    "\n",
    "}\n",
    "```"
   ]
  },
  {
   "cell_type": "markdown",
   "metadata": {},
   "source": [
    "```java\n",
    "package be.intecbrussel;\n",
    "\n",
    "public class Cat extends Animal {\n",
    "\n",
    "    public void animalSound() {\n",
    "\n",
    "        System.out.println(\"The cat says: Meow Meow\");\n",
    "\n",
    "    }\n",
    "\n",
    "}\n",
    "```"
   ]
  },
  {
   "cell_type": "markdown",
   "metadata": {},
   "source": [
    "```java\n",
    "package be.intecbrussel;\n",
    "\n",
    "public class Duck extends Animal{\n",
    "\n",
    "    public void animalSound() {\n",
    "\n",
    "        System.out.println(\"The duck says: Kwak Kwak\");\n",
    "\n",
    "    }\n",
    "\n",
    "}\n",
    "```"
   ]
  },
  {
   "cell_type": "markdown",
   "metadata": {},
   "source": [
    "```java\n",
    "package be.intecbrussel;\n",
    "\n",
    "public class MainApp {\n",
    "\n",
    "    public static void main(String[] args) {\n",
    "\n",
    "        Animal myAnimal = new Animal();\n",
    "        myAnimal.animalSound();\n",
    "\n",
    "        Animal myCat = new Cat();\n",
    "        myCat.animalSound();\n",
    "\n",
    "        Animal myDuck = new Duck();\n",
    "        myDuck.animalSound();\n",
    "\n",
    "    }\n",
    "\n",
    "}\n",
    "```"
   ]
  },
  {
   "cell_type": "markdown",
   "metadata": {},
   "source": [
    "### Soorten van polymorphism\n",
    "\n",
    "In Java polymorphism Zie je grotendeels in 2 varianten: \n",
    "\n",
    "- Compile-time Polymorphism\n",
    "- Runtime Polymorphism\n",
    "\n",
    "*Compile-time Polymorphism* Dit type van polymorphism wordt bereikt door overloading. \n",
    "\n",
    "*Methode overloading:* Dit is als we meerdere methodes maken met de zelfde naam maar verschillende parameters of return types, ook wel genoemd methodes met een andere `signature`. \n",
    "\n",
    "\n",
    "*Runtime Polymorphism*  Overriding methods (overschrijven van methoden) wordt gebruikt om de specifieke implementatie van een methode te bieden die al door zijn superklasse wordt geleverd. Dit noemen we [Method overriding](/Notebooks/Nederlands/04%20-%20Inheritance%20en%20polymorphism/02%20override%20methods/02.00%20override%20methods.ipynb)"
   ]
  },
  {
   "cell_type": "markdown",
   "metadata": {},
   "source": [
    "### Methode overloading\n",
    "\n",
    "```java\n",
    "package be.intecbrussel;\n",
    "\n",
    "public class Multiplier {\n",
    "\n",
    "    public int multiplyNumbers(int a, int b) {\n",
    "\n",
    "        return a * b;\n",
    "\n",
    "    }\n",
    "\n",
    "    public int multiplyNumbers(int a, int b, int c) {\n",
    "\n",
    "        return a * b * c;\n",
    "\n",
    "    }\n",
    "\n",
    "}\n",
    "```"
   ]
  },
  {
   "cell_type": "markdown",
   "metadata": {},
   "source": [
    "```java\n",
    "package be.intecbrussel;\n",
    "\n",
    "public class MainApp {\n",
    "\n",
    "    public static void main(String[] args) {\n",
    "\n",
    "        Multiplier multiNumbers = new Multiplier();\n",
    "\n",
    "        int result01 = multiNumbers.multiplyNumbers(2,5);\n",
    "        int result02 = multiNumbers.multiplyNumbers(2,5,10);\n",
    "\n",
    "        System.out.println(result01);\n",
    "        System.out.println(result02);\n",
    "\n",
    "    }\n",
    "\n",
    "}\n",
    "```"
   ]
  },
  {
   "cell_type": "markdown",
   "metadata": {},
   "source": [
    "### Method overriding\n",
    "\n",
    "```java\n",
    "package be.intecbrussel;\n",
    "\n",
    "public class Vehicle {\n",
    "\n",
    "    public void makeASound(){\n",
    "\n",
    "        System.out.println(\"?????\");\n",
    "\n",
    "    }\n",
    "\n",
    "}\n",
    "```"
   ]
  },
  {
   "cell_type": "markdown",
   "metadata": {},
   "source": [
    "```java\n",
    "package be.intecbrussel;\n",
    "\n",
    "public class Car extends Vehicle{\n",
    "\n",
    "    @Override\n",
    "    public void makeASound() {\n",
    "\n",
    "        System.out.println(\"Vroem vroem\");\n",
    "\n",
    "    }\n",
    "\n",
    "}\n",
    "```"
   ]
  },
  {
   "cell_type": "markdown",
   "metadata": {},
   "source": [
    "```java\n",
    "package be.intecbrussel;\n",
    "\n",
    "public class Bicycle extends Vehicle{\n",
    "\n",
    "    @Override\n",
    "    public void makeASound() {\n",
    "\n",
    "        System.out.println(\"Brr-rr Brr-rr\");\n",
    "\n",
    "    }\n",
    "\n",
    "}\n",
    "```"
   ]
  },
  {
   "cell_type": "markdown",
   "metadata": {},
   "source": [
    "```java\n",
    "package be.intecbrussel;\n",
    "\n",
    "public class MainApp {\n",
    "\n",
    "    public static void main(String[] args) {\n",
    "\n",
    "        Vehicle car = new Car();\n",
    "        car.makeASound();\n",
    "\n",
    "        Vehicle bicycle = new Bicycle();\n",
    "        bicycle.makeASound();\n",
    "\n",
    "    }\n",
    "\n",
    "}\n",
    "```"
   ]
  },
  {
   "cell_type": "markdown",
   "metadata": {},
   "source": [
    "[Ga naar samenvatting en oefeningen](/Notebooks/Nederlands/04%20-%20Inheritance%20en%20polymorphism/03%20polymorphisme/03.samenvatting.ipynb)"
   ]
  }
 ],
 "metadata": {
  "kernelspec": {
   "display_name": "Java",
   "language": "java",
   "name": "java"
  },
  "language_info": {
   "codemirror_mode": "java",
   "file_extension": ".jshell",
   "mimetype": "text/x-java-source",
   "name": "java",
   "pygments_lexer": "java",
   "version": "11.0.11+9-LTS"
  },
  "orig_nbformat": 4,
  "vscode": {
   "interpreter": {
    "hash": "217c631b613e36ff4b9cdbe99ee2d03b09d4e7c1f494b32c9aa8f6b180d54c14"
   }
  }
 },
 "nbformat": 4,
 "nbformat_minor": 2
}
