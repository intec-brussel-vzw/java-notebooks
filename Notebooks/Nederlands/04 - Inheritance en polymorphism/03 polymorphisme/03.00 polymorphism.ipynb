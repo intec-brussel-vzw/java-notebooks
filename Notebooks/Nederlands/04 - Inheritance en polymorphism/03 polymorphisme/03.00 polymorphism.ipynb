{
 "cells": [
  {
   "cell_type": "markdown",
   "metadata": {},
   "source": [
    "![](https://intecbrussel.be/img/logo3.png)  \n",
    "_Java les-materialen_"
   ]
  },
  {
   "cell_type": "markdown",
   "metadata": {},
   "source": [
    "# Polymorphism"
   ]
  },
  {
   "cell_type": "markdown",
   "metadata": {},
   "source": [
    "Polymorphism betekent \"vele vormen\" en het komt voor wanneer we klassen hebben die door inheritance met elkaar verbonden zijn. Inheritance laat ons properties en methoden erven van een andere klasse. Polymorfisme gebruikt die methoden om verschillende taken uit te voeren. \n",
    "\n",
    "*Wanneer we willen erven van een klas kunnen we de verbinding maken met keyword `extends`.*\n",
    "\n",
    "```java\n",
    "class Dog extends Animal {}\n",
    "\n",
    "```\n",
    "\n",
    "Waarom we `Inheritance` en `Polymorphism` gebruiken: \n",
    "- Deze manier van coderen gebruiken we om code te kunnen hergebruiken en overzichtelijker/ flexibeler structuur te maken. \n",
    "\n",
    "\n",
    "Hieronder zie je een voorbeeld:"
   ]
  },
  {
   "cell_type": "code",
   "execution_count": null,
   "metadata": {
    "vscode": {
     "languageId": "java"
    }
   },
   "outputs": [],
   "source": [
    "class Animal {\n",
    "\n",
    "    public void animalSound() {\n",
    "\n",
    "      System.out.println(\"The animal makes a sound\");\n",
    "\n",
    "    }\n",
    "\n",
    "}\n",
    "  \n",
    "  class Cat extends Animal {\n",
    "\n",
    "    public void animalSound() {\n",
    "\n",
    "      System.out.println(\"The cat says: Meow Meow\");\n",
    "\n",
    "    }\n",
    "\n",
    "}\n",
    "  \n",
    "  class Duck extends Animal {\n",
    "\n",
    "    public void animalSound() {\n",
    "\n",
    "      System.out.println(\"The duck says: Kwak Kwak\");\n",
    "\n",
    "    }\n",
    "\n",
    "}\n",
    "\n",
    "Animal myAnimal = new Animal();\n",
    "Animal myCat = new Cat();\n",
    "Animal myDuck = new Duck();\n",
    "myAnimal.animalSound();\n",
    "myCat.animalSound();\n",
    "myDuck.animalSound();"
   ]
  }
 ],
 "metadata": {
  "kernelspec": {
   "display_name": "Java",
   "language": "java",
   "name": "java"
  },
  "language_info": {
   "codemirror_mode": "java",
   "file_extension": ".jshell",
   "mimetype": "text/x-java-source",
   "name": "Java",
   "pygments_lexer": "java",
   "version": "11.0.11+9-LTS"
  },
  "orig_nbformat": 4,
  "vscode": {
   "interpreter": {
    "hash": "217c631b613e36ff4b9cdbe99ee2d03b09d4e7c1f494b32c9aa8f6b180d54c14"
   }
  }
 },
 "nbformat": 4,
 "nbformat_minor": 2
}
