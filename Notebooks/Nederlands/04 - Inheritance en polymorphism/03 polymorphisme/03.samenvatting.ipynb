{
 "cells": [
  {
   "cell_type": "markdown",
   "metadata": {},
   "source": [
    "![](https://intecbrussel.be/img/logo3.png)  \n",
    "_Java les-materialen_"
   ]
  },
  {
   "cell_type": "markdown",
   "metadata": {},
   "source": [
    "# Samenvatting en oefeningen"
   ]
  },
  {
   "cell_type": "markdown",
   "metadata": {},
   "source": [
    "### Samenvatting\n",
    "\n",
    "Polymorphism betekent \"vele vormen\" en het komt voor wanneer we klassen hebben die door inheritance met elkaar verbonden zijn. Inheritance laat ons properties en methoden erven van een andere klasse. Polymorfisme gebruikt die methoden om verschillende taken uit te voeren. \n",
    "\n",
    "Waarom we `Inheritance` en `Polymorphism` gebruiken: \n",
    "- We gebruiken deze manier van coderen om code te kunnen hergebruiken en overzichtelijker/ flexibeler structuur te maken van ons project. \n",
    "\n",
    "In Java polymorphism Zie je grotendeels in 2 varianten: \n",
    "\n",
    "- Compile-time Polymorphism: Dit is ook bekend als `statisch polymorphism`. Dit type van polymorphism wordt bereikt door overloading.\n",
    "- Runtime Polymorphism: Dit word ook wel `Dynamic Method Dispatch` genoemd. Overriding methods (overschrijven van methoden) wordt gebruikt om de specifieke implementatie van een methode te bieden die al door zijn superklasse wordt geleverd."
   ]
  },
  {
   "cell_type": "markdown",
   "metadata": {},
   "source": [
    "### Oefening 1\n",
    "\n",
    "Schijf een programma over vormen. Maak gebruik van `inheritance` en `polymorphism`. Er moeten minimaal 3 verschillende vormen zijn. Van deze vormen ga je de omtrek en oppervlakte berekenen. "
   ]
  },
  {
   "cell_type": "code",
   "execution_count": null,
   "metadata": {},
   "outputs": [],
   "source": [
    "// Plaats hier je code voor oefening 1"
   ]
  },
  {
   "cell_type": "markdown",
   "metadata": {},
   "source": [
    "[Ga naar het volgende hoofdstuk down and up casting](/Notebooks/Nederlands/04%20-%20Inheritance%20en%20polymorphism/04%20downcasting%20and%20upcasting/04.00%20downcasting%20and%20upcasting.ipynb)"
   ]
  }
 ],
 "metadata": {
  "kernelspec": {
   "display_name": "Java",
   "language": "java",
   "name": "java"
  },
  "language_info": {
   "name": "java",
   "version": "3.10.6"
  },
  "orig_nbformat": 4,
  "vscode": {
   "interpreter": {
    "hash": "217c631b613e36ff4b9cdbe99ee2d03b09d4e7c1f494b32c9aa8f6b180d54c14"
   }
  }
 },
 "nbformat": 4,
 "nbformat_minor": 2
}
