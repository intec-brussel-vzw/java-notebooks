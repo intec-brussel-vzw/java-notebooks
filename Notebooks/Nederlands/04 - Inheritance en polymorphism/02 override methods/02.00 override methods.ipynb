{
 "cells": [
  {
   "cell_type": "markdown",
   "metadata": {},
   "source": [
    "![](https://intecbrussel.be/img/logo3.png)  \n",
    "_Java les-materialen_"
   ]
  },
  {
   "cell_type": "markdown",
   "metadata": {},
   "source": [
    "# Override methods"
   ]
  },
  {
   "cell_type": "markdown",
   "metadata": {},
   "source": [
    "\n",
    "Het overriding methods (overschrijven van methoden) wordt gebruikt om de specifieke implementatie van een methode te bieden die al door zijn superklasse wordt geleverd. Method overriding word gebruikt voor runtime polymorphism. \n",
    "\n",
    "[polymorphism]() betekend *vele vormen* (We komen hier later in dit hoofdstuk op terug). \n",
    "\n",
    "\n",
    "Als we een methode overschrijven van een superklassen dan merken we dit met een annotaties `@Override` (Annotaties komen we later in het boek verder op terug)."
   ]
  },
  {
   "cell_type": "code",
   "execution_count": null,
   "metadata": {},
   "outputs": [],
   "source": [
    "class A {\n",
    "\n",
    "\tvoid message() {\n",
    "\t\tSystem.out.println(\"A's message()\");\n",
    "\t\t\n",
    "\t}\n",
    "\n",
    "}\n",
    "\n",
    "class B extends A {\n",
    "\n",
    "\t// This method overrides show() of A\n",
    "\t@Override\n",
    "\tvoid message() {\n",
    "\t\tSystem.out.println(\"B's message()\");\n",
    "\t}\n",
    "\n",
    "}\n",
    "\n",
    "// If a Parent type reference refers to a Parent object, then Parent's show is called\n",
    "A obj1 = new A();\n",
    "obj1.message();\n",
    "\n",
    "// If a Parent type reference refers to a Child object Child's show() is called.  \n",
    "A obj2 = new B();\n",
    "obj2.message();"
   ]
  },
  {
   "cell_type": "markdown",
   "metadata": {},
   "source": [
    "### Meest voorkomende methode override\n",
    "\n",
    "Deze methode komen van de class Object en deze basis methode worden regelmatig overschreven: toString(), equals() en hashCode()\n",
    "\n",
    "| Methode | Beschrijving |\n",
    "|---|---|\n",
    "| toString() | Deze word voornamelijk gebruikt om een string representatie van een object te krijgen. |\n",
    "| equals() | Deze methode gebruiken we om objecten met elkaar te vergelijk op basis van inhoud en memorie adres | \n",
    "| hashCode() | Hashcode is een functie dat een hashcode value retourneert van een object. Het retourneert een integer of 4 byte value dat is gegenereerd in een hashing algoritme. |\n",
    "\n",
    "**Waarom overridden we equals() en hashcode() samen?**\n",
    "\n",
    "Dit zijn 2 belangrijke methodes die in de `Object` class te vinden zijn om objecten te vergelijken. Developers moeten beide methods overschrijven om een volledig werkend vergelijkingsmechanisme te hebben. Het is niet genoeg om alleen de equals() methode te implementeren.\n",
    "\n",
    "Als twee objecten gelijk zijn volgens de methode equals(Object), dan moet het aanroepen van de methode hashcode() op elk van de twee objecten hetzelfde resultaat met een geheel getal opleveren.\n"
   ]
  },
  {
   "cell_type": "markdown",
   "metadata": {},
   "source": [
    "### Regels voor overriding methods\n",
    "\n",
    "- De access modifiers voor overriding kunnen meer toegang verlenen maar niet minder. Bijvoorbeeld een protected methode in de superklasse kan public worden gemaakt, maar niet private, in de subklasse. Als u dit doet, wordt een compileer fout gegenereerd.\n",
    "- Final methodes kunnen we niet overridden.\n",
    "- We kunnen geen private methodes overridden.\n",
    "- Static methode kunnen we niet overridden. Als de signature volledig identiek is en de methode is static in de super en sub klas dan noemen we dit `method hiding`. Zie tabel voor een voorbeeld:\n",
    "\n",
    "|   | Superclass Instance Method | Superclass Static Method |\n",
    "| --- | --- | --- |\n",
    "| **Subclass Instance Method** | Overrides | Generates a compile-time error |\n",
    "| **Subclass Static Method** | Generates a compile-time error | Hides |\n",
    "\n",
    "- De methode die je overschrijft moet dezelfde return typ hebben of subtype. Hier zijn enkele voorbeelden:\n",
    "    - Integer is een subtype van `Number`\n",
    "    - ArrayList<E> is een subtype van `Collection<E>`\n",
    "    - String is een subtype van `Object`\n",
    "- We kunnen niet een constructor overridden. Constructors naam moet altijd hetzelfde zijn als de class naam.\n",
    "- We kunnen tot slot ook geen abstracte methodes overschrijven. Dat kan alleen in concrete klassen. Dit zijn klassen die een abstracte klas extends of een interface implementeert."
   ]
  },
  {
   "cell_type": "markdown",
   "metadata": {},
   "source": [
    "### Verschil tussen overloading en overriding \n",
    "\n",
    "Overloading gaat over dezelfde methode met verschillende signatures. Overriding gaat over dezelfde methode, dezelfde signature maar verschillende klassen verbonden via inheritance."
   ]
  },
  {
   "cell_type": "markdown",
   "metadata": {},
   "source": [
    "[Ga naar het volgende deel van dit hoofdstuk](/Notebooks/Nederlands/04%20-%20Inheritance%20en%20polymorphism/02%20override%20methods/02.samenvatting.ipynb)"
   ]
  }
 ],
 "metadata": {
  "kernelspec": {
   "display_name": "Java",
   "language": "java",
   "name": "java"
  },
  "language_info": {
   "codemirror_mode": "java",
   "file_extension": ".jshell",
   "mimetype": "text/x-java-source",
   "name": "java",
   "pygments_lexer": "java",
   "version": "11.0.11+9-LTS"
  },
  "orig_nbformat": 4,
  "vscode": {
   "interpreter": {
    "hash": "217c631b613e36ff4b9cdbe99ee2d03b09d4e7c1f494b32c9aa8f6b180d54c14"
   }
  }
 },
 "nbformat": 4,
 "nbformat_minor": 2
}
