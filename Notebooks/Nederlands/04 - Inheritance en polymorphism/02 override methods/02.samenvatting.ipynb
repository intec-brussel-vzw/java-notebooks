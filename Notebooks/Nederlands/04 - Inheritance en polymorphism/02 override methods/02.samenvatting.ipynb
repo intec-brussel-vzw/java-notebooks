{
 "cells": [
  {
   "cell_type": "markdown",
   "metadata": {},
   "source": [
    "![](https://intecbrussel.be/img/logo3.png)  \n",
    "_Java les-materialen_"
   ]
  },
  {
   "cell_type": "markdown",
   "metadata": {},
   "source": [
    "# Samenvatting en oefeningen"
   ]
  },
  {
   "cell_type": "markdown",
   "metadata": {},
   "source": [
    "### Samenvatting\n",
    "\n",
    "Het overriding methods (overschrijven van methoden) wordt gebruikt om de specifieke implementatie van een methode te bieden die al door zijn superklasse wordt geleverd.\n",
    "\n",
    "Als we een methode overschrijven van een superklassen dan merken we dit met een annotaties `@Override` (Annotaties komen we later in het boek verder op terug).\n",
    "\n",
    "Deze methode komen van de class Object en deze basis methode worden regelmatig overschreven: toString(), equals() en hashCode()\n",
    "\n",
    "| Methode | Beschrijving |\n",
    "|---|---|\n",
    "| toString() | Deze word voornamelijk gebruikt om een string representatie van een object te krijgen. |\n",
    "| equals() | Deze methode gebruiken we om objecten met elkaar te vergelijk op basis van inhoud en memorie adres | \n",
    "| hashCode() | Hashcode is een functie dat een hashcode value retourneert van een object. Het retourneert een integer of 4 byte value dat is gegenereerd in een hashing algoritme. |\n",
    "\n",
    "\n",
    "Overloading gaat over dezelfde methode met verschillende signatures. Overriding gaat over dezelfde methode, dezelfde signature maar verschillende klassen verbonden via inheritance."
   ]
  },
  {
   "cell_type": "markdown",
   "metadata": {},
   "source": [
    "### Oefening 1\n",
    "\n",
    "Schijf een programma waar je de methodes `toString(), equals() en hashCode()` implementeert en toont hoe runtime Polymorphism werkt. "
   ]
  },
  {
   "cell_type": "code",
   "execution_count": null,
   "metadata": {},
   "outputs": [],
   "source": [
    "// Plaats hier je code voor oefening 1"
   ]
  },
  {
   "cell_type": "markdown",
   "metadata": {},
   "source": [
    "[Ga naar het volgende deel van het hoofdstuk polymorphism](/Notebooks/Nederlands/04%20-%20Inheritance%20en%20polymorphism/03%20polymorphisme/03.00%20polymorphism.ipynb)"
   ]
  }
 ],
 "metadata": {
  "kernelspec": {
   "display_name": "Java",
   "language": "java",
   "name": "java"
  },
  "language_info": {
   "name": "java",
   "version": "3.10.6"
  },
  "orig_nbformat": 4,
  "vscode": {
   "interpreter": {
    "hash": "217c631b613e36ff4b9cdbe99ee2d03b09d4e7c1f494b32c9aa8f6b180d54c14"
   }
  }
 },
 "nbformat": 4,
 "nbformat_minor": 2
}
