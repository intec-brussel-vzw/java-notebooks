{
 "cells": [
  {
   "cell_type": "markdown",
   "metadata": {},
   "source": [
    "![](https://intecbrussel.be/img/logo3.png)  \n",
    "_Java les-materialen_"
   ]
  },
  {
   "cell_type": "markdown",
   "metadata": {},
   "source": [
    "# Samenvatting en oefeningen"
   ]
  },
  {
   "cell_type": "markdown",
   "metadata": {},
   "source": [
    "### Samenvatting\n",
    "\n",
    "Keyword `final` is een non-access modifier die je alleen kunt gebruiken op een variabele, methode of een klas. \n",
    "| keyword final | Beschrijving |\n",
    "|---|---|\n",
    "| Final variabele | om een constante variabele te creëren |\n",
    "| Final methode | Dit voorkomt method overriding |\n",
    "| Final classes | Dit voorkomt inheritance (overerving) |\n",
    "\n",
    "**Final variabele:**\n",
    "Wanneer we een variabele final maken kunnen we deze niet meer aanpassen. Dit betekend ook dat je de final variabele moet initialiseren. Als de variabele een referentie is betekend dit dat je die niet kunt verwijzen naar een ander object maar intern kan dit wel veranderen. Bijvoorbeeld bij een `final array` kunnen we wel elementen toevoegen of verwijderen. \n",
    "\n",
    "*Good practice:* Schrijf de final variabelen in hoofdletters en met meerdere woorden scheiden we deze met een underscore.\n",
    "\n",
    "**Final methodes:**\n",
    "Een `final method` kunnen we niet `overridden`. De bedoeling van een `final method` is om de content van de methode niet te veranderen door een andere klas.\n",
    "\n",
    "*Belangrijk* een constructor kan **niet** final zijn \n",
    "\n",
    "**Final classes:**\n",
    "Wanneer we een klas final declareren is het niet meer mogelijk om van deze klas te erven (keyword extends) van [hoofdstuk inheritance](/Notebooks/Nederlands/04%20-%20Inheritance%20en%20polymorphism/01%20super%20class/01.00%20super%20class.ipynb) bijvoorbeeld alle [wrapper classes](/Notebooks/Nederlands/02%20-%20Object%20georienteerde%20programmeren/08%20wrapper%20classes/08.00.wrapper%20classes.ipynb) zoals Integer, Float enz. zijn final classes.\n",
    "\n",
    "Een andere manier waarom we final classes gebruiken is dat we de klas `immutable` (onveranderlijk) maken. Bijvoorbeeld zoals de String class. Dit is ook de enigste manier om een klas `immutable` te maken."
   ]
  },
  {
   "cell_type": "markdown",
   "metadata": {},
   "source": [
    "### Oefening 1\n",
    "\n",
    "Bereken de omtrek van 3 planeten:\n",
    "- onze Zon\n",
    "- Aarde\n",
    "- Maan\n",
    "\n",
    "Je moet gebruik maken van een final methode en een final variabele. "
   ]
  },
  {
   "cell_type": "code",
   "execution_count": null,
   "metadata": {},
   "outputs": [],
   "source": [
    "// Plaats hier je code van oefening 1"
   ]
  },
  {
   "cell_type": "markdown",
   "metadata": {},
   "source": [
    "[Ga naar het volgende deel van het hoofdstuk]()"
   ]
  }
 ],
 "metadata": {
  "kernelspec": {
   "display_name": "Java",
   "language": "java",
   "name": "java"
  },
  "language_info": {
   "name": "java"
  },
  "orig_nbformat": 4
 },
 "nbformat": 4,
 "nbformat_minor": 2
}
