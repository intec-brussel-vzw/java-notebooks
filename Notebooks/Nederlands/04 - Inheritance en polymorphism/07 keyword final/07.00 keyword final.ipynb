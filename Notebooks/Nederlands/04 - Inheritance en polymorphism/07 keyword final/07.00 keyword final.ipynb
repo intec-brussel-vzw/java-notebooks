{
 "cells": [
  {
   "cell_type": "markdown",
   "metadata": {},
   "source": [
    "![](https://intecbrussel.be/img/logo3.png)  \n",
    "_Java les-materialen_"
   ]
  },
  {
   "cell_type": "markdown",
   "metadata": {},
   "source": [
    "# Keyword final"
   ]
  },
  {
   "cell_type": "markdown",
   "metadata": {},
   "source": [
    "Keyword `final` is een non-access modifier die je alleen kunt gebruiken op een variabele, methode of een klas. \n",
    "| keyword final | Beschrijving |\n",
    "|---|---|\n",
    "| Final variabele | om een constante variabele te creëren |\n",
    "| Final methode | Dit voorkomt method overriding |\n",
    "| Final classes | Dit voorkomt inheritance (overerving) |"
   ]
  },
  {
   "cell_type": "markdown",
   "metadata": {},
   "source": [
    "### Final Variables\n",
    "\n",
    "Wanneer we een variabele final maken kunnen we deze niet meer aanpassen. Dit betekend ook dat je de final variabele moet initialiseren. Als de variabele een referentie is betekend dit dat je die niet kunt verwijzen naar een ander object maar intern kan dit wel veranderen. Bijvoorbeeld bij een `final array` kunnen we wel elementen toevoegen of verwijderen. \n",
    "\n",
    "Good practice: Schrijf de final variabelen in hoofdletters en met meerdere woorden scheiden we deze met een underscore.\n",
    "```java\n",
    "// Final variable PI\n",
    "final double THIS_IS_PI = 3.141592653589793;\n",
    "```\n",
    "\n",
    "Hoe initialiseer ik de final variabele:\n",
    "- Wanneer je de final declareert kun je deze ook meteen initialiseren. Als je de final alleen maar declareert heet dit een *blank final variable*.\n",
    "- Een blank final variable kun je initialiseren in een instance-initializer block of een constructor. Als je initialiseert in de constructor en je hebt meerdere constructors, dan moet je dit toepassen in alle constructors anders zal er een *compile-time error* verschijnen.\n",
    "-  Een blank final variable kun je initialiseren in een static block.\n",
    "\n",
    "Zie hieronder de mogelijkheden:\n"
   ]
  },
  {
   "cell_type": "code",
   "execution_count": null,
   "metadata": {
    "vscode": {
     "languageId": "java"
    }
   },
   "outputs": [],
   "source": [
    "class IntecBrussel {\n",
    "\n",
    "    //final variable, direct initialize\n",
    "    final int THRESHOLD = 5;\n",
    "\t\n",
    "    // a final static variable PI, direct initialize\n",
    "\tstatic final double PI = 3.141592653589793;\n",
    "\t\n",
    "\t// blank final variable\n",
    "\tfinal int CAPACITY;\n",
    "\n",
    "    // blank final variable\n",
    "\tfinal int DAYS_OF_THE_WEEK;\n",
    "\t\n",
    "\t// blank final variable\n",
    "\tfinal int MINIMUM;\n",
    "\t\n",
    "\t// instance initializer block\n",
    "\t{\n",
    "\t\tCAPACITY = 25;\n",
    "\t}\n",
    "\t\n",
    "\t// static initializer block\n",
    "\tstatic {\n",
    "\t\tDAYS_OF_THE_WEEK = 7;\n",
    "\t}\n",
    "\t\n",
    "\t/* \n",
    "    *constructor for initializing MINIMUM Note that if there are more than one constructor, \n",
    "    *you must initialize MINIMUM in them also\n",
    "    */ \n",
    "\tpublic IntecBrussel() {\n",
    "\t\tMINIMUM = -1;\n",
    "\t}\n",
    "\t\t\n",
    "}\n"
   ]
  },
  {
   "cell_type": "markdown",
   "metadata": {},
   "source": [
    "### Reference final variable\n",
    "\n",
    "Wanneer een variabele verwijst naar een object noemen we het een *reference final variable*. Bijvoorbeeld als we een final StringBuilder variabele maken. We weten dat een final variabele niet opnieuw kunt toewijzen maar bij een *reference final variable* kunnen we het wel veranderen. **belangrijk is dat we het niet opnieuw toewijzen**. Deze eigenschap van final noemen ze *non-transitivity*. Hieronder vind je een voorbeeld:\n",
    "\n",
    "*De non-transitivity eigenschap werkt ook bij een arrays omdat dit objecten zijn. Array met final keyword word `final arrays` genoemd.*"
   ]
  },
  {
   "cell_type": "code",
   "execution_count": null,
   "metadata": {
    "vscode": {
     "languageId": "java"
    }
   },
   "outputs": [],
   "source": [
    "final StringBuilder sb = new StringBuilder(\"Intec\");\n",
    "  \n",
    "// Printing the element\n",
    "System.out.println(\"Before the change: \" + sb);\n",
    "\n",
    "// changing internal state of object reference by final reference variable sb\n",
    "sb.append(\" Brussel\");\n",
    "\n",
    "// Again printing the element after appending above element in it\n",
    "System.out.println(\"After the change: \" +sb);"
   ]
  },
  {
   "cell_type": "markdown",
   "metadata": {},
   "source": [
    "### Final in een loop\n",
    "\n",
    "Keyword final is toegestaan bij een for each loop. Zie het voorbeeld:"
   ]
  },
  {
   "cell_type": "code",
   "execution_count": null,
   "metadata": {
    "vscode": {
     "languageId": "java"
    }
   },
   "outputs": [],
   "source": [
    "int[] arr = {1, 2, 3};\n",
    "  \n",
    "// final with for-each statement\n",
    "for (final int numbers : arr) {\n",
    "\n",
    "    System.out.println(numbers);\n",
    "    \n",
    "}"
   ]
  },
  {
   "cell_type": "markdown",
   "metadata": {},
   "source": [
    "### Final classes\n",
    "\n",
    "Wanneer we een klas final declareren is het niet meer mogelijk om van deze klas te erven (keyword extends) van [hoofdstuk inheritance](/Notebooks/Nederlands/04%20-%20Inheritance%20en%20polymorphism/01%20super%20class/01.00%20super%20class.ipynb) bijvoorbeeld alle [wrapper classes](/Notebooks/Nederlands/02%20-%20Object%20georienteerde%20programmeren/08%20wrapper%20classes/08.00.wrapper%20classes.ipynb) zoals Integer, Float enz. zijn final classes.\n",
    "\n",
    "Een andere manier waarom we final classes gebruiken is dat we de klas `immutable` (onveranderlijk) maken. Bijvoorbeeld zoals de String class. Dit is ook de enigste manier om een klas `immutable` te maken.\n",
    "\n",
    "```java\n",
    "final class A {\n",
    "\n",
    "    // methods and fields\n",
    "    int number = 5;\n",
    "\n",
    "}\n",
    "\n",
    "// The following class is illegal\n",
    "class B extends A { \n",
    "\n",
    "    // COMPILE-ERROR! Can't subclass A\n",
    "\n",
    "}\n",
    "```"
   ]
  },
  {
   "cell_type": "markdown",
   "metadata": {},
   "source": [
    "### Final methods\n",
    "\n",
    "Wanneer een methode gedeclareerd word met keyword `final` word het een `final methode`.\n",
    "\n",
    "Een `final method` kunnen we niet `overridden`. De bedoeling van een `final method` is om de content van de methode niet te veranderen door een andere klas.\n",
    "\n",
    "Bijvoorbeeld hieronder zie je een stukje code voor een schaakspel. Deze methode bepaald de kleur voor de spelers. Een schaak spel heeft maar 2 kleuren waar je dus voor deze methode is het goed om final te maken zodat we dit niet kunnen veranderen. "
   ]
  },
  {
   "cell_type": "code",
   "execution_count": null,
   "metadata": {
    "vscode": {
     "languageId": "java"
    }
   },
   "outputs": [],
   "source": [
    "enum ChessPlayer { \n",
    "    \n",
    "    WHITE, \n",
    "    BLACK;\n",
    "\n",
    "}\n",
    "\n",
    "class ChessAlgorithm {\n",
    "\n",
    "    private static ChessPlayer[] cp = ChessPlayer.values();\n",
    "    private static Random random = new Random();\n",
    "\n",
    "    final static ChessPlayer getColorForPlayer() {\n",
    "\n",
    "        return cp[random.nextInt(cp.length)];\n",
    "\n",
    "    }\n",
    "\n",
    "}\n",
    "\n",
    "Scanner scanner = new Scanner(System.in);\n",
    "\n",
    "System.out.println(\"Please enter player name: \");\n",
    "\n",
    "String namePlayer = scanner.nextLine();\n",
    "\n",
    "System.out.println(\"The player: \" +  namePlayer + \" has color: \" + ChessAlgorithm.getColorForPlayer());"
   ]
  },
  {
   "cell_type": "markdown",
   "metadata": {},
   "source": [
    "**final var** uitzoeken en toevoegen"
   ]
  },
  {
   "cell_type": "markdown",
   "metadata": {},
   "source": [
    "[Ga naar het volgende deel van het hoofdstuk](/Notebooks/Nederlands/04%20-%20Inheritance%20en%20polymorphism/07%20keyword%20final/07.samenvatting.ipynb)"
   ]
  }
 ],
 "metadata": {
  "kernelspec": {
   "display_name": "Java",
   "language": "java",
   "name": "java"
  },
  "language_info": {
   "codemirror_mode": "java",
   "file_extension": ".jshell",
   "mimetype": "text/x-java-source",
   "name": "Java",
   "pygments_lexer": "java",
   "version": "11.0.11+9-LTS"
  },
  "orig_nbformat": 4
 },
 "nbformat": 4,
 "nbformat_minor": 2
}
