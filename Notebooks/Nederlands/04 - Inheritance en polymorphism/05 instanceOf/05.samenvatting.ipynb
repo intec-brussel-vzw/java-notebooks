{
 "cells": [
  {
   "cell_type": "markdown",
   "metadata": {},
   "source": [
    "![](https://intecbrussel.be/img/logo3.png)  \n",
    "_Java les-materialen_"
   ]
  },
  {
   "cell_type": "markdown",
   "metadata": {},
   "source": [
    "# Samenvatting en oefening"
   ]
  },
  {
   "cell_type": "markdown",
   "metadata": {},
   "source": [
    "### Samenvatting\n",
    "\n",
    "Keyword `instanceof` controleert of een object een instantie is van een specifieke klasse of een interface.`instanceof` staat ook wel bekend als een vergelijkingsoperator waarbij de instantie wordt vergeleken met het type dat boolean true of false retourneert.\n",
    "\n",
    "Als we de operator instanceof gebruiken op een variabele dat een `NULL` bevat zal deze altijd false retourneren.\n",
    "\n",
    "belangrijk om te weten is dat de de klas `Object` het hoogste element is. Deze klas overkoepelt alle andere klassen en zal als je deze vergelijkt altijd true teruggeven. "
   ]
  },
  {
   "cell_type": "markdown",
   "metadata": {},
   "source": [
    "### Oefening 1\n",
    "\n",
    "Maak een super class `Shape` en maak 3 verschillende vormen naar keuze. Van deze figuren ga je de oppervlakte berekenen en een validatie uitvoeren met `instanceof` operator. Hier ga je kijken of de vormen die je hebt gecreëerd een instantie zijn van `Shape` class. "
   ]
  },
  {
   "cell_type": "code",
   "execution_count": null,
   "metadata": {},
   "outputs": [],
   "source": [
    "// Plaats hier je code voor oefening 1"
   ]
  },
  {
   "cell_type": "markdown",
   "metadata": {},
   "source": [
    "[Ga naar het volgende deel van het hoofdstuk](/Notebooks/Nederlands/04%20-%20Inheritance%20en%20polymorphism/06%20abstract%20classes/06.00%20abstract%20classes.ipynb)"
   ]
  }
 ],
 "metadata": {
  "kernelspec": {
   "display_name": "Java",
   "language": "java",
   "name": "java"
  },
  "language_info": {
   "codemirror_mode": "java",
   "file_extension": ".jshell",
   "mimetype": "text/x-java-source",
   "name": "java",
   "pygments_lexer": "java",
   "version": "11.0.11+9-LTS"
  },
  "orig_nbformat": 4,
  "vscode": {
   "interpreter": {
    "hash": "217c631b613e36ff4b9cdbe99ee2d03b09d4e7c1f494b32c9aa8f6b180d54c14"
   }
  }
 },
 "nbformat": 4,
 "nbformat_minor": 2
}
