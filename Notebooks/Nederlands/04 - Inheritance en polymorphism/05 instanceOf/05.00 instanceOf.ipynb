{
 "cells": [
  {
   "cell_type": "markdown",
   "metadata": {},
   "source": [
    "![](https://intecbrussel.be/img/logo3.png)  \n",
    "_Java les-materialen_"
   ]
  },
  {
   "cell_type": "markdown",
   "metadata": {},
   "source": [
    "# `Instanceof`"
   ]
  },
  {
   "cell_type": "markdown",
   "metadata": {},
   "source": [
    "Keyword `instanceof` controleert of een object een instantie is van een specifieke klasse of een interface. `instanceof` staat ook wel bekend als een vergelijkingsoperator waarbij de instantie wordt vergeleken met het type dat boolean true of false retourneert.\n",
    "\n",
    "De `instanceof` is geen methode maar een operator dus we passen deze ook zo toe. De syntax ziet er als volgt uit:\n",
    "\n",
    "```java\n",
    "(object instanceof Class)\n",
    "```"
   ]
  },
  {
   "cell_type": "code",
   "execution_count": null,
   "metadata": {
    "vscode": {
     "languageId": "java"
    }
   },
   "outputs": [],
   "source": [
    "// checking if name is a instanceof String class\n",
    "String name = \"Intec Brussel\";\n",
    "System.out.println(\"Is name a instance of String : \" + (name instanceof String));\n",
    "\n",
    "// Important: Object is ancestor of all classes in Java\n",
    "System.out.println(\"Is name a instance of Object class : \" + (name instanceof Object));"
   ]
  },
  {
   "cell_type": "code",
   "execution_count": null,
   "metadata": {
    "vscode": {
     "languageId": "java"
    }
   },
   "outputs": [],
   "source": [
    "class TestInstanceof {\n",
    "\n",
    "}\n",
    "\n",
    "class DifferentTestClass extends TestInstanceof {\n",
    "\n",
    "}\n",
    "\n",
    "TestInstanceof object01 = new TestInstanceof();\n",
    "//DifferentTestClass object01 = new DifferentTestClass();\n",
    "\n",
    "// Checking were object01 is a instance of.  \n",
    "System.out.println(\"Is Object01 a instance of TestInstanceof? : \" + (object01 instanceof TestInstanceof));\n",
    "System.out.println(\"Is Object01 a instance of DifferentTestClass? : \" + (object01 instanceof DifferentTestClass));"
   ]
  },
  {
   "cell_type": "markdown",
   "metadata": {},
   "source": [
    "### Instanceof met een variabele dat een Null Value heeft\n",
    "\n",
    "Als we de operator `instanceof` gebruiken op een variabele dat een `NULL`bevat zal deze altijd false retourneren."
   ]
  },
  {
   "cell_type": "code",
   "execution_count": null,
   "metadata": {
    "vscode": {
     "languageId": "java"
    }
   },
   "outputs": [],
   "source": [
    "class TestInstanceof {}\n",
    "\n",
    "TestInstanceof test = null;\n",
    "\n",
    "System.out.println(\"Is test an instance of TestInstanceof : \" + (test instanceof TestInstanceof));"
   ]
  },
  {
   "cell_type": "markdown",
   "metadata": {},
   "source": [
    "### Instanceof with downcasting"
   ]
  },
  {
   "cell_type": "code",
   "execution_count": null,
   "metadata": {
    "vscode": {
     "languageId": "java"
    }
   },
   "outputs": [],
   "source": [
    "// Downcasting with instanceof\n",
    "class TestInstanceof {}\n",
    "\n",
    "class DifferentTestClass extends TestInstanceof {\n",
    "\n",
    "    public static void method01(TestInstanceof test) {\n",
    "\n",
    "        if(test instanceof DifferentTestClass) {\n",
    "            \n",
    "            DifferentTestClass dtc = (DifferentTestClass) test;\n",
    "            System.out.println(\"Downcasting works!\");\n",
    "\n",
    "        }\n",
    "\n",
    "    }\n",
    "\n",
    "}\n",
    "\n",
    "TestInstanceof test = new DifferentTestClass();\n",
    "DifferentTestClass.method01(test);\n"
   ]
  },
  {
   "cell_type": "markdown",
   "metadata": {},
   "source": [
    "### Hieronder zie je een meer levens echt voorbeeld om instanceof te gebruiken.\n"
   ]
  },
  {
   "cell_type": "code",
   "execution_count": null,
   "metadata": {
    "vscode": {
     "languageId": "java"
    }
   },
   "outputs": [],
   "source": [
    "// abstract class to create the business logica. \n",
    "public abstract class ATransaction {\n",
    "\tpublic static List<ATransaction> data = new ArrayList<>();\n",
    "\n",
    "\tprivate String invoice;\n",
    "\tprivate String customer;\n",
    "\t\n",
    "\tpublic ATransaction(String invoice, String customer) {\n",
    "\t\tthis.invoice = invoice;\n",
    "\t\tthis.customer = customer;\n",
    "\t}\n",
    "\tpublic static List<ATransaction> getData() {\n",
    "\t\treturn data;\n",
    "\t}\n",
    "\tpublic static void setData(List<ATransaction> data) {\n",
    "\t\tATransaction.data = data;\n",
    "\t}\n",
    "\tpublic String getInvoice() {\n",
    "\t\treturn invoice;\n",
    "\t}\n",
    "\tpublic void setInvoice(String invoice) {\n",
    "\t\tthis.invoice = invoice;\n",
    "\t}\n",
    "\tpublic String getCustomer() {\n",
    "\t\treturn customer;\n",
    "\t}\n",
    "\tpublic void setCustomer(String customer) {\n",
    "\t\tthis.customer = customer;\n",
    "\t}\n",
    "\n",
    "\t@Override\n",
    "\tpublic String toString() {\n",
    "\t\treturn \"ATransaction [customer=\" + customer + \", invoice=\" + invoice + \"]\";\n",
    "\t}\n",
    "\n",
    "} \n",
    "\n",
    "public interface IPrintable {\n",
    "\tpublic void print();\n",
    "\n",
    "}\n",
    "\n",
    "public class Order extends ATransaction implements IPrintable {\n",
    "\n",
    "\t// constructor of Atransaction because it is a abstract class we need to implement it\n",
    "\tpublic Order(String invoice, String customer) {\n",
    "\t\tsuper(invoice, customer);\n",
    "\t}\n",
    "\n",
    "\t// Printing method implemented from the interface IPrintable\n",
    "\tpublic void print() {\n",
    "\t\tSystem.out.println(\n",
    "\t\t\t \"An order [customer=\" + this.getCustomer() + \", invoice=\" + this.getInvoice() + \"]\"\n",
    "\t\t);\n",
    "\n",
    "\t}\n",
    "\n",
    "}\n",
    "\n",
    "public class Register extends ATransaction {\n",
    "\n",
    "\t// constructor of Atransaction because it is a abstract class we neet to implement it\n",
    "\tpublic Register(String invoice, String customer) {\n",
    "\t\tsuper(invoice, customer);\n",
    "\t}\n",
    "\n",
    "}\n",
    "\n",
    "public class LaserPrinter {\n",
    "\n",
    "\tpublic void orders(String customerName) {\n",
    "\n",
    "\t\t// Create new orders and adding them to the list ATransaction\n",
    "\t\tOrder o1 = new Order(\"Invoice 1\", \"John Doe\" );\n",
    "\t\tOrder o2 = new Order(\"Invoice 2\", \"Jane Doe\" );\n",
    "\t\tOrder o3 = new Order(\"Invoice 3\", \"John Doe\" );\n",
    "\n",
    "\t\tATransaction.data.add(o1);\n",
    "\t\tATransaction.data.add(o2);\n",
    "\t\tATransaction.data.add(o3);\n",
    "\n",
    "\t\t// looping through the list\n",
    "\t\tfor (ATransaction t : ATransaction.data) {\n",
    "\t\t\t\n",
    "\t\t\t// Checking if t(Atransaction) is an instance of the class Order. If it is we are going to print it.\n",
    "\t\t\tif( t instanceof Order || t.getCustomer().equalsIgnoreCase(customerName)) {\n",
    "\t\t\t\tOrder o = (Order) t;\n",
    "\t\t\t\to.print();\n",
    "\t\t\t} \n",
    "\n",
    "\t\t}\n",
    "\n",
    "\t}\n",
    "\n",
    "}\n",
    "\n",
    "// printing the list\n",
    "LaserPrinter officePrinter = new LaserPrinter();\n",
    "officePrinter.orders(\"john doe\");"
   ]
  }
 ],
 "metadata": {
  "kernelspec": {
   "display_name": "Java",
   "language": "java",
   "name": "java"
  },
  "language_info": {
   "codemirror_mode": "java",
   "file_extension": ".jshell",
   "mimetype": "text/x-java-source",
   "name": "Java",
   "pygments_lexer": "java",
   "version": "11.0.11+9-LTS"
  },
  "orig_nbformat": 4,
  "vscode": {
   "interpreter": {
    "hash": "217c631b613e36ff4b9cdbe99ee2d03b09d4e7c1f494b32c9aa8f6b180d54c14"
   }
  }
 },
 "nbformat": 4,
 "nbformat_minor": 2
}
