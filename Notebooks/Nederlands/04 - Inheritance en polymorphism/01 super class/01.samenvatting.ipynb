{
 "cells": [
  {
   "cell_type": "markdown",
   "metadata": {},
   "source": [
    "![](https://intecbrussel.be/img/logo3.png)  \n",
    "_Java les-materialen_"
   ]
  },
  {
   "cell_type": "markdown",
   "metadata": {},
   "source": [
    "# samenvatting en oefeningen"
   ]
  },
  {
   "cell_type": "markdown",
   "metadata": {},
   "source": [
    "### Samenvatting\n",
    "\n",
    "Door de keyword `extends` te gebruiken hebben we een veel krachtiger en flexibeler programma. Door dit te doen kunnen properties/ methodes erven van de super class.\n",
    "\n",
    "```java\n",
    "class Vehicle {\n",
    "\n",
    "  // Vehicle class field\n",
    "  String typeOfVehicle = \"Car\";  \n",
    "\n",
    "}\n",
    "\n",
    "class Car extends Vehicle {\n",
    "\n",
    "  // Car class field\n",
    "  String brandName = \"Audi\";\n",
    "\n",
    "}\n",
    "```\n",
    "Als we methodes aanroepen moeten we dit doen met `super.someMethod` door de super keyword te gebruiken weet we dat we deze methode van de super class aanroepen. We kunnen ook een constructor aanroepen. Dit doen we door `super()` om een constructor van de super class aan te roepen. \n",
    "\n",
    "**Belangrijk:** Als we de `super()`of de `this()` willen gebruiken moet we ervoor zorgen dat deze op de eerst lijn staat van de constructor en maar een keer. We kunnen niet combineren om een constructor van de zelfde klas aan te roepen (this()) en een van de super klas (super())"
   ]
  },
  {
   "cell_type": "markdown",
   "metadata": {},
   "source": [
    "### Oefening 1\n",
    "\n",
    "Maak een `Animal` klas en 3 verschillende dier klassen. Laat zien hoe je een proportie, methode en constructor over erft van klas `Animal`.  "
   ]
  },
  {
   "cell_type": "code",
   "execution_count": null,
   "metadata": {},
   "outputs": [],
   "source": [
    "// Plaats hier je code voor oefening 1"
   ]
  },
  {
   "cell_type": "markdown",
   "metadata": {},
   "source": [
    "### Oefening 2\n",
    "\n",
    "Maak een super klas `Person` en maak verschillende personen aan bv Student. Laat bij deze klassen zien hoe constructor chaining werkt. "
   ]
  },
  {
   "cell_type": "code",
   "execution_count": null,
   "metadata": {},
   "outputs": [],
   "source": [
    "// Plaats hier je code voor oefening 2"
   ]
  },
  {
   "cell_type": "markdown",
   "metadata": {},
   "source": [
    "[Ga naar het volgende hoofdstuk](/Notebooks/Nederlands/04%20-%20Inheritance%20en%20polymorphism/02%20override%20methods/02.00%20override%20methods.ipynb)"
   ]
  }
 ],
 "metadata": {
  "kernelspec": {
   "display_name": "Java",
   "language": "java",
   "name": "java"
  },
  "language_info": {
   "name": "java",
   "version": "3.10.6"
  },
  "orig_nbformat": 4,
  "vscode": {
   "interpreter": {
    "hash": "217c631b613e36ff4b9cdbe99ee2d03b09d4e7c1f494b32c9aa8f6b180d54c14"
   }
  }
 },
 "nbformat": 4,
 "nbformat_minor": 2
}
