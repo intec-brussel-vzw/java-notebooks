{
 "cells": [
  {
   "cell_type": "markdown",
   "metadata": {},
   "source": [
    "![](https://intecbrussel.be/img/logo3.png)  \n",
    "_Java les-materialen_"
   ]
  },
  {
   "cell_type": "markdown",
   "metadata": {},
   "source": [
    "# Super class\n"
   ]
  },
  {
   "cell_type": "markdown",
   "metadata": {},
   "source": [
    "## Wat is een superclass en een subclass\n",
    "\n",
    "In Java is het mogelijk om variabele en methoden van de ene klasse naar de andere te erven (Inheritance). We groeperen het \"inheritance concept\" in twee categorieën:\n",
    " \n",
    "sub-klas (sub-class) - de klas die erft van een andere klasse\n",
    "\n",
    "super-klas (super-class) - de klas waarvan wordt geërfd\n",
    "\n",
    "Het gebruik van keyword `extends` zorgt ervoor om van een klasse te kunnen erven. De klas die `extends` gebruikt erft dan de properties/ methodes van de super klas. Hieronder zie je een voorbeeld van een super en sub klas. `Car` (sub-class) extends `Vehicle` (super-class) klas.\n",
    "\n",
    "**Belangrijke**\n",
    "- *Default superclass:* uitgezonderd Object class (deze klas heeft geen superclass). Heeft elke andere class een directe superclass(Single inheritance). Bij afwezigheid van een directe super class is de default superclass de Object class.\n",
    "- *Only one superclass:* Er kan altijd maar 1 superclass zijn. Dit is omdat Java niet toestaat om met meerdere klassen te uitbreiden. Er is een uitzondering, alleen met interface (Dit komt later in het boek terug) is het mogelijk om meerder interfaces te implementeren. Dit is genoemd multiple inheritances. \n",
    "- *Inheriting constructor:* Een subclass kan geen constructor erven dit omdat een constructor niet tot de members van een class behoort. Een subclass kan wel de super constructor aanroepen. \n",
    "- *Private member inheritance:* Een sub-class kan geen private member erven. Alhoewel als de superclass methodes heeft die public of protected zijn(Getters en Setters) heeft de subclass toegang via die methodes naar de private fields. "
   ]
  },
  {
   "cell_type": "markdown",
   "metadata": {},
   "source": [
    "### properties super class\n",
    "\n",
    "Hieronder zie je een voorbeeld van inheritance, we hebben Car class en die `extents` Vehicle class. De Car class (sub-class) kan gebruik maken van de fields van vehicle class (super-class). "
   ]
  },
  {
   "cell_type": "markdown",
   "metadata": {},
   "source": [
    "```java\n",
    "package be.intecbrussel;\n",
    "\n",
    "public class Vehicle {\n",
    "\n",
    "    // Vehicle class field\n",
    "    private String typeOfVehicle = \"Car\";\n",
    "\n",
    "\n",
    "    public String getTypeOfVehicle() {\n",
    "        return typeOfVehicle;\n",
    "    }\n",
    "\n",
    "    public void setTypeOfVehicle(String typeOfVehicle) {\n",
    "        this.typeOfVehicle = typeOfVehicle;\n",
    "    }\n",
    "\n",
    "}\n",
    "```"
   ]
  },
  {
   "cell_type": "markdown",
   "metadata": {},
   "source": [
    "```java\n",
    "package be.intecbrussel;\n",
    "\n",
    "public class Car extends Vehicle {\n",
    "\n",
    "    // Car class field\n",
    "    private String brandName = \"Audi\";\n",
    "\n",
    "    public String getBrandName() {\n",
    "        return brandName;\n",
    "    }\n",
    "\n",
    "    public void setBrandName(String brandName) {\n",
    "        this.brandName = brandName;\n",
    "    }\n",
    "    \n",
    "}\n",
    "```"
   ]
  },
  {
   "cell_type": "markdown",
   "metadata": {},
   "source": [
    "```java\n",
    "package be.intecbrussel;\n",
    "\n",
    "public class MainApp {\n",
    "\n",
    "    public static void main(String[] args) {\n",
    "\n",
    "        // Creëert myCar object\n",
    "        Car myCar = new Car();\n",
    "\n",
    "        // Drukt de waarde af van type of vehicle van Vehicle class en brandname van Car class.\n",
    "        System.out.println(\"This vehicle is an: \" + myCar.getTypeOfVehicle() + \"\\nThe brand is: \" + myCar.getBrandName());\n",
    "\n",
    "    }\n",
    "\n",
    "}\n",
    "```"
   ]
  },
  {
   "cell_type": "markdown",
   "metadata": {},
   "source": [
    "### super methode aanroepen\n",
    "\n",
    "Zoals je hier beneden ziet hebben beide klassen de methode honk(). Door de `super` keyword te gebruiken kunnen we onderscheid maken welke methode we willen aanroepen. "
   ]
  },
  {
   "cell_type": "markdown",
   "metadata": {},
   "source": [
    "```java\n",
    "package be.intecbrussel;\n",
    "\n",
    "public class Vehicle {\n",
    "\n",
    "    // Vehicle class field\n",
    "    private String typeOfVehicle = \"Car\";\n",
    "\n",
    "\n",
    "    public String getTypeOfVehicle() {\n",
    "        return typeOfVehicle;\n",
    "    }\n",
    "\n",
    "    public void setTypeOfVehicle(String typeOfVehicle) {\n",
    "        this.typeOfVehicle = typeOfVehicle;\n",
    "    }\n",
    "\n",
    "    // Vehicle class methode\n",
    "    public void honk() {\n",
    "\n",
    "        System.out.println(\"Toet toet!\");\n",
    "\n",
    "    }\n",
    "\n",
    "}\n",
    "```"
   ]
  },
  {
   "cell_type": "markdown",
   "metadata": {},
   "source": [
    "```java\n",
    "package be.intecbrussel;\n",
    "\n",
    "public class Car extends Vehicle {\n",
    "\n",
    "    // Car class field\n",
    "    private String brandName = \"Audi\";\n",
    "\n",
    "    public String getBrandName() {\n",
    "        return brandName;\n",
    "    }\n",
    "\n",
    "    public void setBrandName(String brandName) {\n",
    "        this.brandName = brandName;\n",
    "    }\n",
    "\n",
    "    // Vehicle class methode\n",
    "    public void honk() {\n",
    "\n",
    "        System.out.println(\"Tuut tuut!\");\n",
    "\n",
    "    }\n",
    "\n",
    "    public void sound() {\n",
    "\n",
    "        // Roept de honk() method van Vehicle\n",
    "        super.honk();\n",
    "\n",
    "    }\n",
    "\n",
    "}\n",
    "\n",
    "```"
   ]
  },
  {
   "cell_type": "markdown",
   "metadata": {},
   "source": [
    "```java\n",
    "package be.intecbrussel;\n",
    "\n",
    "public class MainApp {\n",
    "\n",
    "    public static void main(String[] args) {\n",
    "\n",
    "        // Creëert myCar object\n",
    "        Car myCar = new Car();\n",
    "\n",
    "        // Drukt de waarde af van type of vehicle van Vehicle class en brandname van Car class.\n",
    "        System.out.println(\"This vehicle is an: \" + myCar.getTypeOfVehicle() + \"\\nThe brand is: \" + myCar.getBrandName());\n",
    "\n",
    "        // Roept sound() methode op van car class. Dit roept de methode honk() van Vehicle class.\n",
    "        myCar.sound();\n",
    "\n",
    "        // Hier word honk() methode van Car class opgeroepen.\n",
    "        myCar.honk();\n",
    "\n",
    "    }\n",
    "\n",
    "}\n",
    "```"
   ]
  },
  {
   "cell_type": "markdown",
   "metadata": {},
   "source": [
    "### super constructor aanroepen\n",
    "\n",
    "Als we een super constructor willen aanroepen gebeurd dit met `super()` belangrijk is dat deze op de eerste lijn van de sub-class constructor moet komen te staan. Zie voorbeeld hieronder:"
   ]
  },
  {
   "cell_type": "markdown",
   "metadata": {},
   "source": [
    "```java\n",
    "package be.intecbrussel;\n",
    "\n",
    "public class Vehicle {\n",
    "\n",
    "    public Vehicle() {\n",
    "\n",
    "        System.out.println(\"Vehicle class constructor\");\n",
    "\n",
    "    }\n",
    "\n",
    "}\n",
    "```"
   ]
  },
  {
   "cell_type": "markdown",
   "metadata": {},
   "source": [
    "```java\n",
    "package be.intecbrussel;\n",
    "\n",
    "public class Car extends Vehicle {\n",
    "\n",
    "    public Car() {\n",
    "        // Roept de super constructor aan\n",
    "        super();\n",
    "        \n",
    "        // Eigen implementatie van de Car constructor\n",
    "        System.out.println(\"Car class constructor\");\n",
    "\n",
    "    }\n",
    "\n",
    "}\n",
    "```"
   ]
  },
  {
   "cell_type": "markdown",
   "metadata": {},
   "source": [
    "```java\n",
    "package be.intecbrussel;\n",
    "\n",
    "public class MainApp {\n",
    "\n",
    "    public static void main(String[] args) {\n",
    "\n",
    "        // Creëert myCar object\n",
    "        Car myCar = new Car();\n",
    "\n",
    "    }\n",
    "\n",
    "}\n",
    "```"
   ]
  },
  {
   "cell_type": "markdown",
   "metadata": {},
   "source": [
    "### Constructor chaining \n",
    "\n",
    "Constructor chaining kunnen we doen door 2 manieren: \n",
    "\n",
    "- In dezelfde klas met keyword [This](/Notebooks/Nederlands/02%20-%20Object%20georienteerde%20programmeren/09%20classes/09.03%20this%20keyword.ipynb).\n",
    "- Van een super class door de `super()`.\n",
    "\n",
    "Waarom gebruiken we constructor chaining?\n",
    "\n",
    "Dit proces wordt gebruikt wanneer we meerdere taken in een enkele constructor willen uitvoeren in plaats van een code voor elke taak in een enkele constructor te maken. We creëren een afzonderlijke constructor voor elke taak en maken hun keten waardoor het programma leesbaarder wordt.\n",
    "\n",
    "**Extra:** \n",
    "- We kunnen niet `this()` en `super()` in een constructor samen gebruiken. Dit komt omdat beide op de eerste lijn moeten staan.   \n",
    "- Er moet minimaal een constructor zijn zonder `this()`. "
   ]
  },
  {
   "cell_type": "markdown",
   "metadata": {},
   "source": [
    "```java\n",
    "package be.intecbrussel;\n",
    "\n",
    "public class Vehicle {\n",
    "\n",
    "    private String typeOfVehicle;\n",
    "\n",
    "    // This will be executed second\n",
    "    public Vehicle() {\n",
    "\n",
    "        this(\"Car\");\n",
    "        System.out.println(\"Vehicle class no-args constructor\");\n",
    "\n",
    "    }\n",
    "\n",
    "    // This will be executed first\n",
    "    public Vehicle(String typeOfVehicle) {\n",
    "\n",
    "        //this();\n",
    "        this.typeOfVehicle = typeOfVehicle;\n",
    "        System.out.println(\"Constructor Vehicle met parameters\");\n",
    "\n",
    "    }\n",
    "\n",
    "}\n",
    "```"
   ]
  },
  {
   "cell_type": "markdown",
   "metadata": {},
   "source": [
    "```java\n",
    "package be.intecbrussel;\n",
    "\n",
    "public class Car extends Vehicle {\n",
    "\n",
    "    /*\n",
    "    *Dit zal niet worden uitgevoerd. Als we de this() uit comment halen en de ander in comment zetten in de\n",
    "    * Vehicle class kun je het veerschil zien. Vergeet niet dat er altijd 1 constructor zonder een this() moet zijn.\n",
    "    */\n",
    "    public Car() {\n",
    "\n",
    "        System.out.println(\"No args constructor Car\");\n",
    "\n",
    "    }\n",
    "\n",
    "    // This will be executed third\n",
    "    Car(String typeOfVehicle) {\n",
    "\n",
    "        super(typeOfVehicle);\n",
    "        System.out.println(\"Car constructor\");\n",
    "\n",
    "    }\n",
    "\n",
    "}\n",
    "\n",
    "```"
   ]
  },
  {
   "cell_type": "markdown",
   "metadata": {},
   "source": [
    "```java\n",
    "package be.intecbrussel;\n",
    "\n",
    "public class MainApp {\n",
    "\n",
    "    public static void main(String[] args) {\n",
    "\n",
    "        // Creëert myCar object\n",
    "        Car myCar = new Car();\n",
    "\n",
    "    }\n",
    "\n",
    "}\n",
    "```"
   ]
  },
  {
   "cell_type": "markdown",
   "metadata": {},
   "source": [
    "[Ga naar samenvatting en oefeningen](/Notebooks/Nederlands/04%20-%20Inheritance%20en%20polymorphism/01%20super%20class/01.samenvatting.ipynb)"
   ]
  }
 ],
 "metadata": {
  "kernelspec": {
   "display_name": "Java",
   "language": "java",
   "name": "java"
  },
  "language_info": {
   "codemirror_mode": "java",
   "file_extension": ".jshell",
   "mimetype": "text/x-java-source",
   "name": "java",
   "pygments_lexer": "java",
   "version": "11.0.11+9-LTS"
  },
  "orig_nbformat": 4
 },
 "nbformat": 4,
 "nbformat_minor": 2
}
