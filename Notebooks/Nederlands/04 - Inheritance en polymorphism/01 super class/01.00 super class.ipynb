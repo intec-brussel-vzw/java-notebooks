{
 "cells": [
  {
   "cell_type": "markdown",
   "metadata": {},
   "source": [
    "![](https://intecbrussel.be/img/logo3.png)  \n",
    "_Java les-materialen_"
   ]
  },
  {
   "cell_type": "markdown",
   "metadata": {},
   "source": [
    "# Super classes\n"
   ]
  },
  {
   "cell_type": "markdown",
   "metadata": {},
   "source": [
    "## Wat is een superclass en een subclass\n",
    "\n",
    "In Java is het mogelijk om variabele en methoden van de ene klasse naar de andere te erven. We groeperen het \"inheritance concept\" in twee categorieën:\n",
    "\n",
    "sub-klas (kind) - de klas die erft van een andere klasse\n",
    "\n",
    "super-klas (ouder) - de klas waarvan wordt geërfd\n",
    "\n",
    "Het gebruik van keyword `extends` zorgt ervoor om van een klasse te kunnen erven. Dit geeft aan welke class de super class is."
   ]
  },
  {
   "cell_type": "markdown",
   "metadata": {},
   "source": [
    "### properties super class\n",
    "\n",
    "Hieronder zie je een voorbeeld van inheritance, we hebben Car class en die `extents` Vehicle class. De Car class (child) kan gebruik maken van de fields van vehicle class (parent). "
   ]
  },
  {
   "cell_type": "code",
   "execution_count": null,
   "metadata": {},
   "outputs": [],
   "source": [
    "class Vehicle {\n",
    "\n",
    "  // Vehicle class field\n",
    "  String brand = \"Audi\";  \n",
    "\n",
    "}\n",
    "\n",
    "class Car extends Vehicle {\n",
    "\n",
    "  // Car class field\n",
    "  String modelName = \"RS 8\";\n",
    "\n",
    "}\n",
    "\n",
    "// Create a myCar object\n",
    "Car myCar = new Car();\n",
    "\n",
    "// Display the value of the brand field (from the Vehicle class) and the value of the modelName from the Car class\n",
    "System.out.println(\"The brand: \" + myCar.brand + \"\\nThe model: \" + myCar.modelName);\n",
    "  "
   ]
  },
  {
   "cell_type": "markdown",
   "metadata": {},
   "source": [
    "### super methode aanroepen\n"
   ]
  },
  {
   "cell_type": "code",
   "execution_count": null,
   "metadata": {},
   "outputs": [],
   "source": [
    "class Vehicle {\n",
    "\n",
    "    // Vehicle class field\n",
    "    protected String brand = \"Audi\";  \n",
    "\n",
    "    // Vehicle class method\n",
    "    public void honk() {   \n",
    "\n",
    "      System.out.println(\"Toet toet!\");\n",
    "\n",
    "    }\n",
    "\n",
    "}\n",
    "  \n",
    "class Car extends Vehicle {\n",
    "\n",
    "    // Car class field\n",
    "    protected String modelName = \"RS 8\";\n",
    "\n",
    "}\n",
    "\n",
    "// Create a myCar object\n",
    "Car myCar = new Car();\n",
    "  \n",
    "// Call the honk() method (from the Vehicle class) on the myCar object\n",
    "myCar.honk();\n",
    "    \n",
    " // Display the value of the brand field (from the Vehicle class) and the value of the modelName from the Car class\n",
    "System.out.println(\"The brand: \" + myCar.brand + \"\\nThe model: \" + myCar.modelName);"
   ]
  },
  {
   "cell_type": "markdown",
   "metadata": {},
   "source": [
    "### super constructor aanroepen\n"
   ]
  },
  {
   "cell_type": "code",
   "execution_count": null,
   "metadata": {},
   "outputs": [],
   "source": [
    "//superclass Person\n",
    "class Person\n",
    "{\n",
    "\tPerson()\n",
    "\t{\n",
    "\t\tSystem.out.println(\"Person class Constructor\");\n",
    "\t}\n",
    "}\n",
    "\n",
    "/* subclass Student extending the Person class */\n",
    "class Student extends Person\n",
    "{\n",
    "\tStudent()\n",
    "\t{\n",
    "\t\t// invoke or call parent class constructor\n",
    "\t\tsuper();\n",
    "\n",
    "\t\tSystem.out.println(\"Student class Constructor\");\n",
    "\t}\n",
    "}\n",
    "\n",
    "/* Driver program to test*/\n",
    "class Test\n",
    "{\n",
    "\tpublic static void main(String[] args)\n",
    "\t{\n",
    "\t\tStudent s = new Student();\n",
    "\t}\n",
    "}\n"
   ]
  },
  {
   "cell_type": "markdown",
   "metadata": {},
   "source": [
    "[Ga naar het volgende deel van het hoofdstuk](/Notebooks/Nederlands/04%20-%20Inheritance%20en%20polymorphism/01%20super%20class/01.samenvatting.ipynb)"
   ]
  }
 ],
 "metadata": {
  "kernelspec": {
   "display_name": "Java",
   "language": "java",
   "name": "java"
  },
  "language_info": {
   "codemirror_mode": "java",
   "file_extension": ".jshell",
   "mimetype": "text/x-java-source",
   "name": "java",
   "pygments_lexer": "java",
   "version": "11.0.11+9-LTS"
  },
  "orig_nbformat": 4
 },
 "nbformat": 4,
 "nbformat_minor": 2
}
