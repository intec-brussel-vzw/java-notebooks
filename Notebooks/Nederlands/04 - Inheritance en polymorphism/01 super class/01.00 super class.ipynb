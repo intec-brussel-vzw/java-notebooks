{
 "cells": [
  {
   "cell_type": "markdown",
   "metadata": {},
   "source": [
    "![](https://intecbrussel.be/img/logo3.png)  \n",
    "_Java les-materialen_"
   ]
  },
  {
   "cell_type": "markdown",
   "metadata": {},
   "source": [
    "# Super class\n"
   ]
  },
  {
   "cell_type": "markdown",
   "metadata": {},
   "source": [
    "## Wat is een superclass en een subclass\n",
    "\n",
    "In Java is het mogelijk om variabele en methoden van de ene klasse naar de andere te erven (Inheritance). We groeperen het \"inheritance concept\" in twee categorieën:\n",
    " \n",
    "sub-klas (child) - de klas die erft van een andere klasse\n",
    "\n",
    "super-klas (parent) - de klas waarvan wordt geërfd\n",
    "\n",
    "Het gebruik van keyword `extends` zorgt ervoor om van een klasse te kunnen erven. De klas die `extends` gebruikt erft dan de properties/ methodes van de parent klas. Hieronder zie je een voorbeeld van een parent en child klas. `Car` (child) extends `Vehicle` (parent) klas."
   ]
  },
  {
   "cell_type": "markdown",
   "metadata": {},
   "source": [
    "### properties super class\n",
    "\n",
    "Hieronder zie je een voorbeeld van inheritance, we hebben Car class en die `extents` Vehicle class. De Car class (child) kan gebruik maken van de fields van vehicle class (parent). "
   ]
  },
  {
   "cell_type": "code",
   "execution_count": null,
   "metadata": {
    "vscode": {
     "languageId": "java"
    }
   },
   "outputs": [],
   "source": [
    "class Vehicle {\n",
    "\n",
    "  // Vehicle class field\n",
    "  String typeOfVehicle = \"Car\";  \n",
    "\n",
    "}\n",
    "\n",
    "class Car extends Vehicle {\n",
    "\n",
    "  // Car class field\n",
    "  String brandName = \"Audi\";\n",
    "\n",
    "}\n",
    "\n",
    "// Create a myCar object\n",
    "Car myCar = new Car();\n",
    "\n",
    "// Display the value of the brand field (from the Vehicle class) and the value of the modelName from the Car class\n",
    "System.out.println(\"This vehicle is an: \" + myCar.typeOfVehicle + \"\\nThe brand is: \" + myCar.brandName);\n",
    "  "
   ]
  },
  {
   "cell_type": "markdown",
   "metadata": {},
   "source": [
    "### super methode aanroepen\n",
    "\n",
    "Zoals je hier beneden ziet hebben beide klassen de methode honk(). Door de `super` keyword te gebruiken kunnen we onderscheid maken welke methode we willen aanroepen. "
   ]
  },
  {
   "cell_type": "code",
   "execution_count": null,
   "metadata": {
    "vscode": {
     "languageId": "java"
    }
   },
   "outputs": [],
   "source": [
    "class Vehicle {\n",
    "\n",
    "  // Vehicle class field\n",
    "  String typeOfVehicle = \"Car\"; \n",
    "\n",
    "  // Vehicle class method\n",
    "  public void honk() {   \n",
    "\n",
    "    System.out.println(\"Toet toet!\");\n",
    "\n",
    "  }\n",
    "\n",
    "}\n",
    "  \n",
    "class Car extends Vehicle {\n",
    "\n",
    "  // Car class field\n",
    "  protected String brandName = \"Audi\";\n",
    "\n",
    "  // Vehicle class method\n",
    "  public void honk() {   \n",
    "\n",
    "    System.out.println(\"Tuut tuut!\");\n",
    "  \n",
    "  }\n",
    "\n",
    "  public void sound() {\n",
    "    // Calls the Car honk() method\n",
    "    honk();\n",
    "\n",
    "    // Calls the honk() method from Vehicle \n",
    "    super.honk();\n",
    "\n",
    "  }\n",
    "\n",
    "}\n",
    "\n",
    "// Create a myCar object\n",
    "Car myCar = new Car();\n",
    "     \n",
    " // Display the value of the brand field (from the Vehicle class) and the value of the modelName from the Car class\n",
    "System.out.println(\"The brand: \" + myCar.typeOfVehicle + \"\\nThe model: \" + myCar.brandName);\n",
    "\n",
    "// Call the sound() methode from Car klass. That calls the honk() method from the Vehicle class.\n",
    "myCar.sound();\n"
   ]
  },
  {
   "cell_type": "markdown",
   "metadata": {},
   "source": [
    "### super constructor aanroepen\n",
    "\n",
    "Als we een super constructor willen aanroepen gebeurd dit met `super()` belangrijk is dat deze op de eerste lijn van de child constructor moet komen te staan. Zie voorbeeld hieronder:\n",
    "```java\n",
    "Car() {\n",
    "\t// call parent class constructor\n",
    "\tsuper();\n",
    "\n",
    "\t// child constructor implementatie\n",
    "\tSystem.out.println(\"Car class Constructor\");\n",
    "\n",
    "}\n",
    "\n",
    "```"
   ]
  },
  {
   "cell_type": "code",
   "execution_count": null,
   "metadata": {
    "vscode": {
     "languageId": "java"
    }
   },
   "outputs": [],
   "source": [
    "// superclass Vehicle\n",
    "class Vehicle {\n",
    "\n",
    "\tVehicle() {\n",
    "\n",
    "\t\tSystem.out.println(\"Vehicle class Constructor\");\n",
    "\n",
    "\t}\n",
    "\n",
    "}\n",
    "\n",
    "// subclass Car extending the Vehicle class\n",
    "class Car extends Vehicle {\n",
    "\n",
    "\tCar() {\n",
    "\t\t// call parent class constructor\n",
    "\t\tsuper();\n",
    "\n",
    "\t\t// child constructor implementatie\n",
    "\t\tSystem.out.println(\"Car class Constructor\");\n",
    "\n",
    "\t}\n",
    "\n",
    "}\n",
    "\n",
    "Car myCar = new Car();"
   ]
  },
  {
   "cell_type": "markdown",
   "metadata": {},
   "source": [
    "### Constructor chaining \n",
    "\n",
    "Constructor chaining kunnen we doen door 2 manieren: \n",
    "\n",
    "- In dezelfde klas met keyword [This](/Notebooks/Nederlands/02%20-%20Object%20georienteerde%20programmeren/09%20classes/09.03%20this%20keyword.ipynb).\n",
    "- Van een super class door de `super()`.\n",
    "\n",
    "Waarom gebruiken we constructor chaining?\n",
    "\n",
    "Dit proces wordt gebruikt wanneer we meerdere taken in een enkele constructor willen uitvoeren in plaats van een code voor elke taak in een enkele constructor te maken. We creëren een afzonderlijke constructor voor elke taak en maken hun keten waardoor het programma leesbaarder wordt.\n",
    "\n",
    "**Extra:** \n",
    "- We kunnen niet `this()` en `super()` in een constructor samen gebruiken. Dit komt omdat beide op de eerste lijn moeten staan.   \n",
    "- Er moet minimaal een constructor zijn zonder `this()`. "
   ]
  },
  {
   "cell_type": "code",
   "execution_count": null,
   "metadata": {
    "vscode": {
     "languageId": "java"
    }
   },
   "outputs": [],
   "source": [
    "class Vehicle {\n",
    "\n",
    "\tString typeOfVehicle;\n",
    "\n",
    "\t// This will be executed second\n",
    "\tVehicle() {\n",
    "\n",
    "\t\tthis(\"Car\");\n",
    "\t\tSystem.out.println(\"No args constructor Vehicle\");\n",
    "\n",
    "\t}\n",
    "\n",
    "\t// This will be executed first\n",
    "\tVehicle(String typeOfVehicle) {\n",
    "\n",
    "\t\t//this();\n",
    "\t\tthis.typeOfVehicle = typeOfVehicle;\n",
    "\t\tSystem.out.println(\"Constructor Vehicle met parameters\");\n",
    "\t\t\n",
    "\t}\n",
    "  \n",
    "}\n",
    "\t\n",
    "  class Car extends Vehicle {\n",
    "\n",
    "\t/* This will not be executed because we work with a parameter. If you change the this() in Vehicle class you will \n",
    "\tsee the difference. Remember there should be one constructor without a this() */  \n",
    "\tCar() {\n",
    "\t\t\n",
    "\t\tSystem.out.println(\"No args constructor Car\");\n",
    "\n",
    "\t}\n",
    "  \n",
    "\t// This will be executed third\n",
    "\tCar(String typeOfVehicle) {\n",
    "\n",
    "\t\tsuper(typeOfVehicle);\n",
    "\t\tSystem.out.println(\"Car constructor\");\n",
    "\n",
    "\t}\n",
    "  \n",
    "} \n",
    "\n",
    "Car myCar = new Car();\n"
   ]
  },
  {
   "cell_type": "markdown",
   "metadata": {},
   "source": [
    "[Ga naar het volgende deel van het hoofdstuk](/Notebooks/Nederlands/04%20-%20Inheritance%20en%20polymorphism/01%20super%20class/01.samenvatting.ipynb)"
   ]
  }
 ],
 "metadata": {
  "kernelspec": {
   "display_name": "Java",
   "language": "java",
   "name": "java"
  },
  "language_info": {
   "codemirror_mode": "java",
   "file_extension": ".jshell",
   "mimetype": "text/x-java-source",
   "name": "Java",
   "pygments_lexer": "java",
   "version": "11.0.11+9-LTS"
  },
  "orig_nbformat": 4
 },
 "nbformat": 4,
 "nbformat_minor": 2
}
