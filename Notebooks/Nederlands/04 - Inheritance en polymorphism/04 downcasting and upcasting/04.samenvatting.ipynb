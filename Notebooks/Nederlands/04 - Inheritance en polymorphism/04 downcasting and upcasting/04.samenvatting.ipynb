{
 "cells": [
  {
   "cell_type": "markdown",
   "metadata": {},
   "source": [
    "![](https://intecbrussel.be/img/logo3.png)  \n",
    "_Java les-materialen_"
   ]
  },
  {
   "cell_type": "markdown",
   "metadata": {},
   "source": [
    "# Samenvatting en oefeningen"
   ]
  },
  {
   "cell_type": "markdown",
   "metadata": {},
   "source": [
    "### Samenvatting\n",
    "\n",
    "Downcasting en upcasting is een manier van Typecasting maar dan voor objecten. In objecten zijn er echter slechts twee soorten objecten, namelijk het bovenliggende object (parent) en het onderliggende object (child).\n",
    "\n",
    "Er zijn twee soorten typecasting:\n",
    "| Type | Beschrijving |\n",
    "|---|---|\n",
    "| Upcasting | Upcasting is typecasting van het child object naar de parent object. |  \n",
    "| Downcasting | Evenzo als upcasting betekent Downcasting het typecasten van een parent object naar een child object. |"
   ]
  },
  {
   "cell_type": "markdown",
   "metadata": {},
   "source": [
    "### oefening 1\n",
    "\n",
    "Schrijf een programma om downcasting en upcasting te tonen. De parent class is Vehicle en maak 3 verschillende child classes. Laat zien hoe je de downcasting en upcasting uitvoert."
   ]
  },
  {
   "cell_type": "code",
   "execution_count": null,
   "metadata": {},
   "outputs": [],
   "source": [
    "// plaats hier je code van oefening 1"
   ]
  },
  {
   "cell_type": "markdown",
   "metadata": {},
   "source": [
    "[Ga naar het volgende deel van het hoofdstuk](/Notebooks/Nederlands/04%20-%20Inheritance%20en%20polymorphism/05%20instanceOf/05.00%20instanceOf.ipynb)"
   ]
  }
 ],
 "metadata": {
  "kernelspec": {
   "display_name": "Java",
   "language": "java",
   "name": "java"
  },
  "language_info": {
   "name": "java",
   "version": "3.10.6"
  },
  "orig_nbformat": 4,
  "vscode": {
   "interpreter": {
    "hash": "217c631b613e36ff4b9cdbe99ee2d03b09d4e7c1f494b32c9aa8f6b180d54c14"
   }
  }
 },
 "nbformat": 4,
 "nbformat_minor": 2
}
