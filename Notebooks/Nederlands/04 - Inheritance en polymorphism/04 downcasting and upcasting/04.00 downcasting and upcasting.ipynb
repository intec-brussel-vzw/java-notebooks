{
 "cells": [
  {
   "cell_type": "markdown",
   "metadata": {},
   "source": [
    "![](https://intecbrussel.be/img/logo3.png)  \n",
    "_Java les-materialen_"
   ]
  },
  {
   "cell_type": "markdown",
   "metadata": {},
   "source": [
    "# Downcasting en upcasting"
   ]
  },
  {
   "cell_type": "markdown",
   "metadata": {},
   "source": [
    "### Wat is Downcasting en upcasting\n",
    "\n",
    "[Typecasting](/Notebooks/Nederlands/01%20-%20Basisprogrammeren/05%20typecasting/05.00%20typecasting.ipynb) is een concept dat we al kennen van hoofdstuk 1. Dit houdt zich bezighoudt met de conversie van het ene datatype naar een ander datatype. Nu gaan we kijken om dit toe te passen op objecten en niet alleen primitieve datatypes. \n",
    "\n",
    "Net als de primitieve datatypes kunnen ook de objecten getypecast worden. In objecten zijn er echter slechts twee soorten objecten, namelijk het bovenliggende object (parent) en het onderliggende object (child). Daarom betekent typecasting van objecten in feite dat het de ene type object bijvoorbeeld kind naar de andere gaat. \n",
    "\n",
    "Er zijn twee soorten typecasting:\n",
    "| Type | Beschrijving |\n",
    "|---|---|\n",
    "| Upcasting | Upcasting is typecasting van het child object naar de parent object. |  \n",
    "| Downcasting | Evenzo als upcasting betekent Downcasting het typecasten van een parent object naar een child object. |\n",
    "\n",
    "Hieronder zie je het visueel samengevat."
   ]
  },
  {
   "cell_type": "markdown",
   "metadata": {},
   "source": [
    "![up and down casting](./src/upcasting%20en%20downcasting.png)"
   ]
  },
  {
   "cell_type": "markdown",
   "metadata": {},
   "source": [
    "Hieronder vind je een voorbeeld van upcasting en downcasting. Er staat ook een manier in comment wat een error veroorzaakt. Bekijk eens waarom dat we niet indirect kunnen downcasting kunnen uitvoeren. "
   ]
  },
  {
   "cell_type": "code",
   "execution_count": 4,
   "metadata": {
    "vscode": {
     "languageId": "java"
    }
   },
   "outputs": [
    {
     "name": "stdout",
     "output_type": "stream",
     "text": [
      "Intec Brussel\n",
      "Method from Child\n",
      "Intec Brussel\n",
      "Method from Child\n"
     ]
    }
   ],
   "source": [
    "class Parent {\n",
    "\n",
    "\tString name;\n",
    "\n",
    "\tvoid method(){\n",
    "\t\tSystem.out.println(\"Method from Parent\");\n",
    "\t}\n",
    "\n",
    "}\n",
    "\n",
    "class Child extends Parent {\n",
    "\n",
    "\t@Override \n",
    "\tvoid method(){\n",
    "\t\tSystem.out.println(\"Method from Child\");\n",
    "\t}\n",
    "\n",
    "}\n",
    "\n",
    "// Upcasting\n",
    "Parent parent = new Child();\n",
    "parent.name = \"Intec Brussel\";\n",
    "\n",
    "//Printing the parent class name\n",
    "System.out.println(parent.name);\n",
    "\n",
    "//parent class method is overridden method hence this will be executed\n",
    "parent.method();\n",
    "\n",
    "// Trying to Downcasting Implicitly. You will get a compile time error.\n",
    "//Child child = new Parent();\n",
    "\n",
    "// Downcasting Explicitly\n",
    "Child child = (Child)parent;\n",
    "\n",
    "System.out.println(child.name);\n",
    "\n",
    "child.method();"
   ]
  },
  {
   "cell_type": "markdown",
   "metadata": {},
   "source": [
    "[Ga naar het volgende deel van het hoofdstuk](/Notebooks/Nederlands/04%20-%20Inheritance%20en%20polymorphism/04%20downcasting%20and%20upcasting/04.samenvatting.ipynb)"
   ]
  }
 ],
 "metadata": {
  "kernelspec": {
   "display_name": "Java",
   "language": "java",
   "name": "java"
  },
  "language_info": {
   "codemirror_mode": "java",
   "file_extension": ".jshell",
   "mimetype": "text/x-java-source",
   "name": "Java",
   "pygments_lexer": "java",
   "version": "11.0.11+9-LTS"
  },
  "orig_nbformat": 4,
  "vscode": {
   "interpreter": {
    "hash": "217c631b613e36ff4b9cdbe99ee2d03b09d4e7c1f494b32c9aa8f6b180d54c14"
   }
  }
 },
 "nbformat": 4,
 "nbformat_minor": 2
}
